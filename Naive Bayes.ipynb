{
 "cells": [
  {
   "cell_type": "markdown",
   "metadata": {
    "_uuid": "7052cc2ccacb993b26cfeb5467e9a09967d7f708",
    "colab_type": "text",
    "id": "mYctjKINbZ0c"
   },
   "source": [
    "# Naive bayes"
   ]
  },
  {
   "cell_type": "markdown",
   "metadata": {
    "_uuid": "5d06a0c4eec228df993feb973f622c5e459a1ff5",
    "colab_type": "text",
    "id": "r2b6czU0bZ0k"
   },
   "source": [
    "# Loading data"
   ]
  },
  {
   "cell_type": "code",
   "execution_count": 39,
   "metadata": {
    "_uuid": "b8bfd30b313be3e267ae7f402a63be4fd67546fa",
    "colab": {
     "base_uri": "https://localhost:8080/",
     "height": 51
    },
    "colab_type": "code",
    "id": "9y-B_8RHbZ0p",
    "outputId": "4c59057e-d03d-4776-e6b8-1082d98d9283"
   },
   "outputs": [
    {
     "name": "stdout",
     "output_type": "stream",
     "text": [
      "[nltk_data] Downloading package stopwords to /root/nltk_data...\n",
      "[nltk_data]   Package stopwords is already up-to-date!\n"
     ]
    }
   ],
   "source": [
    "%matplotlib inline\n",
    "import warnings\n",
    "warnings.filterwarnings(\"ignore\")\n",
    "\n",
    "import sqlite3\n",
    "import pandas as pd\n",
    "import numpy as np\n",
    "import nltk\n",
    "nltk.download('stopwords')\n",
    "import string\n",
    "import matplotlib.pyplot as plt\n",
    "import seaborn as sns\n",
    "from sklearn.model_selection import TimeSeriesSplit\n",
    "from sklearn import preprocessing\n",
    "from sklearn.feature_extraction.text import TfidfTransformer\n",
    "from sklearn.feature_extraction.text import TfidfVectorizer\n",
    "\n",
    "from sklearn.feature_extraction.text import CountVectorizer\n",
    "from sklearn.metrics import confusion_matrix\n",
    "from sklearn import metrics\n",
    "from sklearn.metrics import roc_curve, auc\n",
    "from nltk.stem.porter import PorterStemmer\n",
    "from sklearn.model_selection import train_test_split\n",
    "from sklearn.model_selection import GridSearchCV\n",
    "\n",
    "import re\n",
    "# Tutorial about Python regular expressions: https://pymotw.com/2/re/\n",
    "import string\n",
    "from nltk.corpus import stopwords\n",
    "from nltk.stem import PorterStemmer\n",
    "from nltk.stem.wordnet import WordNetLemmatizer\n",
    "from imblearn.over_sampling import SMOTE\n",
    "\n",
    "from gensim.models import Word2Vec\n",
    "from gensim.models import KeyedVectors\n",
    "import pickle\n",
    "\n",
    "from tqdm import tqdm\n",
    "import os\n",
    "\n",
    "#Metrics\n",
    "from sklearn.metrics import accuracy_score\n",
    "from sklearn.metrics import confusion_matrix\n",
    "from sklearn.metrics import precision_score\n",
    "from sklearn.metrics import f1_score\n",
    "from sklearn.metrics import recall_score\n",
    "import pickle\n"
   ]
  },
  {
   "cell_type": "code",
   "execution_count": 5,
   "metadata": {
    "_uuid": "46bf9952b6023cbc4d0d3574d34315c31cdf5aba",
    "colab": {
     "base_uri": "https://localhost:8080/",
     "height": 261
    },
    "colab_type": "code",
    "id": "BqOG3k-WbZ08",
    "outputId": "1d6549d2-8197-40c7-ee03-1bceb4c551d4"
   },
   "outputs": [
    {
     "name": "stdout",
     "output_type": "stream",
     "text": [
      "Number of data points in our data (525814, 10)\n"
     ]
    },
    {
     "data": {
      "text/html": [
       "<div>\n",
       "<style scoped>\n",
       "    .dataframe tbody tr th:only-of-type {\n",
       "        vertical-align: middle;\n",
       "    }\n",
       "\n",
       "    .dataframe tbody tr th {\n",
       "        vertical-align: top;\n",
       "    }\n",
       "\n",
       "    .dataframe thead th {\n",
       "        text-align: right;\n",
       "    }\n",
       "</style>\n",
       "<table border=\"1\" class=\"dataframe\">\n",
       "  <thead>\n",
       "    <tr style=\"text-align: right;\">\n",
       "      <th></th>\n",
       "      <th>Id</th>\n",
       "      <th>ProductId</th>\n",
       "      <th>UserId</th>\n",
       "      <th>ProfileName</th>\n",
       "      <th>HelpfulnessNumerator</th>\n",
       "      <th>HelpfulnessDenominator</th>\n",
       "      <th>Score</th>\n",
       "      <th>Time</th>\n",
       "      <th>Summary</th>\n",
       "      <th>Text</th>\n",
       "    </tr>\n",
       "  </thead>\n",
       "  <tbody>\n",
       "    <tr>\n",
       "      <th>0</th>\n",
       "      <td>1</td>\n",
       "      <td>B001E4KFG0</td>\n",
       "      <td>A3SGXH7AUHU8GW</td>\n",
       "      <td>delmartian</td>\n",
       "      <td>1</td>\n",
       "      <td>1</td>\n",
       "      <td>1</td>\n",
       "      <td>1303862400</td>\n",
       "      <td>Good Quality Dog Food</td>\n",
       "      <td>I have bought several of the Vitality canned d...</td>\n",
       "    </tr>\n",
       "    <tr>\n",
       "      <th>1</th>\n",
       "      <td>2</td>\n",
       "      <td>B00813GRG4</td>\n",
       "      <td>A1D87F6ZCVE5NK</td>\n",
       "      <td>dll pa</td>\n",
       "      <td>0</td>\n",
       "      <td>0</td>\n",
       "      <td>0</td>\n",
       "      <td>1346976000</td>\n",
       "      <td>Not as Advertised</td>\n",
       "      <td>Product arrived labeled as Jumbo Salted Peanut...</td>\n",
       "    </tr>\n",
       "    <tr>\n",
       "      <th>2</th>\n",
       "      <td>3</td>\n",
       "      <td>B000LQOCH0</td>\n",
       "      <td>ABXLMWJIXXAIN</td>\n",
       "      <td>Natalia Corres \"Natalia Corres\"</td>\n",
       "      <td>1</td>\n",
       "      <td>1</td>\n",
       "      <td>1</td>\n",
       "      <td>1219017600</td>\n",
       "      <td>\"Delight\" says it all</td>\n",
       "      <td>This is a confection that has been around a fe...</td>\n",
       "    </tr>\n",
       "  </tbody>\n",
       "</table>\n",
       "</div>"
      ],
      "text/plain": [
       "   Id   ProductId          UserId                      ProfileName  \\\n",
       "0   1  B001E4KFG0  A3SGXH7AUHU8GW                       delmartian   \n",
       "1   2  B00813GRG4  A1D87F6ZCVE5NK                           dll pa   \n",
       "2   3  B000LQOCH0   ABXLMWJIXXAIN  Natalia Corres \"Natalia Corres\"   \n",
       "\n",
       "   HelpfulnessNumerator  HelpfulnessDenominator  Score        Time  \\\n",
       "0                     1                       1      1  1303862400   \n",
       "1                     0                       0      0  1346976000   \n",
       "2                     1                       1      1  1219017600   \n",
       "\n",
       "                 Summary                                               Text  \n",
       "0  Good Quality Dog Food  I have bought several of the Vitality canned d...  \n",
       "1      Not as Advertised  Product arrived labeled as Jumbo Salted Peanut...  \n",
       "2  \"Delight\" says it all  This is a confection that has been around a fe...  "
      ]
     },
     "execution_count": 5,
     "metadata": {
      "tags": []
     },
     "output_type": "execute_result"
    }
   ],
   "source": [
    "# using the SQLite Table to read data.\n",
    "con = sqlite3.connect('database.sqlite') \n",
    "#filtering only positive and negative reviews i.e. \n",
    "# not taking into consideration those reviews with Score=3\n",
    "filtered_data = pd.read_sql_query(\"\"\" SELECT * FROM Reviews WHERE Score != 3 \"\"\", con) \n",
    "\n",
    "\n",
    "# Give reviews with Score>3 a positive rating, and reviews with a score<3 a negative rating.\n",
    "def partition(x):\n",
    "    if x < 3:\n",
    "        return 0\n",
    "    return 1\n",
    "\n",
    "#changing reviews with score less than 3 to be positive and vice-versa\n",
    "actualScore = filtered_data['Score']\n",
    "positiveNegative = actualScore.map(partition) \n",
    "filtered_data['Score'] = positiveNegative\n",
    "print(\"Number of data points in our data\", filtered_data.shape)\n",
    "filtered_data.head(3)"
   ]
  },
  {
   "cell_type": "markdown",
   "metadata": {
    "_uuid": "e0bb0620b1a51af15b73206f975fcac5b4d0d8b9",
    "colab_type": "text",
    "id": "lCfK9M9NbZ1Y"
   },
   "source": [
    "# [1] Text Preprocessing\n",
    "## [1.1] Data Cleaning: Deduplication"
   ]
  },
  {
   "cell_type": "code",
   "execution_count": 6,
   "metadata": {
    "_uuid": "0be705967b7cceb86b9c063842f13c7bd5596a93",
    "colab": {
     "base_uri": "https://localhost:8080/",
     "height": 459
    },
    "colab_type": "code",
    "id": "YxnR5AYqbZ1c",
    "outputId": "1c40c405-74a2-4a92-dc2f-b71c6cf02bf9"
   },
   "outputs": [
    {
     "data": {
      "text/html": [
       "<div>\n",
       "<style scoped>\n",
       "    .dataframe tbody tr th:only-of-type {\n",
       "        vertical-align: middle;\n",
       "    }\n",
       "\n",
       "    .dataframe tbody tr th {\n",
       "        vertical-align: top;\n",
       "    }\n",
       "\n",
       "    .dataframe thead th {\n",
       "        text-align: right;\n",
       "    }\n",
       "</style>\n",
       "<table border=\"1\" class=\"dataframe\">\n",
       "  <thead>\n",
       "    <tr style=\"text-align: right;\">\n",
       "      <th></th>\n",
       "      <th>Id</th>\n",
       "      <th>ProductId</th>\n",
       "      <th>UserId</th>\n",
       "      <th>ProfileName</th>\n",
       "      <th>HelpfulnessNumerator</th>\n",
       "      <th>HelpfulnessDenominator</th>\n",
       "      <th>Score</th>\n",
       "      <th>Time</th>\n",
       "      <th>Summary</th>\n",
       "      <th>Text</th>\n",
       "    </tr>\n",
       "  </thead>\n",
       "  <tbody>\n",
       "    <tr>\n",
       "      <th>0</th>\n",
       "      <td>78445</td>\n",
       "      <td>B000HDL1RQ</td>\n",
       "      <td>AR5J8UI46CURR</td>\n",
       "      <td>Geetha Krishnan</td>\n",
       "      <td>2</td>\n",
       "      <td>2</td>\n",
       "      <td>5</td>\n",
       "      <td>1199577600</td>\n",
       "      <td>LOACKER QUADRATINI VANILLA WAFERS</td>\n",
       "      <td>DELICIOUS WAFERS. I FIND THAT EUROPEAN WAFERS ...</td>\n",
       "    </tr>\n",
       "    <tr>\n",
       "      <th>1</th>\n",
       "      <td>138317</td>\n",
       "      <td>B000HDOPYC</td>\n",
       "      <td>AR5J8UI46CURR</td>\n",
       "      <td>Geetha Krishnan</td>\n",
       "      <td>2</td>\n",
       "      <td>2</td>\n",
       "      <td>5</td>\n",
       "      <td>1199577600</td>\n",
       "      <td>LOACKER QUADRATINI VANILLA WAFERS</td>\n",
       "      <td>DELICIOUS WAFERS. I FIND THAT EUROPEAN WAFERS ...</td>\n",
       "    </tr>\n",
       "    <tr>\n",
       "      <th>2</th>\n",
       "      <td>138277</td>\n",
       "      <td>B000HDOPYM</td>\n",
       "      <td>AR5J8UI46CURR</td>\n",
       "      <td>Geetha Krishnan</td>\n",
       "      <td>2</td>\n",
       "      <td>2</td>\n",
       "      <td>5</td>\n",
       "      <td>1199577600</td>\n",
       "      <td>LOACKER QUADRATINI VANILLA WAFERS</td>\n",
       "      <td>DELICIOUS WAFERS. I FIND THAT EUROPEAN WAFERS ...</td>\n",
       "    </tr>\n",
       "    <tr>\n",
       "      <th>3</th>\n",
       "      <td>73791</td>\n",
       "      <td>B000HDOPZG</td>\n",
       "      <td>AR5J8UI46CURR</td>\n",
       "      <td>Geetha Krishnan</td>\n",
       "      <td>2</td>\n",
       "      <td>2</td>\n",
       "      <td>5</td>\n",
       "      <td>1199577600</td>\n",
       "      <td>LOACKER QUADRATINI VANILLA WAFERS</td>\n",
       "      <td>DELICIOUS WAFERS. I FIND THAT EUROPEAN WAFERS ...</td>\n",
       "    </tr>\n",
       "    <tr>\n",
       "      <th>4</th>\n",
       "      <td>155049</td>\n",
       "      <td>B000PAQ75C</td>\n",
       "      <td>AR5J8UI46CURR</td>\n",
       "      <td>Geetha Krishnan</td>\n",
       "      <td>2</td>\n",
       "      <td>2</td>\n",
       "      <td>5</td>\n",
       "      <td>1199577600</td>\n",
       "      <td>LOACKER QUADRATINI VANILLA WAFERS</td>\n",
       "      <td>DELICIOUS WAFERS. I FIND THAT EUROPEAN WAFERS ...</td>\n",
       "    </tr>\n",
       "  </tbody>\n",
       "</table>\n",
       "</div>"
      ],
      "text/plain": [
       "       Id   ProductId         UserId      ProfileName  HelpfulnessNumerator  \\\n",
       "0   78445  B000HDL1RQ  AR5J8UI46CURR  Geetha Krishnan                     2   \n",
       "1  138317  B000HDOPYC  AR5J8UI46CURR  Geetha Krishnan                     2   \n",
       "2  138277  B000HDOPYM  AR5J8UI46CURR  Geetha Krishnan                     2   \n",
       "3   73791  B000HDOPZG  AR5J8UI46CURR  Geetha Krishnan                     2   \n",
       "4  155049  B000PAQ75C  AR5J8UI46CURR  Geetha Krishnan                     2   \n",
       "\n",
       "   HelpfulnessDenominator  Score        Time  \\\n",
       "0                       2      5  1199577600   \n",
       "1                       2      5  1199577600   \n",
       "2                       2      5  1199577600   \n",
       "3                       2      5  1199577600   \n",
       "4                       2      5  1199577600   \n",
       "\n",
       "                             Summary  \\\n",
       "0  LOACKER QUADRATINI VANILLA WAFERS   \n",
       "1  LOACKER QUADRATINI VANILLA WAFERS   \n",
       "2  LOACKER QUADRATINI VANILLA WAFERS   \n",
       "3  LOACKER QUADRATINI VANILLA WAFERS   \n",
       "4  LOACKER QUADRATINI VANILLA WAFERS   \n",
       "\n",
       "                                                Text  \n",
       "0  DELICIOUS WAFERS. I FIND THAT EUROPEAN WAFERS ...  \n",
       "1  DELICIOUS WAFERS. I FIND THAT EUROPEAN WAFERS ...  \n",
       "2  DELICIOUS WAFERS. I FIND THAT EUROPEAN WAFERS ...  \n",
       "3  DELICIOUS WAFERS. I FIND THAT EUROPEAN WAFERS ...  \n",
       "4  DELICIOUS WAFERS. I FIND THAT EUROPEAN WAFERS ...  "
      ]
     },
     "execution_count": 6,
     "metadata": {
      "tags": []
     },
     "output_type": "execute_result"
    }
   ],
   "source": [
    "display= pd.read_sql_query(\"\"\"\n",
    "SELECT *\n",
    "FROM Reviews\n",
    "WHERE Score != 3 AND UserId=\"AR5J8UI46CURR\"\n",
    "ORDER BY ProductID\n",
    "\"\"\", con)\n",
    "display.head()"
   ]
  },
  {
   "cell_type": "code",
   "execution_count": 0,
   "metadata": {
    "_uuid": "64baabc5e056771ab00dcfc199ce1e70b8c740d7",
    "colab": {},
    "colab_type": "code",
    "id": "iGoAQ7Y9bZ1w"
   },
   "outputs": [],
   "source": [
    "#Sorting data according to ProductId in ascending order\n",
    "sorted_data=filtered_data.sort_values('ProductId', axis=0, ascending=True, inplace=False, kind='quicksort', na_position='last')"
   ]
  },
  {
   "cell_type": "code",
   "execution_count": 8,
   "metadata": {
    "_uuid": "204d0c9154468668bb0e7bd97c02839707473188",
    "colab": {
     "base_uri": "https://localhost:8080/",
     "height": 34
    },
    "colab_type": "code",
    "id": "-sDspBA8bZ1-",
    "outputId": "5a40e406-fd43-49f3-b7be-dac59a115567"
   },
   "outputs": [
    {
     "data": {
      "text/plain": [
       "(364173, 10)"
      ]
     },
     "execution_count": 8,
     "metadata": {
      "tags": []
     },
     "output_type": "execute_result"
    }
   ],
   "source": [
    "#Deduplication of entries\n",
    "final=sorted_data.drop_duplicates(subset={\"UserId\",\"ProfileName\",\"Time\",\"Text\"}, keep='first', inplace=False)\n",
    "final.shape"
   ]
  },
  {
   "cell_type": "code",
   "execution_count": 9,
   "metadata": {
    "_uuid": "d1edd590122560e136ebca115c6a3918b9f3006f",
    "colab": {
     "base_uri": "https://localhost:8080/",
     "height": 34
    },
    "colab_type": "code",
    "id": "uSXCl5t4bZ2R",
    "outputId": "48c6062b-b388-4494-9558-a8942acce24b"
   },
   "outputs": [
    {
     "data": {
      "text/plain": [
       "69.25890143662969"
      ]
     },
     "execution_count": 9,
     "metadata": {
      "tags": []
     },
     "output_type": "execute_result"
    }
   ],
   "source": [
    "#Checking to see how much % of data still remains\n",
    "(final['Id'].size*1.0)/(filtered_data['Id'].size*1.0)*100"
   ]
  },
  {
   "cell_type": "code",
   "execution_count": 10,
   "metadata": {
    "_uuid": "d8f7cf92a31a6f52e2b9ac689a80b261074f5b6a",
    "colab": {
     "base_uri": "https://localhost:8080/",
     "height": 179
    },
    "colab_type": "code",
    "id": "9guzzBDObZ2k",
    "outputId": "ae7a2f7f-2cf8-440c-e0a3-aad0e489dc30"
   },
   "outputs": [
    {
     "data": {
      "text/html": [
       "<div>\n",
       "<style scoped>\n",
       "    .dataframe tbody tr th:only-of-type {\n",
       "        vertical-align: middle;\n",
       "    }\n",
       "\n",
       "    .dataframe tbody tr th {\n",
       "        vertical-align: top;\n",
       "    }\n",
       "\n",
       "    .dataframe thead th {\n",
       "        text-align: right;\n",
       "    }\n",
       "</style>\n",
       "<table border=\"1\" class=\"dataframe\">\n",
       "  <thead>\n",
       "    <tr style=\"text-align: right;\">\n",
       "      <th></th>\n",
       "      <th>Id</th>\n",
       "      <th>ProductId</th>\n",
       "      <th>UserId</th>\n",
       "      <th>ProfileName</th>\n",
       "      <th>HelpfulnessNumerator</th>\n",
       "      <th>HelpfulnessDenominator</th>\n",
       "      <th>Score</th>\n",
       "      <th>Time</th>\n",
       "      <th>Summary</th>\n",
       "      <th>Text</th>\n",
       "    </tr>\n",
       "  </thead>\n",
       "  <tbody>\n",
       "    <tr>\n",
       "      <th>0</th>\n",
       "      <td>64422</td>\n",
       "      <td>B000MIDROQ</td>\n",
       "      <td>A161DK06JJMCYF</td>\n",
       "      <td>J. E. Stephens \"Jeanne\"</td>\n",
       "      <td>3</td>\n",
       "      <td>1</td>\n",
       "      <td>5</td>\n",
       "      <td>1224892800</td>\n",
       "      <td>Bought This for My Son at College</td>\n",
       "      <td>My son loves spaghetti so I didn't hesitate or...</td>\n",
       "    </tr>\n",
       "    <tr>\n",
       "      <th>1</th>\n",
       "      <td>44737</td>\n",
       "      <td>B001EQ55RW</td>\n",
       "      <td>A2V0I904FH7ABY</td>\n",
       "      <td>Ram</td>\n",
       "      <td>3</td>\n",
       "      <td>2</td>\n",
       "      <td>4</td>\n",
       "      <td>1212883200</td>\n",
       "      <td>Pure cocoa taste with crunchy almonds inside</td>\n",
       "      <td>It was almost a 'love at first bite' - the per...</td>\n",
       "    </tr>\n",
       "  </tbody>\n",
       "</table>\n",
       "</div>"
      ],
      "text/plain": [
       "      Id   ProductId          UserId              ProfileName  \\\n",
       "0  64422  B000MIDROQ  A161DK06JJMCYF  J. E. Stephens \"Jeanne\"   \n",
       "1  44737  B001EQ55RW  A2V0I904FH7ABY                      Ram   \n",
       "\n",
       "   HelpfulnessNumerator  HelpfulnessDenominator  Score        Time  \\\n",
       "0                     3                       1      5  1224892800   \n",
       "1                     3                       2      4  1212883200   \n",
       "\n",
       "                                        Summary  \\\n",
       "0             Bought This for My Son at College   \n",
       "1  Pure cocoa taste with crunchy almonds inside   \n",
       "\n",
       "                                                Text  \n",
       "0  My son loves spaghetti so I didn't hesitate or...  \n",
       "1  It was almost a 'love at first bite' - the per...  "
      ]
     },
     "execution_count": 10,
     "metadata": {
      "tags": []
     },
     "output_type": "execute_result"
    }
   ],
   "source": [
    "display= pd.read_sql_query(\"\"\"\n",
    "SELECT *\n",
    "FROM Reviews\n",
    "WHERE Score != 3 AND Id=44737 OR Id=64422\n",
    "ORDER BY ProductID\n",
    "\"\"\", con)\n",
    "\n",
    "display.head()"
   ]
  },
  {
   "cell_type": "code",
   "execution_count": 0,
   "metadata": {
    "_uuid": "74b629441a0af5823c129b5ab5b22cb8f5ddc71e",
    "colab": {},
    "colab_type": "code",
    "id": "DjJkSYdSbZ29"
   },
   "outputs": [],
   "source": [
    "final=final[final.HelpfulnessNumerator<=final.HelpfulnessDenominator]"
   ]
  },
  {
   "cell_type": "code",
   "execution_count": 12,
   "metadata": {
    "_uuid": "00361393f892389453b135a583f8fdd13f514d75",
    "colab": {
     "base_uri": "https://localhost:8080/",
     "height": 85
    },
    "colab_type": "code",
    "id": "I77wb1cWbZ3Q",
    "outputId": "64e0ca07-0f3e-421d-90f6-d752f56691b9"
   },
   "outputs": [
    {
     "name": "stdout",
     "output_type": "stream",
     "text": [
      "(364171, 10)\n"
     ]
    },
    {
     "data": {
      "text/plain": [
       "1    307061\n",
       "0     57110\n",
       "Name: Score, dtype: int64"
      ]
     },
     "execution_count": 12,
     "metadata": {
      "tags": []
     },
     "output_type": "execute_result"
    }
   ],
   "source": [
    "#Before starting the next phase of preprocessing lets see the number of entries left\n",
    "print(final.shape)\n",
    "\n",
    "#How many positive and negative reviews are present in our dataset?\n",
    "final['Score'].value_counts()"
   ]
  },
  {
   "cell_type": "markdown",
   "metadata": {
    "_uuid": "78088dbdac3bc3abddf06585351a6295996cbd46",
    "colab_type": "text",
    "id": "ZVhVBCsAbZ3p"
   },
   "source": [
    "## [1.2] Stemming, stop-word removal and Lemmatization."
   ]
  },
  {
   "cell_type": "code",
   "execution_count": 13,
   "metadata": {
    "_uuid": "f0aceb25f6d28eefa8b77ff8f2b584f01d0a2f29",
    "colab": {
     "base_uri": "https://localhost:8080/",
     "height": 71
    },
    "colab_type": "code",
    "id": "qHAnAxKbbZ3u",
    "outputId": "8860b082-4e7b-4f2c-b0a7-d475e788b12e"
   },
   "outputs": [
    {
     "name": "stdout",
     "output_type": "stream",
     "text": [
      "6\n",
      "I set aside at least an hour each day to read to my son (3 y/o). At this point, I consider myself a connoisseur of children's books and this is one of the best. Santa Clause put this under the tree. Since then, we've read it perpetually and he loves it.<br /><br />First, this book taught him the months of the year.<br /><br />Second, it's a pleasure to read. Well suited to 1.5 y/o old to 4+.<br /><br />Very few children's books are worth owning. Most should be borrowed from the library. This book, however, deserves a permanent spot on your shelf. Sendak's best.\n"
     ]
    }
   ],
   "source": [
    "# find sentences containing HTML tags\n",
    "import re\n",
    "i=0;\n",
    "for sent in final['Text'].values:\n",
    "    if (len(re.findall('<.*?>', sent))):\n",
    "        print(i)\n",
    "        print(sent)\n",
    "        break;\n",
    "    i += 1;"
   ]
  },
  {
   "cell_type": "code",
   "execution_count": 16,
   "metadata": {
    "_uuid": "ea8db8f519e676083763a43fb2b4520a9cd71598",
    "colab": {
     "base_uri": "https://localhost:8080/",
     "height": 88
    },
    "colab_type": "code",
    "id": "KyIYVDeLbZ4A",
    "outputId": "1ac780c5-bdc8-4fa3-af71-4287fc7c1bd4"
   },
   "outputs": [
    {
     "name": "stdout",
     "output_type": "stream",
     "text": [
      "{'with', 'she', 'no', 'did', \"hadn't\", 'itself', 'ours', 'until', 'had', 'its', 'yourselves', \"should've\", 'now', \"wasn't\", 'other', 'from', \"that'll\", 'these', 'each', 'don', 'such', \"hasn't\", 'wouldn', \"haven't\", 'yourself', 'didn', 'all', 'then', \"you're\", 'as', 'do', 'if', 'whom', 'the', 'll', 'shouldn', 'have', 'again', 'm', 'after', 'weren', 'off', 'on', \"isn't\", 't', 'same', 'shan', 'once', 'through', 'under', \"aren't\", \"shan't\", 'hadn', 'hasn', 'or', 'to', 'so', 'how', 'was', 'while', \"needn't\", 'below', 'just', 'what', 'this', 'against', 'having', 'over', 'has', 'about', 'yours', 'between', 'wasn', 'by', 'needn', 'be', 'few', 'more', 'further', \"don't\", 'haven', 'ourselves', \"mightn't\", 'were', 'herself', \"you'd\", 'during', 'up', 'those', 'it', 'than', 'isn', 'they', 'where', 'will', 'been', 'down', 'them', 'very', 'because', 'being', 'but', \"won't\", 'and', 'theirs', 'too', 'ain', 'am', 'ma', 'o', 'an', 'my', 'd', 're', \"you'll\", 'before', 'who', 'i', 'own', 'at', 'doing', 'both', 'which', \"couldn't\", \"weren't\", 'you', \"doesn't\", \"mustn't\", 'myself', 'there', 'of', 'won', 'her', 'does', 'himself', 'aren', 's', 'are', 'can', 'he', 'should', 'doesn', 've', 'your', 'themselves', 'a', 'mightn', 'into', 'some', 'our', 'nor', 'in', \"you've\", 'here', 'their', 'me', 'for', 'mustn', 'him', 'couldn', 'not', \"she's\", 'any', 'out', \"didn't\", 'hers', 'above', 'that', \"it's\", 'why', \"shouldn't\", \"wouldn't\", 'when', 'y', 'most', 'his', 'is', 'only', 'we'}\n",
      "************************************\n",
      "tasti\n"
     ]
    }
   ],
   "source": [
    "\n",
    "stop = set(stopwords.words('english')) #set of stopwords\n",
    "sno = nltk.stem.SnowballStemmer('english') #initialising the snowball stemmer\n",
    "\n",
    "def cleanhtml(sentence): #function to clean the word of any html-tags\n",
    "    cleanr = re.compile('<.*?>')\n",
    "    cleantext = re.sub(cleanr, ' ', sentence)\n",
    "    return cleantext\n",
    "def cleanpunc(sentence): #function to clean the word of any punctuation or special characters\n",
    "    cleaned = re.sub(r'[?|!|\\'|\"|#]',r'',sentence)\n",
    "    cleaned = re.sub(r'[.|,|)|(|\\|/]',r' ',cleaned)\n",
    "    return  cleaned\n",
    "print(stop)\n",
    "print('************************************')\n",
    "print(sno.stem('tasty'))"
   ]
  },
  {
   "cell_type": "code",
   "execution_count": 17,
   "metadata": {
    "_uuid": "415ed96fccb96f64135326c80a32ab5065ec8566",
    "colab": {
     "base_uri": "https://localhost:8080/",
     "height": 34
    },
    "colab_type": "code",
    "id": "XTrtA-UVbZ4Q",
    "outputId": "7f4a01f8-3ca8-4b48-c550-21044a9bd9f9"
   },
   "outputs": [
    {
     "name": "stderr",
     "output_type": "stream",
     "text": [
      "100%|██████████| 364171/364171 [09:07<00:00, 664.98it/s]\n"
     ]
    }
   ],
   "source": [
    "#Code for implementing step-by-step the checks mentioned in the pre-processing phase\n",
    "# this code takes a while to run as it needs to run on 500k sentences.\n",
    "if not os.path.isfile('final.sqlite'):\n",
    "    i=0\n",
    "    str1=' '\n",
    "    final_string=[]\n",
    "    all_positive_words=[] # store words from +ve reviews here\n",
    "    all_negative_words=[] # store words from -ve reviews here.\n",
    "    s=''\n",
    "    for sent in tqdm(final['Text'].values):\n",
    "        filtered_sentence=[]\n",
    "        #print(sent);\n",
    "        sent=cleanhtml(sent) # remove HTMl tags\n",
    "        for w in sent.split():\n",
    "            for cleaned_words in cleanpunc(w).split():\n",
    "                if((cleaned_words.isalpha()) & (len(cleaned_words)>2)):    \n",
    "                    if(cleaned_words.lower() not in stop):\n",
    "                        s=(sno.stem(cleaned_words.lower())).encode('utf8')\n",
    "                        filtered_sentence.append(s)\n",
    "                        if (final['Score'].values)[i] == 'positive': \n",
    "                            all_positive_words.append(s) #list of all words used to describe positive reviews\n",
    "                        if(final['Score'].values)[i] == 'negative':\n",
    "                            all_negative_words.append(s) #list of all words used to describe negative reviews reviews\n",
    "                    else:\n",
    "                        continue\n",
    "                else:\n",
    "                    continue \n",
    "        #print(filtered_sentence)\n",
    "        str1 = b\" \".join(filtered_sentence) #final string of cleaned words\n",
    "        #print(\"***********************************************************************\")\n",
    "\n",
    "        final_string.append(str1)\n",
    "        i+=1\n",
    "\n",
    "    #############---- storing the data into .sqlite file ------########################\n",
    "    final['CleanedText']=final_string #adding a column of CleanedText which displays the data after pre-processing of the review \n",
    "    final['CleanedText']=final['CleanedText'].str.decode(\"utf-8\")\n",
    "        # store final table into an SQlLite table for future.\n",
    "    conn = sqlite3.connect('final.sqlite')\n",
    "    c=conn.cursor()\n",
    "    conn.text_factory = str\n",
    "    final.to_sql('Reviews', conn,  schema=None, if_exists='replace', \\\n",
    "                 index=True, index_label=None, chunksize=None, dtype=None)\n",
    "    conn.close()\n",
    "    \n",
    "    \n",
    "    with open('positive_words.pkl', 'wb') as f:\n",
    "        pickle.dump(all_positive_words, f)\n",
    "    with open('negitive_words.pkl', 'wb') as f:\n",
    "        pickle.dump(all_negative_words, f)"
   ]
  },
  {
   "cell_type": "code",
   "execution_count": 0,
   "metadata": {
    "_uuid": "46e754cacddbd7069c638ae5a37d0080babfddc0",
    "colab": {},
    "colab_type": "code",
    "id": "Mf4rVr6ebZ4f"
   },
   "outputs": [],
   "source": [
    "if os.path.isfile('final.sqlite'):\n",
    "    conn = sqlite3.connect('final.sqlite')\n",
    "    final = pd.read_sql_query(\"\"\" SELECT * FROM Reviews WHERE Score != 3 \"\"\", conn)\n",
    "    conn.close()\n",
    "else:\n",
    "    print(\"Please the above cell\")\n",
    "    "
   ]
  },
  {
   "cell_type": "code",
   "execution_count": 0,
   "metadata": {
    "_uuid": "38c52b1ef8585ffbe2e026215b5392bb7239d262",
    "colab": {},
    "colab_type": "code",
    "id": "MHK8BvMRbZ4x"
   },
   "outputs": [],
   "source": [
    "final.to_pickle(\"./amazon.pkl\")"
   ]
  },
  {
   "cell_type": "code",
   "execution_count": 20,
   "metadata": {
    "_uuid": "9d2ba54d8bd9c172c543c97ec8eae4a77a99883d",
    "colab": {
     "base_uri": "https://localhost:8080/",
     "height": 68
    },
    "colab_type": "code",
    "id": "pwJMqJHebZ5G",
    "outputId": "fd6d1c0b-9d48-441a-ff64-0a816f143e2d"
   },
   "outputs": [
    {
     "data": {
      "text/plain": [
       "1    307061\n",
       "0     57110\n",
       "Name: Score, dtype: int64"
      ]
     },
     "execution_count": 20,
     "metadata": {
      "tags": []
     },
     "output_type": "execute_result"
    }
   ],
   "source": [
    "final['Score'].value_counts()"
   ]
  },
  {
   "cell_type": "code",
   "execution_count": 0,
   "metadata": {
    "_uuid": "c97651d93fb73c044003de39f62f468dc29cf71f",
    "colab": {},
    "colab_type": "code",
    "id": "-ofDCt7jbZ5l"
   },
   "outputs": [],
   "source": [
    "# read data from pickle file from previous stage\n",
    "data = pd.read_pickle(\"./amazon.pkl\")"
   ]
  },
  {
   "cell_type": "markdown",
   "metadata": {
    "_uuid": "d6c2b715bbe43a8a6503494030fcf9d4adc3b9e6",
    "colab_type": "text",
    "id": "MBqV56HvbZ6G"
   },
   "source": [
    "# [2] Sorting data based on time"
   ]
  },
  {
   "cell_type": "code",
   "execution_count": 165,
   "metadata": {
    "_uuid": "d6fc12e0fd283e8dd72154ac115418fb48639d2f",
    "colab": {
     "base_uri": "https://localhost:8080/",
     "height": 85
    },
    "colab_type": "code",
    "id": "ODY9GtaMbZ6L",
    "outputId": "0194e658-1fb1-4547-ca05-f86e903b4ee3"
   },
   "outputs": [
    {
     "name": "stdout",
     "output_type": "stream",
     "text": [
      "(364171, 12)\n",
      "1    307061\n",
      "0     57110\n",
      "Name: Score, dtype: int64\n"
     ]
    }
   ],
   "source": [
    "data['Time'] = pd.to_datetime(data['Time'])\n",
    "# Sort by time\n",
    "data = data.sort_values(by='Time')\n",
    "\n",
    "print(data.shape)\n",
    "print(data['Score'].value_counts())"
   ]
  },
  {
   "cell_type": "markdown",
   "metadata": {
    "_uuid": "91f59dda6b4cc6bb7e79630dd7e7f4887bc2e102",
    "colab_type": "text",
    "id": "mYDpVWXxbZ6a"
   },
   "source": [
    "# [3] Spliting into train and test based on time (70:30)"
   ]
  },
  {
   "cell_type": "code",
   "execution_count": 0,
   "metadata": {
    "_uuid": "c7226c3169f0c4902729a3cfa5f2dab6742d6230",
    "colab": {},
    "colab_type": "code",
    "id": "HPsUo7DfbZ6f"
   },
   "outputs": [],
   "source": [
    "# Spliting into Train and test\n",
    "X_train, X_test, y_train, y_test = train_test_split(data['CleanedText'].values,data['Score'].values,test_size=0.3,shuffle=False)\n"
   ]
  },
  {
   "cell_type": "markdown",
   "metadata": {
    "_uuid": "991f6a1558102ab9419ff9d4d01cc52317e52a27",
    "colab_type": "text",
    "id": "RMn1J9yXbZ62"
   },
   "source": [
    "# [4] Bag of Words (BoW)"
   ]
  },
  {
   "cell_type": "code",
   "execution_count": 167,
   "metadata": {
    "_uuid": "9e5c345a744652836b9d2be623b3e11d4bc415f2",
    "colab": {
     "base_uri": "https://localhost:8080/",
     "height": 51
    },
    "colab_type": "code",
    "id": "T3ZzVpVGbZ66",
    "outputId": "95cd70a7-0485-4404-8ad1-3905872993a0"
   },
   "outputs": [
    {
     "name": "stdout",
     "output_type": "stream",
     "text": [
      "Train Data Size:  (254919, 59198)\n",
      "Test Data Size:  (109252, 59198)\n"
     ]
    }
   ],
   "source": [
    "#Bag of words\n",
    "count_vect = CountVectorizer() \n",
    "\n",
    "X_train = count_vect.fit_transform(X_train)\n",
    "#Normalize Data\n",
    "X_train = preprocessing.normalize(X_train)\n",
    "print(\"Train Data Size: \",X_train.shape)\n",
    "\n",
    "X_test = count_vect.transform(X_test)\n",
    "#Normalize Data\n",
    "X_test = preprocessing.normalize(X_test)\n",
    "print(\"Test Data Size: \",X_test.shape)"
   ]
  },
  {
   "cell_type": "markdown",
   "metadata": {
    "_uuid": "cebb334295c462d255cc54d9acac18589f1c0780",
    "colab_type": "text",
    "id": "eR6OB7zJbZ7I"
   },
   "source": [
    "## [4.1] Bernoulli naive bayes"
   ]
  },
  {
   "cell_type": "code",
   "execution_count": 0,
   "metadata": {
    "_uuid": "96440a43f9b8c91dde892aab46aa6627a63e7ed8",
    "colab": {},
    "colab_type": "code",
    "id": "bbajNDUXbZ7b"
   },
   "outputs": [],
   "source": [
    "# This function plots the confusion, precision and recall matrices\n",
    "def plot_confusion_matrix(x_test, y_pred):\n",
    "    C = confusion_matrix(x_test, y_pred)\n",
    "    \n",
    "    A =(((C.T)/(C.sum(axis=1))).T)\n",
    "   \n",
    "    B =(C/C.sum(axis=0))\n",
    " \n",
    "    plt.figure(figsize=(20,4))\n",
    "    \n",
    "    labels = [0,1]\n",
    "    \n",
    "    plt.subplot(1, 3, 1)\n",
    "    sns.heatmap(C, annot=True, fmt=\"d\", xticklabels=labels, yticklabels=labels)\n",
    "    plt.xlabel('Predicted Class')\n",
    "    plt.ylabel('Original Class')\n",
    "    plt.title(\"Confusion matrix\")\n",
    "    \n",
    "    plt.subplot(1, 3, 2)\n",
    "    sns.heatmap(B, annot=True, fmt=\".3f\", xticklabels=labels, yticklabels=labels)\n",
    "    plt.xlabel('Predicted Class')\n",
    "    plt.ylabel('Original Class')\n",
    "    plt.title(\"Precision matrix\")\n",
    "    \n",
    "    plt.subplot(1, 3, 3)\n",
    "    # representing B in heatmap format\n",
    "    sns.heatmap(A, annot=True, fmt=\".3f\", xticklabels=labels, yticklabels=labels)\n",
    "    plt.xlabel('Predicted Class')\n",
    "    plt.ylabel('Original Class')\n",
    "    plt.title(\"Recall matrix\")\n",
    "    \n",
    "    plt.show()"
   ]
  },
  {
   "cell_type": "code",
   "execution_count": 0,
   "metadata": {
    "colab": {},
    "colab_type": "code",
    "id": "hiM7H9b0Ac_-"
   },
   "outputs": [],
   "source": [
    "from sklearn.model_selection import learning_curve\n",
    "from sklearn.model_selection import ShuffleSplit\n",
    "\n",
    "\n",
    "def plot_learning_curve(estimator, title, X, y, ylim=None, cv=None,\n",
    "                        n_jobs=None, train_sizes=np.linspace(.1, 1.0, 5)):\n",
    "   \n",
    "    plt.figure()\n",
    "    plt.title(title)\n",
    "    if ylim is not None:\n",
    "        plt.ylim(*ylim)\n",
    "    plt.xlabel(\"Training examples\")\n",
    "    plt.ylabel(\"Score\")\n",
    "    train_sizes, train_scores, test_scores = learning_curve(\n",
    "        estimator, X, y, cv=cv, scoring='f1', n_jobs=n_jobs, train_sizes=train_sizes)\n",
    "    train_scores_mean = np.mean(train_scores, axis=1)\n",
    "    train_scores_std = np.std(train_scores, axis=1)\n",
    "    test_scores_mean = np.mean(test_scores, axis=1)\n",
    "    test_scores_std = np.std(test_scores, axis=1)\n",
    "    plt.grid()\n",
    "\n",
    "    plt.fill_between(train_sizes, train_scores_mean - train_scores_std,\n",
    "                     train_scores_mean + train_scores_std, alpha=0.1,\n",
    "                     color=\"r\")\n",
    "    plt.fill_between(train_sizes, test_scores_mean - test_scores_std,\n",
    "                     test_scores_mean + test_scores_std, alpha=0.1, color=\"g\")\n",
    "    plt.plot(train_sizes, train_scores_mean, 'o-', color=\"r\",\n",
    "             label=\"Training score\")\n",
    "    plt.plot(train_sizes, test_scores_mean, 'o-', color=\"g\",\n",
    "             label=\"Cross-validation score\")\n",
    "\n",
    "    plt.legend(loc=\"best\")\n",
    "    return plt\n"
   ]
  },
  {
   "cell_type": "code",
   "execution_count": 177,
   "metadata": {
    "colab": {
     "base_uri": "https://localhost:8080/",
     "height": 328
    },
    "colab_type": "code",
    "id": "8hjxX-wXAixV",
    "outputId": "9f231f34-e3c2-4820-ade0-12fbf0644a91"
   },
   "outputs": [
    {
     "name": "stdout",
     "output_type": "stream",
     "text": [
      "Best HyperParameter:  {'alpha': 0.005}\n",
      "Best Accuracy: 93.27%\n"
     ]
    },
    {
     "data": {
      "image/png": "[encoded data removed]",
      "text/plain": [
       "<matplotlib.figure.Figure at 0x7fa91d7d3b70>"
      ]
     },
     "metadata": {
      "tags": []
     },
     "output_type": "display_data"
    }
   ],
   "source": [
    "from sklearn.naive_bayes import BernoulliNB\n",
    "from sklearn.model_selection import GridSearchCV\n",
    "\n",
    "bnb = BernoulliNB()\n",
    "param_grid = {'alpha':[1000,500,100,50,10,5,1,0.5,0.1,0.05,0.01,0.005,0.001,0.0005,0.0001]} #params we need to try on classifier\n",
    "tscv = TimeSeriesSplit(n_splits=10) #For time based splitting\n",
    "gsv = GridSearchCV(bnb,param_grid,cv=tscv,scoring='f1')\n",
    "\n",
    "title = \"Learning Curves (Naive Bayes)\"\n",
    "\n",
    "plot_learning_curve(gsv, title, X_train, y_train, ylim=(0.7, 1.01), cv=tscv, n_jobs=4)\n",
    "\n",
    "gsv.fit(X_train,y_train)\n",
    "\n",
    "print(\"Best HyperParameter: \",gsv.best_params_)\n",
    "print(\"Best Accuracy: %.2f%%\"%(gsv.best_score_*100))"
   ]
  },
  {
   "cell_type": "code",
   "execution_count": 178,
   "metadata": {
    "_uuid": "6c3caf703d915aabc12ea19f536246c8d946c284",
    "colab": {
     "base_uri": "https://localhost:8080/",
     "height": 362
    },
    "colab_type": "code",
    "id": "ZJAxSLpybZ72",
    "outputId": "abbb9fd6-bb83-466a-9d28-362ae5fcd28c"
   },
   "outputs": [
    {
     "name": "stdout",
     "output_type": "stream",
     "text": [
      "Accuracy on test set: 88.343%\n",
      "Precision on test set: 0.926\n",
      "Recall on test set: 0.933\n",
      "F1-Score on test set: 0.930\n"
     ]
    },
    {
     "data": {
      "image/png": "[encoded data removed]",
      "text/plain": [
       "<matplotlib.figure.Figure at 0x7fa91da52908>"
      ]
     },
     "metadata": {
      "tags": []
     },
     "output_type": "display_data"
    }
   ],
   "source": [
    "#Testing Accuracy on Test data\n",
    "bnb = BernoulliNB(alpha=0.005)\n",
    "bnb.fit(X_train,y_train)\n",
    "\n",
    "y_pred = bnb.predict(X_test)\n",
    "\n",
    "print(\"Accuracy on test set: %0.3f%%\"%(accuracy_score(y_test, y_pred)*100))\n",
    "print(\"Precision on test set: %0.3f\"%(precision_score(y_test, y_pred)))\n",
    "print(\"Recall on test set: %0.3f\"%(recall_score(y_test, y_pred)))\n",
    "print(\"F1-Score on test set: %0.3f\"%(f1_score(y_test, y_pred)))\n",
    "plot_confusion_matrix(y_test, y_pred)"
   ]
  },
  {
   "cell_type": "markdown",
   "metadata": {
    "_uuid": "22a2405a829e73fb73b20ed633158d608487d768",
    "colab_type": "text",
    "id": "3UvaVknrbZ8D"
   },
   "source": [
    "## [4.2] Multinomial Naive Bayes"
   ]
  },
  {
   "cell_type": "code",
   "execution_count": 179,
   "metadata": {
    "_uuid": "15eaeb878c1c9d8008cdae09b73d4b8a8ecb1603",
    "colab": {
     "base_uri": "https://localhost:8080/",
     "height": 328
    },
    "colab_type": "code",
    "id": "rQRI78UVbZ8J",
    "outputId": "ef7838d0-d673-47fd-dd93-802936c4af76"
   },
   "outputs": [
    {
     "name": "stdout",
     "output_type": "stream",
     "text": [
      "Best Hyperparameter:  {'alpha': 0.005}\n",
      "Best Accuracy: 92.80%\n"
     ]
    },
    {
     "data": {
      "image/png": "[encoded data removed]",
      "text/plain": [
       "<matplotlib.figure.Figure at 0x7fa91d0eaac8>"
      ]
     },
     "metadata": {
      "tags": []
     },
     "output_type": "display_data"
    }
   ],
   "source": [
    "from sklearn.naive_bayes import MultinomialNB\n",
    "\n",
    "mnb = MultinomialNB()\n",
    "params = {'alpha':[1000,500,100,50,10,5,1,0.5,0.1,0.05,0.01,0.005,0.001,0.0005,0.0001]}\n",
    "tscv = TimeSeriesSplit(n_splits = 10)\n",
    "gscv = GridSearchCV(mnb, params, cv = tscv, scoring='f1')\n",
    "\n",
    "title = \"Learning Curves(Multinomial Naive Bayes)\"\n",
    "\n",
    "plot_learning_curve(gscv, title, X_train, y_train, ylim=(0.7, 1.01), cv=tscv, n_jobs=4)\n",
    "\n",
    "gscv.fit(X_train, y_train)\n",
    "\n",
    "print(\"Best Hyperparameter: \",gscv.best_params_)\n",
    "print(\"Best Accuracy: %.2f%%\"%(gscv.best_score_*100))"
   ]
  },
  {
   "cell_type": "code",
   "execution_count": 180,
   "metadata": {
    "_uuid": "cd124653b56099502ef7272a627ce66e7faa66b3",
    "colab": {
     "base_uri": "https://localhost:8080/",
     "height": 362
    },
    "colab_type": "code",
    "id": "l-tTthqcbZ9A",
    "outputId": "3645ec1f-ef0b-4e39-84e2-edc3253667e5"
   },
   "outputs": [
    {
     "name": "stdout",
     "output_type": "stream",
     "text": [
      "Accuracy on test set: 85.816%\n",
      "Precision on test set: 0.855\n",
      "Recall on test set: 0.997\n",
      "F1-Score on test set: 0.921\n"
     ]
    },
    {
     "data": {
      "image/png": "[encoded data removed]",
      "text/plain": [
       "<matplotlib.figure.Figure at 0x7fa91d34c6d8>"
      ]
     },
     "metadata": {
      "tags": []
     },
     "output_type": "display_data"
    }
   ],
   "source": [
    "# Accuracy on testing data\n",
    "\n",
    "mnb = MultinomialNB(alpha = 0.005)\n",
    "mnb.fit(X_train, y_train)\n",
    "\n",
    "y_pred = mnb.predict(X_test)\n",
    "\n",
    "print(\"Accuracy on test set: %0.3f%%\"%(accuracy_score(y_test, y_pred)*100))\n",
    "print(\"Precision on test set: %0.3f\"%(precision_score(y_test, y_pred)))\n",
    "print(\"Recall on test set: %0.3f\"%(recall_score(y_test, y_pred)))\n",
    "print(\"F1-Score on test set: %0.3f\"%(f1_score(y_test, y_pred)))\n",
    "plot_confusion_matrix(y_test, y_pred)"
   ]
  },
  {
   "cell_type": "markdown",
   "metadata": {
    "_uuid": "4a3deb23bec25232671f82a65ff1a99a457ca038",
    "colab_type": "text",
    "id": "H59stQYebZ9P"
   },
   "source": [
    "## [4.3] Feature Importance"
   ]
  },
  {
   "cell_type": "code",
   "execution_count": 184,
   "metadata": {
    "_uuid": "b6ef08a4483b8a8777d4962e94696f82ca01bbe9",
    "colab": {
     "base_uri": "https://localhost:8080/",
     "height": 1751
    },
    "colab_type": "code",
    "id": "IMUI4ydzbZ9T",
    "outputId": "cb873614-671a-44b0-f550-f850fcbbf4a2"
   },
   "outputs": [
    {
     "name": "stdout",
     "output_type": "stream",
     "text": [
      "Negative\t\t\t\t\t\tPositive\n",
      "----------------------------------------------------------------------------------------------------\n",
      "-17.5855\taaaaaaarrrrrggghhh\t\t\t\t-1.1898\tlike           \n",
      "-17.5855\taaaaaahhhhhyaaaaaa\t\t\t\t-1.2078\ttast           \n",
      "-17.5855\taachen         \t\t\t\t-1.2728\tlove           \n",
      "-17.5855\taarrgh         \t\t\t\t-1.2770\tgood           \n",
      "-17.5855\taauc           \t\t\t\t-1.2940\tgreat          \n",
      "-17.5855\tabalon         \t\t\t\t-1.4290\tflavor         \n",
      "-17.5855\tabbazabba      \t\t\t\t-1.4724\tone            \n",
      "-17.5855\tabiet          \t\t\t\t-1.4907\tuse            \n",
      "-17.5855\tabolitionist   \t\t\t\t-1.5344\ttri            \n",
      "-17.5855\tabort          \t\t\t\t-1.5642\tproduct        \n",
      "-17.5855\tabottl         \t\t\t\t-1.6464\tmake           \n",
      "-17.5855\tabrevi         \t\t\t\t-1.6961\tget            \n",
      "-17.5855\tabrotanum      \t\t\t\t-1.9062\tbuy            \n",
      "-17.5855\tabsolutelt     \t\t\t\t-1.9097\ttime           \n",
      "-17.5855\tabsoprt        \t\t\t\t-1.9481\tamazon         \n",
      "-17.5855\tabsurt         \t\t\t\t-1.9581\twould          \n",
      "-17.5855\tabswer         \t\t\t\t-1.9585\tbest           \n",
      "-17.5855\tabvious        \t\t\t\t-1.9784\tfind           \n",
      "-17.5855\taccepet        \t\t\t\t-1.9849\trealli         \n",
      "-17.5855\tacceptal       \t\t\t\t-2.0163\tprice          \n",
      "-17.5855\tacceptalbl     \t\t\t\t-2.0326\tmuch           \n",
      "-17.5855\taccor          \t\t\t\t-2.0406\talso           \n",
      "-17.5855\taccordng       \t\t\t\t-2.0500\teat            \n",
      "-17.5855\taccourd        \t\t\t\t-2.0781\tdont           \n",
      "-17.5855\taccpet         \t\t\t\t-2.0975\tlittl          \n",
      "-17.5855\taccusttom      \t\t\t\t-2.1181\tstore          \n",
      "-17.5855\tacefulfam      \t\t\t\t-2.1414\torder          \n",
      "-17.5855\tacesufam       \t\t\t\t-2.1469\twell           \n",
      "-17.5855\tacesuflamek    \t\t\t\t-2.1780\tfood           \n",
      "-17.5855\tachangin       \t\t\t\t-2.2088\teven           \n",
      "-17.5855\tacicif         \t\t\t\t-2.2201\tcoffe          \n",
      "-17.5855\tacknowled      \t\t\t\t-2.2373\tive            \n",
      "-17.5855\tacknowleg      \t\t\t\t-2.2598\tbetter         \n",
      "-17.5855\tacorb          \t\t\t\t-2.2652\trecommend      \n",
      "-17.5855\tacsulfam       \t\t\t\t-2.3289\tyear           \n",
      "-17.5855\tactivateand    \t\t\t\t-2.3304\ttea            \n",
      "-17.5855\tactiviy        \t\t\t\t-2.3843\tday            \n",
      "-17.5855\tactualla       \t\t\t\t-2.3969\tfound          \n",
      "-17.5855\tacuraci        \t\t\t\t-2.4212\thigh           \n",
      "-17.5855\tadamba         \t\t\t\t-2.4497\tbag            \n",
      "-17.5855\tadav           \t\t\t\t-2.4555\tdelici         \n",
      "-17.5855\taddag          \t\t\t\t-2.4686\tdrink          \n",
      "-17.5855\tadddr          \t\t\t\t-2.4696\tsweet          \n",
      "-17.5855\taddedtoo       \t\t\t\t-2.4727\tmix            \n",
      "-17.5855\taddicitv       \t\t\t\t-2.4742\tfirst          \n",
      "-17.5855\tadditav        \t\t\t\t-2.4818\tgive           \n",
      "-17.5855\tadditct        \t\t\t\t-2.4888\twant           \n",
      "-17.5855\tadditionali    \t\t\t\t-2.4941\tenjoy          \n",
      "-17.5855\tadel           \t\t\t\t-2.5242\tfavorit        \n",
      "-17.5855\tadequaci       \t\t\t\t-2.5257\tlook           \n",
      "-17.5855\tadhear         \t\t\t\t-2.5708\tway            \n",
      "-17.5855\tadigo          \t\t\t\t-2.5789\tnice           \n",
      "-17.5855\tadina          \t\t\t\t-2.5875\twork           \n",
      "-17.5855\tadmmit         \t\t\t\t-2.5923\tneed           \n",
      "-17.5855\tadmoit         \t\t\t\t-2.5981\tbox            \n",
      "-17.5855\tadovada        \t\t\t\t-2.6027\tthink          \n",
      "-17.5855\tadress         \t\t\t\t-2.6102\tpurchas        \n",
      "-17.5855\tadultur        \t\t\t\t-2.6146\tmade           \n",
      "-17.5855\tadver          \t\t\t\t-2.6243\tsinc           \n",
      "-17.5855\tadverag        \t\t\t\t-2.6264\tsugar          \n",
      "-17.5855\tadversis       \t\t\t\t-2.6267\tbought         \n",
      "-17.5855\tadvertisi      \t\t\t\t-2.6274\tbrand          \n",
      "-17.5855\tadvertist      \t\t\t\t-2.6331\tperfect        \n",
      "-17.5855\tadverts        \t\t\t\t-2.6476\tadd            \n",
      "-17.5855\tadvie          \t\t\t\t-2.6516\tpackag         \n",
      "-17.5855\tadvo           \t\t\t\t-2.6629\tbit            \n",
      "-17.5855\taer            \t\t\t\t-2.6646\tkeep           \n",
      "-17.5855\taerocrap       \t\t\t\t-2.6690\tthing          \n",
      "-17.5855\taestevium      \t\t\t\t-2.6840\tcome           \n",
      "-17.5855\taethest        \t\t\t\t-2.6944\tlot            \n",
      "-17.5855\taffaid         \t\t\t\t-2.7063\tdiffer         \n",
      "-17.5855\taffront        \t\t\t\t-2.7137\tsay            \n",
      "-17.5855\tafi            \t\t\t\t-2.7147\tknow           \n",
      "-17.5855\taficiando      \t\t\t\t-2.7187\tmani           \n",
      "-17.5855\taforesaid      \t\t\t\t-2.7199\tcant           \n",
      "-17.5855\tafrad          \t\t\t\t-2.7208\tcup            \n",
      "-17.5855\taftercar       \t\t\t\t-2.7231\ttwo            \n",
      "-17.5855\tag             \t\t\t\t-2.7513\tstill          \n",
      "-17.5855\tagaingst       \t\t\t\t-2.7515\tcould          \n",
      "-17.5855\tagainthat      \t\t\t\t-2.7551\twater          \n",
      "-17.5855\taggit          \t\t\t\t-2.7551\tchocol         \n",
      "-17.5855\tagglomer       \t\t\t\t-2.7681\talway          \n",
      "-17.5855\taggreav        \t\t\t\t-2.7712\teveri          \n",
      "-17.5855\taggriev        \t\t\t\t-2.7726\twithout        \n",
      "-17.5855\tagh            \t\t\t\t-2.7733\tpack           \n",
      "-17.5855\taghgghghhh     \t\t\t\t-2.7814\twonder         \n",
      "-17.5855\taglycol        \t\t\t\t-2.7816\ttreat          \n",
      "-17.5855\tagoraphob      \t\t\t\t-2.7916\tlocal          \n",
      "-17.5855\tagrichem       \t\t\t\t-2.7993\tsnack          \n",
      "-17.5855\tagrr           \t\t\t\t-2.8034\tfresh          \n",
      "-17.5855\tagru           \t\t\t\t-2.8123\teasi           \n",
      "-17.5855\tahaha          \t\t\t\t-2.8144\ttake           \n",
      "-17.5855\tahahhghghghgh  \t\t\t\t-2.8164\tnever          \n",
      "-17.5855\tahe            \t\t\t\t-2.8180\tdog            \n",
      "-17.5855\tahora          \t\t\t\t-2.8343\tever           \n",
      "-17.5855\tahpso          \t\t\t\t-2.8421\tright          \n",
      "-17.5855\taic            \t\t\t\t-2.8488\tfree           \n",
      "-17.5855\taichi          \t\t\t\t-2.8562\tship           \n",
      "-17.5855\tailen          \t\t\t\t-2.8815\tgot            \n",
      "-17.5855\tairat          \t\t\t\t-2.8957\treview         \n"
     ]
    }
   ],
   "source": [
    "def features_importance(vectorizer, clf, n=100):\n",
    "    feature_names = vectorizer.get_feature_names()\n",
    "    coefs_with_fns = sorted(zip(clf.coef_[0], feature_names))\n",
    "    top = zip(coefs_with_fns[:n], coefs_with_fns[:-(n + 1):-1])\n",
    "    print(\"Negative\\t\\t\\t\\t\\t\\tPositive\")\n",
    "    print(\"-\"*100)\n",
    "    for (coef_1, fn_1), (coef_2, fn_2) in top:\n",
    "        print(\"%.4f\\t%-15s\\t\\t\\t\\t%.4f\\t%-15s\" % (coef_1, fn_1, coef_2, fn_2))\n",
    "        \n",
    "features_importance(count_vect,bnb)"
   ]
  },
  {
   "cell_type": "markdown",
   "metadata": {
    "_uuid": "ff04eb8c2d4a62543d6f3d7b644a3a071927b609",
    "colab_type": "text",
    "id": "VNXYKF2DbZ9j"
   },
   "source": [
    "# [5] TF-IDF"
   ]
  },
  {
   "cell_type": "code",
   "execution_count": 0,
   "metadata": {
    "_uuid": "a99504c69f3d3f6fe88d447d2f4922109c141c2d",
    "colab": {},
    "colab_type": "code",
    "id": "CqbRNmpRbZ9o"
   },
   "outputs": [],
   "source": [
    "# Spliting into Train and test\n",
    "X_train, X_test, y_train, y_test = train_test_split(data['CleanedText'].values,data['Score'].values,test_size=0.3,shuffle=False)"
   ]
  },
  {
   "cell_type": "code",
   "execution_count": 186,
   "metadata": {
    "_uuid": "1ede6105d83c2d4b8eeaa6b00e46bf071b40a0c5",
    "colab": {
     "base_uri": "https://localhost:8080/",
     "height": 51
    },
    "colab_type": "code",
    "id": "m98_YbpObZ96",
    "outputId": "625e67ab-7d20-4e0e-ef35-eb2ed98d36d7"
   },
   "outputs": [
    {
     "name": "stdout",
     "output_type": "stream",
     "text": [
      "Train Data Size:  (254919, 2000)\n",
      "Test Data Size:  (109252, 2000)\n"
     ]
    }
   ],
   "source": [
    "tfidf = TfidfVectorizer(ngram_range=(1,2), max_features=2000, min_df=10) #Using bi-grams\n",
    "X_train = tfidf.fit_transform(X_train)\n",
    "#Normalize Data\n",
    "X_train = preprocessing.normalize(X_train)\n",
    "print(\"Train Data Size: \",X_train.shape)\n",
    "X_test = tfidf.transform(X_test)\n",
    "#Normalize Data\n",
    "X_test = preprocessing.normalize(X_test)\n",
    "print(\"Test Data Size: \",X_test.shape)"
   ]
  },
  {
   "cell_type": "markdown",
   "metadata": {
    "_uuid": "b06a24f04c2e01bf19b547f18f944d5ac5a44e99",
    "colab_type": "text",
    "id": "YHCjTHcSbZ-M"
   },
   "source": [
    "## [5.1] Bernoulli naive bayes"
   ]
  },
  {
   "cell_type": "code",
   "execution_count": 187,
   "metadata": {
    "_uuid": "b3f3dbe15861b9f416c131e703ed9c98de788e83",
    "colab": {
     "base_uri": "https://localhost:8080/",
     "height": 328
    },
    "colab_type": "code",
    "id": "KkToGkmsbZ-P",
    "outputId": "484e387f-21cb-42fc-b160-567d09286a0c"
   },
   "outputs": [
    {
     "name": "stdout",
     "output_type": "stream",
     "text": [
      "Best HyperParameter:  {'alpha': 0.001}\n",
      "Best Accuracy: 93.43%\n"
     ]
    },
    {
     "data": {
      "image/png": "[encoded data removed]",
      "text/plain": [
       "<matplotlib.figure.Figure at 0x7fa95b831080>"
      ]
     },
     "metadata": {
      "tags": []
     },
     "output_type": "display_data"
    }
   ],
   "source": [
    "bnb = BernoulliNB()\n",
    "param_grid = {'alpha':[1000,500,100,50,10,7,6,5,4,2,1,0.5,0.1,0.05,0.01,0.005,0.001]} #params we need to try on classifier\n",
    "tscv = TimeSeriesSplit(n_splits=10) #For time based splitting\n",
    "gsv = GridSearchCV(bnb,param_grid,cv=tscv,scoring='f1')\n",
    "\n",
    "title = \"Learning Curves(Naive Bayes)\"\n",
    "\n",
    "plot_learning_curve(gsv, title, X_train, y_train, ylim=(0.7, 1.01), cv=tscv, n_jobs=4)\n",
    "\n",
    "gsv.fit(X_train,y_train)\n",
    "print(\"Best HyperParameter: \",gsv.best_params_)\n",
    "print(\"Best Accuracy: %.2f%%\"%(gsv.best_score_*100))"
   ]
  },
  {
   "cell_type": "code",
   "execution_count": 189,
   "metadata": {
    "_uuid": "80e316774691a325f31d985769b306594402d5fe",
    "colab": {
     "base_uri": "https://localhost:8080/",
     "height": 362
    },
    "colab_type": "code",
    "id": "ZdWAGtvGbZ_D",
    "outputId": "ff5a98c9-a994-4e82-c050-ed791430bdeb"
   },
   "outputs": [
    {
     "name": "stdout",
     "output_type": "stream",
     "text": [
      "Accuracy on test set: 88.204%\n",
      "Precision on test set: 0.937\n",
      "Recall on test set: 0.919\n",
      "F1-Score on test set: 0.928\n"
     ]
    },
    {
     "data": {
      "image/png": "[encoded data removed]",
      "text/plain": [
       "<matplotlib.figure.Figure at 0x7fa92b835588>"
      ]
     },
     "metadata": {
      "tags": []
     },
     "output_type": "display_data"
    }
   ],
   "source": [
    "#Testing Accuracy on Test data\n",
    "\n",
    "bnb = BernoulliNB(alpha=0.001)\n",
    "bnb.fit(X_train,y_train)\n",
    "y_pred = bnb.predict(X_test)\n",
    "\n",
    "print(\"Accuracy on test set: %0.3f%%\"%(accuracy_score(y_test, y_pred)*100))\n",
    "print(\"Precision on test set: %0.3f\"%(precision_score(y_test, y_pred)))\n",
    "print(\"Recall on test set: %0.3f\"%(recall_score(y_test, y_pred)))\n",
    "print(\"F1-Score on test set: %0.3f\"%(f1_score(y_test, y_pred)))\n",
    "plot_confusion_matrix(y_test, y_pred)"
   ]
  },
  {
   "cell_type": "markdown",
   "metadata": {
    "_uuid": "3b982f8311b8d9dcb48ac79ec90d01a78fc2cf45",
    "colab_type": "text",
    "id": "Q1LfAsb_bZ_n"
   },
   "source": [
    "## [5.2] Multinomial naive bayes"
   ]
  },
  {
   "cell_type": "code",
   "execution_count": 190,
   "metadata": {
    "_uuid": "ac51c2f55fffb821a41ce8b88f7fc98a8485803d",
    "colab": {
     "base_uri": "https://localhost:8080/",
     "height": 328
    },
    "colab_type": "code",
    "id": "3HbYKH0QbZ_s",
    "outputId": "77c62360-0bb6-4d4e-f4fe-bc5736347068"
   },
   "outputs": [
    {
     "name": "stdout",
     "output_type": "stream",
     "text": [
      "Best Hyperparameter:  {'alpha': 0.001}\n",
      "Best Accuracy: 93.04%\n"
     ]
    },
    {
     "data": {
      "image/png": "[encoded data removed]",
      "text/plain": [
       "<matplotlib.figure.Figure at 0x7fa9305d4358>"
      ]
     },
     "metadata": {
      "tags": []
     },
     "output_type": "display_data"
    }
   ],
   "source": [
    "from sklearn.naive_bayes import MultinomialNB\n",
    "\n",
    "mnb = MultinomialNB()\n",
    "params = {'alpha':[1000,500,100,50,10,5,1,0.5,0.1,0.05,0.01,0.005,0.001,0.0005,0.0001]}\n",
    "tscv = TimeSeriesSplit(n_splits = 10)\n",
    "gscv = GridSearchCV(mnb, params, cv = tscv, scoring='f1')\n",
    "\n",
    "title = \"Learning Curves(Multinomial Naive Bayes)\"\n",
    "\n",
    "plot_learning_curve(gscv, title, X_train, y_train, ylim=(0.7, 1.01), cv=tscv, n_jobs=4)\n",
    "\n",
    "gscv.fit(X_train, y_train)\n",
    "\n",
    "print(\"Best Hyperparameter: \",gscv.best_params_)\n",
    "print(\"Best Accuracy: %.2f%%\"%(gscv.best_score_*100))"
   ]
  },
  {
   "cell_type": "code",
   "execution_count": 191,
   "metadata": {
    "_uuid": "ec043f008c5c613f15490cabcdd821aa1237660f",
    "colab": {
     "base_uri": "https://localhost:8080/",
     "height": 362
    },
    "colab_type": "code",
    "id": "PoJOQTPmbaAI",
    "outputId": "76e223c4-68a0-46b0-d4cd-7a9da8b4d056"
   },
   "outputs": [
    {
     "name": "stdout",
     "output_type": "stream",
     "text": [
      "Accuracy on test set: 86.347%\n",
      "Precision on test set: 0.860\n",
      "Recall on test set: 0.996\n",
      "F1-Score on test set: 0.923\n"
     ]
    },
    {
     "data": {
      "image/png": "[encoded data removed]",
      "text/plain": [
       "<matplotlib.figure.Figure at 0x7fa91d6a9668>"
      ]
     },
     "metadata": {
      "tags": []
     },
     "output_type": "display_data"
    }
   ],
   "source": [
    "#Testing Accuracy on Test data\n",
    "\n",
    "mnb = MultinomialNB(alpha=0.001)\n",
    "mnb.fit(X_train,y_train)\n",
    "y_pred = mnb.predict(X_test)\n",
    "\n",
    "print(\"Accuracy on test set: %0.3f%%\"%(accuracy_score(y_test, y_pred)*100))\n",
    "print(\"Precision on test set: %0.3f\"%(precision_score(y_test, y_pred)))\n",
    "print(\"Recall on test set: %0.3f\"%(recall_score(y_test, y_pred)))\n",
    "print(\"F1-Score on test set: %0.3f\"%(f1_score(y_test, y_pred)))\n",
    "plot_confusion_matrix(y_test, y_pred)"
   ]
  },
  {
   "cell_type": "markdown",
   "metadata": {
    "_uuid": "fb1f05170a7a0a58ce0cb9192b150773d92e6b06",
    "colab_type": "text",
    "id": "5UcdodS1baAZ"
   },
   "source": [
    "## [5.3] Feature Importance"
   ]
  },
  {
   "cell_type": "code",
   "execution_count": 192,
   "metadata": {
    "_uuid": "b9c0b4ba6a3a92e07e0d1c47283759977eb36e82",
    "colab": {
     "base_uri": "https://localhost:8080/",
     "height": 476
    },
    "colab_type": "code",
    "id": "8Bj7m-aQbaAb",
    "outputId": "fc4ee48c-5d18-4c31-d463-9d0c187dec88"
   },
   "outputs": [
    {
     "name": "stdout",
     "output_type": "stream",
     "text": [
      "Negative\t\t\t\t\tPositive\n",
      "----------------------------------------------------------------------------------------------------\n",
      "-6.9938\twast money     \t\t\t\t-1.1898\tlike           \n",
      "-6.9544\twont buy       \t\t\t\t-1.2078\ttast           \n",
      "-6.8023\ttrash          \t\t\t\t-1.2728\tlove           \n",
      "-6.7459\trefund         \t\t\t\t-1.2770\tgood           \n",
      "-6.7112\tnever buy      \t\t\t\t-1.2940\tgreat          \n",
      "-6.5900\ttasteless      \t\t\t\t-1.4290\tflavor         \n",
      "-6.4820\tgarbag         \t\t\t\t-1.4724\tone            \n",
      "-6.4321\tvomit          \t\t\t\t-1.4907\tuse            \n",
      "-6.4321\tworst          \t\t\t\t-1.5344\ttri            \n",
      "-6.4264\tmate           \t\t\t\t-1.5642\tproduct        \n",
      "-6.4235\tbuyer          \t\t\t\t-1.6464\tmake           \n",
      "-6.4235\tdisgust        \t\t\t\t-1.6961\tget            \n",
      "-6.3983\tthrew          \t\t\t\t-1.9062\tbuy            \n",
      "-6.3629\trooibo         \t\t\t\t-1.9097\ttime           \n",
      "-6.3602\toreo           \t\t\t\t-1.9481\tamazon         \n",
      "-6.3576\tfli            \t\t\t\t-1.9581\twould          \n",
      "-6.3549\ttazo           \t\t\t\t-1.9585\tbest           \n",
      "-6.3313\tunpleas        \t\t\t\t-1.9784\tfind           \n",
      "-6.3261\truin           \t\t\t\t-1.9849\trealli         \n",
      "-6.3210\twhite tea      \t\t\t\t-2.0163\tprice          \n",
      "-6.3032\tnumi           \t\t\t\t-2.0326\tmuch           \n",
      "-6.2932\txylitol        \t\t\t\t-2.0406\talso           \n",
      "-6.2637\themp           \t\t\t\t-2.0500\teat            \n",
      "-6.2493\trip            \t\t\t\t-2.0781\tdont           \n",
      "-6.2421\tbewar          \t\t\t\t-2.0975\tlittl          \n"
     ]
    }
   ],
   "source": [
    "def features_importance(vectorizer, clf, n=25):\n",
    "    feature_names = vectorizer.get_feature_names()\n",
    "    coefs_with_fns = sorted(zip(clf.coef_[0], feature_names))\n",
    "    top = zip(coefs_with_fns[:n], coefs_with_fns[:-(n + 1):-1])\n",
    "    print(\"Negative\\t\\t\\t\\t\\tPositive\")\n",
    "    print(\"-\"*100)\n",
    "    for (coef_1, fn_1), (coef_2, fn_2) in top:\n",
    "        print(\"%.4f\\t%-15s\\t\\t\\t\\t%.4f\\t%-15s\" % (coef_1, fn_1, coef_2, fn_2))\n",
    "        \n",
    "features_importance(tfidf,bnb)"
   ]
  },
  {
   "cell_type": "markdown",
   "metadata": {
    "_uuid": "3c5491411db605fecb4ff7bc5ac2fce2eb764389",
    "colab_type": "text",
    "id": "hMZWW4q7baAp"
   },
   "source": [
    "# [6] Performance Table"
   ]
  },
  {
   "cell_type": "code",
   "execution_count": 194,
   "metadata": {
    "colab": {
     "base_uri": "https://localhost:8080/",
     "height": 153
    },
    "colab_type": "code",
    "id": "Czmw6oqCGTrS",
    "outputId": "a8252f60-548d-49e2-c07a-d4886e904431"
   },
   "outputs": [
    {
     "name": "stdout",
     "output_type": "stream",
     "text": [
      "+---------------+-------------+-------+----------+\n",
      "| FEATURIZATION |    MODEL    | ALPHA | F1-SCORE |\n",
      "+---------------+-------------+-------+----------+\n",
      "|      BOW      |  Bernoulli  | 0.005 |   0.93   |\n",
      "|               | Multinomial | 0.001 |  0.921   |\n",
      "|     TF_IDF    |  Bernoulli  | 0.005 |  0.928   |\n",
      "|               | Multinomial | 0.001 |  0.923   |\n",
      "+---------------+-------------+-------+----------+\n"
     ]
    }
   ],
   "source": [
    "from prettytable import PrettyTable\n",
    "    \n",
    "x = PrettyTable()\n",
    "\n",
    "x.field_names = [\"FEATURIZATION\", \"MODEL\", \"ALPHA\", \"F1-SCORE\"]\n",
    "\n",
    "x.add_row([\"BOW\", \"Bernoulli\", 0.005,0.930])\n",
    "x.add_row([\"\", \"Multinomial\", 0.001, 0.921])\n",
    "x.add_row([\"TF_IDF\", \"Bernoulli\", 0.005, 0.928])\n",
    "x.add_row([\"\", \"Multinomial\", 0.001, 0.923])\n",
    "\n",
    "print(x)"
   ]
  },
  {
   "cell_type": "markdown",
   "metadata": {
    "_uuid": "075ad8d00a923d62c3901eb384562c8d1a115787",
    "colab_type": "text",
    "id": "F-oPOXaybaA2"
   },
   "source": [
    "# Obseration"
   ]
  },
  {
   "cell_type": "markdown",
   "metadata": {
    "colab_type": "text",
    "id": "UeQ90vNDIFFx"
   },
   "source": [
    "   1. Naive Bayes is much faster algorithm than KNN\n",
    "   2. The performance of bernoulli naive bayes is way much more better than multinomial naive bayes.\n",
    "   3. Best F1 score is acheived by BOW featurization which is 0.930"
   ]
  }
 ],
 "metadata": {
  "colab": {
   "collapsed_sections": [],
   "name": "kernel.ipynb",
   "provenance": [],
   "version": "0.3.2"
  },
  "kernelspec": {
   "display_name": "Python 3",
   "language": "python",
   "name": "python3"
  },
  "language_info": {
   "codemirror_mode": {
    "name": "ipython",
    "version": 3
   },
   "file_extension": ".py",
   "mimetype": "text/x-python",
   "name": "python",
   "nbconvert_exporter": "python",
   "pygments_lexer": "ipython3",
   "version": "3.6.5"
  }
 },
 "nbformat": 4,
 "nbformat_minor": 1
}
