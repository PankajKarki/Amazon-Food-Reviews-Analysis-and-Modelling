{
  "cells": [
    {
      "metadata": {
        "_uuid": "8f2839f25d086af736a60e9eeb907d3b93b6e0e5",
        "_cell_guid": "b1076dfc-b9ad-4769-8c92-a6c4dae69d19",
        "trusted": true,
        "collapsed": true
      },
      "cell_type": "code",
      "source": "%matplotlib inline\nimport warnings\nwarnings.filterwarnings(\"ignore\")\n\nimport sqlite3\nimport pandas as pd\nimport numpy as np\nimport nltk\nimport string\nimport matplotlib.pyplot as plt\nimport seaborn as sns\nfrom sklearn.feature_extraction.text import TfidfTransformer\nfrom sklearn.feature_extraction.text import TfidfVectorizer\n\nfrom sklearn.feature_extraction.text import CountVectorizer\nfrom sklearn.metrics import confusion_matrix\nfrom sklearn import metrics\nfrom sklearn.metrics import roc_curve, auc\nfrom nltk.stem.porter import PorterStemmer\n\nimport re\nimport string\nfrom nltk.corpus import stopwords\nfrom nltk.stem import PorterStemmer\nfrom nltk.stem.wordnet import WordNetLemmatizer\n\nfrom gensim.models import Word2Vec\nfrom gensim.models import KeyedVectors\nimport pickle\n\n\n# using the SQLite Table to read data.\ncon = sqlite3.connect('../input/database.sqlite') \n\n#filtering only positive and negative reviews i.e. \n# not taking into consideration those reviews with Score=3\nfiltered_data = pd.read_sql_query(\"\"\"\nSELECT *\nFROM Reviews\nWHERE Score != 3\n\"\"\", con) \n\n# Give reviews with Score>3 a positive rating, and reviews with a score<3 a negative rating.\ndef partition(x):\n    if x < 3:\n        return 'negative'\n    return 'positive'\n\n#changing reviews with score less than 3 to be positive and vice-versa\nactualScore = filtered_data['Score']\npositiveNegative = actualScore.map(partition) \nfiltered_data['Score'] = positiveNegative",
      "execution_count": 129,
      "outputs": []
    },
    {
      "metadata": {
        "_cell_guid": "79c7e3d0-c299-4dcb-8224-4455121ee9b0",
        "_uuid": "d629ff2d2480ee46fbb7e2d37f6b5fab8052498a",
        "trusted": true
      },
      "cell_type": "code",
      "source": "print(filtered_data.shape) #looking at the number of attributes and size of the data\nfiltered_data.head()",
      "execution_count": 130,
      "outputs": [
        {
          "output_type": "stream",
          "text": "(525814, 10)\n",
          "name": "stdout"
        },
        {
          "output_type": "execute_result",
          "execution_count": 130,
          "data": {
            "text/plain": "   Id   ProductId          UserId                      ProfileName  \\\n0   1  B001E4KFG0  A3SGXH7AUHU8GW                       delmartian   \n1   2  B00813GRG4  A1D87F6ZCVE5NK                           dll pa   \n2   3  B000LQOCH0   ABXLMWJIXXAIN  Natalia Corres \"Natalia Corres\"   \n3   4  B000UA0QIQ  A395BORC6FGVXV                             Karl   \n4   5  B006K2ZZ7K  A1UQRSCLF8GW1T    Michael D. Bigham \"M. Wassir\"   \n\n   HelpfulnessNumerator  HelpfulnessDenominator     Score        Time  \\\n0                     1                       1  positive  1303862400   \n1                     0                       0  negative  1346976000   \n2                     1                       1  positive  1219017600   \n3                     3                       3  negative  1307923200   \n4                     0                       0  positive  1350777600   \n\n                 Summary                                               Text  \n0  Good Quality Dog Food  I have bought several of the Vitality canned d...  \n1      Not as Advertised  Product arrived labeled as Jumbo Salted Peanut...  \n2  \"Delight\" says it all  This is a confection that has been around a fe...  \n3         Cough Medicine  If you are looking for the secret ingredient i...  \n4            Great taffy  Great taffy at a great price.  There was a wid...  ",
            "text/html": "<div>\n<style scoped>\n    .dataframe tbody tr th:only-of-type {\n        vertical-align: middle;\n    }\n\n    .dataframe tbody tr th {\n        vertical-align: top;\n    }\n\n    .dataframe thead th {\n        text-align: right;\n    }\n</style>\n<table border=\"1\" class=\"dataframe\">\n  <thead>\n    <tr style=\"text-align: right;\">\n      <th></th>\n      <th>Id</th>\n      <th>ProductId</th>\n      <th>UserId</th>\n      <th>ProfileName</th>\n      <th>HelpfulnessNumerator</th>\n      <th>HelpfulnessDenominator</th>\n      <th>Score</th>\n      <th>Time</th>\n      <th>Summary</th>\n      <th>Text</th>\n    </tr>\n  </thead>\n  <tbody>\n    <tr>\n      <th>0</th>\n      <td>1</td>\n      <td>B001E4KFG0</td>\n      <td>A3SGXH7AUHU8GW</td>\n      <td>delmartian</td>\n      <td>1</td>\n      <td>1</td>\n      <td>positive</td>\n      <td>1303862400</td>\n      <td>Good Quality Dog Food</td>\n      <td>I have bought several of the Vitality canned d...</td>\n    </tr>\n    <tr>\n      <th>1</th>\n      <td>2</td>\n      <td>B00813GRG4</td>\n      <td>A1D87F6ZCVE5NK</td>\n      <td>dll pa</td>\n      <td>0</td>\n      <td>0</td>\n      <td>negative</td>\n      <td>1346976000</td>\n      <td>Not as Advertised</td>\n      <td>Product arrived labeled as Jumbo Salted Peanut...</td>\n    </tr>\n    <tr>\n      <th>2</th>\n      <td>3</td>\n      <td>B000LQOCH0</td>\n      <td>ABXLMWJIXXAIN</td>\n      <td>Natalia Corres \"Natalia Corres\"</td>\n      <td>1</td>\n      <td>1</td>\n      <td>positive</td>\n      <td>1219017600</td>\n      <td>\"Delight\" says it all</td>\n      <td>This is a confection that has been around a fe...</td>\n    </tr>\n    <tr>\n      <th>3</th>\n      <td>4</td>\n      <td>B000UA0QIQ</td>\n      <td>A395BORC6FGVXV</td>\n      <td>Karl</td>\n      <td>3</td>\n      <td>3</td>\n      <td>negative</td>\n      <td>1307923200</td>\n      <td>Cough Medicine</td>\n      <td>If you are looking for the secret ingredient i...</td>\n    </tr>\n    <tr>\n      <th>4</th>\n      <td>5</td>\n      <td>B006K2ZZ7K</td>\n      <td>A1UQRSCLF8GW1T</td>\n      <td>Michael D. Bigham \"M. Wassir\"</td>\n      <td>0</td>\n      <td>0</td>\n      <td>positive</td>\n      <td>1350777600</td>\n      <td>Great taffy</td>\n      <td>Great taffy at a great price.  There was a wid...</td>\n    </tr>\n  </tbody>\n</table>\n</div>"
          },
          "metadata": {}
        }
      ]
    },
    {
      "metadata": {
        "trusted": true,
        "_uuid": "10565a56765723f1f9e10db888b95f6765223795"
      },
      "cell_type": "code",
      "source": "display= pd.read_sql_query(\"\"\"\nSELECT *\nFROM Reviews\nWHERE Score != 3 AND UserId=\"AR5J8UI46CURR\"\nORDER BY ProductID\n\"\"\", con)\ndisplay.head()",
      "execution_count": 131,
      "outputs": [
        {
          "output_type": "execute_result",
          "execution_count": 131,
          "data": {
            "text/plain": "       Id   ProductId         UserId      ProfileName  HelpfulnessNumerator  \\\n0   78445  B000HDL1RQ  AR5J8UI46CURR  Geetha Krishnan                     2   \n1  138317  B000HDOPYC  AR5J8UI46CURR  Geetha Krishnan                     2   \n2  138277  B000HDOPYM  AR5J8UI46CURR  Geetha Krishnan                     2   \n3   73791  B000HDOPZG  AR5J8UI46CURR  Geetha Krishnan                     2   \n4  155049  B000PAQ75C  AR5J8UI46CURR  Geetha Krishnan                     2   \n\n   HelpfulnessDenominator  Score        Time  \\\n0                       2      5  1199577600   \n1                       2      5  1199577600   \n2                       2      5  1199577600   \n3                       2      5  1199577600   \n4                       2      5  1199577600   \n\n                             Summary  \\\n0  LOACKER QUADRATINI VANILLA WAFERS   \n1  LOACKER QUADRATINI VANILLA WAFERS   \n2  LOACKER QUADRATINI VANILLA WAFERS   \n3  LOACKER QUADRATINI VANILLA WAFERS   \n4  LOACKER QUADRATINI VANILLA WAFERS   \n\n                                                Text  \n0  DELICIOUS WAFERS. I FIND THAT EUROPEAN WAFERS ...  \n1  DELICIOUS WAFERS. I FIND THAT EUROPEAN WAFERS ...  \n2  DELICIOUS WAFERS. I FIND THAT EUROPEAN WAFERS ...  \n3  DELICIOUS WAFERS. I FIND THAT EUROPEAN WAFERS ...  \n4  DELICIOUS WAFERS. I FIND THAT EUROPEAN WAFERS ...  ",
            "text/html": "<div>\n<style scoped>\n    .dataframe tbody tr th:only-of-type {\n        vertical-align: middle;\n    }\n\n    .dataframe tbody tr th {\n        vertical-align: top;\n    }\n\n    .dataframe thead th {\n        text-align: right;\n    }\n</style>\n<table border=\"1\" class=\"dataframe\">\n  <thead>\n    <tr style=\"text-align: right;\">\n      <th></th>\n      <th>Id</th>\n      <th>ProductId</th>\n      <th>UserId</th>\n      <th>ProfileName</th>\n      <th>HelpfulnessNumerator</th>\n      <th>HelpfulnessDenominator</th>\n      <th>Score</th>\n      <th>Time</th>\n      <th>Summary</th>\n      <th>Text</th>\n    </tr>\n  </thead>\n  <tbody>\n    <tr>\n      <th>0</th>\n      <td>78445</td>\n      <td>B000HDL1RQ</td>\n      <td>AR5J8UI46CURR</td>\n      <td>Geetha Krishnan</td>\n      <td>2</td>\n      <td>2</td>\n      <td>5</td>\n      <td>1199577600</td>\n      <td>LOACKER QUADRATINI VANILLA WAFERS</td>\n      <td>DELICIOUS WAFERS. I FIND THAT EUROPEAN WAFERS ...</td>\n    </tr>\n    <tr>\n      <th>1</th>\n      <td>138317</td>\n      <td>B000HDOPYC</td>\n      <td>AR5J8UI46CURR</td>\n      <td>Geetha Krishnan</td>\n      <td>2</td>\n      <td>2</td>\n      <td>5</td>\n      <td>1199577600</td>\n      <td>LOACKER QUADRATINI VANILLA WAFERS</td>\n      <td>DELICIOUS WAFERS. I FIND THAT EUROPEAN WAFERS ...</td>\n    </tr>\n    <tr>\n      <th>2</th>\n      <td>138277</td>\n      <td>B000HDOPYM</td>\n      <td>AR5J8UI46CURR</td>\n      <td>Geetha Krishnan</td>\n      <td>2</td>\n      <td>2</td>\n      <td>5</td>\n      <td>1199577600</td>\n      <td>LOACKER QUADRATINI VANILLA WAFERS</td>\n      <td>DELICIOUS WAFERS. I FIND THAT EUROPEAN WAFERS ...</td>\n    </tr>\n    <tr>\n      <th>3</th>\n      <td>73791</td>\n      <td>B000HDOPZG</td>\n      <td>AR5J8UI46CURR</td>\n      <td>Geetha Krishnan</td>\n      <td>2</td>\n      <td>2</td>\n      <td>5</td>\n      <td>1199577600</td>\n      <td>LOACKER QUADRATINI VANILLA WAFERS</td>\n      <td>DELICIOUS WAFERS. I FIND THAT EUROPEAN WAFERS ...</td>\n    </tr>\n    <tr>\n      <th>4</th>\n      <td>155049</td>\n      <td>B000PAQ75C</td>\n      <td>AR5J8UI46CURR</td>\n      <td>Geetha Krishnan</td>\n      <td>2</td>\n      <td>2</td>\n      <td>5</td>\n      <td>1199577600</td>\n      <td>LOACKER QUADRATINI VANILLA WAFERS</td>\n      <td>DELICIOUS WAFERS. I FIND THAT EUROPEAN WAFERS ...</td>\n    </tr>\n  </tbody>\n</table>\n</div>"
          },
          "metadata": {}
        }
      ]
    },
    {
      "metadata": {
        "trusted": true,
        "_uuid": "9e6dcbeae06137801a7b16a954244a80a7886ea0",
        "collapsed": true
      },
      "cell_type": "code",
      "source": "#Sorting data according to ProductId in ascending order\nsorted_data=filtered_data.sort_values('ProductId', axis=0, ascending=True, inplace=False, kind='quicksort', na_position='last')",
      "execution_count": 132,
      "outputs": []
    },
    {
      "metadata": {
        "trusted": true,
        "_uuid": "bc4d7ef7d38975102f40637d2c01be14c356e4ed"
      },
      "cell_type": "code",
      "source": "#Deduplication of entries\nfinal=sorted_data.drop_duplicates(subset={\"UserId\",\"ProfileName\",\"Time\",\"Text\"}, keep='first', inplace=False)\nfinal.shape",
      "execution_count": 133,
      "outputs": [
        {
          "output_type": "execute_result",
          "execution_count": 133,
          "data": {
            "text/plain": "(364173, 10)"
          },
          "metadata": {}
        }
      ]
    },
    {
      "metadata": {
        "trusted": true,
        "_uuid": "378a1dbb80d7d890a10d9e8be2267e0983982fa0"
      },
      "cell_type": "code",
      "source": "#Checking to see how much % of data still remains\n(final['Id'].size*1.0)/(filtered_data['Id'].size*1.0)*100",
      "execution_count": 134,
      "outputs": [
        {
          "output_type": "execute_result",
          "execution_count": 134,
          "data": {
            "text/plain": "69.25890143662969"
          },
          "metadata": {}
        }
      ]
    },
    {
      "metadata": {
        "trusted": true,
        "_uuid": "881dd0565ce638ef4d15bcf4ed142657828c855e"
      },
      "cell_type": "code",
      "source": "display= pd.read_sql_query(\"\"\"\nSELECT *\nFROM Reviews\nWHERE Score != 3 AND Id=44737 OR Id=64422\nORDER BY ProductID\n\"\"\", con)\n\ndisplay.head()",
      "execution_count": 135,
      "outputs": [
        {
          "output_type": "execute_result",
          "execution_count": 135,
          "data": {
            "text/plain": "      Id   ProductId          UserId              ProfileName  \\\n0  64422  B000MIDROQ  A161DK06JJMCYF  J. E. Stephens \"Jeanne\"   \n1  44737  B001EQ55RW  A2V0I904FH7ABY                      Ram   \n\n   HelpfulnessNumerator  HelpfulnessDenominator  Score        Time  \\\n0                     3                       1      5  1224892800   \n1                     3                       2      4  1212883200   \n\n                                        Summary  \\\n0             Bought This for My Son at College   \n1  Pure cocoa taste with crunchy almonds inside   \n\n                                                Text  \n0  My son loves spaghetti so I didn't hesitate or...  \n1  It was almost a 'love at first bite' - the per...  ",
            "text/html": "<div>\n<style scoped>\n    .dataframe tbody tr th:only-of-type {\n        vertical-align: middle;\n    }\n\n    .dataframe tbody tr th {\n        vertical-align: top;\n    }\n\n    .dataframe thead th {\n        text-align: right;\n    }\n</style>\n<table border=\"1\" class=\"dataframe\">\n  <thead>\n    <tr style=\"text-align: right;\">\n      <th></th>\n      <th>Id</th>\n      <th>ProductId</th>\n      <th>UserId</th>\n      <th>ProfileName</th>\n      <th>HelpfulnessNumerator</th>\n      <th>HelpfulnessDenominator</th>\n      <th>Score</th>\n      <th>Time</th>\n      <th>Summary</th>\n      <th>Text</th>\n    </tr>\n  </thead>\n  <tbody>\n    <tr>\n      <th>0</th>\n      <td>64422</td>\n      <td>B000MIDROQ</td>\n      <td>A161DK06JJMCYF</td>\n      <td>J. E. Stephens \"Jeanne\"</td>\n      <td>3</td>\n      <td>1</td>\n      <td>5</td>\n      <td>1224892800</td>\n      <td>Bought This for My Son at College</td>\n      <td>My son loves spaghetti so I didn't hesitate or...</td>\n    </tr>\n    <tr>\n      <th>1</th>\n      <td>44737</td>\n      <td>B001EQ55RW</td>\n      <td>A2V0I904FH7ABY</td>\n      <td>Ram</td>\n      <td>3</td>\n      <td>2</td>\n      <td>4</td>\n      <td>1212883200</td>\n      <td>Pure cocoa taste with crunchy almonds inside</td>\n      <td>It was almost a 'love at first bite' - the per...</td>\n    </tr>\n  </tbody>\n</table>\n</div>"
          },
          "metadata": {}
        }
      ]
    },
    {
      "metadata": {
        "trusted": true,
        "_uuid": "6ea88154b1341bba70a071822402fca90462e0fe",
        "collapsed": true
      },
      "cell_type": "code",
      "source": "final=final[final.HelpfulnessNumerator<=final.HelpfulnessDenominator]",
      "execution_count": 136,
      "outputs": []
    },
    {
      "metadata": {
        "trusted": true,
        "_uuid": "52921ac2cff9755b9ab388a7fe7b62c5656108ac"
      },
      "cell_type": "code",
      "source": "#Before starting the next phase of preprocessing lets see the number of entries left\nprint(final.shape)\n\n#How many positive and negative reviews are present in our dataset?\nfinal['Score'].value_counts()",
      "execution_count": 137,
      "outputs": [
        {
          "output_type": "stream",
          "text": "(364171, 10)\n",
          "name": "stdout"
        },
        {
          "output_type": "execute_result",
          "execution_count": 137,
          "data": {
            "text/plain": "positive    307061\nnegative     57110\nName: Score, dtype: int64"
          },
          "metadata": {}
        }
      ]
    },
    {
      "metadata": {
        "trusted": true,
        "_uuid": "cc4b5e2530bc8e934e94fae2a17b1adbdbfed9cb"
      },
      "cell_type": "code",
      "source": "# find sentences containing HTML tags\nimport re\ni=0;\nfor sent in final['Text'].values:\n    if (len(re.findall('<.*?>', sent))):\n        print(i)\n        print(sent)\n        break;\n    i += 1;",
      "execution_count": 138,
      "outputs": [
        {
          "output_type": "stream",
          "text": "6\nI set aside at least an hour each day to read to my son (3 y/o). At this point, I consider myself a connoisseur of children's books and this is one of the best. Santa Clause put this under the tree. Since then, we've read it perpetually and he loves it.<br /><br />First, this book taught him the months of the year.<br /><br />Second, it's a pleasure to read. Well suited to 1.5 y/o old to 4+.<br /><br />Very few children's books are worth owning. Most should be borrowed from the library. This book, however, deserves a permanent spot on your shelf. Sendak's best.\n",
          "name": "stdout"
        }
      ]
    },
    {
      "metadata": {
        "trusted": true,
        "_uuid": "1fc7fefba943d93afd551b7523464797ffc68740"
      },
      "cell_type": "code",
      "source": "stop = set(stopwords.words('english')) #set of stopwords\nsno = nltk.stem.SnowballStemmer('english') #initialising the snowball stemmer\n\ndef cleanhtml(sentence): #function to clean the word of any html-tags\n    cleanr = re.compile('<.*?>')\n    cleantext = re.sub(cleanr, ' ', sentence)\n    return cleantext\ndef cleanpunc(sentence): #function to clean the word of any punctuation or special characters\n    cleaned = re.sub(r'[?|!|\\'|\"|#]',r'',sentence)\n    cleaned = re.sub(r'[.|,|)|(|\\|/]',r' ',cleaned)\n    return  cleaned\nprint(stop)\nprint('************************************')\nprint(sno.stem('tasty'))",
      "execution_count": 139,
      "outputs": [
        {
          "output_type": "stream",
          "text": "{'the', \"wasn't\", 'them', 'yourself', 'mustn', 'and', 'don', 's', 'very', 'most', 'at', 'while', 'does', 'that', 'her', 'did', 'before', 'am', 'but', 'if', 'yourselves', 'what', 'those', \"don't\", \"haven't\", 'or', 'will', \"needn't\", \"won't\", 'against', 'y', 'this', 'their', 'll', 'there', 'aren', 'has', 'each', 'shan', 'ain', 'just', 'him', 'below', 'until', 'it', 'm', 'ourselves', 'nor', 'which', 'in', 'about', 'should', 'weren', 'are', 'isn', 'hasn', 'me', \"you'd\", 'is', 'with', 'further', 'so', 've', 'because', 'on', 'itself', 'didn', \"didn't\", 'mightn', 'herself', 'you', 'between', 'only', 'other', 'wasn', \"shouldn't\", 'they', 'all', 'its', 'why', 'once', 'through', 'theirs', 'when', 'no', \"weren't\", 'few', 'your', 'over', 'were', 'then', \"hadn't\", \"wouldn't\", 'as', 'up', 'ma', 'same', \"it's\", 'down', 'o', 'how', 'd', 'than', 'to', 'had', 'these', 're', 'having', \"shan't\", 'myself', 'own', \"mustn't\", 'hadn', \"she's\", 't', \"couldn't\", 'ours', 'won', 'both', 'from', 'his', 'of', 'he', 'during', 'a', 'above', 'we', 'not', 'some', 'my', 'more', 'for', 'now', 'being', 'needn', 'out', 'doesn', \"mightn't\", 'have', 'doing', 'into', 'off', 'our', 'where', 'wouldn', \"you're\", 'haven', 'whom', \"you'll\", 'she', 'do', 'by', \"you've\", 'under', 'any', 'shouldn', 'yours', \"should've\", \"isn't\", \"hasn't\", 'can', 'themselves', 'been', 'was', 'such', 'here', 'be', \"doesn't\", 'again', 'too', 'who', \"that'll\", 'i', 'an', 'after', 'himself', 'couldn', 'hers', \"aren't\"}\n************************************\ntasti\n",
          "name": "stdout"
        }
      ]
    },
    {
      "metadata": {
        "trusted": true,
        "scrolled": false,
        "_uuid": "835e24017de24c641e8200de4b5bd3c5e35b239e",
        "collapsed": true
      },
      "cell_type": "code",
      "source": "#Code for implementing step-by-step the checks mentioned in the pre-processing phase\n# this code takes a while to run as it needs to run on 500k sentences.\ni=0\nstr1=' '\nfinal_string=[]\nall_positive_words=[] # store words from +ve reviews here\nall_negative_words=[] # store words from -ve reviews here.\ns=''\nfor sent in final['Text'].values:\n    filtered_sentence=[]\n    #print(sent);\n    sent=cleanhtml(sent) # remove HTMl tags\n    for w in sent.split():\n        for cleaned_words in cleanpunc(w).split():\n            if((cleaned_words.isalpha()) & (len(cleaned_words)>2)):    \n                if(cleaned_words.lower() not in stop):\n                    s=(sno.stem(cleaned_words.lower())).encode('utf8')\n                    filtered_sentence.append(s)\n                    if (final['Score'].values)[i] == 'positive': \n                        all_positive_words.append(s) #list of all words used to describe positive reviews\n                    if(final['Score'].values)[i] == 'negative':\n                        all_negative_words.append(s) #list of all words used to describe negative reviews reviews\n                else:\n                    continue\n            else:\n                continue \n    #print(filtered_sentence)\n    str1 = b\" \".join(filtered_sentence) #final string of cleaned words\n    #print(\"***********************************************************************\")\n    \n    final_string.append(str1)\n    i+=1",
      "execution_count": 140,
      "outputs": []
    },
    {
      "metadata": {
        "trusted": true,
        "_uuid": "ef601282e65e5249cb31d4e4bfafba10c88e1109",
        "collapsed": true
      },
      "cell_type": "code",
      "source": "final['CleanedText']=final_string #adding a column of CleanedText which displays the data after pre-processing of the review \nfinal['CleanedText']=final['CleanedText'].str.decode(\"utf-8\")",
      "execution_count": 141,
      "outputs": []
    },
    {
      "metadata": {
        "trusted": true,
        "collapsed": true,
        "_uuid": "9259e444aedb19957056c888aac9ea0161a39ed7"
      },
      "cell_type": "code",
      "source": "final.head(3) #below the processed review can be seen in the CleanedText Column \n\n\n# store final table into an SQlLite table for future.\nconn = sqlite3.connect('final.sqlite')\nc=conn.cursor()\nconn.text_factory = str\nfinal.to_sql('Reviews', conn,  schema=None, if_exists='replace', index=True, index_label=None, chunksize=None, dtype=None)",
      "execution_count": 142,
      "outputs": []
    },
    {
      "metadata": {
        "trusted": true,
        "_uuid": "7ff837389423209e089dd38542fcd33533cd076a"
      },
      "cell_type": "code",
      "source": "final.head()",
      "execution_count": 143,
      "outputs": [
        {
          "output_type": "execute_result",
          "execution_count": 143,
          "data": {
            "text/plain": "            Id   ProductId          UserId                  ProfileName  \\\n138706  150524  0006641040   ACITT7DI6IDDL              shari zychinski   \n138688  150506  0006641040  A2IW4PEEKO2R0U                        Tracy   \n138689  150507  0006641040  A1S4A3IQ2MU7V4        sally sue \"sally sue\"   \n138690  150508  0006641040     AZGXZ2UUK6X  Catherine Hallberg \"(Kate)\"   \n138691  150509  0006641040  A3CMRKGE0P909G                       Teresa   \n\n        HelpfulnessNumerator  HelpfulnessDenominator     Score        Time  \\\n138706                     0                       0  positive   939340800   \n138688                     1                       1  positive  1194739200   \n138689                     1                       1  positive  1191456000   \n138690                     1                       1  positive  1076025600   \n138691                     3                       4  positive  1018396800   \n\n                                           Summary  \\\n138706                   EVERY book is educational   \n138688  Love the book, miss the hard cover version   \n138689               chicken soup with rice months   \n138690      a good swingy rhythm for reading aloud   \n138691             A great way to learn the months   \n\n                                                     Text  \\\n138706  this witty little book makes my son laugh at l...   \n138688  I grew up reading these Sendak books, and watc...   \n138689  This is a fun way for children to learn their ...   \n138690  This is a great little book to read aloud- it ...   \n138691  This is a book of poetry about the months of t...   \n\n                                              CleanedText  \n138706  witti littl book make son laugh loud recit car...  \n138688  grew read sendak book watch realli rosi movi i...  \n138689  fun way children learn month year learn poem t...  \n138690  great littl book read nice rhythm well good re...  \n138691  book poetri month year goe month cute littl po...  ",
            "text/html": "<div>\n<style scoped>\n    .dataframe tbody tr th:only-of-type {\n        vertical-align: middle;\n    }\n\n    .dataframe tbody tr th {\n        vertical-align: top;\n    }\n\n    .dataframe thead th {\n        text-align: right;\n    }\n</style>\n<table border=\"1\" class=\"dataframe\">\n  <thead>\n    <tr style=\"text-align: right;\">\n      <th></th>\n      <th>Id</th>\n      <th>ProductId</th>\n      <th>UserId</th>\n      <th>ProfileName</th>\n      <th>HelpfulnessNumerator</th>\n      <th>HelpfulnessDenominator</th>\n      <th>Score</th>\n      <th>Time</th>\n      <th>Summary</th>\n      <th>Text</th>\n      <th>CleanedText</th>\n    </tr>\n  </thead>\n  <tbody>\n    <tr>\n      <th>138706</th>\n      <td>150524</td>\n      <td>0006641040</td>\n      <td>ACITT7DI6IDDL</td>\n      <td>shari zychinski</td>\n      <td>0</td>\n      <td>0</td>\n      <td>positive</td>\n      <td>939340800</td>\n      <td>EVERY book is educational</td>\n      <td>this witty little book makes my son laugh at l...</td>\n      <td>witti littl book make son laugh loud recit car...</td>\n    </tr>\n    <tr>\n      <th>138688</th>\n      <td>150506</td>\n      <td>0006641040</td>\n      <td>A2IW4PEEKO2R0U</td>\n      <td>Tracy</td>\n      <td>1</td>\n      <td>1</td>\n      <td>positive</td>\n      <td>1194739200</td>\n      <td>Love the book, miss the hard cover version</td>\n      <td>I grew up reading these Sendak books, and watc...</td>\n      <td>grew read sendak book watch realli rosi movi i...</td>\n    </tr>\n    <tr>\n      <th>138689</th>\n      <td>150507</td>\n      <td>0006641040</td>\n      <td>A1S4A3IQ2MU7V4</td>\n      <td>sally sue \"sally sue\"</td>\n      <td>1</td>\n      <td>1</td>\n      <td>positive</td>\n      <td>1191456000</td>\n      <td>chicken soup with rice months</td>\n      <td>This is a fun way for children to learn their ...</td>\n      <td>fun way children learn month year learn poem t...</td>\n    </tr>\n    <tr>\n      <th>138690</th>\n      <td>150508</td>\n      <td>0006641040</td>\n      <td>AZGXZ2UUK6X</td>\n      <td>Catherine Hallberg \"(Kate)\"</td>\n      <td>1</td>\n      <td>1</td>\n      <td>positive</td>\n      <td>1076025600</td>\n      <td>a good swingy rhythm for reading aloud</td>\n      <td>This is a great little book to read aloud- it ...</td>\n      <td>great littl book read nice rhythm well good re...</td>\n    </tr>\n    <tr>\n      <th>138691</th>\n      <td>150509</td>\n      <td>0006641040</td>\n      <td>A3CMRKGE0P909G</td>\n      <td>Teresa</td>\n      <td>3</td>\n      <td>4</td>\n      <td>positive</td>\n      <td>1018396800</td>\n      <td>A great way to learn the months</td>\n      <td>This is a book of poetry about the months of t...</td>\n      <td>book poetri month year goe month cute littl po...</td>\n    </tr>\n  </tbody>\n</table>\n</div>"
          },
          "metadata": {}
        }
      ]
    },
    {
      "metadata": {
        "trusted": true,
        "_uuid": "0106ca30a57f107d8afef09aac8a0fcca2284209",
        "collapsed": true
      },
      "cell_type": "code",
      "source": "final['Time'] = pd.to_datetime(final['Time'])",
      "execution_count": 144,
      "outputs": []
    },
    {
      "metadata": {
        "trusted": true,
        "collapsed": true,
        "_uuid": "0cfb105369c3fa692215a889230b2bf3b7f487ea"
      },
      "cell_type": "code",
      "source": "# Random sampling\ndf = final.take(np.random.permutation(len(final))[:8000])",
      "execution_count": 145,
      "outputs": []
    },
    {
      "metadata": {
        "trusted": true,
        "_uuid": "c5d499ae169c8e74894722cace9bc239da60735c"
      },
      "cell_type": "code",
      "source": "# Sort by time\ndata = df.sort_values(by='Time')\ndata['Score'] = data['Score'].map({\"positive\":1, \"negative\":0})\ndata.head(2)",
      "execution_count": 146,
      "outputs": [
        {
          "output_type": "execute_result",
          "execution_count": 146,
          "data": {
            "text/plain": "            Id   ProductId          UserId                   ProfileName  \\\n156021  169214  B0001ES9FI  A2WE1DWPQRDBFW                      Scotbuff   \n156032  169228  B0001ES9FI  A23ZRFLO4FCVXE  Diane Houslanger \"JapaRider\"   \n\n        HelpfulnessNumerator  HelpfulnessDenominator  Score  \\\n156021                     6                       6      1   \n156032                     1                       5      1   \n\n                                Time                      Summary  \\\n156021 1970-01-01 00:00:01.088035200  Full Bodied and Never Burnt   \n156032 1970-01-01 00:00:01.089504000                  Good coffee   \n\n                                                     Text  \\\n156021  The Dark Roast is the best of the coffee pods ...   \n156032  What more can be said? Good, clean, full bodie...   \n\n                                              CleanedText  \n156021  dark roast best coffe pod avail senseo coffe m...  \n156032  said good clean full bodi sound like commerci ...  ",
            "text/html": "<div>\n<style scoped>\n    .dataframe tbody tr th:only-of-type {\n        vertical-align: middle;\n    }\n\n    .dataframe tbody tr th {\n        vertical-align: top;\n    }\n\n    .dataframe thead th {\n        text-align: right;\n    }\n</style>\n<table border=\"1\" class=\"dataframe\">\n  <thead>\n    <tr style=\"text-align: right;\">\n      <th></th>\n      <th>Id</th>\n      <th>ProductId</th>\n      <th>UserId</th>\n      <th>ProfileName</th>\n      <th>HelpfulnessNumerator</th>\n      <th>HelpfulnessDenominator</th>\n      <th>Score</th>\n      <th>Time</th>\n      <th>Summary</th>\n      <th>Text</th>\n      <th>CleanedText</th>\n    </tr>\n  </thead>\n  <tbody>\n    <tr>\n      <th>156021</th>\n      <td>169214</td>\n      <td>B0001ES9FI</td>\n      <td>A2WE1DWPQRDBFW</td>\n      <td>Scotbuff</td>\n      <td>6</td>\n      <td>6</td>\n      <td>1</td>\n      <td>1970-01-01 00:00:01.088035200</td>\n      <td>Full Bodied and Never Burnt</td>\n      <td>The Dark Roast is the best of the coffee pods ...</td>\n      <td>dark roast best coffe pod avail senseo coffe m...</td>\n    </tr>\n    <tr>\n      <th>156032</th>\n      <td>169228</td>\n      <td>B0001ES9FI</td>\n      <td>A23ZRFLO4FCVXE</td>\n      <td>Diane Houslanger \"JapaRider\"</td>\n      <td>1</td>\n      <td>5</td>\n      <td>1</td>\n      <td>1970-01-01 00:00:01.089504000</td>\n      <td>Good coffee</td>\n      <td>What more can be said? Good, clean, full bodie...</td>\n      <td>said good clean full bodi sound like commerci ...</td>\n    </tr>\n  </tbody>\n</table>\n</div>"
          },
          "metadata": {}
        }
      ]
    },
    {
      "metadata": {
        "_uuid": "2a487eadfe52fef833ae6a75a880fdfc1fbe0c0d"
      },
      "cell_type": "markdown",
      "source": "# Bag of Words (BOW)"
    },
    {
      "metadata": {
        "trusted": true,
        "_uuid": "97da0cac0586db8db4277719d938474971ee5db7",
        "collapsed": true
      },
      "cell_type": "code",
      "source": "from sklearn.model_selection import train_test_split\n\n# Spliting into Train and test\nX_train, X_test, y_train, y_test = train_test_split(data['CleanedText'].values,data['Score'].values,test_size=0.3,shuffle=False)",
      "execution_count": 175,
      "outputs": []
    },
    {
      "metadata": {
        "trusted": true,
        "_uuid": "dfa87a86b73ab32fec11a542cdac149177fc3f43"
      },
      "cell_type": "code",
      "source": "from sklearn.feature_extraction.text import CountVectorizer\nfrom sklearn import preprocessing\n\ncount_vect = CountVectorizer()  \nX_train = count_vect.fit_transform(X_train)\nprint(\"Train Data Size: \",X_train.shape)\nX_test = count_vect.transform(X_test)\nprint(\"Test Data Size: \",X_test.shape)",
      "execution_count": 176,
      "outputs": [
        {
          "output_type": "stream",
          "text": "Train Data Size:  (5600, 10147)\nTest Data Size:  (2400, 10147)\n",
          "name": "stdout"
        }
      ]
    },
    {
      "metadata": {
        "_uuid": "19c5ab5d61203740ef22fa9c8e342caf8166ac5f"
      },
      "cell_type": "markdown",
      "source": "## KNN with 'brute' algorithm"
    },
    {
      "metadata": {
        "trusted": true,
        "_uuid": "9589cabf21dabfd7ee83819c79167c38f0d13461"
      },
      "cell_type": "code",
      "source": "from sklearn.neighbors import KNeighborsClassifier\nfrom sklearn.metrics import accuracy_score\n\n# KNN\nknn = KNeighborsClassifier(n_neighbors=3, algorithm='brute')\nknn.fit(X_train, y_train)\npredicted_values = knn.predict(X_test)\nscore = accuracy_score(y_test, predicted_values)\nprint(score)\n\nprint(\"---------------------------------------------------------------------------------------------------------------------\")\n\n# 10-fold Cross Validation\nfrom sklearn.model_selection import cross_val_score\ncv_scores = cross_val_score(knn, X_train, y_train, cv=10)\nprint(cv_scores)\n\nprint(\"---------------------------------------------------------------------------------------------------------------------\")\n\n# KNN\nknn = KNeighborsClassifier(n_neighbors=9, algorithm='brute')\nknn.fit(X_train, y_train)\n\n#Accuracy on Test data\npredicted_values = knn.predict(X_test)\nscore = accuracy_score(y_test, predicted_values)\nprint(score)",
      "execution_count": 178,
      "outputs": [
        {
          "output_type": "stream",
          "text": "0.8175\n---------------------------------------------------------------------------------------------------------------------\n[0.85561497 0.83244207 0.84670232 0.84107143 0.8375     0.84821429\n 0.84107143 0.83542039 0.86046512 0.85867621]\n---------------------------------------------------------------------------------------------------------------------\n0.8258333333333333\n",
          "name": "stdout"
        }
      ]
    },
    {
      "metadata": {
        "_uuid": "dca43189d88d67e04de50dbf024cb5452cd76fd9"
      },
      "cell_type": "markdown",
      "source": "## KNN with 'kd tree' algorithm"
    },
    {
      "metadata": {
        "trusted": true,
        "_uuid": "73d4b0c3e1a9fc914eeb531e245d0784c4de987c"
      },
      "cell_type": "code",
      "source": "from sklearn.neighbors import KNeighborsClassifier\nfrom sklearn.metrics import accuracy_score\n\n# KNN\nknn = KNeighborsClassifier(n_neighbors=3, algorithm='kd_tree')\nknn.fit(X_train, y_train)\npredicted_values = knn.predict(X_test)\nscore = accuracy_score(y_test, predicted_values)\nprint(score)\n\nprint(\"---------------------------------------------------------------------------------------------------------------------\")\n\n# 10-fold Cross Validation\nfrom sklearn.model_selection import cross_val_score\ncv_scores = cross_val_score(knn, X_train, y_train, cv=10)\nprint(cv_scores)\n\nprint(\"---------------------------------------------------------------------------------------------------------------------\")\n\n# KNN\nknn = KNeighborsClassifier(n_neighbors=9, algorithm='kd_tree')\nknn.fit(X_train, y_train)\n\n#Accuracy on Test data\npredicted_values = knn.predict(X_test)\nscore = accuracy_score(y_test, predicted_values)\nprint(score)",
      "execution_count": null,
      "outputs": []
    },
    {
      "metadata": {
        "_uuid": "cb0c69daf769da992a49f7a773f8ed197be37feb"
      },
      "cell_type": "markdown",
      "source": "# TF-IDF"
    },
    {
      "metadata": {
        "trusted": true,
        "collapsed": true,
        "_uuid": "23496b776a41bd96417f488820eedf2349dd371a"
      },
      "cell_type": "code",
      "source": "from sklearn.model_selection import train_test_split\n\n# Spliting into Train and test\nX_train, X_test, y_train, y_test = train_test_split(data['CleanedText'].values,data['Score'].values,test_size=0.3,shuffle=False)",
      "execution_count": 153,
      "outputs": []
    },
    {
      "metadata": {
        "trusted": true,
        "_uuid": "6420f2e2d66ad28d5f915158a09ca2003c6ed420"
      },
      "cell_type": "code",
      "source": "from sklearn.feature_extraction.text import TfidfVectorizer\nfrom sklearn import preprocessing\n\ntfidf = TfidfVectorizer(ngram_range=(1,2)) \nX_train = tfidf.fit_transform(X_train)\n#Normalize train Data\nX_train = preprocessing.normalize(X_train)\nprint(\"Train Data Size: \",X_train.shape)\nX_test = tfidf.transform(X_test)\n#Normalize test Data\nX_test = preprocessing.normalize(X_test)\nprint(\"Test Data Size: \",X_test.shape)",
      "execution_count": 154,
      "outputs": [
        {
          "output_type": "stream",
          "text": "Train Data Size:  (5600, 148938)\nTest Data Size:  (2400, 148938)\n",
          "name": "stdout"
        }
      ]
    },
    {
      "metadata": {
        "trusted": true,
        "_uuid": "00fb011776f16a79062ea1017db1b8ebfd951eee"
      },
      "cell_type": "code",
      "source": "features = tfidf.get_feature_names()",
      "execution_count": 155,
      "outputs": []
    },
    {
      "metadata": {
        "_uuid": "a50a0442de63669ea1668603baa824ee17d80fb9"
      },
      "cell_type": "markdown",
      "source": "## KNN with 'brute' algorithm"
    },
    {
      "metadata": {
        "trusted": true,
        "_uuid": "de09159b2bad0a5b17c6e5505b754a8c2c74307f"
      },
      "cell_type": "code",
      "source": "from sklearn.neighbors import KNeighborsClassifier\nfrom sklearn.metrics import accuracy_score\n\n# KNN\nknn = KNeighborsClassifier(n_neighbors=3, algorithm='brute')\nknn.fit(X_train, y_train)\npredicted_values = knn.predict(X_test)\nscore = accuracy_score(y_test, predicted_values)\nprint(score)\n\nprint(\"---------------------------------------------------------------------------------------------------------------------\")\n\n# 10-fold Cross Validation\nfrom sklearn.model_selection import cross_val_score\ncv_scores = cross_val_score(knn, X_train, y_train, cv=10)\nprint(cv_scores)\n\nprint(\"---------------------------------------------------------------------------------------------------------------------\")\n\n# KNN\nknn = KNeighborsClassifier(n_neighbors=9, algorithm='brute')\nknn.fit(X_train, y_train)\n\n#Accuracy on Test data\npredicted_values = knn.predict(X_test)\nscore = accuracy_score(y_test, predicted_values)\nprint(score)",
      "execution_count": 156,
      "outputs": [
        {
          "output_type": "stream",
          "text": "0.83125\n---------------------------------------------------------------------------------------------------------------------\n[0.84670232 0.83778966 0.85561497 0.85535714 0.85535714 0.83571429\n 0.85178571 0.8372093  0.85867621 0.85330948]\n---------------------------------------------------------------------------------------------------------------------\n0.8341666666666666\n",
          "name": "stdout"
        }
      ]
    },
    {
      "metadata": {
        "_uuid": "88a5345906bf4062cd7fcf71def22d18377841fd"
      },
      "cell_type": "markdown",
      "source": "## KNN with 'kd tree' algorithm"
    },
    {
      "metadata": {
        "trusted": true,
        "_uuid": "67eba0bca6ad6eb042b7d3cea22fe0ce5515f37f"
      },
      "cell_type": "code",
      "source": "from sklearn.neighbors import KNeighborsClassifier\nfrom sklearn.metrics import accuracy_score\n\n# KNN\nknn = KNeighborsClassifier(n_neighbors=3, algorithm='kd_tree')\nknn.fit(X_train, y_train)\npredicted_values = knn.predict(X_test)\nscore = accuracy_score(y_test, predicted_values)\nprint(score)\n\nprint(\"---------------------------------------------------------------------------------------------------------------------\")\n\n# 10-fold Cross Validation\nfrom sklearn.model_selection import cross_val_score\ncv_scores = cross_val_score(knn, X_train, y_train, cv=10)\nprint(cv_scores)\n\nprint(\"---------------------------------------------------------------------------------------------------------------------\")\n\n# KNN\nknn = KNeighborsClassifier(n_neighbors=9, algorithm='kd_tree')\nknn.fit(X_train, y_train)\n\n#Accuracy on Test data\npredicted_values = knn.predict(X_test)\nscore = accuracy_score(y_test, predicted_values)\nprint(score)",
      "execution_count": 157,
      "outputs": [
        {
          "output_type": "stream",
          "text": "0.83125\n---------------------------------------------------------------------------------------------------------------------\n[0.84670232 0.83778966 0.85561497 0.85535714 0.85535714 0.83571429\n 0.85178571 0.8372093  0.85867621 0.85330948]\n---------------------------------------------------------------------------------------------------------------------\n0.8341666666666666\n",
          "name": "stdout"
        }
      ]
    },
    {
      "metadata": {
        "_uuid": "93f203d3dcd5022363ff8ab0eb8855aff4123890"
      },
      "cell_type": "markdown",
      "source": " # W2V"
    },
    {
      "metadata": {
        "trusted": true,
        "_uuid": "bc9bada2c9b3563f138942fd32531955706b0ca9"
      },
      "cell_type": "code",
      "source": "# Train your own Word2Vec model using your own text corpus\ni=0\nlist_of_sent=[]\nfor sent in df['CleanedText'].values:\n    list_of_sent.append(sent.split())",
      "execution_count": 158,
      "outputs": []
    },
    {
      "metadata": {
        "trusted": true,
        "_uuid": "ceb1d097513aac7795f85bab96227e44ac5319ce"
      },
      "cell_type": "code",
      "source": "print(df['CleanedText'].values[0])\nprint(\"*****************************************************************\")\nprint(list_of_sent[0])",
      "execution_count": 159,
      "outputs": [
        {
          "output_type": "stream",
          "text": "bought scharffen berger milk chocol bar eaten enjoy compani chocol bar new guinea chocol base ive eaten one thus far resist temptat eat remain five one sit although real treat expens get real satisfact\n*****************************************************************\n['bought', 'scharffen', 'berger', 'milk', 'chocol', 'bar', 'eaten', 'enjoy', 'compani', 'chocol', 'bar', 'new', 'guinea', 'chocol', 'base', 'ive', 'eaten', 'one', 'thus', 'far', 'resist', 'temptat', 'eat', 'remain', 'five', 'one', 'sit', 'although', 'real', 'treat', 'expens', 'get', 'real', 'satisfact']\n",
          "name": "stdout"
        }
      ]
    },
    {
      "metadata": {
        "trusted": true,
        "_uuid": "7ee27079b160d4edb740243ffe7473d4d101c099",
        "collapsed": true
      },
      "cell_type": "code",
      "source": "# min_count = 5 considers only words that occured atleast 5 times\nw2v_model = Word2Vec(list_of_sent,min_count=5,size=50, workers=4)",
      "execution_count": 160,
      "outputs": []
    },
    {
      "metadata": {
        "trusted": true,
        "_uuid": "7fe25ae6e5d6de587e58c1e9b8d6f10921534659"
      },
      "cell_type": "code",
      "source": "w2v_words = list(w2v_model.wv.vocab)\nprint(\"number of words that occured minimum 5 times \",len(w2v_words))\nprint(\"sample words \", w2v_words[0:50])",
      "execution_count": 161,
      "outputs": [
        {
          "output_type": "stream",
          "text": "number of words that occured minimum 5 times  4081\nsample words  ['bought', 'scharffen', 'berger', 'milk', 'chocol', 'bar', 'eaten', 'enjoy', 'compani', 'new', 'base', 'ive', 'one', 'thus', 'far', 'resist', 'temptat', 'eat', 'remain', 'five', 'sit', 'although', 'real', 'treat', 'expens', 'get', 'satisfact', 'dog', 'finicki', 'wont', 'can', 'food', 'love', 'make', 'great', 'topper', 'kibbl', 'two', 'type', 'varieti', 'pack', 'pork', 'beef', 'thick', 'pasti', 'good', 'hide', 'pill', 'chicken', 'mix']\n",
          "name": "stdout"
        }
      ]
    },
    {
      "metadata": {
        "trusted": true,
        "_uuid": "d5618af61a728253687d6611cd7313ecab9f016a"
      },
      "cell_type": "code",
      "source": "count_vect_feat = count_vect.get_feature_names() # list of words in the BoW\nprint(count_vect_feat[count_vect_feat.index('like')])",
      "execution_count": 162,
      "outputs": [
        {
          "output_type": "stream",
          "text": "like\n",
          "name": "stdout"
        }
      ]
    },
    {
      "metadata": {
        "_uuid": "9917761009f2b2212598e20b3ca05912e3fc5663"
      },
      "cell_type": "markdown",
      "source": "# Average Word2Vec"
    },
    {
      "metadata": {
        "trusted": true,
        "_uuid": "2823f122ed0c01711587a3afcd7ea7607a562ab9"
      },
      "cell_type": "code",
      "source": "# average Word2Vec\n# compute average word2vec for each review.\nsent_vectors = []; # the avg-w2v for each sentence/review is stored in this list\nfor sent in list_of_sent: # for each review/sentence\n    sent_vec = np.zeros(50) # as word vectors are of zero length\n    cnt_words =0; # num of words with a valid vector in the sentence/review\n    for word in sent: # for each word in a review/sentence\n        if word in w2v_words:\n            vec = w2v_model.wv[word]\n            sent_vec += vec\n            cnt_words += 1\n    if cnt_words != 0:\n        sent_vec /= cnt_words\n    sent_vectors.append(sent_vec)\nprint(len(sent_vectors))\nprint(len(sent_vectors[0]))",
      "execution_count": 163,
      "outputs": [
        {
          "output_type": "stream",
          "text": "8000\n50\n",
          "name": "stdout"
        }
      ]
    },
    {
      "metadata": {
        "trusted": true,
        "_uuid": "98f1768ea1df802ed229e7fb7bd92698ba66dec2"
      },
      "cell_type": "code",
      "source": "from sklearn.model_selection import train_test_split\n\n# Spliting into Train and test\nX_train, X_test, y_train, y_test = train_test_split(sent_vectors,data['Score'].values,test_size=0.3,shuffle=False)",
      "execution_count": 164,
      "outputs": []
    },
    {
      "metadata": {
        "_uuid": "5588da1ba996351e7c46aa410ec07afffb8e3f29"
      },
      "cell_type": "markdown",
      "source": "## KNN with 'brute' algorithm"
    },
    {
      "metadata": {
        "trusted": true,
        "_uuid": "4a3eee9e3c6c230da31dd873efc19ff554140d1e"
      },
      "cell_type": "code",
      "source": "from sklearn.neighbors import KNeighborsClassifier\nfrom sklearn.metrics import accuracy_score\n\n# KNN\nknn = KNeighborsClassifier(n_neighbors=3, algorithm='brute')\nknn.fit(X_train, y_train)\npredicted_values = knn.predict(X_test)\nscore = accuracy_score(y_test, predicted_values)\nprint(score)\n\nprint(\"---------------------------------------------------------------------------------------------------------------------\")\n\n# 10-fold Cross Validation\nfrom sklearn.model_selection import cross_val_score\ncv_scores = cross_val_score(knn, X_train, y_train, cv=10)\nprint(cv_scores)\n\nprint(\"---------------------------------------------------------------------------------------------------------------------\")\n\n# KNN\nknn = KNeighborsClassifier(n_neighbors=7, algorithm='brute')\nknn.fit(X_train, y_train)\n\n#Accuracy on Test data\npredicted_values = knn.predict(X_test)\nscore = accuracy_score(y_test, predicted_values)\nprint(score)",
      "execution_count": 166,
      "outputs": [
        {
          "output_type": "stream",
          "text": "0.7825\n---------------------------------------------------------------------------------------------------------------------\n[0.82174688 0.8057041  0.83778966 0.81964286 0.80892857 0.83035714\n 0.83571429 0.8157424  0.82468694 0.82289803]\n---------------------------------------------------------------------------------------------------------------------\n0.8216666666666667\n",
          "name": "stdout"
        }
      ]
    },
    {
      "metadata": {
        "_uuid": "ef0b60fcec16d940273104011ebd94660890fa6a"
      },
      "cell_type": "markdown",
      "source": "## KNN with 'kd tree' algorithm"
    },
    {
      "metadata": {
        "trusted": true,
        "_uuid": "381a039498bb4afb6d2abef0aa0518e9f50b9978"
      },
      "cell_type": "code",
      "source": "from sklearn.neighbors import KNeighborsClassifier\nfrom sklearn.metrics import accuracy_score\n\n# KNN\nknn = KNeighborsClassifier(n_neighbors=3, algorithm='kd_tree')\nknn.fit(X_train, y_train)\npredicted_values = knn.predict(X_test)\nscore = accuracy_score(y_test, predicted_values)\nprint(score)\n\nprint(\"---------------------------------------------------------------------------------------------------------------------\")\n\n# 10-fold Cross Validation\nfrom sklearn.model_selection import cross_val_score\ncv_scores = cross_val_score(knn, X_train, y_train, cv=10)\nprint(cv_scores)\n\nprint(\"---------------------------------------------------------------------------------------------------------------------\")\n\n# KNN\nknn = KNeighborsClassifier(n_neighbors=7, algorithm='kd_tree')\nknn.fit(X_train, y_train)\n\n#Accuracy on Test data\npredicted_values = knn.predict(X_test)\nscore = accuracy_score(y_test, predicted_values)\nprint(score)",
      "execution_count": 168,
      "outputs": [
        {
          "output_type": "stream",
          "text": "0.7825\n---------------------------------------------------------------------------------------------------------------------\n[0.82174688 0.8057041  0.83778966 0.81964286 0.80892857 0.83035714\n 0.83571429 0.8157424  0.82468694 0.82289803]\n---------------------------------------------------------------------------------------------------------------------\n0.8216666666666667\n",
          "name": "stdout"
        }
      ]
    },
    {
      "metadata": {
        "_uuid": "80d407497f515c265c3a56be004655342a46e6b1"
      },
      "cell_type": "markdown",
      "source": "# TF-IDF weighted Word2Vec"
    },
    {
      "metadata": {
        "trusted": true,
        "_uuid": "cc1a7e6b785a496eab130242afe10efa084d7255"
      },
      "cell_type": "code",
      "source": "tf_idf_vect = TfidfVectorizer(ngram_range=(1,2))\nfinal_tf_idf = tf_idf_vect.fit_transform(df['CleanedText'].values)\nprint(\"the type of count vectorizer \",type(final_tf_idf))\nprint(\"the shape of out text TFIDF vectorizer \",final_tf_idf.get_shape())\nprint(\"the number of unique words including both unigrams and bigrams \", final_tf_idf.get_shape()[1])",
      "execution_count": 169,
      "outputs": [
        {
          "output_type": "stream",
          "text": "the type of count vectorizer  <class 'scipy.sparse.csr.csr_matrix'>\nthe shape of out text TFIDF vectorizer  (8000, 197851)\nthe number of unique words including both unigrams and bigrams  197851\n",
          "name": "stdout"
        }
      ]
    },
    {
      "metadata": {
        "trusted": true,
        "_uuid": "caac05049e3a57690d2c74a42db66475c3eccc04"
      },
      "cell_type": "code",
      "source": "# TF-IDF weighted Word2Vec\ntfidf_feat = tf_idf_vect.get_feature_names() # tfidf words/col-names\n# final_tf_idf is the sparse matrix with row= sentence, col=word and cell_val = tfidf\n\ntfidf_sent_vectors = []; # the tfidf-w2v for each sentence/review is stored in this list\nrow=0;\nfor sent in list_of_sent: # for each review/sentence \n    sent_vec = np.zeros(50) # as word vectors are of zero length\n    weight_sum =0; # num of words with a valid vector in the sentence/review\n    for word in sent: # for each word in a review/sentence\n        if word in w2v_words:\n            vec = w2v_model.wv[word]\n            # obtain the tf_idfidf of a word in a sentence/review\n            tf_idf = final_tf_idf[row, tfidf_feat.index(word)]\n            sent_vec += (vec * tf_idf)\n            weight_sum += tf_idf\n    if weight_sum != 0:\n        sent_vec /= weight_sum\n    tfidf_sent_vectors.append(sent_vec)\n    row += 1",
      "execution_count": 170,
      "outputs": []
    },
    {
      "metadata": {
        "trusted": true,
        "_uuid": "c8fe107b0375d0eaa204c542562904f46fe24654"
      },
      "cell_type": "code",
      "source": "print(len(tfidf_sent_vectors))\nprint(len(tfidf_sent_vectors[0]))",
      "execution_count": 171,
      "outputs": [
        {
          "output_type": "stream",
          "text": "8000\n50\n",
          "name": "stdout"
        }
      ]
    },
    {
      "metadata": {
        "trusted": true,
        "collapsed": true,
        "_uuid": "35114b85889541456a8da49f775a66a40228b882"
      },
      "cell_type": "code",
      "source": "from sklearn.model_selection import train_test_split\n\n# Spliting into Train and test\nX_train, X_test, y_train, y_test = train_test_split(tfidf_sent_vectors,data['Score'].values,test_size=0.3,shuffle=False)",
      "execution_count": 172,
      "outputs": []
    },
    {
      "metadata": {
        "_uuid": "147314e82ca087a7e6233aca45a02dcdc8f10c85"
      },
      "cell_type": "markdown",
      "source": "## KNN with 'brute' algorithm"
    },
    {
      "metadata": {
        "trusted": true,
        "_uuid": "ee51d2ecddcfe39127c3a2f329777bae9d17a72b"
      },
      "cell_type": "code",
      "source": "from sklearn.neighbors import KNeighborsClassifier\nfrom sklearn.metrics import accuracy_score\n\n# KNN\nknn = KNeighborsClassifier(n_neighbors=3, algorithm='brute')\nknn.fit(X_train, y_train)\npredicted_values = knn.predict(X_test)\nscore = accuracy_score(y_test, predicted_values)\nprint(score)\n\nprint(\"---------------------------------------------------------------------------------------------------------------------\")\n\n# 10-fold Cross Validation\nfrom sklearn.model_selection import cross_val_score\ncv_scores = cross_val_score(knn, X_train, y_train, cv=10)\nprint(cv_scores)\n\nprint(\"---------------------------------------------------------------------------------------------------------------------\")\n\n# KNN\nknn = KNeighborsClassifier(n_neighbors=9, algorithm='brute')\nknn.fit(X_train, y_train)\n\n#Accuracy on Test data\npredicted_values = knn.predict(X_test)\nscore = accuracy_score(y_test, predicted_values)\nprint(score)",
      "execution_count": 173,
      "outputs": [
        {
          "output_type": "stream",
          "text": "0.79375\n---------------------------------------------------------------------------------------------------------------------\n[0.81996435 0.81639929 0.82531194 0.81071429 0.83035714 0.81964286\n 0.81607143 0.82110912 0.82110912 0.82826476]\n---------------------------------------------------------------------------------------------------------------------\n0.8229166666666666\n",
          "name": "stdout"
        }
      ]
    },
    {
      "metadata": {
        "_uuid": "b719f6466e30e07209a467d6a3397d0d9b30481e"
      },
      "cell_type": "markdown",
      "source": "## KNN with 'kd tree' algorithm"
    },
    {
      "metadata": {
        "trusted": true,
        "_uuid": "d9b870ead0e8f2561456e0644603175947b6bef0"
      },
      "cell_type": "code",
      "source": "from sklearn.neighbors import KNeighborsClassifier\nfrom sklearn.metrics import accuracy_score\n\n# KNN\nknn = KNeighborsClassifier(n_neighbors=3, algorithm='kd_tree')\nknn.fit(X_train, y_train)\npredicted_values = knn.predict(X_test)\nscore = accuracy_score(y_test, predicted_values)\nprint(score)\n\nprint(\"---------------------------------------------------------------------------------------------------------------------\")\n\n# 10-fold Cross Validation\nfrom sklearn.model_selection import cross_val_score\ncv_scores = cross_val_score(knn, X_train, y_train, cv=10)\nprint(cv_scores)\n\nprint(\"---------------------------------------------------------------------------------------------------------------------\")\n\n# KNN\nknn = KNeighborsClassifier(n_neighbors=9, algorithm='kd_tree')\nknn.fit(X_train, y_train)\n\n#Accuracy on Test data\npredicted_values = knn.predict(X_test)\nscore = accuracy_score(y_test, predicted_values)\nprint(score)",
      "execution_count": 174,
      "outputs": [
        {
          "output_type": "stream",
          "text": "0.79375\n---------------------------------------------------------------------------------------------------------------------\n[0.81996435 0.81639929 0.82531194 0.81071429 0.83035714 0.81964286\n 0.81607143 0.82110912 0.82110912 0.82826476]\n---------------------------------------------------------------------------------------------------------------------\n0.8229166666666666\n",
          "name": "stdout"
        }
      ]
    },
    {
      "metadata": {
        "_uuid": "bd2c3cc744296ebde0f4806c57eac3997aed0d57"
      },
      "cell_type": "markdown",
      "source": "# Observation\n* By doing 10 fold cross validation we can see that, In both the algorithms ('kdtree' & 'brute') KNN is is taking K value between 5 to 10\n* As I have taken only 8000 points, In that also I am getting pretty good accuracy score with all featurizing technique."
    }
  ],
  "metadata": {
    "kernelspec": {
      "display_name": "Python 3",
      "language": "python",
      "name": "python3"
    },
    "language_info": {
      "name": "python",
      "version": "3.6.4",
      "mimetype": "text/x-python",
      "codemirror_mode": {
        "name": "ipython",
        "version": 3
      },
      "pygments_lexer": "ipython3",
      "nbconvert_exporter": "python",
      "file_extension": ".py"
    }
  },
  "nbformat": 4,
  "nbformat_minor": 1
}