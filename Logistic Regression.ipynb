{
 "cells": [
  {
   "cell_type": "markdown",
   "metadata": {
    "_uuid": "7052cc2ccacb993b26cfeb5467e9a09967d7f708",
    "colab_type": "text",
    "id": "JLPVpmea-cyO"
   },
   "source": [
    "# Logistic Regression"
   ]
  },
  {
   "cell_type": "markdown",
   "metadata": {
    "colab_type": "text",
    "id": "beJmRTFa-cyU"
   },
   "source": [
    "**Note: As I have taken only 100k points(due to less RAM) the f1-score will not be the representive of the real score**"
   ]
  },
  {
   "cell_type": "markdown",
   "metadata": {
    "_uuid": "5d06a0c4eec228df993feb973f622c5e459a1ff5",
    "colab_type": "text",
    "id": "4sJbIkYF-cyZ"
   },
   "source": [
    "# Loading data"
   ]
  },
  {
   "cell_type": "code",
   "execution_count": 15,
   "metadata": {
    "_uuid": "b8bfd30b313be3e267ae7f402a63be4fd67546fa",
    "colab": {
     "base_uri": "https://localhost:8080/",
     "height": 51
    },
    "colab_type": "code",
    "id": "4EjARoMo-cyd",
    "outputId": "dc0baa88-0716-4565-cad2-d70b5e12d35b"
   },
   "outputs": [
    {
     "name": "stdout",
     "output_type": "stream",
     "text": [
      "[nltk_data] Downloading package stopwords to /root/nltk_data...\n",
      "[nltk_data]   Unzipping corpora/stopwords.zip.\n"
     ]
    }
   ],
   "source": [
    "%matplotlib inline\n",
    "import warnings\n",
    "warnings.filterwarnings(\"ignore\")\n",
    "\n",
    "import sqlite3\n",
    "import pandas as pd\n",
    "import numpy as np\n",
    "import nltk\n",
    "nltk.download('stopwords')\n",
    "import string\n",
    "import matplotlib.pyplot as plt\n",
    "import seaborn as sns\n",
    "from sklearn.model_selection import TimeSeriesSplit\n",
    "from sklearn import preprocessing\n",
    "from sklearn.feature_extraction.text import TfidfTransformer\n",
    "from sklearn.feature_extraction.text import TfidfVectorizer\n",
    "\n",
    "from sklearn.feature_extraction.text import CountVectorizer\n",
    "from sklearn.metrics import confusion_matrix\n",
    "from sklearn import metrics\n",
    "from sklearn.metrics import roc_curve, auc\n",
    "from nltk.stem.porter import PorterStemmer\n",
    "from sklearn.model_selection import train_test_split\n",
    "from sklearn.model_selection import GridSearchCV\n",
    "from sklearn.linear_model import LogisticRegression\n",
    "\n",
    "import re\n",
    "import string\n",
    "from nltk.corpus import stopwords\n",
    "from nltk.stem import PorterStemmer\n",
    "from nltk.stem.wordnet import WordNetLemmatizer\n",
    "\n",
    "\n",
    "from gensim.models import Word2Vec\n",
    "from gensim.models import KeyedVectors\n",
    "import pickle\n",
    "\n",
    "from tqdm import tqdm\n",
    "import os\n",
    "\n",
    "#Metrics\n",
    "from sklearn.metrics import accuracy_score\n",
    "from sklearn.metrics import confusion_matrix\n",
    "from sklearn.metrics import precision_score\n",
    "from sklearn.metrics import f1_score\n",
    "from sklearn.metrics import recall_score"
   ]
  },
  {
   "cell_type": "code",
   "execution_count": 5,
   "metadata": {
    "_uuid": "46bf9952b6023cbc4d0d3574d34315c31cdf5aba",
    "colab": {
     "base_uri": "https://localhost:8080/",
     "height": 261
    },
    "colab_type": "code",
    "id": "rWjogY3J-cyy",
    "outputId": "d5ab63a8-f254-453e-d9f8-619fbde60301"
   },
   "outputs": [
    {
     "name": "stdout",
     "output_type": "stream",
     "text": [
      "Number of data points in our data (525814, 10)\n"
     ]
    },
    {
     "data": {
      "text/html": [
       "<div>\n",
       "<style scoped>\n",
       "    .dataframe tbody tr th:only-of-type {\n",
       "        vertical-align: middle;\n",
       "    }\n",
       "\n",
       "    .dataframe tbody tr th {\n",
       "        vertical-align: top;\n",
       "    }\n",
       "\n",
       "    .dataframe thead th {\n",
       "        text-align: right;\n",
       "    }\n",
       "</style>\n",
       "<table border=\"1\" class=\"dataframe\">\n",
       "  <thead>\n",
       "    <tr style=\"text-align: right;\">\n",
       "      <th></th>\n",
       "      <th>Id</th>\n",
       "      <th>ProductId</th>\n",
       "      <th>UserId</th>\n",
       "      <th>ProfileName</th>\n",
       "      <th>HelpfulnessNumerator</th>\n",
       "      <th>HelpfulnessDenominator</th>\n",
       "      <th>Score</th>\n",
       "      <th>Time</th>\n",
       "      <th>Summary</th>\n",
       "      <th>Text</th>\n",
       "    </tr>\n",
       "  </thead>\n",
       "  <tbody>\n",
       "    <tr>\n",
       "      <th>0</th>\n",
       "      <td>1</td>\n",
       "      <td>B001E4KFG0</td>\n",
       "      <td>A3SGXH7AUHU8GW</td>\n",
       "      <td>delmartian</td>\n",
       "      <td>1</td>\n",
       "      <td>1</td>\n",
       "      <td>1</td>\n",
       "      <td>1303862400</td>\n",
       "      <td>Good Quality Dog Food</td>\n",
       "      <td>I have bought several of the Vitality canned d...</td>\n",
       "    </tr>\n",
       "    <tr>\n",
       "      <th>1</th>\n",
       "      <td>2</td>\n",
       "      <td>B00813GRG4</td>\n",
       "      <td>A1D87F6ZCVE5NK</td>\n",
       "      <td>dll pa</td>\n",
       "      <td>0</td>\n",
       "      <td>0</td>\n",
       "      <td>0</td>\n",
       "      <td>1346976000</td>\n",
       "      <td>Not as Advertised</td>\n",
       "      <td>Product arrived labeled as Jumbo Salted Peanut...</td>\n",
       "    </tr>\n",
       "    <tr>\n",
       "      <th>2</th>\n",
       "      <td>3</td>\n",
       "      <td>B000LQOCH0</td>\n",
       "      <td>ABXLMWJIXXAIN</td>\n",
       "      <td>Natalia Corres \"Natalia Corres\"</td>\n",
       "      <td>1</td>\n",
       "      <td>1</td>\n",
       "      <td>1</td>\n",
       "      <td>1219017600</td>\n",
       "      <td>\"Delight\" says it all</td>\n",
       "      <td>This is a confection that has been around a fe...</td>\n",
       "    </tr>\n",
       "  </tbody>\n",
       "</table>\n",
       "</div>"
      ],
      "text/plain": [
       "   Id   ProductId          UserId                      ProfileName  \\\n",
       "0   1  B001E4KFG0  A3SGXH7AUHU8GW                       delmartian   \n",
       "1   2  B00813GRG4  A1D87F6ZCVE5NK                           dll pa   \n",
       "2   3  B000LQOCH0   ABXLMWJIXXAIN  Natalia Corres \"Natalia Corres\"   \n",
       "\n",
       "   HelpfulnessNumerator  HelpfulnessDenominator  Score        Time  \\\n",
       "0                     1                       1      1  1303862400   \n",
       "1                     0                       0      0  1346976000   \n",
       "2                     1                       1      1  1219017600   \n",
       "\n",
       "                 Summary                                               Text  \n",
       "0  Good Quality Dog Food  I have bought several of the Vitality canned d...  \n",
       "1      Not as Advertised  Product arrived labeled as Jumbo Salted Peanut...  \n",
       "2  \"Delight\" says it all  This is a confection that has been around a fe...  "
      ]
     },
     "execution_count": 5,
     "metadata": {
      "tags": []
     },
     "output_type": "execute_result"
    }
   ],
   "source": [
    "# using the SQLite Table to read data.\n",
    "con = sqlite3.connect('database.sqlite') \n",
    "#filtering only positive and negative reviews i.e. \n",
    "# not taking into consideration those reviews with Score=3\n",
    "filtered_data = pd.read_sql_query(\"\"\" SELECT * FROM Reviews WHERE Score != 3 \"\"\", con) \n",
    "\n",
    "\n",
    "# Give reviews with Score>3 a positive rating, and reviews with a score<3 a negative rating.\n",
    "def partition(x):\n",
    "    if x < 3:\n",
    "        return 0\n",
    "    return 1\n",
    "\n",
    "#changing reviews with score less than 3 to be positive and vice-versa\n",
    "actualScore = filtered_data['Score']\n",
    "positiveNegative = actualScore.map(partition) \n",
    "filtered_data['Score'] = positiveNegative\n",
    "print(\"Number of data points in our data\", filtered_data.shape)\n",
    "filtered_data.head(3)"
   ]
  },
  {
   "cell_type": "markdown",
   "metadata": {
    "_uuid": "e0bb0620b1a51af15b73206f975fcac5b4d0d8b9",
    "colab_type": "text",
    "id": "Agd94Kp1-czF"
   },
   "source": [
    "# [1] Text Preprocessing\n",
    "## [1.1] Data Cleaning: Deduplication"
   ]
  },
  {
   "cell_type": "code",
   "execution_count": 6,
   "metadata": {
    "_uuid": "0be705967b7cceb86b9c063842f13c7bd5596a93",
    "colab": {
     "base_uri": "https://localhost:8080/",
     "height": 459
    },
    "colab_type": "code",
    "id": "iLlHwiy9-czJ",
    "outputId": "ce16ad9b-cd69-4b09-dd34-4d2b52b67079"
   },
   "outputs": [
    {
     "data": {
      "text/html": [
       "<div>\n",
       "<style scoped>\n",
       "    .dataframe tbody tr th:only-of-type {\n",
       "        vertical-align: middle;\n",
       "    }\n",
       "\n",
       "    .dataframe tbody tr th {\n",
       "        vertical-align: top;\n",
       "    }\n",
       "\n",
       "    .dataframe thead th {\n",
       "        text-align: right;\n",
       "    }\n",
       "</style>\n",
       "<table border=\"1\" class=\"dataframe\">\n",
       "  <thead>\n",
       "    <tr style=\"text-align: right;\">\n",
       "      <th></th>\n",
       "      <th>Id</th>\n",
       "      <th>ProductId</th>\n",
       "      <th>UserId</th>\n",
       "      <th>ProfileName</th>\n",
       "      <th>HelpfulnessNumerator</th>\n",
       "      <th>HelpfulnessDenominator</th>\n",
       "      <th>Score</th>\n",
       "      <th>Time</th>\n",
       "      <th>Summary</th>\n",
       "      <th>Text</th>\n",
       "    </tr>\n",
       "  </thead>\n",
       "  <tbody>\n",
       "    <tr>\n",
       "      <th>0</th>\n",
       "      <td>78445</td>\n",
       "      <td>B000HDL1RQ</td>\n",
       "      <td>AR5J8UI46CURR</td>\n",
       "      <td>Geetha Krishnan</td>\n",
       "      <td>2</td>\n",
       "      <td>2</td>\n",
       "      <td>5</td>\n",
       "      <td>1199577600</td>\n",
       "      <td>LOACKER QUADRATINI VANILLA WAFERS</td>\n",
       "      <td>DELICIOUS WAFERS. I FIND THAT EUROPEAN WAFERS ...</td>\n",
       "    </tr>\n",
       "    <tr>\n",
       "      <th>1</th>\n",
       "      <td>138317</td>\n",
       "      <td>B000HDOPYC</td>\n",
       "      <td>AR5J8UI46CURR</td>\n",
       "      <td>Geetha Krishnan</td>\n",
       "      <td>2</td>\n",
       "      <td>2</td>\n",
       "      <td>5</td>\n",
       "      <td>1199577600</td>\n",
       "      <td>LOACKER QUADRATINI VANILLA WAFERS</td>\n",
       "      <td>DELICIOUS WAFERS. I FIND THAT EUROPEAN WAFERS ...</td>\n",
       "    </tr>\n",
       "    <tr>\n",
       "      <th>2</th>\n",
       "      <td>138277</td>\n",
       "      <td>B000HDOPYM</td>\n",
       "      <td>AR5J8UI46CURR</td>\n",
       "      <td>Geetha Krishnan</td>\n",
       "      <td>2</td>\n",
       "      <td>2</td>\n",
       "      <td>5</td>\n",
       "      <td>1199577600</td>\n",
       "      <td>LOACKER QUADRATINI VANILLA WAFERS</td>\n",
       "      <td>DELICIOUS WAFERS. I FIND THAT EUROPEAN WAFERS ...</td>\n",
       "    </tr>\n",
       "    <tr>\n",
       "      <th>3</th>\n",
       "      <td>73791</td>\n",
       "      <td>B000HDOPZG</td>\n",
       "      <td>AR5J8UI46CURR</td>\n",
       "      <td>Geetha Krishnan</td>\n",
       "      <td>2</td>\n",
       "      <td>2</td>\n",
       "      <td>5</td>\n",
       "      <td>1199577600</td>\n",
       "      <td>LOACKER QUADRATINI VANILLA WAFERS</td>\n",
       "      <td>DELICIOUS WAFERS. I FIND THAT EUROPEAN WAFERS ...</td>\n",
       "    </tr>\n",
       "    <tr>\n",
       "      <th>4</th>\n",
       "      <td>155049</td>\n",
       "      <td>B000PAQ75C</td>\n",
       "      <td>AR5J8UI46CURR</td>\n",
       "      <td>Geetha Krishnan</td>\n",
       "      <td>2</td>\n",
       "      <td>2</td>\n",
       "      <td>5</td>\n",
       "      <td>1199577600</td>\n",
       "      <td>LOACKER QUADRATINI VANILLA WAFERS</td>\n",
       "      <td>DELICIOUS WAFERS. I FIND THAT EUROPEAN WAFERS ...</td>\n",
       "    </tr>\n",
       "  </tbody>\n",
       "</table>\n",
       "</div>"
      ],
      "text/plain": [
       "       Id   ProductId         UserId      ProfileName  HelpfulnessNumerator  \\\n",
       "0   78445  B000HDL1RQ  AR5J8UI46CURR  Geetha Krishnan                     2   \n",
       "1  138317  B000HDOPYC  AR5J8UI46CURR  Geetha Krishnan                     2   \n",
       "2  138277  B000HDOPYM  AR5J8UI46CURR  Geetha Krishnan                     2   \n",
       "3   73791  B000HDOPZG  AR5J8UI46CURR  Geetha Krishnan                     2   \n",
       "4  155049  B000PAQ75C  AR5J8UI46CURR  Geetha Krishnan                     2   \n",
       "\n",
       "   HelpfulnessDenominator  Score        Time  \\\n",
       "0                       2      5  1199577600   \n",
       "1                       2      5  1199577600   \n",
       "2                       2      5  1199577600   \n",
       "3                       2      5  1199577600   \n",
       "4                       2      5  1199577600   \n",
       "\n",
       "                             Summary  \\\n",
       "0  LOACKER QUADRATINI VANILLA WAFERS   \n",
       "1  LOACKER QUADRATINI VANILLA WAFERS   \n",
       "2  LOACKER QUADRATINI VANILLA WAFERS   \n",
       "3  LOACKER QUADRATINI VANILLA WAFERS   \n",
       "4  LOACKER QUADRATINI VANILLA WAFERS   \n",
       "\n",
       "                                                Text  \n",
       "0  DELICIOUS WAFERS. I FIND THAT EUROPEAN WAFERS ...  \n",
       "1  DELICIOUS WAFERS. I FIND THAT EUROPEAN WAFERS ...  \n",
       "2  DELICIOUS WAFERS. I FIND THAT EUROPEAN WAFERS ...  \n",
       "3  DELICIOUS WAFERS. I FIND THAT EUROPEAN WAFERS ...  \n",
       "4  DELICIOUS WAFERS. I FIND THAT EUROPEAN WAFERS ...  "
      ]
     },
     "execution_count": 6,
     "metadata": {
      "tags": []
     },
     "output_type": "execute_result"
    }
   ],
   "source": [
    "display= pd.read_sql_query(\"\"\"\n",
    "SELECT *\n",
    "FROM Reviews\n",
    "WHERE Score != 3 AND UserId=\"AR5J8UI46CURR\"\n",
    "ORDER BY ProductID\n",
    "\"\"\", con)\n",
    "display.head()"
   ]
  },
  {
   "cell_type": "code",
   "execution_count": 0,
   "metadata": {
    "_uuid": "64baabc5e056771ab00dcfc199ce1e70b8c740d7",
    "colab": {},
    "colab_type": "code",
    "id": "4x-qA9IL-cza"
   },
   "outputs": [],
   "source": [
    "#Sorting data according to ProductId in ascending order\n",
    "sorted_data=filtered_data.sort_values('ProductId', axis=0, ascending=True, inplace=False, kind='quicksort', na_position='last')"
   ]
  },
  {
   "cell_type": "code",
   "execution_count": 8,
   "metadata": {
    "_uuid": "204d0c9154468668bb0e7bd97c02839707473188",
    "colab": {
     "base_uri": "https://localhost:8080/",
     "height": 34
    },
    "colab_type": "code",
    "id": "C3xOfLEs-czq",
    "outputId": "4da0b64b-ffdb-4245-c972-d27fbbc985f1"
   },
   "outputs": [
    {
     "data": {
      "text/plain": [
       "(364173, 10)"
      ]
     },
     "execution_count": 8,
     "metadata": {
      "tags": []
     },
     "output_type": "execute_result"
    }
   ],
   "source": [
    "#Deduplication of entries\n",
    "final=sorted_data.drop_duplicates(subset={\"UserId\",\"ProfileName\",\"Time\",\"Text\"}, keep='first', inplace=False)\n",
    "final.shape"
   ]
  },
  {
   "cell_type": "code",
   "execution_count": 9,
   "metadata": {
    "_uuid": "d1edd590122560e136ebca115c6a3918b9f3006f",
    "colab": {
     "base_uri": "https://localhost:8080/",
     "height": 34
    },
    "colab_type": "code",
    "id": "BLb3EbOu-c0A",
    "outputId": "05666372-eef7-4e50-850a-cc8b1fdca1d0"
   },
   "outputs": [
    {
     "data": {
      "text/plain": [
       "69.25890143662969"
      ]
     },
     "execution_count": 9,
     "metadata": {
      "tags": []
     },
     "output_type": "execute_result"
    }
   ],
   "source": [
    "#Checking to see how much % of data still remains\n",
    "(final['Id'].size*1.0)/(filtered_data['Id'].size*1.0)*100"
   ]
  },
  {
   "cell_type": "code",
   "execution_count": 10,
   "metadata": {
    "_uuid": "d8f7cf92a31a6f52e2b9ac689a80b261074f5b6a",
    "colab": {
     "base_uri": "https://localhost:8080/",
     "height": 179
    },
    "colab_type": "code",
    "id": "JjbFcGR4-c0Q",
    "outputId": "75bc854e-2b4e-4487-ead1-8ad406bbdef2"
   },
   "outputs": [
    {
     "data": {
      "text/html": [
       "<div>\n",
       "<style scoped>\n",
       "    .dataframe tbody tr th:only-of-type {\n",
       "        vertical-align: middle;\n",
       "    }\n",
       "\n",
       "    .dataframe tbody tr th {\n",
       "        vertical-align: top;\n",
       "    }\n",
       "\n",
       "    .dataframe thead th {\n",
       "        text-align: right;\n",
       "    }\n",
       "</style>\n",
       "<table border=\"1\" class=\"dataframe\">\n",
       "  <thead>\n",
       "    <tr style=\"text-align: right;\">\n",
       "      <th></th>\n",
       "      <th>Id</th>\n",
       "      <th>ProductId</th>\n",
       "      <th>UserId</th>\n",
       "      <th>ProfileName</th>\n",
       "      <th>HelpfulnessNumerator</th>\n",
       "      <th>HelpfulnessDenominator</th>\n",
       "      <th>Score</th>\n",
       "      <th>Time</th>\n",
       "      <th>Summary</th>\n",
       "      <th>Text</th>\n",
       "    </tr>\n",
       "  </thead>\n",
       "  <tbody>\n",
       "    <tr>\n",
       "      <th>0</th>\n",
       "      <td>64422</td>\n",
       "      <td>B000MIDROQ</td>\n",
       "      <td>A161DK06JJMCYF</td>\n",
       "      <td>J. E. Stephens \"Jeanne\"</td>\n",
       "      <td>3</td>\n",
       "      <td>1</td>\n",
       "      <td>5</td>\n",
       "      <td>1224892800</td>\n",
       "      <td>Bought This for My Son at College</td>\n",
       "      <td>My son loves spaghetti so I didn't hesitate or...</td>\n",
       "    </tr>\n",
       "    <tr>\n",
       "      <th>1</th>\n",
       "      <td>44737</td>\n",
       "      <td>B001EQ55RW</td>\n",
       "      <td>A2V0I904FH7ABY</td>\n",
       "      <td>Ram</td>\n",
       "      <td>3</td>\n",
       "      <td>2</td>\n",
       "      <td>4</td>\n",
       "      <td>1212883200</td>\n",
       "      <td>Pure cocoa taste with crunchy almonds inside</td>\n",
       "      <td>It was almost a 'love at first bite' - the per...</td>\n",
       "    </tr>\n",
       "  </tbody>\n",
       "</table>\n",
       "</div>"
      ],
      "text/plain": [
       "      Id   ProductId          UserId              ProfileName  \\\n",
       "0  64422  B000MIDROQ  A161DK06JJMCYF  J. E. Stephens \"Jeanne\"   \n",
       "1  44737  B001EQ55RW  A2V0I904FH7ABY                      Ram   \n",
       "\n",
       "   HelpfulnessNumerator  HelpfulnessDenominator  Score        Time  \\\n",
       "0                     3                       1      5  1224892800   \n",
       "1                     3                       2      4  1212883200   \n",
       "\n",
       "                                        Summary  \\\n",
       "0             Bought This for My Son at College   \n",
       "1  Pure cocoa taste with crunchy almonds inside   \n",
       "\n",
       "                                                Text  \n",
       "0  My son loves spaghetti so I didn't hesitate or...  \n",
       "1  It was almost a 'love at first bite' - the per...  "
      ]
     },
     "execution_count": 10,
     "metadata": {
      "tags": []
     },
     "output_type": "execute_result"
    }
   ],
   "source": [
    "display= pd.read_sql_query(\"\"\"\n",
    "SELECT *\n",
    "FROM Reviews\n",
    "WHERE Score != 3 AND Id=44737 OR Id=64422\n",
    "ORDER BY ProductID\n",
    "\"\"\", con)\n",
    "\n",
    "display.head()"
   ]
  },
  {
   "cell_type": "code",
   "execution_count": 0,
   "metadata": {
    "_uuid": "74b629441a0af5823c129b5ab5b22cb8f5ddc71e",
    "colab": {},
    "colab_type": "code",
    "id": "bySzgma8-c0n"
   },
   "outputs": [],
   "source": [
    "final=final[final.HelpfulnessNumerator<=final.HelpfulnessDenominator]"
   ]
  },
  {
   "cell_type": "code",
   "execution_count": 12,
   "metadata": {
    "_uuid": "00361393f892389453b135a583f8fdd13f514d75",
    "colab": {
     "base_uri": "https://localhost:8080/",
     "height": 85
    },
    "colab_type": "code",
    "id": "BiDxnWwU-c0x",
    "outputId": "5ea58de0-e80d-4435-c755-276a47459e20"
   },
   "outputs": [
    {
     "name": "stdout",
     "output_type": "stream",
     "text": [
      "(364171, 10)\n"
     ]
    },
    {
     "data": {
      "text/plain": [
       "1    307061\n",
       "0     57110\n",
       "Name: Score, dtype: int64"
      ]
     },
     "execution_count": 12,
     "metadata": {
      "tags": []
     },
     "output_type": "execute_result"
    }
   ],
   "source": [
    "#Before starting the next phase of preprocessing lets see the number of entries left\n",
    "print(final.shape)\n",
    "\n",
    "#How many positive and negative reviews are present in our dataset?\n",
    "final['Score'].value_counts()"
   ]
  },
  {
   "cell_type": "markdown",
   "metadata": {
    "_uuid": "78088dbdac3bc3abddf06585351a6295996cbd46",
    "colab_type": "text",
    "id": "9JHW6AUg-c1A"
   },
   "source": [
    "## [1.2] Stemming, stop-word removal and Lemmatization."
   ]
  },
  {
   "cell_type": "code",
   "execution_count": 13,
   "metadata": {
    "_uuid": "f0aceb25f6d28eefa8b77ff8f2b584f01d0a2f29",
    "colab": {
     "base_uri": "https://localhost:8080/",
     "height": 71
    },
    "colab_type": "code",
    "id": "JOIUvX6i-c1D",
    "outputId": "8492a173-0d83-46d3-cbc9-5121313b121a"
   },
   "outputs": [
    {
     "name": "stdout",
     "output_type": "stream",
     "text": [
      "6\n",
      "I set aside at least an hour each day to read to my son (3 y/o). At this point, I consider myself a connoisseur of children's books and this is one of the best. Santa Clause put this under the tree. Since then, we've read it perpetually and he loves it.<br /><br />First, this book taught him the months of the year.<br /><br />Second, it's a pleasure to read. Well suited to 1.5 y/o old to 4+.<br /><br />Very few children's books are worth owning. Most should be borrowed from the library. This book, however, deserves a permanent spot on your shelf. Sendak's best.\n"
     ]
    }
   ],
   "source": [
    "# find sentences containing HTML tags\n",
    "import re\n",
    "i=0;\n",
    "for sent in final['Text'].values:\n",
    "    if (len(re.findall('<.*?>', sent))):\n",
    "        print(i)\n",
    "        print(sent)\n",
    "        break;\n",
    "    i += 1;"
   ]
  },
  {
   "cell_type": "code",
   "execution_count": 16,
   "metadata": {
    "_uuid": "ea8db8f519e676083763a43fb2b4520a9cd71598",
    "colab": {
     "base_uri": "https://localhost:8080/",
     "height": 88
    },
    "colab_type": "code",
    "id": "ySYz-u6F-c1e",
    "outputId": "812344cf-a5eb-4f40-d4d3-e2c2d6c45d65"
   },
   "outputs": [
    {
     "name": "stdout",
     "output_type": "stream",
     "text": [
      "{'aren', 'shouldn', 'after', \"isn't\", \"aren't\", 'such', 'a', 'your', 'do', 'at', \"you'll\", \"hadn't\", 'weren', \"wasn't\", 'herself', 'ma', 'while', 'can', 'but', 'by', \"won't\", 'was', 'where', \"you're\", 'what', 'each', 'she', \"couldn't\", 'been', 'himself', 'we', 'if', 'here', 'their', 'hadn', 'does', 'won', 't', 'not', 'up', 'themselves', 'them', 'only', 'this', 'now', 'needn', 'has', 'the', 'll', 'wasn', 'as', 're', 'further', 'few', 'too', 'having', 'me', 'didn', 'her', 'down', 'so', 'which', 'nor', \"wouldn't\", 'my', \"weren't\", 'more', 'again', 'from', 'm', 'over', 'y', \"that'll\", 'they', 'with', 'yourselves', 'just', 'hasn', 'once', 'against', 'until', 'because', 'in', 'couldn', 'ourselves', 'theirs', 'there', 'mustn', 'haven', \"shan't\", \"haven't\", 'both', 've', 'on', 'some', 'doing', \"she's\", 'about', 'during', 'be', 'own', \"it's\", 'ours', 'out', 'don', 'yourself', 's', \"should've\", \"doesn't\", \"hasn't\", 'hers', 'same', 'will', 'ain', 'or', 'for', 'those', 'you', 'of', 'o', 'these', 'him', 'to', 'were', 'under', 'how', 'than', \"shouldn't\", \"mustn't\", 'all', 'our', \"mightn't\", 'itself', 'below', 'am', 'off', 'other', 'why', 'that', 'wouldn', \"didn't\", 'very', 'an', 'doesn', 'myself', 'mightn', 'whom', 'no', 'who', 'should', \"you'd\", 'when', \"don't\", 'it', 'did', 'its', 'are', 'between', 'most', 'shan', 'then', 'have', 'his', 'is', 'i', 'into', \"you've\", 'being', 'd', \"needn't\", 'yours', 'and', 'through', 'isn', 'any', 'he', 'had', 'before', 'above'}\n",
      "************************************\n",
      "tasti\n"
     ]
    }
   ],
   "source": [
    "\n",
    "stop = set(stopwords.words('english')) #set of stopwords\n",
    "sno = nltk.stem.SnowballStemmer('english') #initialising the snowball stemmer\n",
    "\n",
    "def cleanhtml(sentence): #function to clean the word of any html-tags\n",
    "    cleanr = re.compile('<.*?>')\n",
    "    cleantext = re.sub(cleanr, ' ', sentence)\n",
    "    return cleantext\n",
    "def cleanpunc(sentence): #function to clean the word of any punctuation or special characters\n",
    "    cleaned = re.sub(r'[?|!|\\'|\"|#]',r'',sentence)\n",
    "    cleaned = re.sub(r'[.|,|)|(|\\|/]',r' ',cleaned)\n",
    "    return  cleaned\n",
    "print(stop)\n",
    "print('************************************')\n",
    "print(sno.stem('tasty'))"
   ]
  },
  {
   "cell_type": "code",
   "execution_count": 17,
   "metadata": {
    "_uuid": "415ed96fccb96f64135326c80a32ab5065ec8566",
    "colab": {
     "base_uri": "https://localhost:8080/",
     "height": 34
    },
    "colab_type": "code",
    "id": "C2l1Y107-c15",
    "outputId": "6b62730b-2b55-4c8b-f0d3-904a51e92acd"
   },
   "outputs": [
    {
     "name": "stderr",
     "output_type": "stream",
     "text": [
      "100%|██████████| 364171/364171 [09:02<00:00, 671.36it/s]\n"
     ]
    }
   ],
   "source": [
    "#Code for implementing step-by-step the checks mentioned in the pre-processing phase\n",
    "# this code takes a while to run as it needs to run on 500k sentences.\n",
    "if not os.path.isfile('final.sqlite'):\n",
    "    i=0\n",
    "    str1=' '\n",
    "    final_string=[]\n",
    "    all_positive_words=[] # store words from +ve reviews here\n",
    "    all_negative_words=[] # store words from -ve reviews here.\n",
    "    s=''\n",
    "    for sent in tqdm(final['Text'].values):\n",
    "        filtered_sentence=[]\n",
    "        #print(sent);\n",
    "        sent=cleanhtml(sent) # remove HTMl tags\n",
    "        for w in sent.split():\n",
    "            for cleaned_words in cleanpunc(w).split():\n",
    "                if((cleaned_words.isalpha()) & (len(cleaned_words)>2)):    \n",
    "                    if(cleaned_words.lower() not in stop):\n",
    "                        s=(sno.stem(cleaned_words.lower())).encode('utf8')\n",
    "                        filtered_sentence.append(s)\n",
    "                        if (final['Score'].values)[i] == 'positive': \n",
    "                            all_positive_words.append(s) #list of all words used to describe positive reviews\n",
    "                        if(final['Score'].values)[i] == 'negative':\n",
    "                            all_negative_words.append(s) #list of all words used to describe negative reviews reviews\n",
    "                    else:\n",
    "                        continue\n",
    "                else:\n",
    "                    continue \n",
    "        #print(filtered_sentence)\n",
    "        str1 = b\" \".join(filtered_sentence) #final string of cleaned words\n",
    "        #print(\"***********************************************************************\")\n",
    "\n",
    "        final_string.append(str1)\n",
    "        i+=1\n",
    "\n",
    "    #############---- storing the data into .sqlite file ------########################\n",
    "    final['CleanedText']=final_string #adding a column of CleanedText which displays the data after pre-processing of the review \n",
    "    final['CleanedText']=final['CleanedText'].str.decode(\"utf-8\")\n",
    "        # store final table into an SQlLite table for future.\n",
    "    conn = sqlite3.connect('final.sqlite')\n",
    "    c=conn.cursor()\n",
    "    conn.text_factory = str\n",
    "    final.to_sql('Reviews', conn,  schema=None, if_exists='replace', \\\n",
    "                 index=True, index_label=None, chunksize=None, dtype=None)\n",
    "    conn.close()\n",
    "    \n",
    "    \n",
    "    with open('positive_words.pkl', 'wb') as f:\n",
    "        pickle.dump(all_positive_words, f)\n",
    "    with open('negitive_words.pkl', 'wb') as f:\n",
    "        pickle.dump(all_negative_words, f)"
   ]
  },
  {
   "cell_type": "code",
   "execution_count": 0,
   "metadata": {
    "_uuid": "46e754cacddbd7069c638ae5a37d0080babfddc0",
    "colab": {},
    "colab_type": "code",
    "id": "usJ7o_AK-c2M"
   },
   "outputs": [],
   "source": [
    "if os.path.isfile('final.sqlite'):\n",
    "    conn = sqlite3.connect('final.sqlite')\n",
    "    final = pd.read_sql_query(\"\"\" SELECT * FROM Reviews WHERE Score != 3 \"\"\", conn)\n",
    "    conn.close()\n",
    "else:\n",
    "    print(\"Please the above cell\")"
   ]
  },
  {
   "cell_type": "code",
   "execution_count": 0,
   "metadata": {
    "_uuid": "38c52b1ef8585ffbe2e026215b5392bb7239d262",
    "colab": {},
    "colab_type": "code",
    "id": "l95hnkpF-c2U"
   },
   "outputs": [],
   "source": [
    "final.to_pickle(\"./preprocessed.pkl\")"
   ]
  },
  {
   "cell_type": "code",
   "execution_count": 20,
   "metadata": {
    "_uuid": "9d2ba54d8bd9c172c543c97ec8eae4a77a99883d",
    "colab": {
     "base_uri": "https://localhost:8080/",
     "height": 68
    },
    "colab_type": "code",
    "id": "sOMdpNOo-c2e",
    "outputId": "70ca5960-0a5c-4c56-d675-b4e78e9f30a8"
   },
   "outputs": [
    {
     "data": {
      "text/plain": [
       "1    307061\n",
       "0     57110\n",
       "Name: Score, dtype: int64"
      ]
     },
     "execution_count": 20,
     "metadata": {
      "tags": []
     },
     "output_type": "execute_result"
    }
   ],
   "source": [
    "final['Score'].value_counts()"
   ]
  },
  {
   "cell_type": "code",
   "execution_count": 0,
   "metadata": {
    "_uuid": "c97651d93fb73c044003de39f62f468dc29cf71f",
    "colab": {},
    "colab_type": "code",
    "id": "w-5dKLMs-c2s"
   },
   "outputs": [],
   "source": [
    "# read data from pickle file from previous stage\n",
    "data = pd.read_pickle(\"./preprocessed.pkl\")"
   ]
  },
  {
   "cell_type": "code",
   "execution_count": 0,
   "metadata": {
    "_uuid": "f53ca9f10990bccc9e3ee3bf52a6bf09ce00c305",
    "colab": {},
    "colab_type": "code",
    "id": "bnj2JrGo-c22"
   },
   "outputs": [],
   "source": [
    "# Random sampling \n",
    "data = data.take(np.random.permutation(len(data))[:100000])"
   ]
  },
  {
   "cell_type": "markdown",
   "metadata": {
    "_uuid": "d6c2b715bbe43a8a6503494030fcf9d4adc3b9e6",
    "colab_type": "text",
    "id": "uLQTeVyQ-c3B"
   },
   "source": [
    "# [2] Sorting data based on time"
   ]
  },
  {
   "cell_type": "code",
   "execution_count": 23,
   "metadata": {
    "_uuid": "d6fc12e0fd283e8dd72154ac115418fb48639d2f",
    "colab": {
     "base_uri": "https://localhost:8080/",
     "height": 85
    },
    "colab_type": "code",
    "id": "FRLpTVFs-c3F",
    "outputId": "1cf67d92-a688-4c4e-a7d4-f9c74d9a409b"
   },
   "outputs": [
    {
     "name": "stdout",
     "output_type": "stream",
     "text": [
      "(100000, 12)\n",
      "1    84369\n",
      "0    15631\n",
      "Name: Score, dtype: int64\n"
     ]
    }
   ],
   "source": [
    "data['Time'] = pd.to_datetime(data['Time'])\n",
    "# Sort by time\n",
    "data = data.sort_values(by='Time')\n",
    "\n",
    "print(data.shape)\n",
    "print(data['Score'].value_counts())"
   ]
  },
  {
   "cell_type": "markdown",
   "metadata": {
    "_uuid": "91f59dda6b4cc6bb7e79630dd7e7f4887bc2e102",
    "colab_type": "text",
    "id": "nQh3SX1u-c3V"
   },
   "source": [
    "# [3] Spliting into train and test based on time (70:30)"
   ]
  },
  {
   "cell_type": "code",
   "execution_count": 0,
   "metadata": {
    "_uuid": "c7226c3169f0c4902729a3cfa5f2dab6742d6230",
    "colab": {},
    "colab_type": "code",
    "id": "aTSg5Pb7-c3b"
   },
   "outputs": [],
   "source": [
    "# Spliting into Train and test\n",
    "X_train, X_test, y_train, y_test = train_test_split(data['CleanedText'].values,data['Score'].values,test_size=0.3,shuffle=False)"
   ]
  },
  {
   "cell_type": "markdown",
   "metadata": {
    "_uuid": "991f6a1558102ab9419ff9d4d01cc52317e52a27",
    "colab_type": "text",
    "id": "RSA7yYQO-c3r"
   },
   "source": [
    "# [4] Bag of Words (BoW)"
   ]
  },
  {
   "cell_type": "code",
   "execution_count": 25,
   "metadata": {
    "_uuid": "9e5c345a744652836b9d2be623b3e11d4bc415f2",
    "colab": {
     "base_uri": "https://localhost:8080/",
     "height": 51
    },
    "colab_type": "code",
    "id": "3oQDlU_M-c3u",
    "outputId": "571a41e7-a652-47d6-aba4-25d8985e5a6f"
   },
   "outputs": [
    {
     "name": "stdout",
     "output_type": "stream",
     "text": [
      "Train Data Size:  (70000, 2000)\n",
      "Test Data Size:  (30000, 2000)\n"
     ]
    }
   ],
   "source": [
    "#Bag of words\n",
    "count_vect = CountVectorizer(max_features=2000, min_df=10) \n",
    "\n",
    "X_train = count_vect.fit_transform(X_train)\n",
    "X_test = count_vect.transform(X_test)\n",
    "\n",
    "#Normalize Data\n",
    "X_train = preprocessing.normalize(X_train)\n",
    "X_test = preprocessing.normalize(X_test)\n",
    "\n",
    "print(\"Train Data Size: \",X_train.shape)\n",
    "print(\"Test Data Size: \",X_test.shape)"
   ]
  },
  {
   "cell_type": "markdown",
   "metadata": {
    "_uuid": "cebb334295c462d255cc54d9acac18589f1c0780",
    "colab_type": "text",
    "id": "_zgUZEF4-c36"
   },
   "source": [
    "## [4.1] Logistic Regression with GridSearchCV"
   ]
  },
  {
   "cell_type": "code",
   "execution_count": 0,
   "metadata": {
    "_uuid": "5fa2224452fc7adfe9453af015520d7f9921c0cf",
    "colab": {},
    "colab_type": "code",
    "id": "0_IMbBzo-c3-",
    "outputId": "2e5cf926-7e9d-4158-e2b6-15418a64961f"
   },
   "outputs": [
    {
     "name": "stdout",
     "output_type": "stream",
     "text": [
      "Fitting 10 folds for each of 30 candidates, totalling 300 fits\n"
     ]
    },
    {
     "name": "stderr",
     "output_type": "stream",
     "text": [
      "[Parallel(n_jobs=-1)]: Done  42 tasks      | elapsed:  1.6min\n",
      "[Parallel(n_jobs=-1)]: Done 192 tasks      | elapsed:  3.1min\n",
      "[Parallel(n_jobs=-1)]: Done 300 out of 300 | elapsed:  3.3min finished\n"
     ]
    },
    {
     "name": "stdout",
     "output_type": "stream",
     "text": [
      "Best HyperParameter:  {'C': 10, 'penalty': 'l2'}\n",
      "Best Accuracy: 91.00%\n"
     ]
    }
   ],
   "source": [
    "from sklearn.model_selection import GridSearchCV\n",
    "\n",
    "clf = LogisticRegression()\n",
    "param_grid = {'C':[1000,500,100,50,10,5,1,0.5,0.1,0.05,0.01,0.005,0.001,0.0005,0.0001],\n",
    "             'penalty':['l1','l2']} \n",
    "tscv = TimeSeriesSplit(n_splits=10) \n",
    "gsv = GridSearchCV(clf,param_grid,cv=tscv, scoring = 'f1_micro', verbose=1, n_jobs = -1)\n",
    "gsv.fit(X_train,y_train)\n",
    "\n",
    "print(\"Best HyperParameter: \",gsv.best_params_)\n",
    "print(\"Best Accuracy: %.2f%%\"%(gsv.best_score_*100))"
   ]
  },
  {
   "cell_type": "code",
   "execution_count": 0,
   "metadata": {
    "_uuid": "c94e38b6a31d1136ab2f9895c443707b2036a7c5",
    "colab": {},
    "colab_type": "code",
    "id": "Octz9NHd-c4K",
    "outputId": "be33ec66-d782-4499-c381-df9ff2fe1eb8"
   },
   "outputs": [
    {
     "data": {
      "image/png": "[encoded data removed]",
      "text/plain": [
       "<Figure size 432x288 with 1 Axes>"
      ]
     },
     "metadata": {
      "tags": []
     },
     "output_type": "display_data"
    }
   ],
   "source": [
    "def plot_grid(gsv):\n",
    "    x1=[]\n",
    "    y1=[]\n",
    "    x2=[]\n",
    "    y2=[]\n",
    "    \n",
    "    for a in gsv.grid_scores_:\n",
    "        if (a[0]['penalty']) == 'l1':\n",
    "            y1.append(1-a[1])\n",
    "            x1.append(a[0]['C'])\n",
    "        else:\n",
    "            y2.append(1-a[1])\n",
    "            x2.append(a[0]['C'])\n",
    "            \n",
    "    plt.xlim(-10,1000)\n",
    "    plt.ylim(0,0.2)\n",
    "    plt.xlabel(\"C\",fontsize=15)\n",
    "    plt.ylabel(\"Misclassification Error\")\n",
    "    plt.title('Misclassification Error v/s C')\n",
    "    plt.plot(x1,y1,'b',label=\"L1\")\n",
    "    plt.plot(x2,y2,'r',label=\"L2\")\n",
    "    plt.legend()\n",
    "    plt.show()\n",
    "plot_grid(gsv)"
   ]
  },
  {
   "cell_type": "code",
   "execution_count": 0,
   "metadata": {
    "_uuid": "1e10bdd3fab80c2742e46111482777fc353fe040",
    "colab": {},
    "colab_type": "code",
    "id": "FAm23wad-c4b"
   },
   "outputs": [],
   "source": [
    "# This function plots the confusion, precision and recall matrices\n",
    "def plot_confusion_matrix(x_test, y_pred):\n",
    "    C = confusion_matrix(x_test, y_pred)\n",
    "    \n",
    "    A =(((C.T)/(C.sum(axis=1))).T)\n",
    "    B =(C/C.sum(axis=0))\n",
    "    plt.figure(figsize=(20,4))\n",
    "    \n",
    "    labels = [0,1]\n",
    "    \n",
    "    plt.subplot(1, 3, 1)\n",
    "    sns.heatmap(C, annot=True, cmap=\"YlGnBu\", fmt=\"d\", xticklabels=labels, yticklabels=labels)\n",
    "    plt.xlabel('Predicted Class')\n",
    "    plt.ylabel('Original Class')\n",
    "    plt.title(\"Confusion matrix\")\n",
    "    \n",
    "    plt.subplot(1, 3, 2)\n",
    "    sns.heatmap(B, annot=True, cmap=\"YlGnBu\", fmt=\".3f\", xticklabels=labels, yticklabels=labels)\n",
    "    plt.xlabel('Predicted Class')\n",
    "    plt.ylabel('Original Class')\n",
    "    plt.title(\"Precision matrix\")\n",
    "    \n",
    "    plt.subplot(1, 3, 3)\n",
    "    # representing B in heatmap format\n",
    "    sns.heatmap(A, annot=True, cmap=\"YlGnBu\", fmt=\".3f\", xticklabels=labels, yticklabels=labels)\n",
    "    plt.xlabel('Predicted Class')\n",
    "    plt.ylabel('Original Class')\n",
    "    plt.title(\"Recall matrix\")\n",
    "    \n",
    "    plt.show()"
   ]
  },
  {
   "cell_type": "code",
   "execution_count": 0,
   "metadata": {
    "_uuid": "cf6f10f00022ee2bb37ae9b11921ded018e050f3",
    "colab": {},
    "colab_type": "code",
    "id": "a5uzIXeX-c4q",
    "outputId": "10619e3b-e6aa-4c71-9021-411d555fc3fc"
   },
   "outputs": [
    {
     "name": "stdout",
     "output_type": "stream",
     "text": [
      "Accuracy on test set: 90.827%\n",
      "Precision on test set: 0.924\n",
      "Recall on test set: 0.968\n",
      "F1-Score on test set: 0.946\n"
     ]
    },
    {
     "data": {
      "image/png": "[encoded data removed]",
      "text/plain": [
       "<Figure size 1440x288 with 6 Axes>"
      ]
     },
     "metadata": {
      "tags": []
     },
     "output_type": "display_data"
    }
   ],
   "source": [
    "#Testing Accuracy on Test data\n",
    "clf = LogisticRegression(C= 10, penalty= 'l2')\n",
    "clf.fit(X_train,y_train)\n",
    "y_pred = clf.predict(X_test)\n",
    "\n",
    "print(\"Accuracy on test set: %0.3f%%\"%(accuracy_score(y_test, y_pred)*100))\n",
    "print(\"Precision on test set: %0.3f\"%(precision_score(y_test, y_pred)))\n",
    "print(\"Recall on test set: %0.3f\"%(recall_score(y_test, y_pred)))\n",
    "print(\"F1-Score on test set: %0.3f\"%(f1_score(y_test, y_pred)))\n",
    "plot_confusion_matrix(y_test, y_pred)"
   ]
  },
  {
   "cell_type": "markdown",
   "metadata": {
    "colab_type": "text",
    "id": "v87rjlom-c45"
   },
   "source": [
    "### Sparsity decreases as we increase C (decrease lambda) when we use L1 regularization."
   ]
  },
  {
   "cell_type": "code",
   "execution_count": 0,
   "metadata": {
    "_uuid": "de4ab96e33262c71289cca237573930b2503cbbc",
    "colab": {},
    "colab_type": "code",
    "id": "_yvQXAiZ-c48",
    "outputId": "fe0857af-31d4-4aeb-b694-9acedb494d19"
   },
   "outputs": [
    {
     "name": "stdout",
     "output_type": "stream",
     "text": [
      "Non Zero weights: 211\n"
     ]
    }
   ],
   "source": [
    "clf = LogisticRegression(C= 0.1, penalty= 'l1')\n",
    "clf.fit(X_train,y_train)\n",
    "w = clf.coef_\n",
    "print(\"Non Zero weights:\",np.count_nonzero(w))"
   ]
  },
  {
   "cell_type": "code",
   "execution_count": 0,
   "metadata": {
    "_uuid": "151186a2733467552a88aa86141fc9797859d040",
    "colab": {},
    "colab_type": "code",
    "id": "HgwAzpJr-c5I",
    "outputId": "09508422-7418-4d6e-a041-7891f3a505de"
   },
   "outputs": [
    {
     "name": "stdout",
     "output_type": "stream",
     "text": [
      "Non Zero weights: 1035\n"
     ]
    }
   ],
   "source": [
    "clf = LogisticRegression(C=1, penalty= 'l1')\n",
    "clf.fit(X_train,y_train)\n",
    "w = clf.coef_\n",
    "print(\"Non Zero weights:\",np.count_nonzero(w))"
   ]
  },
  {
   "cell_type": "code",
   "execution_count": 0,
   "metadata": {
    "_uuid": "96440a43f9b8c91dde892aab46aa6627a63e7ed8",
    "colab": {},
    "colab_type": "code",
    "id": "c-fbPkre-c5a",
    "outputId": "e7241932-e2c0-478c-d0c6-c8f3bf6159c6"
   },
   "outputs": [
    {
     "name": "stdout",
     "output_type": "stream",
     "text": [
      "Non Zero weights: 1864\n"
     ]
    }
   ],
   "source": [
    "clf = LogisticRegression(C=10, penalty= 'l1')\n",
    "clf.fit(X_train,y_train)\n",
    "w = clf.coef_\n",
    "print(\"Non Zero weights:\",np.count_nonzero(w))"
   ]
  },
  {
   "cell_type": "code",
   "execution_count": 0,
   "metadata": {
    "_uuid": "f8e3650d9dbce55b66c86f972dc9693a5e03e736",
    "colab": {},
    "colab_type": "code",
    "id": "4wNQnFIM-c5u",
    "outputId": "42c9c83e-52a8-4385-ff5c-61b20d82b19b"
   },
   "outputs": [
    {
     "name": "stdout",
     "output_type": "stream",
     "text": [
      "Non Zero weights: 1980\n"
     ]
    }
   ],
   "source": [
    "clf = LogisticRegression(C=100, penalty= 'l1')\n",
    "clf.fit(X_train,y_train)\n",
    "w = clf.coef_\n",
    "print(\"Non Zero weights:\",np.count_nonzero(w))"
   ]
  },
  {
   "cell_type": "code",
   "execution_count": 0,
   "metadata": {
    "colab": {},
    "colab_type": "code",
    "id": "brHyo5U_-c6G",
    "outputId": "a3594920-78e5-4845-a594-dca7eea389ed"
   },
   "outputs": [
    {
     "name": "stdout",
     "output_type": "stream",
     "text": [
      "Non Zero weights: 1997\n"
     ]
    }
   ],
   "source": [
    "clf = LogisticRegression(C=1000, penalty= 'l1')\n",
    "clf.fit(X_train,y_train)\n",
    "w = clf.coef_\n",
    "print(\"Non Zero weights:\",np.count_nonzero(w))"
   ]
  },
  {
   "cell_type": "markdown",
   "metadata": {
    "_uuid": "129ee181792066772732186bae14e0bbad1090e5",
    "colab_type": "text",
    "id": "GC6FYCkx-c6p"
   },
   "source": [
    "## [4.2] Logistic Regression with RandomSearchCV"
   ]
  },
  {
   "cell_type": "code",
   "execution_count": 0,
   "metadata": {
    "_uuid": "5f617b1876e01ccb24acc6dcd957050b7572ce3a",
    "colab": {},
    "colab_type": "code",
    "id": "q7l0HWw1-c6u",
    "outputId": "debdcdf1-1ddc-4fed-fed0-8e9656f26bac",
    "scrolled": true
   },
   "outputs": [
    {
     "name": "stdout",
     "output_type": "stream",
     "text": [
      "Fitting 10 folds for each of 10 candidates, totalling 100 fits\n"
     ]
    },
    {
     "name": "stderr",
     "output_type": "stream",
     "text": [
      "[Parallel(n_jobs=-1)]: Done  42 tasks      | elapsed:   20.1s\n",
      "[Parallel(n_jobs=-1)]: Done 100 out of 100 | elapsed:  1.3min finished\n"
     ]
    },
    {
     "name": "stdout",
     "output_type": "stream",
     "text": [
      "Best HyperParameter:  {'penalty': 'l2', 'C': 10}\n",
      "Best Accuracy: 91.00%\n"
     ]
    }
   ],
   "source": [
    "from sklearn.model_selection import RandomizedSearchCV\n",
    "\n",
    "clf = LogisticRegression()\n",
    "param_grid = { 'C':[1000,500,100,50,10,5,1,0.5,0.1,0.05,0.01,0.005,0.001,0.0005,0.0001],\n",
    "              'penalty':['l1','l2']}\n",
    "tscv = TimeSeriesSplit(n_splits=10) \n",
    "gsv = RandomizedSearchCV(clf,param_grid,cv=tscv, scoring='f1_micro', verbose=1, n_jobs = -1)\n",
    "gsv.fit(X_train,y_train)\n",
    "\n",
    "print(\"Best HyperParameter: \",gsv.best_params_)\n",
    "print(\"Best Accuracy: %.2f%%\"%(gsv.best_score_*100))"
   ]
  },
  {
   "cell_type": "code",
   "execution_count": 0,
   "metadata": {
    "colab": {},
    "colab_type": "code",
    "id": "V5wGJjJT-c66",
    "outputId": "dac1b63e-7354-4540-b79e-4deb1bbec5b7"
   },
   "outputs": [
    {
     "data": {
      "image/png": "[encoded data removed]",
      "text/plain": [
       "<Figure size 432x288 with 1 Axes>"
      ]
     },
     "metadata": {
      "tags": []
     },
     "output_type": "display_data"
    }
   ],
   "source": [
    "def plot_random(gsv):\n",
    "    x1=[]\n",
    "    y1=[]\n",
    "    x2=[]\n",
    "    y2=[]\n",
    "    for a in gsv.grid_scores_:\n",
    "        if (a[0]['penalty']) == 'l1':\n",
    "            y1.append(1-a[1])\n",
    "            x1.append(a[0]['C'])\n",
    "        else:\n",
    "            y2.append(1-a[1])\n",
    "            x2.append(a[0]['C'])\n",
    "\n",
    "    ind1 = np.argsort(x1)\n",
    "    x1=np.array(x1)\n",
    "    y1=np.array(y1)\n",
    "    ind2 = np.argsort(x2)\n",
    "    x2=np.array(x2)\n",
    "    y2=np.array(y2)\n",
    "    plt.xlim(-10,1010)\n",
    "    plt.ylim(0,0.2)\n",
    "    plt.xlabel(\"C\",fontsize=15)\n",
    "    plt.ylabel(\"Misclassification Error\")\n",
    "    plt.title('Misclassification Error v/s C')\n",
    "    plt.plot(x1[ind1],y1[ind1],'b',label=\"L1\")\n",
    "    plt.plot(x2[ind2],y2[ind2],'r',label=\"L2\")\n",
    "    plt.legend()\n",
    "    plt.show()\n",
    "\n",
    "plot_random(gsv)"
   ]
  },
  {
   "cell_type": "code",
   "execution_count": 0,
   "metadata": {
    "_uuid": "6c3caf703d915aabc12ea19f536246c8d946c284",
    "colab": {},
    "colab_type": "code",
    "id": "G5gEXnM1-c7K",
    "outputId": "b7bcb791-4849-4944-cd92-c556fa075160"
   },
   "outputs": [
    {
     "name": "stdout",
     "output_type": "stream",
     "text": [
      "Accuracy on test set: 90.827%\n",
      "Precision on test set: 0.924\n",
      "Recall on test set: 0.968\n",
      "F1-Score on test set: 0.946\n"
     ]
    },
    {
     "data": {
      "image/png": "[encoded data removed]",
      "text/plain": [
       "<Figure size 1440x288 with 6 Axes>"
      ]
     },
     "metadata": {
      "tags": []
     },
     "output_type": "display_data"
    }
   ],
   "source": [
    "#Testing Accuracy on Test data\n",
    "clf = LogisticRegression(C= 10, penalty= 'l2')\n",
    "clf.fit(X_train,y_train)\n",
    "y_pred = clf.predict(X_test)\n",
    "\n",
    "print(\"Accuracy on test set: %0.3f%%\"%(accuracy_score(y_test, y_pred)*100))\n",
    "print(\"Precision on test set: %0.3f\"%(precision_score(y_test, y_pred)))\n",
    "print(\"Recall on test set: %0.3f\"%(recall_score(y_test, y_pred)))\n",
    "print(\"F1-Score on test set: %0.3f\"%(f1_score(y_test, y_pred)))\n",
    "plot_confusion_matrix(y_test, y_pred)"
   ]
  },
  {
   "cell_type": "markdown",
   "metadata": {
    "_uuid": "22a2405a829e73fb73b20ed633158d608487d768",
    "colab_type": "text",
    "id": "lWmaE0XY-c7i"
   },
   "source": [
    "## [4.3] Pertubation Test"
   ]
  },
  {
   "cell_type": "code",
   "execution_count": 28,
   "metadata": {
    "_uuid": "15eaeb878c1c9d8008cdae09b73d4b8a8ecb1603",
    "colab": {
     "base_uri": "https://localhost:8080/",
     "height": 34
    },
    "colab_type": "code",
    "id": "qatP9jcH-c7q",
    "outputId": "bae641c7-697d-4ad6-d237-9c8ed3348814"
   },
   "outputs": [
    {
     "name": "stdout",
     "output_type": "stream",
     "text": [
      "Non Zero weights: 2000\n"
     ]
    }
   ],
   "source": [
    "# Training without adding random noise\n",
    "from sklearn.linear_model import LogisticRegression\n",
    "\n",
    "clf_1 = LogisticRegression(C= 10, penalty= 'l2')\n",
    "clf_1.fit(X_train,y_train)\n",
    "y_pred = clf_1.predict(X_test)\n",
    "w = clf_1.coef_\n",
    "print(\"Non Zero weights:\",np.count_nonzero(w))"
   ]
  },
  {
   "cell_type": "code",
   "execution_count": 29,
   "metadata": {
    "_uuid": "a3485fc89de08b946f7e7a74060b803203ffb494",
    "colab": {
     "base_uri": "https://localhost:8080/",
     "height": 102
    },
    "colab_type": "code",
    "id": "TbD61yd4-c77",
    "outputId": "00e74526-4484-4295-9baf-b0254014b627"
   },
   "outputs": [
    {
     "name": "stdout",
     "output_type": "stream",
     "text": [
      "[ 2.53884178  0.56166547 -1.16550798 -1.17768014  0.2537655   1.68209946\n",
      " -1.40979413 -0.45032737  2.82565471  3.02411362 -3.55134649  3.77852495\n",
      " -0.04168942  0.14634732  2.33800161  8.30910101  1.37888853  0.8308018\n",
      "  1.55527807  0.6632748   0.0397493  -0.74746896 -3.54932033 -1.79461531\n",
      "  0.79938394]\n"
     ]
    }
   ],
   "source": [
    "from scipy.sparse import find\n",
    "weights1 = find(clf_1.coef_[0])[2]   #Before adding random noise\n",
    "print(weights1[:25])"
   ]
  },
  {
   "cell_type": "code",
   "execution_count": 0,
   "metadata": {
    "_uuid": "cd124653b56099502ef7272a627ce66e7faa66b3",
    "colab": {},
    "colab_type": "code",
    "id": "kAvYC74d-c8I"
   },
   "outputs": [],
   "source": [
    "X_train_t = X_train\n",
    "epsilon = np.random.uniform(low=-0.0001, high=0.0001, size=(find(X_train_t)[0].size,))     #Random noise\n",
    "a,b,c = find(X_train_t)                     #value of non-zero datapoints\n",
    "X_train_t[a,b] = epsilon + X_train_t[a,b]   #Adding random noise to non-zero datapoints"
   ]
  },
  {
   "cell_type": "code",
   "execution_count": 31,
   "metadata": {
    "_uuid": "248d7fbce20b6ed9ac888e97bf026cc8d264285e",
    "colab": {
     "base_uri": "https://localhost:8080/",
     "height": 34
    },
    "colab_type": "code",
    "id": "5TlDVWnd-c8Q",
    "outputId": "230d9296-7e24-4fe7-f38e-e2060a143782"
   },
   "outputs": [
    {
     "name": "stdout",
     "output_type": "stream",
     "text": [
      "Non Zero weights: 2000\n"
     ]
    }
   ],
   "source": [
    "#Train After adding random noise\n",
    "clf_2 = LogisticRegression(C= 10, penalty= 'l2')\n",
    "clf_2.fit(X_train_t,y_train)\n",
    "y_pred = clf_2.predict(X_test)\n",
    "w = clf_2.coef_\n",
    "print(\"Non Zero weights:\",np.count_nonzero(w))"
   ]
  },
  {
   "cell_type": "code",
   "execution_count": 33,
   "metadata": {
    "_uuid": "dfb4c36b84f37638635b1becb6a796b453398bfd",
    "colab": {
     "base_uri": "https://localhost:8080/",
     "height": 102
    },
    "colab_type": "code",
    "id": "bCR4pCdl-c8d",
    "outputId": "b7ce8c91-59fc-4380-dd7a-b51f55fa86f9"
   },
   "outputs": [
    {
     "name": "stdout",
     "output_type": "stream",
     "text": [
      "[ 2.5392987   0.56244696 -1.16491169 -1.17868225  0.25430308  1.68065299\n",
      " -1.40644667 -0.45095084  2.82369965  3.02385544 -3.54933025  3.77663666\n",
      " -0.04163202  0.14736094  2.33766087  8.31485394  1.37914659  0.82938795\n",
      "  1.55413765  0.66510584  0.037964   -0.74694182 -3.54903574 -1.79450578\n",
      "  0.80109755]\n"
     ]
    }
   ],
   "source": [
    "weights2 = find(clf_2.coef_[0])[2]    #After adding random noise\n",
    "print(weights2[:25])"
   ]
  },
  {
   "cell_type": "code",
   "execution_count": 34,
   "metadata": {
    "_uuid": "8b8f8894f863792009e0fbdae3d795c86bdf3179",
    "colab": {
     "base_uri": "https://localhost:8080/",
     "height": 187
    },
    "colab_type": "code",
    "id": "jXRQio1H-c8y",
    "outputId": "6a584813-8cbc-4929-915d-b41d7a2a4911"
   },
   "outputs": [
    {
     "name": "stdout",
     "output_type": "stream",
     "text": [
      "[ 2.53884278  0.56166647 -1.16550698 -1.17767914  0.2537665   1.68210046\n",
      " -1.40979313 -0.45032637  2.82565571  3.02411462 -3.55134549  3.77852595\n",
      " -0.04168842  0.14634832  2.33800261  8.30910201  1.37888953  0.8308028\n",
      "  1.55527907  0.6632758   0.0397503  -0.74746796 -3.54931933 -1.79461431\n",
      "  0.79938494]\n",
      "[ 2.5392997   0.56244796 -1.16491069 -1.17868125  0.25430408  1.68065399\n",
      " -1.40644567 -0.45094984  2.82370065  3.02385644 -3.54932925  3.77663766\n",
      " -0.04163102  0.14736194  2.33766187  8.31485494  1.37914759  0.82938895\n",
      "  1.55413865  0.66510684  0.037965   -0.74694082 -3.54903474 -1.79450478\n",
      "  0.80109855]\n"
     ]
    }
   ],
   "source": [
    "# Add the small eps value(to eliminate the divisible by zero error) to W and W’ i.e W=W+10^-6 and W’ = W’+10^-6\n",
    "epsilon = 0.000001\n",
    "weights1 = weights1 + epsilon\n",
    "print(weights1[:25])\n",
    "\n",
    "weights2 = weights2 + epsilon\n",
    "print(weights2[:25])"
   ]
  },
  {
   "cell_type": "code",
   "execution_count": 0,
   "metadata": {
    "_uuid": "ccb482f0a5cd4b04b11b582320d2d8960b7f11f9",
    "colab": {},
    "colab_type": "code",
    "id": "LcYcqiTh-c87"
   },
   "outputs": [],
   "source": [
    "weights_diff = (abs(weights1 - weights2)/weights1) * 100"
   ]
  },
  {
   "cell_type": "code",
   "execution_count": 52,
   "metadata": {
    "colab": {
     "base_uri": "https://localhost:8080/",
     "height": 136
    },
    "colab_type": "code",
    "id": "83MfBtkj7dZ-",
    "outputId": "9e43c6c4-e622-4e84-ac51-751ea8e267a8"
   },
   "outputs": [
    {
     "name": "stdout",
     "output_type": "stream",
     "text": [
      "1035\n",
      "464\n",
      "244\n",
      "156\n",
      "116\n",
      "2\n",
      "0\n"
     ]
    }
   ],
   "source": [
    "print(weights_diff[np.where(weights_diff > 0)].size)\n",
    "print(weights_diff[np.where(weights_diff > 0.1)].size)\n",
    "print(weights_diff[np.where(weights_diff > 0.2)].size)\n",
    "print(weights_diff[np.where(weights_diff > 0.3)].size)\n",
    "print(weights_diff[np.where(weights_diff > 0.4)].size)\n",
    "print(weights_diff[np.where(weights_diff > 10)].size)\n",
    "print(weights_diff[np.where(weights_diff > 50)].size)"
   ]
  },
  {
   "cell_type": "code",
   "execution_count": 0,
   "metadata": {
    "colab": {},
    "colab_type": "code",
    "id": "FMQH7Btp8YxC"
   },
   "outputs": [],
   "source": [
    "# feature names whose % change is more than a threshold x\n",
    "df = pd.DataFrame(data=(abs(weights1 - weights2)/weights1) * 100 > 0.1, index=count_vect.get_feature_names())"
   ]
  },
  {
   "cell_type": "code",
   "execution_count": 49,
   "metadata": {
    "colab": {
     "base_uri": "https://localhost:8080/",
     "height": 1969
    },
    "colab_type": "code",
    "id": "Ni29HUfa8bLf",
    "outputId": "60844fad-f4fe-4871-af4d-6c87f56816c9"
   },
   "outputs": [
    {
     "data": {
      "text/html": [
       "<div>\n",
       "<style scoped>\n",
       "    .dataframe tbody tr th:only-of-type {\n",
       "        vertical-align: middle;\n",
       "    }\n",
       "\n",
       "    .dataframe tbody tr th {\n",
       "        vertical-align: top;\n",
       "    }\n",
       "\n",
       "    .dataframe thead th {\n",
       "        text-align: right;\n",
       "    }\n",
       "</style>\n",
       "<table border=\"1\" class=\"dataframe\">\n",
       "  <thead>\n",
       "    <tr style=\"text-align: right;\">\n",
       "      <th></th>\n",
       "      <th>0</th>\n",
       "    </tr>\n",
       "  </thead>\n",
       "  <tbody>\n",
       "    <tr>\n",
       "      <th>absolut</th>\n",
       "      <td>True</td>\n",
       "    </tr>\n",
       "    <tr>\n",
       "      <th>accept</th>\n",
       "      <td>True</td>\n",
       "    </tr>\n",
       "    <tr>\n",
       "      <th>ad</th>\n",
       "      <td>True</td>\n",
       "    </tr>\n",
       "    <tr>\n",
       "      <th>adjust</th>\n",
       "      <td>True</td>\n",
       "    </tr>\n",
       "    <tr>\n",
       "      <th>ador</th>\n",
       "      <td>True</td>\n",
       "    </tr>\n",
       "    <tr>\n",
       "      <th>adult</th>\n",
       "      <td>True</td>\n",
       "    </tr>\n",
       "    <tr>\n",
       "      <th>affect</th>\n",
       "      <td>True</td>\n",
       "    </tr>\n",
       "    <tr>\n",
       "      <th>afraid</th>\n",
       "      <td>True</td>\n",
       "    </tr>\n",
       "    <tr>\n",
       "      <th>agav</th>\n",
       "      <td>True</td>\n",
       "    </tr>\n",
       "    <tr>\n",
       "      <th>age</th>\n",
       "      <td>True</td>\n",
       "    </tr>\n",
       "    <tr>\n",
       "      <th>allerg</th>\n",
       "      <td>True</td>\n",
       "    </tr>\n",
       "    <tr>\n",
       "      <th>alreadi</th>\n",
       "      <td>True</td>\n",
       "    </tr>\n",
       "    <tr>\n",
       "      <th>altern</th>\n",
       "      <td>True</td>\n",
       "    </tr>\n",
       "    <tr>\n",
       "      <th>although</th>\n",
       "      <td>True</td>\n",
       "    </tr>\n",
       "    <tr>\n",
       "      <th>amazon</th>\n",
       "      <td>True</td>\n",
       "    </tr>\n",
       "    <tr>\n",
       "      <th>american</th>\n",
       "      <td>True</td>\n",
       "    </tr>\n",
       "    <tr>\n",
       "      <th>anim</th>\n",
       "      <td>True</td>\n",
       "    </tr>\n",
       "    <tr>\n",
       "      <th>anytim</th>\n",
       "      <td>True</td>\n",
       "    </tr>\n",
       "    <tr>\n",
       "      <th>anyway</th>\n",
       "      <td>True</td>\n",
       "    </tr>\n",
       "    <tr>\n",
       "      <th>appreci</th>\n",
       "      <td>True</td>\n",
       "    </tr>\n",
       "    <tr>\n",
       "      <th>asid</th>\n",
       "      <td>True</td>\n",
       "    </tr>\n",
       "    <tr>\n",
       "      <th>ask</th>\n",
       "      <td>True</td>\n",
       "    </tr>\n",
       "    <tr>\n",
       "      <th>assort</th>\n",
       "      <td>True</td>\n",
       "    </tr>\n",
       "    <tr>\n",
       "      <th>authent</th>\n",
       "      <td>True</td>\n",
       "    </tr>\n",
       "    <tr>\n",
       "      <th>avail</th>\n",
       "      <td>True</td>\n",
       "    </tr>\n",
       "    <tr>\n",
       "      <th>awhil</th>\n",
       "      <td>True</td>\n",
       "    </tr>\n",
       "    <tr>\n",
       "      <th>bake</th>\n",
       "      <td>True</td>\n",
       "    </tr>\n",
       "    <tr>\n",
       "      <th>balanc</th>\n",
       "      <td>True</td>\n",
       "    </tr>\n",
       "    <tr>\n",
       "      <th>bargain</th>\n",
       "      <td>True</td>\n",
       "    </tr>\n",
       "    <tr>\n",
       "      <th>bbq</th>\n",
       "      <td>True</td>\n",
       "    </tr>\n",
       "    <tr>\n",
       "      <th>...</th>\n",
       "      <td>...</td>\n",
       "    </tr>\n",
       "    <tr>\n",
       "      <th>valu</th>\n",
       "      <td>True</td>\n",
       "    </tr>\n",
       "    <tr>\n",
       "      <th>vanilla</th>\n",
       "      <td>True</td>\n",
       "    </tr>\n",
       "    <tr>\n",
       "      <th>various</th>\n",
       "      <td>True</td>\n",
       "    </tr>\n",
       "    <tr>\n",
       "      <th>versatil</th>\n",
       "      <td>True</td>\n",
       "    </tr>\n",
       "    <tr>\n",
       "      <th>via</th>\n",
       "      <td>True</td>\n",
       "    </tr>\n",
       "    <tr>\n",
       "      <th>vine</th>\n",
       "      <td>True</td>\n",
       "    </tr>\n",
       "    <tr>\n",
       "      <th>vinegar</th>\n",
       "      <td>True</td>\n",
       "    </tr>\n",
       "    <tr>\n",
       "      <th>virgin</th>\n",
       "      <td>True</td>\n",
       "    </tr>\n",
       "    <tr>\n",
       "      <th>vitamin</th>\n",
       "      <td>True</td>\n",
       "    </tr>\n",
       "    <tr>\n",
       "      <th>volum</th>\n",
       "      <td>True</td>\n",
       "    </tr>\n",
       "    <tr>\n",
       "      <th>wafer</th>\n",
       "      <td>True</td>\n",
       "    </tr>\n",
       "    <tr>\n",
       "      <th>wake</th>\n",
       "      <td>True</td>\n",
       "    </tr>\n",
       "    <tr>\n",
       "      <th>walnut</th>\n",
       "      <td>True</td>\n",
       "    </tr>\n",
       "    <tr>\n",
       "      <th>web</th>\n",
       "      <td>True</td>\n",
       "    </tr>\n",
       "    <tr>\n",
       "      <th>websit</th>\n",
       "      <td>True</td>\n",
       "    </tr>\n",
       "    <tr>\n",
       "      <th>week</th>\n",
       "      <td>True</td>\n",
       "    </tr>\n",
       "    <tr>\n",
       "      <th>weight</th>\n",
       "      <td>True</td>\n",
       "    </tr>\n",
       "    <tr>\n",
       "      <th>weve</th>\n",
       "      <td>True</td>\n",
       "    </tr>\n",
       "    <tr>\n",
       "      <th>whole</th>\n",
       "      <td>True</td>\n",
       "    </tr>\n",
       "    <tr>\n",
       "      <th>wholesom</th>\n",
       "      <td>True</td>\n",
       "    </tr>\n",
       "    <tr>\n",
       "      <th>wild</th>\n",
       "      <td>True</td>\n",
       "    </tr>\n",
       "    <tr>\n",
       "      <th>winter</th>\n",
       "      <td>True</td>\n",
       "    </tr>\n",
       "    <tr>\n",
       "      <th>wise</th>\n",
       "      <td>True</td>\n",
       "    </tr>\n",
       "    <tr>\n",
       "      <th>worth</th>\n",
       "      <td>True</td>\n",
       "    </tr>\n",
       "    <tr>\n",
       "      <th>wow</th>\n",
       "      <td>True</td>\n",
       "    </tr>\n",
       "    <tr>\n",
       "      <th>wrap</th>\n",
       "      <td>True</td>\n",
       "    </tr>\n",
       "    <tr>\n",
       "      <th>write</th>\n",
       "      <td>True</td>\n",
       "    </tr>\n",
       "    <tr>\n",
       "      <th>yes</th>\n",
       "      <td>True</td>\n",
       "    </tr>\n",
       "    <tr>\n",
       "      <th>yet</th>\n",
       "      <td>True</td>\n",
       "    </tr>\n",
       "    <tr>\n",
       "      <th>yogurt</th>\n",
       "      <td>True</td>\n",
       "    </tr>\n",
       "  </tbody>\n",
       "</table>\n",
       "<p>464 rows × 1 columns</p>\n",
       "</div>"
      ],
      "text/plain": [
       "             0\n",
       "absolut   True\n",
       "accept    True\n",
       "ad        True\n",
       "adjust    True\n",
       "ador      True\n",
       "adult     True\n",
       "affect    True\n",
       "afraid    True\n",
       "agav      True\n",
       "age       True\n",
       "allerg    True\n",
       "alreadi   True\n",
       "altern    True\n",
       "although  True\n",
       "amazon    True\n",
       "american  True\n",
       "anim      True\n",
       "anytim    True\n",
       "anyway    True\n",
       "appreci   True\n",
       "asid      True\n",
       "ask       True\n",
       "assort    True\n",
       "authent   True\n",
       "avail     True\n",
       "awhil     True\n",
       "bake      True\n",
       "balanc    True\n",
       "bargain   True\n",
       "bbq       True\n",
       "...        ...\n",
       "valu      True\n",
       "vanilla   True\n",
       "various   True\n",
       "versatil  True\n",
       "via       True\n",
       "vine      True\n",
       "vinegar   True\n",
       "virgin    True\n",
       "vitamin   True\n",
       "volum     True\n",
       "wafer     True\n",
       "wake      True\n",
       "walnut    True\n",
       "web       True\n",
       "websit    True\n",
       "week      True\n",
       "weight    True\n",
       "weve      True\n",
       "whole     True\n",
       "wholesom  True\n",
       "wild      True\n",
       "winter    True\n",
       "wise      True\n",
       "worth     True\n",
       "wow       True\n",
       "wrap      True\n",
       "write     True\n",
       "yes       True\n",
       "yet       True\n",
       "yogurt    True\n",
       "\n",
       "[464 rows x 1 columns]"
      ]
     },
     "execution_count": 49,
     "metadata": {
      "tags": []
     },
     "output_type": "execute_result"
    }
   ],
   "source": [
    "df[df[0]] == True"
   ]
  },
  {
   "cell_type": "markdown",
   "metadata": {
    "colab_type": "text",
    "id": "vvdiPofF-c9H"
   },
   "source": [
    "**464 features weight changes more than 0.1%. Hence, the features are very least multicollinear **"
   ]
  },
  {
   "cell_type": "markdown",
   "metadata": {
    "_uuid": "4a3deb23bec25232671f82a65ff1a99a457ca038",
    "colab_type": "text",
    "id": "kZ28j71X-c9L"
   },
   "source": [
    "## [4.4] Feature Importance"
   ]
  },
  {
   "cell_type": "code",
   "execution_count": 0,
   "metadata": {
    "_uuid": "b6ef08a4483b8a8777d4962e94696f82ca01bbe9",
    "colab": {},
    "colab_type": "code",
    "id": "mUj4xa5j-c9P",
    "outputId": "3bbc80a5-c5da-4240-960a-c2936a41d4de"
   },
   "outputs": [
    {
     "name": "stdout",
     "output_type": "stream",
     "text": [
      "\tNegative\t\t\t\t\tPositive\n",
      "________________________________________________________________________________________________\n",
      "\t-6.1949\treturn         \t\t\t\t6.1828\tbest           \n",
      "\t-6.1287\tterribl        \t\t\t\t6.1274\tgreat          \n",
      "\t-5.7197\taw             \t\t\t\t5.2357\tnice           \n",
      "\t-5.3374\tworst          \t\t\t\t5.0679\tdelici         \n",
      "\t-4.9676\titem           \t\t\t\t5.0426\texcel          \n",
      "\t-4.9392\tdisappoint     \t\t\t\t4.7025\tlove           \n",
      "\t-4.7756\tunfortun       \t\t\t\t4.6856\tfriend         \n",
      "\t-4.7389\tmoney          \t\t\t\t4.2607\ttasti          \n",
      "\t-4.5875\tpoor           \t\t\t\t4.1283\toliv           \n",
      "\t-4.3179\tlack           \t\t\t\t3.9651\tcalori         \n",
      "\t-4.2911\tstale          \t\t\t\t3.6016\tright          \n",
      "\t-4.2213\tdisgust        \t\t\t\t3.5969\task            \n",
      "\t-4.1937\tcorn           \t\t\t\t3.5579\tquit           \n",
      "\t-4.0537\tsorri          \t\t\t\t3.5170\tsmooth         \n",
      "\t-4.0521\tnoth           \t\t\t\t3.4415\twonder         \n",
      "\t-4.0088\tknow           \t\t\t\t3.3048\tsnack          \n",
      "\t-3.7825\tguess          \t\t\t\t3.2875\tfavorit        \n",
      "\t-3.7291\todd            \t\t\t\t3.2576\tprotein        \n",
      "\t-3.6376\twarn           \t\t\t\t3.2072\tamaz           \n",
      "\t-3.6196\ttasteless      \t\t\t\t3.1736\tmorn           \n",
      "\t-3.6137\tnew            \t\t\t\t3.1610\tsoft           \n",
      "\t-3.5846\tthought        \t\t\t\t3.1257\trecommend      \n",
      "\t-3.5644\twast           \t\t\t\t3.1072\tchristma       \n",
      "\t-3.4736\tmistak         \t\t\t\t3.1021\tday            \n",
      "\t-3.4164\tmedicin        \t\t\t\t3.0679\tenough         \n"
     ]
    }
   ],
   "source": [
    "def feature_Importance(vectorizer, clf, n=25):\n",
    "    feature_names = vectorizer.get_feature_names()\n",
    "    coefs_with_fns = sorted(zip(clf.coef_[0], feature_names))\n",
    "    top = zip(coefs_with_fns[:n], coefs_with_fns[:-(n + 1):-1])\n",
    "    print(\"\\tNegative\\t\\t\\t\\tPositive\")\n",
    "    print(\"________________________________________________________________________________________________\")\n",
    "    for (coef_1, fn_1), (coef_2, fn_2) in top:\n",
    "        print(\"\\t%.4f\\t%-15s\\t\\t\\t\\t%.4f\\t%-15s\" % (coef_1, fn_1, coef_2, fn_2))\n",
    "        \n",
    "feature_Importance(count_vect,clf)"
   ]
  },
  {
   "cell_type": "markdown",
   "metadata": {
    "_uuid": "ff04eb8c2d4a62543d6f3d7b644a3a071927b609",
    "colab_type": "text",
    "id": "LlkNYUdm-c9a"
   },
   "source": [
    "# [5] TF-IDF"
   ]
  },
  {
   "cell_type": "code",
   "execution_count": 0,
   "metadata": {
    "_uuid": "a99504c69f3d3f6fe88d447d2f4922109c141c2d",
    "colab": {},
    "colab_type": "code",
    "id": "eFuBPpcG-c9c"
   },
   "outputs": [],
   "source": [
    "# Spliting into Train and test\n",
    "X_train, X_test, y_train, y_test = train_test_split(data['CleanedText'].values,data['Score'].values,test_size=0.3,shuffle=False)"
   ]
  },
  {
   "cell_type": "code",
   "execution_count": 126,
   "metadata": {
    "_uuid": "1ede6105d83c2d4b8eeaa6b00e46bf071b40a0c5",
    "colab": {
     "base_uri": "https://localhost:8080/",
     "height": 51
    },
    "colab_type": "code",
    "id": "JeKlr_wT-c9i",
    "outputId": "1d385b3b-5c0b-415d-f935-4e8597b57bdb"
   },
   "outputs": [
    {
     "name": "stdout",
     "output_type": "stream",
     "text": [
      "Train Data Size:  (70000, 2000)\n",
      "Test Data Size:  (30000, 2000)\n"
     ]
    }
   ],
   "source": [
    "tfidf = TfidfVectorizer(ngram_range=(1,2), max_features=2000, min_df=10) #Using bi-grams\n",
    "X_train = tfidf.fit_transform(X_train)\n",
    "X_test = tfidf.transform(X_test)\n",
    "\n",
    "#Normalize Data\n",
    "X_train = preprocessing.normalize(X_train)\n",
    "X_test = preprocessing.normalize(X_test)\n",
    "\n",
    "print(\"Train Data Size: \",X_train.shape)\n",
    "print(\"Test Data Size: \",X_test.shape)"
   ]
  },
  {
   "cell_type": "markdown",
   "metadata": {
    "_uuid": "b06a24f04c2e01bf19b547f18f944d5ac5a44e99",
    "colab_type": "text",
    "id": "9WYcd0oh-c90"
   },
   "source": [
    "## [5.1] Logistic Regression with GridSearchCV"
   ]
  },
  {
   "cell_type": "code",
   "execution_count": 0,
   "metadata": {
    "_uuid": "b3f3dbe15861b9f416c131e703ed9c98de788e83",
    "colab": {},
    "colab_type": "code",
    "id": "1PvKQUBM-c95",
    "outputId": "d5d24f32-b479-450e-c364-ee14914097cc"
   },
   "outputs": [
    {
     "name": "stdout",
     "output_type": "stream",
     "text": [
      "Fitting 10 folds for each of 30 candidates, totalling 300 fits\n"
     ]
    },
    {
     "name": "stderr",
     "output_type": "stream",
     "text": [
      "[Parallel(n_jobs=1)]: Done 300 out of 300 | elapsed:  9.5min finished\n"
     ]
    },
    {
     "name": "stdout",
     "output_type": "stream",
     "text": [
      "Best HyperParameter:  {'C': 5, 'penalty': 'l2'}\n",
      "Best Accuracy: 91.09%\n"
     ]
    }
   ],
   "source": [
    "from sklearn.model_selection import GridSearchCV\n",
    "\n",
    "clf = LogisticRegression()\n",
    "\n",
    "param_grid = {'C':[1000,500,100,50,10,5,1,0.5,0.1,0.05,0.01,0.005,0.001,0.0005,0.0001],\n",
    "             'penalty':['l1','l2']} \n",
    "tscv = TimeSeriesSplit(n_splits=10) \n",
    "gsv = GridSearchCV(clf,param_grid,cv=tscv, scoring='f1_micro', verbose=1, n_jobs = -1)\n",
    "gsv.fit(X_train,y_train)\n",
    "\n",
    "print(\"Best HyperParameter: \",gsv.best_params_)\n",
    "print(\"Best Accuracy: %.2f%%\"%(gsv.best_score_*100))"
   ]
  },
  {
   "cell_type": "code",
   "execution_count": 0,
   "metadata": {
    "colab": {},
    "colab_type": "code",
    "id": "Rr96pXNQ-c-F",
    "outputId": "7836e6a2-018d-4161-e6d0-1967a22f8a59"
   },
   "outputs": [
    {
     "data": {
      "image/png": "[encoded data removed]",
      "text/plain": [
       "<Figure size 432x288 with 1 Axes>"
      ]
     },
     "metadata": {
      "tags": []
     },
     "output_type": "display_data"
    }
   ],
   "source": [
    "plot_grid(gsv)"
   ]
  },
  {
   "cell_type": "code",
   "execution_count": 0,
   "metadata": {
    "_uuid": "0b8a20423f20f05310e9deec8e64e0522a3aea72",
    "colab": {},
    "colab_type": "code",
    "id": "1cZftZ2B-c-P",
    "outputId": "d3c8e9ca-4179-4d92-ec6c-b45f8bc63dcc"
   },
   "outputs": [
    {
     "name": "stdout",
     "output_type": "stream",
     "text": [
      "Accuracy on test set: 90.957%\n",
      "Precision on test set: 0.925\n",
      "Recall on test set: 0.969\n",
      "F1-Score on test set: 0.946\n"
     ]
    },
    {
     "data": {
      "image/png": "[encoded data removed]",
      "text/plain": [
       "<Figure size 1440x288 with 6 Axes>"
      ]
     },
     "metadata": {
      "tags": []
     },
     "output_type": "display_data"
    }
   ],
   "source": [
    "#Testing Accuracy on Test data\n",
    "clf = LogisticRegression(C= 5, penalty= 'l2')\n",
    "clf.fit(X_train,y_train)\n",
    "y_pred = clf.predict(X_test)\n",
    "\n",
    "print(\"Accuracy on test set: %0.3f%%\"%(accuracy_score(y_test, y_pred)*100))\n",
    "print(\"Precision on test set: %0.3f\"%(precision_score(y_test, y_pred)))\n",
    "print(\"Recall on test set: %0.3f\"%(recall_score(y_test, y_pred)))\n",
    "print(\"F1-Score on test set: %0.3f\"%(f1_score(y_test, y_pred)))\n",
    "plot_confusion_matrix(y_test, y_pred)"
   ]
  },
  {
   "cell_type": "markdown",
   "metadata": {
    "_uuid": "3b982f8311b8d9dcb48ac79ec90d01a78fc2cf45",
    "colab_type": "text",
    "id": "rFvzKwuE-c-e"
   },
   "source": [
    "## [5.2] Logistic Regression with RandomSearchCV"
   ]
  },
  {
   "cell_type": "code",
   "execution_count": 0,
   "metadata": {
    "_uuid": "ac51c2f55fffb821a41ce8b88f7fc98a8485803d",
    "colab": {},
    "colab_type": "code",
    "id": "FdJSOr7F-c-g",
    "outputId": "cb48c6e2-2756-4647-ccbd-f50aa0221b3a"
   },
   "outputs": [
    {
     "name": "stdout",
     "output_type": "stream",
     "text": [
      "Fitting 10 folds for each of 10 candidates, totalling 100 fits\n"
     ]
    },
    {
     "name": "stderr",
     "output_type": "stream",
     "text": [
      "[Parallel(n_jobs=-1)]: Done  42 tasks      | elapsed:   39.0s\n",
      "[Parallel(n_jobs=-1)]: Done 100 out of 100 | elapsed:  1.0min finished\n"
     ]
    },
    {
     "name": "stdout",
     "output_type": "stream",
     "text": [
      "Best HyperParameter:  {'penalty': 'l1', 'C': 5}\n",
      "Best Accuracy: 91.00%\n"
     ]
    }
   ],
   "source": [
    "from sklearn.model_selection import RandomizedSearchCV\n",
    "\n",
    "clf = LogisticRegression()\n",
    "param_grid = {'C':[1000,500,100,50,10,5,1,0.5,0.1,0.05,0.01,0.005,0.001,0.0005,0.0001]\n",
    "              ,'penalty':['l1','l2']}\n",
    "tscv = TimeSeriesSplit(n_splits=10) \n",
    "gsv = RandomizedSearchCV(clf,param_grid,cv=tscv, scoring='f1_micro', verbose=1, n_jobs = -1)\n",
    "gsv.fit(X_train,y_train)\n",
    "\n",
    "print(\"Best HyperParameter: \",gsv.best_params_)\n",
    "print(\"Best Accuracy: %.2f%%\"%(gsv.best_score_*100))"
   ]
  },
  {
   "cell_type": "code",
   "execution_count": 0,
   "metadata": {
    "colab": {},
    "colab_type": "code",
    "id": "rVWTbgPI-c-q",
    "outputId": "5c677d1f-eb3c-4b2a-e6e6-c7ce8cc2ad2c"
   },
   "outputs": [
    {
     "data": {
      "image/png": "[encoded data removed]",
      "text/plain": [
       "<Figure size 432x288 with 1 Axes>"
      ]
     },
     "metadata": {
      "tags": []
     },
     "output_type": "display_data"
    }
   ],
   "source": [
    "plot_random(gsv)"
   ]
  },
  {
   "cell_type": "code",
   "execution_count": 0,
   "metadata": {
    "_uuid": "0426b37bc19cb5bbb531c5f6459a48342240e5f4",
    "colab": {},
    "colab_type": "code",
    "id": "yAFcJAF7-c-y",
    "outputId": "d06d66d9-faef-407a-cab8-998d9bd5e412"
   },
   "outputs": [
    {
     "name": "stdout",
     "output_type": "stream",
     "text": [
      "Accuracy on test set: 90.943%\n",
      "Precision on test set: 0.927\n",
      "Recall on test set: 0.966\n",
      "F1-Score on test set: 0.946\n"
     ]
    },
    {
     "data": {
      "image/png": "[encoded data removed]",
      "text/plain": [
       "<Figure size 1440x288 with 6 Axes>"
      ]
     },
     "metadata": {
      "tags": []
     },
     "output_type": "display_data"
    }
   ],
   "source": [
    "#Testing Accuracy on Test data\n",
    "clf = LogisticRegression(C= 5, penalty= 'l1')\n",
    "clf.fit(X_train,y_train)\n",
    "y_pred = clf.predict(X_test)\n",
    "\n",
    "print(\"Accuracy on test set: %0.3f%%\"%(accuracy_score(y_test, y_pred)*100))\n",
    "print(\"Precision on test set: %0.3f\"%(precision_score(y_test, y_pred)))\n",
    "print(\"Recall on test set: %0.3f\"%(recall_score(y_test, y_pred)))\n",
    "print(\"F1-Score on test set: %0.3f\"%(f1_score(y_test, y_pred)))\n",
    "plot_confusion_matrix(y_test, y_pred)"
   ]
  },
  {
   "cell_type": "markdown",
   "metadata": {
    "_uuid": "fb1f05170a7a0a58ce0cb9192b150773d92e6b06",
    "colab_type": "text",
    "id": "f_MG2Xre-c-7"
   },
   "source": [
    "## [5.3] Pertubation Test"
   ]
  },
  {
   "cell_type": "code",
   "execution_count": 127,
   "metadata": {
    "_uuid": "ab1f5c67908efeef96fa5a40742418341664472c",
    "colab": {
     "base_uri": "https://localhost:8080/",
     "height": 34
    },
    "colab_type": "code",
    "id": "DgrbGtQm-c-9",
    "outputId": "71c9ed49-cd83-4237-ab82-f9affc30359d"
   },
   "outputs": [
    {
     "name": "stdout",
     "output_type": "stream",
     "text": [
      "Non Zero weights: 2000\n"
     ]
    }
   ],
   "source": [
    "# Training without random noise\n",
    "clf_1 = LogisticRegression(C= 10, penalty= 'l2')\n",
    "clf_1.fit(X_train,y_train)\n",
    "y_pred = clf_1.predict(X_test)\n",
    "w = clf_1.coef_\n",
    "print(\"Non Zero weights:\",np.count_nonzero(w))"
   ]
  },
  {
   "cell_type": "code",
   "execution_count": 128,
   "metadata": {
    "_uuid": "212e8a3c08a75141db7867ccf007bbe6d15dc22a",
    "colab": {
     "base_uri": "https://localhost:8080/",
     "height": 102
    },
    "colab_type": "code",
    "id": "mACRLKtt-c_J",
    "outputId": "e49a93df-ccb5-41f8-8535-e611a8ce9a3f"
   },
   "outputs": [
    {
     "name": "stdout",
     "output_type": "stream",
     "text": [
      "[ 2.4297598   0.36799227  0.28453863 -0.11589619  0.60027366  2.26677927\n",
      " -1.08631603  0.43512875 -0.96435615 -0.37383112  2.54860667  3.09273893\n",
      " -0.08402779  1.84796849  0.37017745 -2.36302397  2.65437909  3.19093861\n",
      "  1.86476903  7.67010342  1.18625835  1.32827046  0.98450191  0.03986242\n",
      " -2.5470499 ]\n"
     ]
    }
   ],
   "source": [
    "weights1 = find(clf_1.coef_[0])[2]     #Before adding random noise\n",
    "print(weights1[:25])"
   ]
  },
  {
   "cell_type": "code",
   "execution_count": 0,
   "metadata": {
    "colab": {},
    "colab_type": "code",
    "id": "DhkdMX2L-c_S"
   },
   "outputs": [],
   "source": [
    "X_train_t = X_train\n",
    "epsilon = np.random.uniform(low=-0.0001, high=0.0001, size=(find(X_train_t)[0].size,))     #Random noise\n",
    "a,b,c = find(X_train_t)                     #value of non-zero datapoints\n",
    "X_train_t[a,b] = epsilon + X_train_t[a,b]   #Adding random noise to non-zero datapoints"
   ]
  },
  {
   "cell_type": "code",
   "execution_count": 130,
   "metadata": {
    "colab": {
     "base_uri": "https://localhost:8080/",
     "height": 34
    },
    "colab_type": "code",
    "id": "6KCVrzqY-c_Y",
    "outputId": "dc5bcdb4-8d9c-4071-d7bb-af8b8fdd62c8"
   },
   "outputs": [
    {
     "name": "stdout",
     "output_type": "stream",
     "text": [
      "Non Zero weights: 2000\n"
     ]
    }
   ],
   "source": [
    "clf_2 = LogisticRegression(C= 10, penalty= 'l2')    #train data with random noise\n",
    "clf_2.fit(X_train_t,y_train)\n",
    "y_pred = clf_2.predict(X_test)\n",
    "w = clf_2.coef_\n",
    "print(\"Non Zero weights:\",np.count_nonzero(w))"
   ]
  },
  {
   "cell_type": "code",
   "execution_count": 131,
   "metadata": {
    "colab": {
     "base_uri": "https://localhost:8080/",
     "height": 102
    },
    "colab_type": "code",
    "id": "DRUy-yO9-c_q",
    "outputId": "60205186-7d12-40eb-d4e9-539486860601"
   },
   "outputs": [
    {
     "name": "stdout",
     "output_type": "stream",
     "text": [
      "[ 2.42942549  0.36765559  0.28445656 -0.11644125  0.60083253  2.26783345\n",
      " -1.08759     0.43513483 -0.96490564 -0.37396918  2.54858871  3.09300851\n",
      " -0.08452832  1.84801811  0.3699241  -2.36263227  2.65384581  3.19214906\n",
      "  1.86440244  7.6698813   1.1859893   1.32796609  0.98413486  0.03937274\n",
      " -2.54707366]\n"
     ]
    }
   ],
   "source": [
    "weights2 = find(clf_2.coef_[0])[2]   #After adding random noise\n",
    "print(weights2[:25])"
   ]
  },
  {
   "cell_type": "code",
   "execution_count": 132,
   "metadata": {
    "colab": {
     "base_uri": "https://localhost:8080/",
     "height": 187
    },
    "colab_type": "code",
    "id": "SQYX5LFe-c_y",
    "outputId": "e6471dae-05c3-4cc6-cf28-417ad4c912de"
   },
   "outputs": [
    {
     "name": "stdout",
     "output_type": "stream",
     "text": [
      "[ 2.4297608   0.36799327  0.28453963 -0.11589519  0.60027466  2.26678027\n",
      " -1.08631503  0.43512975 -0.96435515 -0.37383012  2.54860767  3.09273993\n",
      " -0.08402679  1.84796949  0.37017845 -2.36302297  2.65438009  3.19093961\n",
      "  1.86477003  7.67010442  1.18625935  1.32827146  0.98450291  0.03986342\n",
      " -2.5470489 ]\n",
      "[ 2.42942649  0.36765659  0.28445756 -0.11644025  0.60083353  2.26783445\n",
      " -1.087589    0.43513583 -0.96490464 -0.37396818  2.54858971  3.09300951\n",
      " -0.08452732  1.84801911  0.3699251  -2.36263127  2.65384681  3.19215006\n",
      "  1.86440344  7.6698823   1.1859903   1.32796709  0.98413586  0.03937374\n",
      " -2.54707266]\n"
     ]
    }
   ],
   "source": [
    "# Add the small eps value(to eliminate the divisible by zero error) to W and W’ i.e W=W+10^-6 and W’ = W’+10^-6\n",
    "epsilon = 0.000001\n",
    "weights1 = weights1 + epsilon\n",
    "print(weights1[:25])\n",
    "\n",
    "weights2 = weights2 + epsilon\n",
    "print(weights2[:25])"
   ]
  },
  {
   "cell_type": "code",
   "execution_count": 0,
   "metadata": {
    "colab": {},
    "colab_type": "code",
    "id": "-ls3XGLb-dAF"
   },
   "outputs": [],
   "source": [
    "weights_diff = (abs(weights1 - weights2)/weights1) * 100"
   ]
  },
  {
   "cell_type": "code",
   "execution_count": 134,
   "metadata": {
    "colab": {
     "base_uri": "https://localhost:8080/",
     "height": 136
    },
    "colab_type": "code",
    "id": "7p-UTjN3-Q5M",
    "outputId": "631c75d2-70bf-4ba9-d452-a931fc582160"
   },
   "outputs": [
    {
     "name": "stdout",
     "output_type": "stream",
     "text": [
      "1093\n",
      "158\n",
      "82\n",
      "61\n",
      "45\n",
      "4\n",
      "1\n"
     ]
    }
   ],
   "source": [
    "print(weights_diff[np.where(weights_diff > 0)].size)\n",
    "print(weights_diff[np.where(weights_diff > 0.1)].size)\n",
    "print(weights_diff[np.where(weights_diff > 0.2)].size)\n",
    "print(weights_diff[np.where(weights_diff > 0.3)].size)\n",
    "print(weights_diff[np.where(weights_diff > 0.4)].size)\n",
    "print(weights_diff[np.where(weights_diff > 10)].size)\n",
    "print(weights_diff[np.where(weights_diff > 50)].size)"
   ]
  },
  {
   "cell_type": "code",
   "execution_count": 135,
   "metadata": {
    "colab": {
     "base_uri": "https://localhost:8080/",
     "height": 1969
    },
    "colab_type": "code",
    "id": "JkqT-CuA-UCV",
    "outputId": "2901660c-6e69-4226-b434-b9b0c0c085f6"
   },
   "outputs": [
    {
     "data": {
      "text/html": [
       "<div>\n",
       "<style scoped>\n",
       "    .dataframe tbody tr th:only-of-type {\n",
       "        vertical-align: middle;\n",
       "    }\n",
       "\n",
       "    .dataframe tbody tr th {\n",
       "        vertical-align: top;\n",
       "    }\n",
       "\n",
       "    .dataframe thead th {\n",
       "        text-align: right;\n",
       "    }\n",
       "</style>\n",
       "<table border=\"1\" class=\"dataframe\">\n",
       "  <thead>\n",
       "    <tr style=\"text-align: right;\">\n",
       "      <th></th>\n",
       "      <th>0</th>\n",
       "    </tr>\n",
       "  </thead>\n",
       "  <tbody>\n",
       "    <tr>\n",
       "      <th>adult</th>\n",
       "      <td>True</td>\n",
       "    </tr>\n",
       "    <tr>\n",
       "      <th>alon</th>\n",
       "      <td>True</td>\n",
       "    </tr>\n",
       "    <tr>\n",
       "      <th>alreadi</th>\n",
       "      <td>True</td>\n",
       "    </tr>\n",
       "    <tr>\n",
       "      <th>also make</th>\n",
       "      <td>True</td>\n",
       "    </tr>\n",
       "    <tr>\n",
       "      <th>also tri</th>\n",
       "      <td>True</td>\n",
       "    </tr>\n",
       "    <tr>\n",
       "      <th>anim</th>\n",
       "      <td>True</td>\n",
       "    </tr>\n",
       "    <tr>\n",
       "      <th>antioxid</th>\n",
       "      <td>True</td>\n",
       "    </tr>\n",
       "    <tr>\n",
       "      <th>arriv</th>\n",
       "      <td>True</td>\n",
       "    </tr>\n",
       "    <tr>\n",
       "      <th>bag</th>\n",
       "      <td>True</td>\n",
       "    </tr>\n",
       "    <tr>\n",
       "      <th>best coffe</th>\n",
       "      <td>True</td>\n",
       "    </tr>\n",
       "    <tr>\n",
       "      <th>best thing</th>\n",
       "      <td>True</td>\n",
       "    </tr>\n",
       "    <tr>\n",
       "      <th>biscuit</th>\n",
       "      <td>True</td>\n",
       "    </tr>\n",
       "    <tr>\n",
       "      <th>bob</th>\n",
       "      <td>True</td>\n",
       "    </tr>\n",
       "    <tr>\n",
       "      <th>bob red</th>\n",
       "      <td>True</td>\n",
       "    </tr>\n",
       "    <tr>\n",
       "      <th>bold</th>\n",
       "      <td>True</td>\n",
       "    </tr>\n",
       "    <tr>\n",
       "      <th>bore</th>\n",
       "      <td>True</td>\n",
       "    </tr>\n",
       "    <tr>\n",
       "      <th>brought</th>\n",
       "      <td>True</td>\n",
       "    </tr>\n",
       "    <tr>\n",
       "      <th>carbohydr</th>\n",
       "      <td>True</td>\n",
       "    </tr>\n",
       "    <tr>\n",
       "      <th>certain</th>\n",
       "      <td>True</td>\n",
       "    </tr>\n",
       "    <tr>\n",
       "      <th>choos</th>\n",
       "      <td>True</td>\n",
       "    </tr>\n",
       "    <tr>\n",
       "      <th>chop</th>\n",
       "      <td>True</td>\n",
       "    </tr>\n",
       "    <tr>\n",
       "      <th>cinnamon</th>\n",
       "      <td>True</td>\n",
       "    </tr>\n",
       "    <tr>\n",
       "      <th>cocoa</th>\n",
       "      <td>True</td>\n",
       "    </tr>\n",
       "    <tr>\n",
       "      <th>coffe bean</th>\n",
       "      <td>True</td>\n",
       "    </tr>\n",
       "    <tr>\n",
       "      <th>coffe like</th>\n",
       "      <td>True</td>\n",
       "    </tr>\n",
       "    <tr>\n",
       "      <th>coke</th>\n",
       "      <td>True</td>\n",
       "    </tr>\n",
       "    <tr>\n",
       "      <th>comfort</th>\n",
       "      <td>True</td>\n",
       "    </tr>\n",
       "    <tr>\n",
       "      <th>cool</th>\n",
       "      <td>True</td>\n",
       "    </tr>\n",
       "    <tr>\n",
       "      <th>crystal light</th>\n",
       "      <td>True</td>\n",
       "    </tr>\n",
       "    <tr>\n",
       "      <th>deal</th>\n",
       "      <td>True</td>\n",
       "    </tr>\n",
       "    <tr>\n",
       "      <th>...</th>\n",
       "      <td>...</td>\n",
       "    </tr>\n",
       "    <tr>\n",
       "      <th>supplement</th>\n",
       "      <td>True</td>\n",
       "    </tr>\n",
       "    <tr>\n",
       "      <th>taco</th>\n",
       "      <td>True</td>\n",
       "    </tr>\n",
       "    <tr>\n",
       "      <th>tangi</th>\n",
       "      <td>True</td>\n",
       "    </tr>\n",
       "    <tr>\n",
       "      <th>tea drinker</th>\n",
       "      <td>True</td>\n",
       "    </tr>\n",
       "    <tr>\n",
       "      <th>tea ive</th>\n",
       "      <td>True</td>\n",
       "    </tr>\n",
       "    <tr>\n",
       "      <th>tea one</th>\n",
       "      <td>True</td>\n",
       "    </tr>\n",
       "    <tr>\n",
       "      <th>tender</th>\n",
       "      <td>True</td>\n",
       "    </tr>\n",
       "    <tr>\n",
       "      <th>test</th>\n",
       "      <td>True</td>\n",
       "    </tr>\n",
       "    <tr>\n",
       "      <th>thick</th>\n",
       "      <td>True</td>\n",
       "    </tr>\n",
       "    <tr>\n",
       "      <th>tofu</th>\n",
       "      <td>True</td>\n",
       "    </tr>\n",
       "    <tr>\n",
       "      <th>tomato</th>\n",
       "      <td>True</td>\n",
       "    </tr>\n",
       "    <tr>\n",
       "      <th>tradit</th>\n",
       "      <td>True</td>\n",
       "    </tr>\n",
       "    <tr>\n",
       "      <th>tran fat</th>\n",
       "      <td>True</td>\n",
       "    </tr>\n",
       "    <tr>\n",
       "      <th>truli</th>\n",
       "      <td>True</td>\n",
       "    </tr>\n",
       "    <tr>\n",
       "      <th>turkey</th>\n",
       "      <td>True</td>\n",
       "    </tr>\n",
       "    <tr>\n",
       "      <th>valu</th>\n",
       "      <td>True</td>\n",
       "    </tr>\n",
       "    <tr>\n",
       "      <th>vari</th>\n",
       "      <td>True</td>\n",
       "    </tr>\n",
       "    <tr>\n",
       "      <th>varieti pack</th>\n",
       "      <td>True</td>\n",
       "    </tr>\n",
       "    <tr>\n",
       "      <th>vegan</th>\n",
       "      <td>True</td>\n",
       "    </tr>\n",
       "    <tr>\n",
       "      <th>veggi</th>\n",
       "      <td>True</td>\n",
       "    </tr>\n",
       "    <tr>\n",
       "      <th>vinegar</th>\n",
       "      <td>True</td>\n",
       "    </tr>\n",
       "    <tr>\n",
       "      <th>wake</th>\n",
       "      <td>True</td>\n",
       "    </tr>\n",
       "    <tr>\n",
       "      <th>walnut</th>\n",
       "      <td>True</td>\n",
       "    </tr>\n",
       "    <tr>\n",
       "      <th>want tri</th>\n",
       "      <td>True</td>\n",
       "    </tr>\n",
       "    <tr>\n",
       "      <th>wash</th>\n",
       "      <td>True</td>\n",
       "    </tr>\n",
       "    <tr>\n",
       "      <th>websit</th>\n",
       "      <td>True</td>\n",
       "    </tr>\n",
       "    <tr>\n",
       "      <th>whole</th>\n",
       "      <td>True</td>\n",
       "    </tr>\n",
       "    <tr>\n",
       "      <th>worth price</th>\n",
       "      <td>True</td>\n",
       "    </tr>\n",
       "    <tr>\n",
       "      <th>yogurt</th>\n",
       "      <td>True</td>\n",
       "    </tr>\n",
       "    <tr>\n",
       "      <th>your look</th>\n",
       "      <td>True</td>\n",
       "    </tr>\n",
       "  </tbody>\n",
       "</table>\n",
       "<p>158 rows × 1 columns</p>\n",
       "</div>"
      ],
      "text/plain": [
       "                  0\n",
       "adult          True\n",
       "alon           True\n",
       "alreadi        True\n",
       "also make      True\n",
       "also tri       True\n",
       "anim           True\n",
       "antioxid       True\n",
       "arriv          True\n",
       "bag            True\n",
       "best coffe     True\n",
       "best thing     True\n",
       "biscuit        True\n",
       "bob            True\n",
       "bob red        True\n",
       "bold           True\n",
       "bore           True\n",
       "brought        True\n",
       "carbohydr      True\n",
       "certain        True\n",
       "choos          True\n",
       "chop           True\n",
       "cinnamon       True\n",
       "cocoa          True\n",
       "coffe bean     True\n",
       "coffe like     True\n",
       "coke           True\n",
       "comfort        True\n",
       "cool           True\n",
       "crystal light  True\n",
       "deal           True\n",
       "...             ...\n",
       "supplement     True\n",
       "taco           True\n",
       "tangi          True\n",
       "tea drinker    True\n",
       "tea ive        True\n",
       "tea one        True\n",
       "tender         True\n",
       "test           True\n",
       "thick          True\n",
       "tofu           True\n",
       "tomato         True\n",
       "tradit         True\n",
       "tran fat       True\n",
       "truli          True\n",
       "turkey         True\n",
       "valu           True\n",
       "vari           True\n",
       "varieti pack   True\n",
       "vegan          True\n",
       "veggi          True\n",
       "vinegar        True\n",
       "wake           True\n",
       "walnut         True\n",
       "want tri       True\n",
       "wash           True\n",
       "websit         True\n",
       "whole          True\n",
       "worth price    True\n",
       "yogurt         True\n",
       "your look      True\n",
       "\n",
       "[158 rows x 1 columns]"
      ]
     },
     "execution_count": 135,
     "metadata": {
      "tags": []
     },
     "output_type": "execute_result"
    }
   ],
   "source": [
    "# feature names whose % change is more than a threshold x\n",
    "df = pd.DataFrame(data=(abs(weights1 - weights2)/weights1) * 100 > 0.1, index=tfidf.get_feature_names())\n",
    "df[df[0]] == True"
   ]
  },
  {
   "cell_type": "markdown",
   "metadata": {
    "colab_type": "text",
    "id": "tqRKkFRd-dAU"
   },
   "source": [
    "**300 features weight changes more than 0.1%. Hence, the features are very least multicollinear **"
   ]
  },
  {
   "cell_type": "markdown",
   "metadata": {
    "_uuid": "d56066ba82983eec347c52b299a0341fd1e2f42f",
    "colab_type": "text",
    "id": "IKMsDJEE-dAa"
   },
   "source": [
    "## [5.4] Feature Importance"
   ]
  },
  {
   "cell_type": "code",
   "execution_count": 0,
   "metadata": {
    "_uuid": "b9c0b4ba6a3a92e07e0d1c47283759977eb36e82",
    "colab": {},
    "colab_type": "code",
    "id": "c0kkumfh-dAb",
    "outputId": "4e79b096-b7e1-41c1-c7a4-2a2a8af77a3c"
   },
   "outputs": [
    {
     "name": "stdout",
     "output_type": "stream",
     "text": [
      "\tNegative\t\t\t\tPositive\n",
      "________________________________________________________________________________________________\n",
      "\t-11.7203\tworst          \t\t\t\t15.3601\thigh recommend \n",
      "\t-9.9496\tdisgust        \t\t\t\t11.5454\tgreat          \n",
      "\t-8.8536\tdisappoint     \t\t\t\t11.4623\tdelici         \n",
      "\t-8.4587\tterribl        \t\t\t\t9.6159\tperfect        \n",
      "\t-8.3977\taw             \t\t\t\t9.2750\texcel          \n",
      "\t-8.2774\twont buy       \t\t\t\t9.0449\tbest           \n",
      "\t-7.4986\tthrew          \t\t\t\t8.9778\tpleasant surpris\n",
      "\t-7.4692\ttasteless      \t\t\t\t8.0526\taddict         \n",
      "\t-7.4270\thorribl        \t\t\t\t7.7822\tlove           \n",
      "\t-7.3466\treturn         \t\t\t\t7.7763\tamaz           \n",
      "\t-7.0298\tbland          \t\t\t\t7.7436\tawesom         \n",
      "\t-6.7355\tunpleas        \t\t\t\t7.5707\teven better    \n",
      "\t-6.6366\trefund         \t\t\t\t7.4189\thook           \n",
      "\t-6.4484\tnever buy      \t\t\t\t6.9770\tworri          \n",
      "\t-6.3274\tstale          \t\t\t\t6.8957\tyum            \n",
      "\t-6.3099\twors           \t\t\t\t6.8007\tright amount   \n",
      "\t-6.2065\tpoor           \t\t\t\t6.4689\tsatisfi        \n",
      "\t-6.1290\tunfortun       \t\t\t\t6.3297\tskeptic        \n",
      "\t-5.7022\twast money     \t\t\t\t6.3199\tyummi          \n",
      "\t-5.5123\tvomit          \t\t\t\t6.2113\tlove stuff     \n",
      "\t-5.4108\tlack           \t\t\t\t6.1894\tnice           \n",
      "\t-5.3772\tweak           \t\t\t\t6.1154\tfantast        \n",
      "\t-5.2915\tneither        \t\t\t\t6.0885\tfound amazon   \n",
      "\t-5.1344\tsorri          \t\t\t\t6.0637\tsmooth         \n",
      "\t-5.0292\tnoth like      \t\t\t\t6.0449\tbalanc         \n"
     ]
    }
   ],
   "source": [
    "def feature_Importance(vectorizer, clf, n=25):\n",
    "    feature_names = vectorizer.get_feature_names()\n",
    "    coefs_with_fns = sorted(zip(clf.coef_[0], feature_names))\n",
    "    top = zip(coefs_with_fns[:n], coefs_with_fns[:-(n + 1):-1])\n",
    "    print(\"\\tNegative\\t\\t\\t\\tPositive\")\n",
    "    print(\"________________________________________________________________________________________________\")\n",
    "    for (coef_1, fn_1), (coef_2, fn_2) in top:\n",
    "        print(\"\\t%.4f\\t%-15s\\t\\t\\t\\t%.4f\\t%-15s\" % (coef_1, fn_1, coef_2, fn_2))\n",
    "        \n",
    "show_most_informative_features(tfidf,clf)"
   ]
  },
  {
   "cell_type": "markdown",
   "metadata": {
    "_uuid": "3c5491411db605fecb4ff7bc5ac2fce2eb764389",
    "colab_type": "text",
    "id": "0VqsnwfD-dAy"
   },
   "source": [
    "# [6] Word2Vec"
   ]
  },
  {
   "cell_type": "code",
   "execution_count": 0,
   "metadata": {
    "_uuid": "7fb88e628f0fa2c014d64491c41fa699dc8f2d2b",
    "colab": {},
    "colab_type": "code",
    "id": "a_JZazCf-dA0"
   },
   "outputs": [],
   "source": [
    "# Train your own Word2Vec model using your own text corpus\n",
    "i=0\n",
    "list_of_sent=[]\n",
    "for sent in data['CleanedText'].values:\n",
    "    list_of_sent.append(sent.split())"
   ]
  },
  {
   "cell_type": "code",
   "execution_count": 65,
   "metadata": {
    "_uuid": "88ce39fa77335bf968a9e5a6603dbaeac98319aa",
    "colab": {
     "base_uri": "https://localhost:8080/",
     "height": 88
    },
    "colab_type": "code",
    "id": "ob9_DHp5-dA6",
    "outputId": "f3f68847-888f-4f92-f0d3-f79899fb6005"
   },
   "outputs": [
    {
     "name": "stdout",
     "output_type": "stream",
     "text": [
      "twist rumplestiskin captur film star michael keaton geena davi prime tim burton masterpiec rumbl absurd wonder pace point dull moment\n",
      "*****************************************************************\n",
      "['twist', 'rumplestiskin', 'captur', 'film', 'star', 'michael', 'keaton', 'geena', 'davi', 'prime', 'tim', 'burton', 'masterpiec', 'rumbl', 'absurd', 'wonder', 'pace', 'point', 'dull', 'moment']\n"
     ]
    }
   ],
   "source": [
    "print(data['CleanedText'].values[0])\n",
    "print(\"*****************************************************************\")\n",
    "print(list_of_sent[0])"
   ]
  },
  {
   "cell_type": "code",
   "execution_count": 0,
   "metadata": {
    "_uuid": "e6446618aa71b2dd5444ee90e956d068c165e42e",
    "colab": {},
    "colab_type": "code",
    "id": "llVtEB_Z-dBJ"
   },
   "outputs": [],
   "source": [
    "# min_count = 5 considers only words that occured atleast 5 times\n",
    "w2v_model=Word2Vec(list_of_sent,min_count=5,size=50, workers=4)"
   ]
  },
  {
   "cell_type": "code",
   "execution_count": 67,
   "metadata": {
    "_uuid": "fe2983a6be5d95399accbaec916484d6ad3f20ec",
    "colab": {
     "base_uri": "https://localhost:8080/",
     "height": 71
    },
    "colab_type": "code",
    "id": "LJFH00Vf-dBQ",
    "outputId": "8f6ccd99-ee9f-4d97-ecaa-3009e14531ee"
   },
   "outputs": [
    {
     "name": "stdout",
     "output_type": "stream",
     "text": [
      "number of words that occured minimum 5 times  12537\n",
      "sample words  ['twist', 'captur', 'film', 'star', 'michael', 'keaton', 'geena', 'davi', 'prime', 'tim', 'burton', 'masterpiec', 'rumbl', 'absurd', 'wonder', 'pace', 'point', 'dull', 'moment', 'beetlejuic', 'excel', 'funni', 'movi', 'hilari', 'great', 'special', 'effect', 'help', 'think', 'one', 'best', 'ever', 'made', 'sure', 'youll', 'agre', 'good', 'time', 'watch', 'bought', 'apart', 'infest', 'fruit', 'fli', 'hour', 'trap', 'mani', 'within', 'day', 'practic']\n"
     ]
    }
   ],
   "source": [
    "w2v_words = list(w2v_model.wv.vocab)\n",
    "print(\"number of words that occured minimum 5 times \",len(w2v_words))\n",
    "print(\"sample words \", w2v_words[0:50])"
   ]
  },
  {
   "cell_type": "markdown",
   "metadata": {
    "_uuid": "b1eb0e2bab898fe40257a620f0d61974b14db451",
    "colab_type": "text",
    "id": "2MgX5dnU-dBX"
   },
   "source": [
    "# [7] Avg Word2Vec"
   ]
  },
  {
   "cell_type": "code",
   "execution_count": 68,
   "metadata": {
    "_uuid": "4007c7d53c1b1f9cc59d816a31c6a847507f24c5",
    "colab": {
     "base_uri": "https://localhost:8080/",
     "height": 68
    },
    "colab_type": "code",
    "id": "DszMBuqj-dBZ",
    "outputId": "4cf950a3-82d8-4647-b610-b943fada4557"
   },
   "outputs": [
    {
     "name": "stderr",
     "output_type": "stream",
     "text": [
      "100%|██████████| 100000/100000 [02:25<00:00, 686.81it/s]"
     ]
    },
    {
     "name": "stdout",
     "output_type": "stream",
     "text": [
      "100000\n",
      "50\n"
     ]
    },
    {
     "name": "stderr",
     "output_type": "stream",
     "text": [
      "\n"
     ]
    }
   ],
   "source": [
    "# average Word2Vec\n",
    "# compute average word2vec for each review.\n",
    "sent_vectors = []; # the avg-w2v for each sentence/review is stored in this list\n",
    "for sent in tqdm(list_of_sent): # for each review/sentence\n",
    "    sent_vec = np.zeros(50) # as word vectors are of zero length\n",
    "    cnt_words =0; # num of words with a valid vector in the sentence/review\n",
    "    for word in sent: # for each word in a review/sentence\n",
    "        if word in w2v_words:\n",
    "            vec = w2v_model.wv[word]\n",
    "            sent_vec += vec\n",
    "            cnt_words += 1\n",
    "    if cnt_words != 0:\n",
    "        sent_vec /= cnt_words\n",
    "    sent_vectors.append(sent_vec)\n",
    "print(len(sent_vectors))\n",
    "print(len(sent_vectors[0]))"
   ]
  },
  {
   "cell_type": "code",
   "execution_count": 0,
   "metadata": {
    "_uuid": "3d329b928a0066f70a0e63e97bf3ab77b18a3a52",
    "colab": {},
    "colab_type": "code",
    "id": "0VUdGIzy-dBh"
   },
   "outputs": [],
   "source": [
    "# Spliting into Train and test\n",
    "X_train, X_test, y_train, y_test = train_test_split(sent_vectors, data['Score'].values, test_size=0.3, shuffle=False)"
   ]
  },
  {
   "cell_type": "markdown",
   "metadata": {
    "_uuid": "a0209995846fe96e4a6ad01bdaf4f1ed929234c3",
    "colab_type": "text",
    "id": "fch18fYR-dBm"
   },
   "source": [
    "## [7.1] Logistic Regression with GridSearchCV"
   ]
  },
  {
   "cell_type": "code",
   "execution_count": 0,
   "metadata": {
    "_uuid": "28b3228a8c55d9e1ed5e0b055e6b672ee75abaeb",
    "colab": {},
    "colab_type": "code",
    "id": "ciSEuN-L-dBn",
    "outputId": "1d6c03d8-5a10-4fb7-9f31-f2cb2f529dcb"
   },
   "outputs": [
    {
     "name": "stdout",
     "output_type": "stream",
     "text": [
      "Fitting 10 folds for each of 30 candidates, totalling 300 fits\n"
     ]
    },
    {
     "name": "stderr",
     "output_type": "stream",
     "text": [
      "[Parallel(n_jobs=-1)]: Done  42 tasks      | elapsed:  5.5min\n",
      "[Parallel(n_jobs=-1)]: Done 192 tasks      | elapsed: 20.8min\n",
      "[Parallel(n_jobs=-1)]: Done 300 out of 300 | elapsed: 28.5min finished\n"
     ]
    },
    {
     "name": "stdout",
     "output_type": "stream",
     "text": [
      "Best HyperParameter:  {'C': 1000, 'penalty': 'l2'}\n",
      "Best Accuracy: 89.40%\n"
     ]
    }
   ],
   "source": [
    "from sklearn.model_selection import GridSearchCV\n",
    "\n",
    "clf = LogisticRegression(max_iter=100)\n",
    "\n",
    "param_grid = {'C':[1000,500,100,50,10,5,1,0.5,0.1,0.05,0.01,0.005,0.001,0.0005,0.0001],\n",
    "             'penalty':['l1','l2']} \n",
    "tscv = TimeSeriesSplit(n_splits=10) \n",
    "gsv = GridSearchCV(clf,param_grid,cv=tscv, scoring='f1_micro', verbose=1, n_jobs = -1)\n",
    "gsv.fit(X_train,y_train)\n",
    "\n",
    "print(\"Best HyperParameter: \",gsv.best_params_)\n",
    "print(\"Best Accuracy: %.2f%%\"%(gsv.best_score_*100))"
   ]
  },
  {
   "cell_type": "code",
   "execution_count": 0,
   "metadata": {
    "colab": {},
    "colab_type": "code",
    "id": "RXFwqD1M-dBt",
    "outputId": "7312af6e-dc40-4b81-c8ee-d1a70db9005b"
   },
   "outputs": [
    {
     "data": {
      "image/png": "[encoded data removed]",
      "text/plain": [
       "<Figure size 432x288 with 1 Axes>"
      ]
     },
     "metadata": {
      "tags": []
     },
     "output_type": "display_data"
    }
   ],
   "source": [
    "plot_grid(gsv)"
   ]
  },
  {
   "cell_type": "code",
   "execution_count": 0,
   "metadata": {
    "_uuid": "8d96dfa3108403b4380175f233b4a17f51348885",
    "colab": {},
    "colab_type": "code",
    "id": "tRWZQl9T-dB0",
    "outputId": "e51523e3-db90-4a42-c410-f8347f005c8c"
   },
   "outputs": [
    {
     "name": "stdout",
     "output_type": "stream",
     "text": [
      "Accuracy on test set: 88.490%\n",
      "Precision on test set: 0.902\n",
      "Recall on test set: 0.966\n",
      "F1-Score on test set: 0.933\n"
     ]
    },
    {
     "data": {
      "image/png": "[encoded data removed]",
      "text/plain": [
       "<Figure size 1440x288 with 6 Axes>"
      ]
     },
     "metadata": {
      "tags": []
     },
     "output_type": "display_data"
    }
   ],
   "source": [
    "#Testing Accuracy on Test data\n",
    "clf = LogisticRegression(C= 1000, penalty= 'l2')\n",
    "clf.fit(X_train,y_train)\n",
    "y_pred = clf.predict(X_test)\n",
    "\n",
    "print(\"Accuracy on test set: %0.3f%%\"%(accuracy_score(y_test, y_pred)*100))\n",
    "print(\"Precision on test set: %0.3f\"%(precision_score(y_test, y_pred)))\n",
    "print(\"Recall on test set: %0.3f\"%(recall_score(y_test, y_pred)))\n",
    "print(\"F1-Score on test set: %0.3f\"%(f1_score(y_test, y_pred)))\n",
    "plot_confusion_matrix(y_test, y_pred)"
   ]
  },
  {
   "cell_type": "markdown",
   "metadata": {
    "_uuid": "d0c856e5369901142518243ffe93888ba2ac120a",
    "colab_type": "text",
    "id": "OlTK-4qj-dB5"
   },
   "source": [
    "## [7.2] Logistic Regression with RandomSearchCV"
   ]
  },
  {
   "cell_type": "code",
   "execution_count": 0,
   "metadata": {
    "_uuid": "47b4672a8435a18fbae35a3e3fae81be545b3e85",
    "colab": {},
    "colab_type": "code",
    "id": "zA7txAul-dB7",
    "outputId": "34b20e33-86df-469c-ea78-8f3b6aa432df"
   },
   "outputs": [
    {
     "name": "stdout",
     "output_type": "stream",
     "text": [
      "Fitting 10 folds for each of 10 candidates, totalling 100 fits\n"
     ]
    },
    {
     "name": "stderr",
     "output_type": "stream",
     "text": [
      "[Parallel(n_jobs=-1)]: Done  42 tasks      | elapsed:  3.4min\n",
      "[Parallel(n_jobs=-1)]: Done 100 out of 100 | elapsed:  9.4min finished\n"
     ]
    },
    {
     "name": "stdout",
     "output_type": "stream",
     "text": [
      "Best HyperParameter:  {'penalty': 'l2', 'C': 1000}\n",
      "Best Accuracy: 89.40%\n"
     ]
    }
   ],
   "source": [
    "from sklearn.model_selection import RandomizedSearchCV\n",
    "\n",
    "clf = LogisticRegression(max_iter=100)\n",
    "param_grid = {'C':[1000,500,100,50,10,5,1,0.5,0.1,0.05,0.01,0.005,0.001,0.0005,0.0001]\n",
    "              ,'penalty':['l1','l2']}\n",
    "tscv = TimeSeriesSplit(n_splits=10) \n",
    "gsv = RandomizedSearchCV(clf,param_grid,cv=tscv, scoring='f1_micro', verbose=1, n_jobs = -1)\n",
    "gsv.fit(X_train,y_train)\n",
    "\n",
    "print(\"Best HyperParameter: \",gsv.best_params_)\n",
    "print(\"Best Accuracy: %.2f%%\"%(gsv.best_score_*100))"
   ]
  },
  {
   "cell_type": "code",
   "execution_count": 0,
   "metadata": {
    "colab": {},
    "colab_type": "code",
    "id": "D59jo5cs-dCB",
    "outputId": "b571ce56-b1d1-4ffc-b25b-ba9aa1a07bfc"
   },
   "outputs": [
    {
     "data": {
      "image/png": "[encoded data removed]",
      "text/plain": [
       "<Figure size 432x288 with 1 Axes>"
      ]
     },
     "metadata": {
      "tags": []
     },
     "output_type": "display_data"
    }
   ],
   "source": [
    "plot_random(gsv)"
   ]
  },
  {
   "cell_type": "code",
   "execution_count": 0,
   "metadata": {
    "_uuid": "2145f056b6ffce5514d21d7e077ad6b8496a3173",
    "colab": {},
    "colab_type": "code",
    "id": "VHw4nh3s-dCI",
    "outputId": "5dfc2ea7-2a5c-4c57-b660-ceb33ec6daa1"
   },
   "outputs": [
    {
     "name": "stdout",
     "output_type": "stream",
     "text": [
      "Accuracy on test set: 88.490%\n",
      "Precision on test set: 0.902\n",
      "Recall on test set: 0.966\n",
      "F1-Score on test set: 0.933\n"
     ]
    },
    {
     "data": {
      "image/png": "[encoded data removed]",
      "text/plain": [
       "<Figure size 1440x288 with 6 Axes>"
      ]
     },
     "metadata": {
      "tags": []
     },
     "output_type": "display_data"
    }
   ],
   "source": [
    "#Testing Accuracy on Test data\n",
    "clf = LogisticRegression(C= 1000, penalty= 'l2')\n",
    "clf.fit(X_train,y_train)\n",
    "y_pred = clf.predict(X_test)\n",
    "\n",
    "print(\"Accuracy on test set: %0.3f%%\"%(accuracy_score(y_test, y_pred)*100))\n",
    "print(\"Precision on test set: %0.3f\"%(precision_score(y_test, y_pred)))\n",
    "print(\"Recall on test set: %0.3f\"%(recall_score(y_test, y_pred)))\n",
    "print(\"F1-Score on test set: %0.3f\"%(f1_score(y_test, y_pred)))\n",
    "plot_confusion_matrix(y_test, y_pred)"
   ]
  },
  {
   "cell_type": "markdown",
   "metadata": {
    "_uuid": "fb38328ab7ce08b6fc06d3fbf322d96e60e16d16",
    "colab_type": "text",
    "id": "t3asA_o--dCS"
   },
   "source": [
    "## [7.3] Pertubation Test"
   ]
  },
  {
   "cell_type": "code",
   "execution_count": 93,
   "metadata": {
    "_uuid": "cc16138661186b690a6600c4d3553115804b8f40",
    "colab": {
     "base_uri": "https://localhost:8080/",
     "height": 34
    },
    "colab_type": "code",
    "id": "ydpYLtN_-dCV",
    "outputId": "c9ee3529-b6eb-465e-e301-c4a48d291c57"
   },
   "outputs": [
    {
     "name": "stdout",
     "output_type": "stream",
     "text": [
      "Non Zero weights: 50\n"
     ]
    }
   ],
   "source": [
    "clf_1 = LogisticRegression(C= 1000, penalty= 'l2')\n",
    "clf_1.fit(X_train,y_train)\n",
    "y_pred = clf_1.predict(X_test)\n",
    "w=clf_1.coef_\n",
    "print(\"Non Zero weights:\",np.count_nonzero(w))"
   ]
  },
  {
   "cell_type": "code",
   "execution_count": 94,
   "metadata": {
    "_uuid": "af02d561276a9cee6c8a728e158bf21871cdb563",
    "colab": {
     "base_uri": "https://localhost:8080/",
     "height": 85
    },
    "colab_type": "code",
    "id": "Gqy-CMn1-dCb",
    "outputId": "4e57ef06-7573-4a3a-ccfb-c92e79c98680"
   },
   "outputs": [
    {
     "name": "stdout",
     "output_type": "stream",
     "text": [
      "[ 0.20817148 -0.51055397 -0.00435209  0.49896239  0.79431864  1.4453521\n",
      "  0.23580731 -0.83598098 -0.43695513 -0.58346914  0.91388318  0.35752245\n",
      "  0.71330324 -0.62613027  0.04348307 -0.41645162  0.28431257  0.51027533\n",
      "  0.01017499 -0.61802459]\n"
     ]
    }
   ],
   "source": [
    "weights1 = find(clf_1.coef_[0])[2]    #Before adding random noise\n",
    "print(weights1[:20])"
   ]
  },
  {
   "cell_type": "code",
   "execution_count": 0,
   "metadata": {
    "colab": {},
    "colab_type": "code",
    "id": "lWPAgUp6-dCh"
   },
   "outputs": [],
   "source": [
    "X_train = preprocessing.normalize(X_train)\n",
    "X_train_t = X_train\n",
    "epsilon = np.random.uniform(low=-0.0001, high=0.0001, size=(find(X_train_t)[0].size,))\n",
    "a,b,c = find(X_train_t)      #Value of non-zero datapoints\n",
    "\n",
    "X_train_t[a,b] = epsilon + X_train_t[a,b]     #Adding noise to non-zero datapoints"
   ]
  },
  {
   "cell_type": "code",
   "execution_count": 96,
   "metadata": {
    "colab": {
     "base_uri": "https://localhost:8080/",
     "height": 34
    },
    "colab_type": "code",
    "id": "WiLHlv9N-dCr",
    "outputId": "cc324d7b-32a9-431e-d34c-bf702a133d47"
   },
   "outputs": [
    {
     "name": "stdout",
     "output_type": "stream",
     "text": [
      "Non Zero weights: 50\n"
     ]
    }
   ],
   "source": [
    "clf_2 = LogisticRegression(C= 10, penalty= 'l2')    #Train data having random noise\n",
    "clf_2.fit(X_train_t,y_train)\n",
    "y_pred = clf_2.predict(X_test)\n",
    "w=clf_2.coef_\n",
    "print(\"Non Zero weights:\",np.count_nonzero(w))"
   ]
  },
  {
   "cell_type": "code",
   "execution_count": 97,
   "metadata": {
    "colab": {
     "base_uri": "https://localhost:8080/",
     "height": 85
    },
    "colab_type": "code",
    "id": "71KaBUrU-dC_",
    "outputId": "40a2feb1-f14d-492c-abe0-16e3c285e313"
   },
   "outputs": [
    {
     "name": "stdout",
     "output_type": "stream",
     "text": [
      "[ 1.4395561  -0.41068083 -0.29749648  2.11749526  1.77088839  4.11083438\n",
      " -0.52583832 -2.05943108 -1.48055019 -2.1584912   3.46913814  1.12015471\n",
      "  1.01028074 -0.7419525  -0.23478578 -0.71668284  2.00144003  2.06629972\n",
      "  1.46198892 -0.54708415]\n"
     ]
    }
   ],
   "source": [
    "weights2 = find(clf_2.coef_[0])[2]      #After adding random noise\n",
    "print(weights2[:20])"
   ]
  },
  {
   "cell_type": "code",
   "execution_count": 98,
   "metadata": {
    "colab": {
     "base_uri": "https://localhost:8080/",
     "height": 187
    },
    "colab_type": "code",
    "id": "p433LYPH-dDG",
    "outputId": "ffc18a2b-03b0-48e0-9b35-446926bb7564"
   },
   "outputs": [
    {
     "name": "stdout",
     "output_type": "stream",
     "text": [
      "[ 0.20817248 -0.51055297 -0.00435109  0.49896339  0.79431964  1.4453531\n",
      "  0.23580831 -0.83597998 -0.43695413 -0.58346814  0.91388418  0.35752345\n",
      "  0.71330424 -0.62612927  0.04348407 -0.41645062  0.28431357  0.51027633\n",
      "  0.01017599 -0.61802359 -1.83892342 -0.24880665 -0.86188123  0.60477123\n",
      " -1.14310856]\n",
      "[ 1.4395571  -0.41067983 -0.29749548  2.11749626  1.77088939  4.11083538\n",
      " -0.52583732 -2.05943008 -1.48054919 -2.1584902   3.46913914  1.12015571\n",
      "  1.01028174 -0.7419515  -0.23478478 -0.71668184  2.00144103  2.06630072\n",
      "  1.46198992 -0.54708315 -6.88247796 -0.99264812 -1.10687578  2.24645189\n",
      " -3.74691053]\n"
     ]
    }
   ],
   "source": [
    "# Add the small eps value(to eliminate the divisible by zero error) to W and W’ i.e W=W+10^-6 and W’ = W’+10^-6\n",
    "epsilon = 0.000001\n",
    "weights1 = weights1 + epsilon\n",
    "print(weights1[:25])\n",
    "\n",
    "weights2 = weights2 + epsilon\n",
    "print(weights2[:25])"
   ]
  },
  {
   "cell_type": "code",
   "execution_count": 0,
   "metadata": {
    "colab": {},
    "colab_type": "code",
    "id": "aq7KzawS-dDV"
   },
   "outputs": [],
   "source": [
    "weights_diff = (abs(weights1 - weights2)/weights1) * 100"
   ]
  },
  {
   "cell_type": "code",
   "execution_count": 105,
   "metadata": {
    "colab": {
     "base_uri": "https://localhost:8080/",
     "height": 187
    },
    "colab_type": "code",
    "id": "z0f_BRcM_pS8",
    "outputId": "9bff7d2d-1c08-48a3-8403-ad37a073c386"
   },
   "outputs": [
    {
     "name": "stdout",
     "output_type": "stream",
     "text": [
      "25\n",
      "25\n",
      "25\n",
      "24\n",
      "23\n",
      "22\n",
      "22\n",
      "22\n",
      "21\n",
      "21\n"
     ]
    }
   ],
   "source": [
    "print(weights_diff[np.where(weights_diff > 10)].size)\n",
    "print(weights_diff[np.where(weights_diff > 20)].size)\n",
    "print(weights_diff[np.where(weights_diff > 30)].size)\n",
    "print(weights_diff[np.where(weights_diff > 40)].size)\n",
    "print(weights_diff[np.where(weights_diff > 50)].size)\n",
    "print(weights_diff[np.where(weights_diff > 60)].size)\n",
    "print(weights_diff[np.where(weights_diff > 70)].size)\n",
    "print(weights_diff[np.where(weights_diff > 80)].size)\n",
    "print(weights_diff[np.where(weights_diff > 90)].size)\n",
    "print(weights_diff[np.where(weights_diff > 100)].size)"
   ]
  },
  {
   "cell_type": "markdown",
   "metadata": {
    "colab_type": "text",
    "id": "VepU6_rE-dDb"
   },
   "source": [
    "**24 features weight changes more than 40%. Hence, the features are multicollinear **"
   ]
  },
  {
   "cell_type": "markdown",
   "metadata": {
    "_uuid": "7ad13061e1fcfeb2d80da86b29e8ed7c73045835",
    "colab_type": "text",
    "id": "KnAshOLV-dDd"
   },
   "source": [
    "# [8] TF-IDF Word2Vec"
   ]
  },
  {
   "cell_type": "code",
   "execution_count": 0,
   "metadata": {
    "_uuid": "07ae3e4827e62186fe4f8d50491b85133f214229",
    "colab": {},
    "colab_type": "code",
    "id": "GemrVzXC-dDf"
   },
   "outputs": [],
   "source": [
    "model = TfidfVectorizer()\n",
    "tf_idf_matrix = model.fit_transform(data['CleanedText'].values)\n",
    "# we are converting a dictionary with word as a key, and the idf as a value\n",
    "dictionary = dict(zip(model.get_feature_names(), list(model.idf_)))"
   ]
  },
  {
   "cell_type": "code",
   "execution_count": 112,
   "metadata": {
    "_uuid": "a56d6012ae255c0cc93f313e8e334c0ce06b1866",
    "colab": {
     "base_uri": "https://localhost:8080/",
     "height": 34
    },
    "colab_type": "code",
    "id": "fS4ZHSxP-dDj",
    "outputId": "08dc134e-0d4f-4832-ca9c-0703bf3ab441"
   },
   "outputs": [
    {
     "name": "stderr",
     "output_type": "stream",
     "text": [
      "100%|██████████| 100000/100000 [03:17<00:00, 506.01it/s]\n"
     ]
    }
   ],
   "source": [
    "# TF-IDF weighted Word2Vec\n",
    "tfidf_feat = model.get_feature_names() # tfidf words/col-names\n",
    "# final_tf_idf is the sparse matrix with row= sentence, col=word and cell_val = tfidf\n",
    "\n",
    "tfidf_sent_vectors = []; # the tfidf-w2v for each sentence/review is stored in this list\n",
    "row=0;\n",
    "for sent in tqdm(list_of_sent): # for each review/sentence \n",
    "    sent_vec = np.zeros(50) # as word vectors are of zero length\n",
    "    weight_sum =0; # num of words with a valid vector in the sentence/review\n",
    "    for word in sent: # for each word in a review/sentence\n",
    "        if word in w2v_words:\n",
    "            vec = w2v_model.wv[word]\n",
    "#             tf_idf = tf_idf_matrix[row, tfidf_feat.index(word)]\n",
    "            # to reduce the computation we are \n",
    "            # dictionary[word] = idf value of word in whole courpus\n",
    "            # sent.count(word) = tf valeus of word in this review\n",
    "            tf_idf = dictionary[word]*(sent.count(word)/len(sent))\n",
    "            sent_vec += (vec * tf_idf)\n",
    "            weight_sum += tf_idf\n",
    "    if weight_sum != 0:\n",
    "        sent_vec /= weight_sum\n",
    "    tfidf_sent_vectors.append(sent_vec)\n",
    "    row += 1"
   ]
  },
  {
   "cell_type": "code",
   "execution_count": 0,
   "metadata": {
    "_uuid": "e97842e62e2ec14d2a6fe2917ed702f2abcf525e",
    "colab": {},
    "colab_type": "code",
    "id": "VKPdmMvC-dDq"
   },
   "outputs": [],
   "source": [
    "# Spliting into Train and test\n",
    "X_train, X_test, y_train, y_test = train_test_split(tfidf_sent_vectors, data['Score'].values, test_size=0.3, shuffle=False)"
   ]
  },
  {
   "cell_type": "markdown",
   "metadata": {
    "_uuid": "d115d85cbcd41097f09579b623e5f5939d025203",
    "colab_type": "text",
    "id": "Dj9-cCMq-dDy"
   },
   "source": [
    "## [8.1] Logistic Regression with GridSearchCV"
   ]
  },
  {
   "cell_type": "code",
   "execution_count": 0,
   "metadata": {
    "_uuid": "407a89c9e4f1dbac19cff11d978cced69d5bc719",
    "colab": {},
    "colab_type": "code",
    "id": "j_VNyf3t-dDz",
    "outputId": "d6551313-f2e9-451c-83df-f84a326f0921"
   },
   "outputs": [
    {
     "name": "stdout",
     "output_type": "stream",
     "text": [
      "Fitting 10 folds for each of 30 candidates, totalling 300 fits\n"
     ]
    },
    {
     "name": "stderr",
     "output_type": "stream",
     "text": [
      "[Parallel(n_jobs=-1)]: Done  42 tasks      | elapsed:  3.5min\n",
      "[Parallel(n_jobs=-1)]: Done 192 tasks      | elapsed: 13.1min\n",
      "[Parallel(n_jobs=-1)]: Done 300 out of 300 | elapsed: 20.5min finished\n"
     ]
    },
    {
     "name": "stdout",
     "output_type": "stream",
     "text": [
      "Best HyperParameter:  {'C': 1, 'penalty': 'l1'}\n",
      "Best Accuracy: 87.97%\n"
     ]
    }
   ],
   "source": [
    "from sklearn.model_selection import GridSearchCV\n",
    "\n",
    "clf = LogisticRegression(max_iter=100)\n",
    "\n",
    "param_grid = {'C':[1000,500,100,50,10,5,1,0.5,0.1,0.05,0.01,0.005,0.001,0.0005,0.0001],\n",
    "             'penalty':['l1','l2']} \n",
    "tscv = TimeSeriesSplit(n_splits=10) \n",
    "gsv = GridSearchCV(clf,param_grid,cv=tscv, scoring='f1_micro', verbose=1, n_jobs = -1)\n",
    "gsv.fit(X_train,y_train)\n",
    "\n",
    "print(\"Best HyperParameter: \",gsv.best_params_)\n",
    "print(\"Best Accuracy: %.2f%%\"%(gsv.best_score_*100))"
   ]
  },
  {
   "cell_type": "code",
   "execution_count": 0,
   "metadata": {
    "colab": {},
    "colab_type": "code",
    "id": "Gl8tfgY_-dD5",
    "outputId": "db4c78e2-67fe-4a67-ae8c-a7f68533e4e7"
   },
   "outputs": [
    {
     "name": "stderr",
     "output_type": "stream",
     "text": [
      "C:\\Anaconda\\lib\\site-packages\\sklearn\\model_selection\\_search.py:761: DeprecationWarning: The grid_scores_ attribute was deprecated in version 0.18 in favor of the more elaborate cv_results_ attribute. The grid_scores_ attribute will not be available from 0.20\n",
      "  DeprecationWarning)\n"
     ]
    },
    {
     "data": {
      "image/png": "[encoded data removed]",
      "text/plain": [
       "<Figure size 432x288 with 1 Axes>"
      ]
     },
     "metadata": {
      "tags": []
     },
     "output_type": "display_data"
    }
   ],
   "source": [
    "plot_grid(gsv)"
   ]
  },
  {
   "cell_type": "code",
   "execution_count": 0,
   "metadata": {
    "_uuid": "532fcffdba1efe72af11b3424c378378a98f513c",
    "colab": {},
    "colab_type": "code",
    "id": "y_l0QnXW-dD-",
    "outputId": "b09bfd84-6884-4b39-b7db-6b2cfd3e3116"
   },
   "outputs": [
    {
     "name": "stdout",
     "output_type": "stream",
     "text": [
      "Accuracy on test set: 88.430%\n",
      "Precision on test set: 0.902\n",
      "Recall on test set: 0.967\n",
      "F1-Score on test set: 0.934\n"
     ]
    },
    {
     "data": {
      "image/png": "[encoded data removed]",
      "text/plain": [
       "<Figure size 1440x288 with 6 Axes>"
      ]
     },
     "metadata": {
      "tags": []
     },
     "output_type": "display_data"
    }
   ],
   "source": [
    "#Testing Accuracy on Test data\n",
    "clf = LogisticRegression(C= 1, penalty= 'l1')\n",
    "clf.fit(X_train,y_train)\n",
    "y_pred = clf.predict(X_test)\n",
    "\n",
    "print(\"Accuracy on test set: %0.3f%%\"%(accuracy_score(y_test, y_pred)*100))\n",
    "print(\"Precision on test set: %0.3f\"%(precision_score(y_test, y_pred)))\n",
    "print(\"Recall on test set: %0.3f\"%(recall_score(y_test, y_pred)))\n",
    "print(\"F1-Score on test set: %0.3f\"%(f1_score(y_test, y_pred)))\n",
    "plot_confusion_matrix(y_test, y_pred)"
   ]
  },
  {
   "cell_type": "markdown",
   "metadata": {
    "_uuid": "5f3071ae5a31d4117aa9bcc5f50572585c374633",
    "colab_type": "text",
    "id": "I09rIMzR-dEE"
   },
   "source": [
    "## [8.2] Logistic Regression with RandomSearchCV"
   ]
  },
  {
   "cell_type": "code",
   "execution_count": 0,
   "metadata": {
    "_uuid": "7099ae17fb227844163f01d4fa6497a1a9ebbed7",
    "colab": {},
    "colab_type": "code",
    "id": "3dYTsZCk-dEG",
    "outputId": "5ffd26ab-9036-4fcd-c1f6-86b7ebb434c6"
   },
   "outputs": [
    {
     "name": "stdout",
     "output_type": "stream",
     "text": [
      "Fitting 10 folds for each of 10 candidates, totalling 100 fits\n"
     ]
    },
    {
     "name": "stderr",
     "output_type": "stream",
     "text": [
      "[Parallel(n_jobs=-1)]: Done  42 tasks      | elapsed:  3.8min\n",
      "[Parallel(n_jobs=-1)]: Done 100 out of 100 | elapsed:  8.1min finished\n"
     ]
    },
    {
     "name": "stdout",
     "output_type": "stream",
     "text": [
      "Best HyperParameter:  {'penalty': 'l1', 'C': 1}\n",
      "Best Accuracy: 87.97%\n"
     ]
    }
   ],
   "source": [
    "from sklearn.model_selection import RandomizedSearchCV\n",
    "\n",
    "clf = LogisticRegression(max_iter=100)\n",
    "param_grid = {'C':[1000,500,100,50,10,5,1,0.5,0.1,0.05,0.01,0.005,0.001,0.0005,0.0001]\n",
    "              ,'penalty':['l1','l2']}\n",
    "tscv = TimeSeriesSplit(n_splits=10) \n",
    "gsv = RandomizedSearchCV(clf,param_grid,cv=tscv, scoring='f1_micro', verbose=1, n_jobs = -1)\n",
    "gsv.fit(X_train,y_train)\n",
    "\n",
    "print(\"Best HyperParameter: \",gsv.best_params_)\n",
    "print(\"Best Accuracy: %.2f%%\"%(gsv.best_score_*100))"
   ]
  },
  {
   "cell_type": "code",
   "execution_count": 0,
   "metadata": {
    "colab": {},
    "colab_type": "code",
    "id": "WyNq8oN2-dEP",
    "outputId": "ec52d756-79ba-423f-ccff-73435ddde938"
   },
   "outputs": [
    {
     "name": "stderr",
     "output_type": "stream",
     "text": [
      "C:\\Anaconda\\lib\\site-packages\\sklearn\\model_selection\\_search.py:761: DeprecationWarning: The grid_scores_ attribute was deprecated in version 0.18 in favor of the more elaborate cv_results_ attribute. The grid_scores_ attribute will not be available from 0.20\n",
      "  DeprecationWarning)\n"
     ]
    },
    {
     "data": {
      "image/png": "[encoded data removed]",
      "text/plain": [
       "<Figure size 432x288 with 1 Axes>"
      ]
     },
     "metadata": {
      "tags": []
     },
     "output_type": "display_data"
    }
   ],
   "source": [
    "plot_random(gsv)"
   ]
  },
  {
   "cell_type": "code",
   "execution_count": 0,
   "metadata": {
    "_uuid": "9c25681f03490f1b4cac56a473388ea3ab5d5ae4",
    "colab": {},
    "colab_type": "code",
    "id": "e6xn_cfO-dEc",
    "outputId": "a534fa67-ce4d-40ab-b847-70cbe14b1841"
   },
   "outputs": [
    {
     "name": "stdout",
     "output_type": "stream",
     "text": [
      "Accuracy on test set: 88.430%\n",
      "Precision on test set: 0.902\n",
      "Recall on test set: 0.967\n",
      "F1-Score on test set: 0.934\n"
     ]
    },
    {
     "data": {
      "image/png": "[encoded data removed]",
      "text/plain": [
       "<Figure size 1440x288 with 6 Axes>"
      ]
     },
     "metadata": {
      "tags": []
     },
     "output_type": "display_data"
    }
   ],
   "source": [
    "#Testing Accuracy on Test data\n",
    "clf = LogisticRegression(C= 1, penalty= 'l1')\n",
    "clf.fit(X_train,y_train)\n",
    "y_pred = clf.predict(X_test)\n",
    "\n",
    "print(\"Accuracy on test set: %0.3f%%\"%(accuracy_score(y_test, y_pred)*100))\n",
    "print(\"Precision on test set: %0.3f\"%(precision_score(y_test, y_pred)))\n",
    "print(\"Recall on test set: %0.3f\"%(recall_score(y_test, y_pred)))\n",
    "print(\"F1-Score on test set: %0.3f\"%(f1_score(y_test, y_pred)))\n",
    "plot_confusion_matrix(y_test, y_pred)"
   ]
  },
  {
   "cell_type": "markdown",
   "metadata": {
    "_uuid": "f62f5fcbf460e7ce5e0111ae6fe34ea2a5601abe",
    "colab_type": "text",
    "id": "Morp6r8J-dEk"
   },
   "source": [
    "## [8.3] Pertubation Test"
   ]
  },
  {
   "cell_type": "code",
   "execution_count": 115,
   "metadata": {
    "_uuid": "56b016bc32cab0c042085eeb1846dec7b916839a",
    "colab": {
     "base_uri": "https://localhost:8080/",
     "height": 34
    },
    "colab_type": "code",
    "id": "ZdOdHonG-dEn",
    "outputId": "52d419d9-ab38-40d6-d8a3-afb0bba53d23"
   },
   "outputs": [
    {
     "name": "stdout",
     "output_type": "stream",
     "text": [
      "Non Zero weights: 50\n"
     ]
    }
   ],
   "source": [
    "clf_1 = LogisticRegression(C= 500, penalty= 'l2')\n",
    "clf_1.fit(X_train,y_train)\n",
    "y_pred = clf_1.predict(X_test)\n",
    "w=clf_1.coef_\n",
    "print(\"Non Zero weights:\",np.count_nonzero(w))"
   ]
  },
  {
   "cell_type": "code",
   "execution_count": 116,
   "metadata": {
    "_uuid": "caa81dd5aaf0abc6ae1b687b62f46d9363c3c6b5",
    "colab": {
     "base_uri": "https://localhost:8080/",
     "height": 102
    },
    "colab_type": "code",
    "id": "9N0wQOWq-dE6",
    "outputId": "4710a005-843f-48c5-d48a-fc584557123b"
   },
   "outputs": [
    {
     "name": "stdout",
     "output_type": "stream",
     "text": [
      "[ 0.22990601 -0.54614728 -0.16952061  0.11868524  0.56601246  1.20741507\n",
      "  0.31193965 -0.82413947 -0.45181008 -0.34751996  0.8471061   0.3265579\n",
      "  0.66942314 -0.52487757  0.12732448 -0.32554214  0.2208702   0.41044978\n",
      " -0.12283878 -0.71105966 -1.30715928 -0.06837285 -1.01145984  0.328391\n",
      " -1.2548142 ]\n"
     ]
    }
   ],
   "source": [
    "weights1 = find(clf_1.coef_[0])[2]       #Before adding random noise\n",
    "print(weights1[:25])"
   ]
  },
  {
   "cell_type": "code",
   "execution_count": 0,
   "metadata": {
    "colab": {},
    "colab_type": "code",
    "id": "ROJRwTgg-dE_"
   },
   "outputs": [],
   "source": [
    "X_train = preprocessing.normalize(X_train)\n",
    "X_train_t = X_train\n",
    "epsilon = np.random.uniform(low=-0.0001, high=0.0001, size=(find(X_train_t)[0].size,))\n",
    "a,b,c = find(X_train_t)   #Value of non-zero datapoints\n",
    "\n",
    "X_train_t[a,b] = epsilon + X_train_t[a,b]    #Adding noise to non-zero datapoints"
   ]
  },
  {
   "cell_type": "code",
   "execution_count": 118,
   "metadata": {
    "colab": {
     "base_uri": "https://localhost:8080/",
     "height": 34
    },
    "colab_type": "code",
    "id": "raaPkYAI-dFC",
    "outputId": "2d3da5d1-e89a-4958-b3cd-e97090f07561"
   },
   "outputs": [
    {
     "name": "stdout",
     "output_type": "stream",
     "text": [
      "Non Zero weights: 50\n"
     ]
    }
   ],
   "source": [
    "clf_2 = LogisticRegression(C= 10, penalty= 'l2')    #Train data having random noise\n",
    "clf_2.fit(X_train_t,y_train)\n",
    "y_pred = clf_2.predict(X_test)\n",
    "w=clf_2.coef_\n",
    "print(\"Non Zero weights:\",np.count_nonzero(w))"
   ]
  },
  {
   "cell_type": "code",
   "execution_count": 119,
   "metadata": {
    "colab": {
     "base_uri": "https://localhost:8080/",
     "height": 136
    },
    "colab_type": "code",
    "id": "ecZ7Ih1U-dFH",
    "outputId": "20188387-185f-4605-910c-3d3d216b593f"
   },
   "outputs": [
    {
     "name": "stdout",
     "output_type": "stream",
     "text": [
      "[ 1.69778278e+00 -5.11877483e-01 -7.54792394e-01  1.12956661e+00\n",
      "  9.76475455e-01  3.14819971e+00 -5.61805010e-01 -2.05394810e+00\n",
      " -1.57890188e+00 -1.42157237e+00  3.38053770e+00  1.26364785e+00\n",
      "  7.14959663e-01 -7.69098444e-02 -2.02130075e-03 -2.15659825e-01\n",
      "  2.13097630e+00  1.66549710e+00  1.24507670e+00 -4.22571398e-01\n",
      " -5.57509927e+00 -3.05883961e-01 -1.23431512e+00  1.36883392e+00\n",
      " -4.11993983e+00]\n"
     ]
    }
   ],
   "source": [
    "weights2 = find(clf_2.coef_[0])[2]      #After adding random noise\n",
    "print(weights2[:25])"
   ]
  },
  {
   "cell_type": "code",
   "execution_count": 120,
   "metadata": {
    "colab": {
     "base_uri": "https://localhost:8080/",
     "height": 221
    },
    "colab_type": "code",
    "id": "rOCbhaxw-dFV",
    "outputId": "ca05f64e-3fae-4f03-cc09-169a872ddfb1"
   },
   "outputs": [
    {
     "name": "stdout",
     "output_type": "stream",
     "text": [
      "[ 0.22990701 -0.54614628 -0.16951961  0.11868624  0.56601346  1.20741607\n",
      "  0.31194065 -0.82413847 -0.45180908 -0.34751896  0.8471071   0.3265589\n",
      "  0.66942414 -0.52487657  0.12732548 -0.32554114  0.2208712   0.41045078\n",
      " -0.12283778 -0.71105866 -1.30715828 -0.06837185 -1.01145884  0.328392\n",
      " -1.2548132 ]\n",
      "[ 1.69778378e+00 -5.11876483e-01 -7.54791394e-01  1.12956761e+00\n",
      "  9.76476455e-01  3.14820071e+00 -5.61804010e-01 -2.05394710e+00\n",
      " -1.57890088e+00 -1.42157137e+00  3.38053870e+00  1.26364885e+00\n",
      "  7.14960663e-01 -7.69088444e-02 -2.02030075e-03 -2.15658825e-01\n",
      "  2.13097730e+00  1.66549810e+00  1.24507770e+00 -4.22570398e-01\n",
      " -5.57509827e+00 -3.05882961e-01 -1.23431412e+00  1.36883492e+00\n",
      " -4.11993883e+00]\n"
     ]
    }
   ],
   "source": [
    "# Add the small eps value(to eliminate the divisible by zero error) to W and W’ i.e W=W+10^-6 and W’ = W’+10^-6\n",
    "epsilon = 0.000001\n",
    "weights1 = weights1 + epsilon\n",
    "print(weights1[:25])\n",
    "\n",
    "weights2 = weights2 + epsilon\n",
    "print(weights2[:25])"
   ]
  },
  {
   "cell_type": "code",
   "execution_count": 0,
   "metadata": {
    "colab": {},
    "colab_type": "code",
    "id": "e4FZTbnh-dFc"
   },
   "outputs": [],
   "source": [
    "weights_diff = (abs(weights1 - weights2)/weights1) * 100"
   ]
  },
  {
   "cell_type": "code",
   "execution_count": 123,
   "metadata": {
    "colab": {
     "base_uri": "https://localhost:8080/",
     "height": 204
    },
    "colab_type": "code",
    "id": "YmAKFxCSGup4",
    "outputId": "e38bbbc8-72d9-4b0b-c645-777c38e31d83"
   },
   "outputs": [
    {
     "name": "stdout",
     "output_type": "stream",
     "text": [
      "25\n",
      "23\n",
      "23\n",
      "22\n",
      "22\n",
      "22\n",
      "21\n",
      "21\n",
      "20\n",
      "20\n",
      "20\n"
     ]
    }
   ],
   "source": [
    "print(weights_diff[np.where(weights_diff > 0.1)].size)\n",
    "print(weights_diff[np.where(weights_diff > 10)].size)\n",
    "print(weights_diff[np.where(weights_diff > 20)].size)\n",
    "print(weights_diff[np.where(weights_diff > 30)].size)\n",
    "print(weights_diff[np.where(weights_diff > 40)].size)\n",
    "print(weights_diff[np.where(weights_diff > 50)].size)\n",
    "print(weights_diff[np.where(weights_diff > 60)].size)\n",
    "print(weights_diff[np.where(weights_diff > 70)].size)\n",
    "print(weights_diff[np.where(weights_diff > 80)].size)\n",
    "print(weights_diff[np.where(weights_diff > 90)].size)\n",
    "print(weights_diff[np.where(weights_diff > 100)].size)"
   ]
  },
  {
   "cell_type": "markdown",
   "metadata": {
    "colab_type": "text",
    "id": "UdDzPvJG-dFj"
   },
   "source": [
    "**23 features weight changes more than 10%. Hence, the features are multicollinear **"
   ]
  },
  {
   "cell_type": "markdown",
   "metadata": {
    "colab_type": "text",
    "id": "AOeAJT56-dFt"
   },
   "source": [
    "# Performance Table"
   ]
  },
  {
   "cell_type": "code",
   "execution_count": 0,
   "metadata": {
    "colab": {},
    "colab_type": "code",
    "id": "6FeByoJG-dFv",
    "outputId": "e0673360-afd3-4e4f-a050-63be3439c46f"
   },
   "outputs": [
    {
     "name": "stdout",
     "output_type": "stream",
     "text": [
      "+---------------+---------------+------+---------+----------+----------+\n",
      "| FEATURIZATION |     MODEL     |  C   | PENALTY | F1-SCORE | ACCURACY |\n",
      "+---------------+---------------+------+---------+----------+----------+\n",
      "|      BOW      |  Grid Search  |  10  |    L2   |  0.946   |  90.827  |\n",
      "|               | Random Search |  10  |    L2   |  0.946   |  90.827  |\n",
      "|     TF_IDF    |  Grid Search  |  5   |    L2   |  0.946   |  90.957  |\n",
      "|               | Random Search |  5   |    L1   |  0.946   |  90.943  |\n",
      "|   AVG_W2VEC   |  Grid Search  | 1000 |    L2   |  0.933   |  88.49   |\n",
      "|               | Random Search | 1000 |    L2   |  0.933   |  88.49   |\n",
      "|  TFIDF_W2VEC  |  Grid Search  |  1   |    L1   |  0.934   |  88.43   |\n",
      "|               | Random Search |  1   |    L1   |  0.934   |  88430   |\n",
      "+---------------+---------------+------+---------+----------+----------+\n"
     ]
    }
   ],
   "source": [
    "from prettytable import PrettyTable    \n",
    "x = PrettyTable()\n",
    " \n",
    "x.field_names = [\"FEATURIZATION\", \"MODEL\", \"C\",\"PENALTY\", \"F1-SCORE\", \"ACCURACY\"]\n",
    " \n",
    "x.add_row([\"BOW\", \"Grid Search\", 10, \"L2\",0.946, 90.827]) \n",
    "x.add_row([\"\", \"Random Search\", 10, \"L2\", 0.946, 90.827]) \n",
    "x.add_row([\"TF_IDF\", \"Grid Search\", 5, \"L2\", 0.946, 90.957]) \n",
    "x.add_row([\"\", \"Random Search\", 5, \"L1\", 0.946, 90.943])\n",
    "x.add_row([\"AVG_W2VEC\", \"Grid Search\", 1000, \"L2\", 0.933, 88.490]) \n",
    "x.add_row([\"\", \"Random Search\", 1000, \"L2\",  0.933, 88.490])\n",
    "x.add_row([\"TFIDF_W2VEC\", \"Grid Search\", 1, \"L1\", 0.934, 88.430]) \n",
    "x.add_row([\"\", \"Random Search\", 1, \"L1\", 0.934, 88430])\n",
    " \n",
    "print(x)"
   ]
  },
  {
   "cell_type": "markdown",
   "metadata": {
    "colab_type": "text",
    "id": "IWtrDlOR-dF1"
   },
   "source": [
    "# Observations"
   ]
  },
  {
   "cell_type": "markdown",
   "metadata": {
    "colab_type": "text",
    "id": "5FNr6Qto-dF2"
   },
   "source": [
    "1. Sparsity increases as we decrease C (increase lambda) when we use L1 Regularizer for regularization.\n",
    "2. TF_IDF Featurization performs best with F1_score of 0.946 and Accuracy of 90.957.\n",
    "3. Features are multi-collinear with different featurization.\n",
    "4. Logistic Regression is faster algorithm."
   ]
  }
 ],
 "metadata": {
  "colab": {
   "name": "kernel (1).ipynb",
   "provenance": [],
   "version": "0.3.2"
  },
  "kernelspec": {
   "display_name": "Python 3",
   "language": "python",
   "name": "python3"
  },
  "language_info": {
   "codemirror_mode": {
    "name": "ipython",
    "version": 3
   },
   "file_extension": ".py",
   "mimetype": "text/x-python",
   "name": "python",
   "nbconvert_exporter": "python",
   "pygments_lexer": "ipython3",
   "version": "3.6.5"
  }
 },
 "nbformat": 4,
 "nbformat_minor": 1
}
