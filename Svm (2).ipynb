{
 "cells": [
  {
   "cell_type": "markdown",
   "metadata": {
    "_uuid": "43ee22653f105afc92f01cc2351e998922ce27f8",
    "colab_type": "text",
    "id": "SSX7RiCb1GLP"
   },
   "source": [
    "# Support Vector Machine Model using Different Featurization in NLP"
   ]
  },
  {
   "cell_type": "markdown",
   "metadata": {
    "_uuid": "ed94f7c2611599ea88c9f42cdf139c43b8e38e69",
    "colab_type": "text",
    "id": "i9OG2hYXniPt"
   },
   "source": [
    "# Loading data"
   ]
  },
  {
   "cell_type": "code",
   "execution_count": 1,
   "metadata": {
    "_uuid": "7519f8b1d069a910b9b1c882cfaea27bb966b03b",
    "colab": {
     "base_uri": "https://localhost:8080/",
     "height": 51
    },
    "colab_type": "code",
    "id": "QgYAddPJniPx",
    "outputId": "c47f30d6-0646-4b3b-9aa3-b8733920459f"
   },
   "outputs": [
    {
     "name": "stdout",
     "output_type": "stream",
     "text": [
      "[nltk_data] Downloading package stopwords to /root/nltk_data...\n",
      "[nltk_data]   Unzipping corpora/stopwords.zip.\n"
     ]
    }
   ],
   "source": [
    "%matplotlib inline\n",
    "import warnings\n",
    "warnings.filterwarnings(\"ignore\")\n",
    "\n",
    "import sqlite3\n",
    "import pandas as pd\n",
    "import numpy as np\n",
    "import nltk\n",
    "nltk.download('stopwords')\n",
    "import string\n",
    "import matplotlib.pyplot as plt\n",
    "import seaborn as sns\n",
    "from sklearn.model_selection import TimeSeriesSplit\n",
    "from sklearn import preprocessing\n",
    "from sklearn.feature_extraction.text import TfidfTransformer\n",
    "from sklearn.feature_extraction.text import TfidfVectorizer\n",
    "\n",
    "from sklearn.feature_extraction.text import CountVectorizer\n",
    "from sklearn.metrics import confusion_matrix\n",
    "from sklearn import metrics\n",
    "from sklearn.metrics import roc_curve, auc\n",
    "from nltk.stem.porter import PorterStemmer\n",
    "from sklearn.model_selection import train_test_split\n",
    "from sklearn.model_selection import GridSearchCV\n",
    "from sklearn.model_selection import RandomizedSearchCV\n",
    "import re\n",
    "# Tutorial about Python regular expressions: https://pymotw.com/2/re/\n",
    "import string\n",
    "from nltk.corpus import stopwords\n",
    "from nltk.stem import PorterStemmer\n",
    "from nltk.stem.wordnet import WordNetLemmatizer\n",
    "\n",
    "from gensim.models import Word2Vec\n",
    "from gensim.models import KeyedVectors\n",
    "import pickle\n",
    "\n",
    "from tqdm import tqdm\n",
    "import os\n",
    "\n",
    "#Metrics\n",
    "from sklearn.metrics import accuracy_score\n",
    "from sklearn.metrics import confusion_matrix\n",
    "from sklearn.metrics import precision_score\n",
    "from sklearn.metrics import f1_score\n",
    "from sklearn.metrics import recall_score"
   ]
  },
  {
   "cell_type": "code",
   "execution_count": 11,
   "metadata": {
    "_uuid": "a491cbed0d3b601741781b51eef0f0f39df19075",
    "colab": {
     "base_uri": "https://localhost:8080/",
     "height": 261
    },
    "colab_type": "code",
    "id": "ai0PO_SPniP_",
    "outputId": "39e36e3b-009c-458a-c264-31802d54ad9e"
   },
   "outputs": [
    {
     "name": "stdout",
     "output_type": "stream",
     "text": [
      "Number of data points in our data (525814, 10)\n"
     ]
    },
    {
     "data": {
      "text/html": [
       "<div>\n",
       "<style scoped>\n",
       "    .dataframe tbody tr th:only-of-type {\n",
       "        vertical-align: middle;\n",
       "    }\n",
       "\n",
       "    .dataframe tbody tr th {\n",
       "        vertical-align: top;\n",
       "    }\n",
       "\n",
       "    .dataframe thead th {\n",
       "        text-align: right;\n",
       "    }\n",
       "</style>\n",
       "<table border=\"1\" class=\"dataframe\">\n",
       "  <thead>\n",
       "    <tr style=\"text-align: right;\">\n",
       "      <th></th>\n",
       "      <th>Id</th>\n",
       "      <th>ProductId</th>\n",
       "      <th>UserId</th>\n",
       "      <th>ProfileName</th>\n",
       "      <th>HelpfulnessNumerator</th>\n",
       "      <th>HelpfulnessDenominator</th>\n",
       "      <th>Score</th>\n",
       "      <th>Time</th>\n",
       "      <th>Summary</th>\n",
       "      <th>Text</th>\n",
       "    </tr>\n",
       "  </thead>\n",
       "  <tbody>\n",
       "    <tr>\n",
       "      <th>0</th>\n",
       "      <td>1</td>\n",
       "      <td>B001E4KFG0</td>\n",
       "      <td>A3SGXH7AUHU8GW</td>\n",
       "      <td>delmartian</td>\n",
       "      <td>1</td>\n",
       "      <td>1</td>\n",
       "      <td>1</td>\n",
       "      <td>1303862400</td>\n",
       "      <td>Good Quality Dog Food</td>\n",
       "      <td>I have bought several of the Vitality canned d...</td>\n",
       "    </tr>\n",
       "    <tr>\n",
       "      <th>1</th>\n",
       "      <td>2</td>\n",
       "      <td>B00813GRG4</td>\n",
       "      <td>A1D87F6ZCVE5NK</td>\n",
       "      <td>dll pa</td>\n",
       "      <td>0</td>\n",
       "      <td>0</td>\n",
       "      <td>0</td>\n",
       "      <td>1346976000</td>\n",
       "      <td>Not as Advertised</td>\n",
       "      <td>Product arrived labeled as Jumbo Salted Peanut...</td>\n",
       "    </tr>\n",
       "    <tr>\n",
       "      <th>2</th>\n",
       "      <td>3</td>\n",
       "      <td>B000LQOCH0</td>\n",
       "      <td>ABXLMWJIXXAIN</td>\n",
       "      <td>Natalia Corres \"Natalia Corres\"</td>\n",
       "      <td>1</td>\n",
       "      <td>1</td>\n",
       "      <td>1</td>\n",
       "      <td>1219017600</td>\n",
       "      <td>\"Delight\" says it all</td>\n",
       "      <td>This is a confection that has been around a fe...</td>\n",
       "    </tr>\n",
       "  </tbody>\n",
       "</table>\n",
       "</div>"
      ],
      "text/plain": [
       "   Id   ProductId          UserId                      ProfileName  \\\n",
       "0   1  B001E4KFG0  A3SGXH7AUHU8GW                       delmartian   \n",
       "1   2  B00813GRG4  A1D87F6ZCVE5NK                           dll pa   \n",
       "2   3  B000LQOCH0   ABXLMWJIXXAIN  Natalia Corres \"Natalia Corres\"   \n",
       "\n",
       "   HelpfulnessNumerator  HelpfulnessDenominator  Score        Time  \\\n",
       "0                     1                       1      1  1303862400   \n",
       "1                     0                       0      0  1346976000   \n",
       "2                     1                       1      1  1219017600   \n",
       "\n",
       "                 Summary                                               Text  \n",
       "0  Good Quality Dog Food  I have bought several of the Vitality canned d...  \n",
       "1      Not as Advertised  Product arrived labeled as Jumbo Salted Peanut...  \n",
       "2  \"Delight\" says it all  This is a confection that has been around a fe...  "
      ]
     },
     "execution_count": 11,
     "metadata": {
      "tags": []
     },
     "output_type": "execute_result"
    }
   ],
   "source": [
    "\n",
    "# using the SQLite Table to read data.\n",
    "con = sqlite3.connect('database.sqlite') \n",
    "#filtering only positive and negative reviews i.e. \n",
    "# not taking into consideration those reviews with Score=3\n",
    "filtered_data = pd.read_sql_query(\"\"\" SELECT * FROM Reviews WHERE Score != 3 \"\"\", con) \n",
    "\n",
    "\n",
    "# Give reviews with Score>3 a positive rating, and reviews with a score<3 a negative rating.\n",
    "def partition(x):\n",
    "    if x < 3:\n",
    "        return 0\n",
    "    return 1\n",
    "\n",
    "#changing reviews with score less than 3 to be positive and vice-versa\n",
    "actualScore = filtered_data['Score']\n",
    "positiveNegative = actualScore.map(partition) \n",
    "filtered_data['Score'] = positiveNegative\n",
    "print(\"Number of data points in our data\", filtered_data.shape)\n",
    "filtered_data.head(3)"
   ]
  },
  {
   "cell_type": "markdown",
   "metadata": {
    "_uuid": "1d7fcb0832fa6d56df476869356193f3c7e2f9d5",
    "colab_type": "text",
    "id": "NNNZg1ElniQR"
   },
   "source": [
    "# [1] Text Preprocessing\n",
    "## [1.1] Data Cleaning: Deduplication"
   ]
  },
  {
   "cell_type": "code",
   "execution_count": 12,
   "metadata": {
    "_uuid": "386c44bec21ef8979c3d923074ac2e7420fdab88",
    "colab": {
     "base_uri": "https://localhost:8080/",
     "height": 459
    },
    "colab_type": "code",
    "id": "rroGmEEFniQW",
    "outputId": "f6ac2845-0788-436c-e62e-f6152afaf0b5"
   },
   "outputs": [
    {
     "data": {
      "text/html": [
       "<div>\n",
       "<style scoped>\n",
       "    .dataframe tbody tr th:only-of-type {\n",
       "        vertical-align: middle;\n",
       "    }\n",
       "\n",
       "    .dataframe tbody tr th {\n",
       "        vertical-align: top;\n",
       "    }\n",
       "\n",
       "    .dataframe thead th {\n",
       "        text-align: right;\n",
       "    }\n",
       "</style>\n",
       "<table border=\"1\" class=\"dataframe\">\n",
       "  <thead>\n",
       "    <tr style=\"text-align: right;\">\n",
       "      <th></th>\n",
       "      <th>Id</th>\n",
       "      <th>ProductId</th>\n",
       "      <th>UserId</th>\n",
       "      <th>ProfileName</th>\n",
       "      <th>HelpfulnessNumerator</th>\n",
       "      <th>HelpfulnessDenominator</th>\n",
       "      <th>Score</th>\n",
       "      <th>Time</th>\n",
       "      <th>Summary</th>\n",
       "      <th>Text</th>\n",
       "    </tr>\n",
       "  </thead>\n",
       "  <tbody>\n",
       "    <tr>\n",
       "      <th>0</th>\n",
       "      <td>78445</td>\n",
       "      <td>B000HDL1RQ</td>\n",
       "      <td>AR5J8UI46CURR</td>\n",
       "      <td>Geetha Krishnan</td>\n",
       "      <td>2</td>\n",
       "      <td>2</td>\n",
       "      <td>5</td>\n",
       "      <td>1199577600</td>\n",
       "      <td>LOACKER QUADRATINI VANILLA WAFERS</td>\n",
       "      <td>DELICIOUS WAFERS. I FIND THAT EUROPEAN WAFERS ...</td>\n",
       "    </tr>\n",
       "    <tr>\n",
       "      <th>1</th>\n",
       "      <td>138317</td>\n",
       "      <td>B000HDOPYC</td>\n",
       "      <td>AR5J8UI46CURR</td>\n",
       "      <td>Geetha Krishnan</td>\n",
       "      <td>2</td>\n",
       "      <td>2</td>\n",
       "      <td>5</td>\n",
       "      <td>1199577600</td>\n",
       "      <td>LOACKER QUADRATINI VANILLA WAFERS</td>\n",
       "      <td>DELICIOUS WAFERS. I FIND THAT EUROPEAN WAFERS ...</td>\n",
       "    </tr>\n",
       "    <tr>\n",
       "      <th>2</th>\n",
       "      <td>138277</td>\n",
       "      <td>B000HDOPYM</td>\n",
       "      <td>AR5J8UI46CURR</td>\n",
       "      <td>Geetha Krishnan</td>\n",
       "      <td>2</td>\n",
       "      <td>2</td>\n",
       "      <td>5</td>\n",
       "      <td>1199577600</td>\n",
       "      <td>LOACKER QUADRATINI VANILLA WAFERS</td>\n",
       "      <td>DELICIOUS WAFERS. I FIND THAT EUROPEAN WAFERS ...</td>\n",
       "    </tr>\n",
       "    <tr>\n",
       "      <th>3</th>\n",
       "      <td>73791</td>\n",
       "      <td>B000HDOPZG</td>\n",
       "      <td>AR5J8UI46CURR</td>\n",
       "      <td>Geetha Krishnan</td>\n",
       "      <td>2</td>\n",
       "      <td>2</td>\n",
       "      <td>5</td>\n",
       "      <td>1199577600</td>\n",
       "      <td>LOACKER QUADRATINI VANILLA WAFERS</td>\n",
       "      <td>DELICIOUS WAFERS. I FIND THAT EUROPEAN WAFERS ...</td>\n",
       "    </tr>\n",
       "    <tr>\n",
       "      <th>4</th>\n",
       "      <td>155049</td>\n",
       "      <td>B000PAQ75C</td>\n",
       "      <td>AR5J8UI46CURR</td>\n",
       "      <td>Geetha Krishnan</td>\n",
       "      <td>2</td>\n",
       "      <td>2</td>\n",
       "      <td>5</td>\n",
       "      <td>1199577600</td>\n",
       "      <td>LOACKER QUADRATINI VANILLA WAFERS</td>\n",
       "      <td>DELICIOUS WAFERS. I FIND THAT EUROPEAN WAFERS ...</td>\n",
       "    </tr>\n",
       "  </tbody>\n",
       "</table>\n",
       "</div>"
      ],
      "text/plain": [
       "       Id   ProductId         UserId      ProfileName  HelpfulnessNumerator  \\\n",
       "0   78445  B000HDL1RQ  AR5J8UI46CURR  Geetha Krishnan                     2   \n",
       "1  138317  B000HDOPYC  AR5J8UI46CURR  Geetha Krishnan                     2   \n",
       "2  138277  B000HDOPYM  AR5J8UI46CURR  Geetha Krishnan                     2   \n",
       "3   73791  B000HDOPZG  AR5J8UI46CURR  Geetha Krishnan                     2   \n",
       "4  155049  B000PAQ75C  AR5J8UI46CURR  Geetha Krishnan                     2   \n",
       "\n",
       "   HelpfulnessDenominator  Score        Time  \\\n",
       "0                       2      5  1199577600   \n",
       "1                       2      5  1199577600   \n",
       "2                       2      5  1199577600   \n",
       "3                       2      5  1199577600   \n",
       "4                       2      5  1199577600   \n",
       "\n",
       "                             Summary  \\\n",
       "0  LOACKER QUADRATINI VANILLA WAFERS   \n",
       "1  LOACKER QUADRATINI VANILLA WAFERS   \n",
       "2  LOACKER QUADRATINI VANILLA WAFERS   \n",
       "3  LOACKER QUADRATINI VANILLA WAFERS   \n",
       "4  LOACKER QUADRATINI VANILLA WAFERS   \n",
       "\n",
       "                                                Text  \n",
       "0  DELICIOUS WAFERS. I FIND THAT EUROPEAN WAFERS ...  \n",
       "1  DELICIOUS WAFERS. I FIND THAT EUROPEAN WAFERS ...  \n",
       "2  DELICIOUS WAFERS. I FIND THAT EUROPEAN WAFERS ...  \n",
       "3  DELICIOUS WAFERS. I FIND THAT EUROPEAN WAFERS ...  \n",
       "4  DELICIOUS WAFERS. I FIND THAT EUROPEAN WAFERS ...  "
      ]
     },
     "execution_count": 12,
     "metadata": {
      "tags": []
     },
     "output_type": "execute_result"
    }
   ],
   "source": [
    "display= pd.read_sql_query(\"\"\"\n",
    "SELECT *\n",
    "FROM Reviews\n",
    "WHERE Score != 3 AND UserId=\"AR5J8UI46CURR\"\n",
    "ORDER BY ProductID\n",
    "\"\"\", con)\n",
    "display.head()"
   ]
  },
  {
   "cell_type": "code",
   "execution_count": 0,
   "metadata": {
    "_uuid": "46aaf4657788ea72ebab529c6bc3b36f185a87e1",
    "colab": {},
    "colab_type": "code",
    "id": "Dscnj_rAniQn"
   },
   "outputs": [],
   "source": [
    "#Sorting data according to ProductId in ascending order\n",
    "sorted_data=filtered_data.sort_values('ProductId', axis=0, ascending=True, inplace=False, kind='quicksort', na_position='last')"
   ]
  },
  {
   "cell_type": "code",
   "execution_count": 14,
   "metadata": {
    "_uuid": "439d68309e6a39c9cb2179059cc03556fa91e57b",
    "colab": {
     "base_uri": "https://localhost:8080/",
     "height": 34
    },
    "colab_type": "code",
    "id": "CDUnuD4zniQz",
    "outputId": "d2fc72fb-ec33-4c63-f068-1efa99b8cdd1"
   },
   "outputs": [
    {
     "data": {
      "text/plain": [
       "(364173, 10)"
      ]
     },
     "execution_count": 14,
     "metadata": {
      "tags": []
     },
     "output_type": "execute_result"
    }
   ],
   "source": [
    "#Deduplication of entries\n",
    "final=sorted_data.drop_duplicates(subset={\"UserId\",\"ProfileName\",\"Time\",\"Text\"}, keep='first', inplace=False)\n",
    "final.shape"
   ]
  },
  {
   "cell_type": "code",
   "execution_count": 15,
   "metadata": {
    "_uuid": "5a8239b5edd92fc5d76f3d2e1e045b5ede2d88a3",
    "colab": {
     "base_uri": "https://localhost:8080/",
     "height": 34
    },
    "colab_type": "code",
    "id": "mJaPKAxyniRD",
    "outputId": "84f0ce58-2e72-4d10-a0da-d18d3f8d4145"
   },
   "outputs": [
    {
     "data": {
      "text/plain": [
       "69.25890143662969"
      ]
     },
     "execution_count": 15,
     "metadata": {
      "tags": []
     },
     "output_type": "execute_result"
    }
   ],
   "source": [
    "#Checking to see how much % of data still remains\n",
    "(final['Id'].size*1.0)/(filtered_data['Id'].size*1.0)*100"
   ]
  },
  {
   "cell_type": "code",
   "execution_count": 16,
   "metadata": {
    "_uuid": "1d1fa966c0abf841d9c8f2c96ad97a71382122a8",
    "colab": {
     "base_uri": "https://localhost:8080/",
     "height": 179
    },
    "colab_type": "code",
    "id": "vzQ8mEEkniRU",
    "outputId": "bf24e42e-9bbb-42b7-ef01-fe93629dc002"
   },
   "outputs": [
    {
     "data": {
      "text/html": [
       "<div>\n",
       "<style scoped>\n",
       "    .dataframe tbody tr th:only-of-type {\n",
       "        vertical-align: middle;\n",
       "    }\n",
       "\n",
       "    .dataframe tbody tr th {\n",
       "        vertical-align: top;\n",
       "    }\n",
       "\n",
       "    .dataframe thead th {\n",
       "        text-align: right;\n",
       "    }\n",
       "</style>\n",
       "<table border=\"1\" class=\"dataframe\">\n",
       "  <thead>\n",
       "    <tr style=\"text-align: right;\">\n",
       "      <th></th>\n",
       "      <th>Id</th>\n",
       "      <th>ProductId</th>\n",
       "      <th>UserId</th>\n",
       "      <th>ProfileName</th>\n",
       "      <th>HelpfulnessNumerator</th>\n",
       "      <th>HelpfulnessDenominator</th>\n",
       "      <th>Score</th>\n",
       "      <th>Time</th>\n",
       "      <th>Summary</th>\n",
       "      <th>Text</th>\n",
       "    </tr>\n",
       "  </thead>\n",
       "  <tbody>\n",
       "    <tr>\n",
       "      <th>0</th>\n",
       "      <td>64422</td>\n",
       "      <td>B000MIDROQ</td>\n",
       "      <td>A161DK06JJMCYF</td>\n",
       "      <td>J. E. Stephens \"Jeanne\"</td>\n",
       "      <td>3</td>\n",
       "      <td>1</td>\n",
       "      <td>5</td>\n",
       "      <td>1224892800</td>\n",
       "      <td>Bought This for My Son at College</td>\n",
       "      <td>My son loves spaghetti so I didn't hesitate or...</td>\n",
       "    </tr>\n",
       "    <tr>\n",
       "      <th>1</th>\n",
       "      <td>44737</td>\n",
       "      <td>B001EQ55RW</td>\n",
       "      <td>A2V0I904FH7ABY</td>\n",
       "      <td>Ram</td>\n",
       "      <td>3</td>\n",
       "      <td>2</td>\n",
       "      <td>4</td>\n",
       "      <td>1212883200</td>\n",
       "      <td>Pure cocoa taste with crunchy almonds inside</td>\n",
       "      <td>It was almost a 'love at first bite' - the per...</td>\n",
       "    </tr>\n",
       "  </tbody>\n",
       "</table>\n",
       "</div>"
      ],
      "text/plain": [
       "      Id   ProductId          UserId              ProfileName  \\\n",
       "0  64422  B000MIDROQ  A161DK06JJMCYF  J. E. Stephens \"Jeanne\"   \n",
       "1  44737  B001EQ55RW  A2V0I904FH7ABY                      Ram   \n",
       "\n",
       "   HelpfulnessNumerator  HelpfulnessDenominator  Score        Time  \\\n",
       "0                     3                       1      5  1224892800   \n",
       "1                     3                       2      4  1212883200   \n",
       "\n",
       "                                        Summary  \\\n",
       "0             Bought This for My Son at College   \n",
       "1  Pure cocoa taste with crunchy almonds inside   \n",
       "\n",
       "                                                Text  \n",
       "0  My son loves spaghetti so I didn't hesitate or...  \n",
       "1  It was almost a 'love at first bite' - the per...  "
      ]
     },
     "execution_count": 16,
     "metadata": {
      "tags": []
     },
     "output_type": "execute_result"
    }
   ],
   "source": [
    "display= pd.read_sql_query(\"\"\"\n",
    "SELECT *\n",
    "FROM Reviews\n",
    "WHERE Score != 3 AND Id=44737 OR Id=64422\n",
    "ORDER BY ProductID\n",
    "\"\"\", con)\n",
    "\n",
    "display.head()"
   ]
  },
  {
   "cell_type": "code",
   "execution_count": 0,
   "metadata": {
    "_uuid": "7d1ff38c2194cf96a9e338e84db8f84c173949c5",
    "colab": {},
    "colab_type": "code",
    "id": "nVYRHP8gniRp"
   },
   "outputs": [],
   "source": [
    "final=final[final.HelpfulnessNumerator<=final.HelpfulnessDenominator]"
   ]
  },
  {
   "cell_type": "code",
   "execution_count": 18,
   "metadata": {
    "_uuid": "02aeeed755e92da4bbc2ed674d869ef1fbef188e",
    "colab": {
     "base_uri": "https://localhost:8080/",
     "height": 85
    },
    "colab_type": "code",
    "id": "0foAJ36qniR4",
    "outputId": "0f37a4fa-3074-419b-a0f7-bdd8a5805446"
   },
   "outputs": [
    {
     "name": "stdout",
     "output_type": "stream",
     "text": [
      "(364171, 10)\n"
     ]
    },
    {
     "data": {
      "text/plain": [
       "1    307061\n",
       "0     57110\n",
       "Name: Score, dtype: int64"
      ]
     },
     "execution_count": 18,
     "metadata": {
      "tags": []
     },
     "output_type": "execute_result"
    }
   ],
   "source": [
    "#Before starting the next phase of preprocessing lets see the number of entries left\n",
    "print(final.shape)\n",
    "\n",
    "#How many positive and negative reviews are present in our dataset?\n",
    "final['Score'].value_counts()"
   ]
  },
  {
   "cell_type": "markdown",
   "metadata": {
    "_uuid": "0ed8fb334065202193a43ab897104848c4fac34b",
    "colab_type": "text",
    "id": "fAFir6-SniSI"
   },
   "source": [
    "## [1.2] Stemming, stop-word removal and Lemmatization."
   ]
  },
  {
   "cell_type": "code",
   "execution_count": 19,
   "metadata": {
    "_uuid": "dd78dee169c3d8daecfbf42e9d17ff5b3fdc1655",
    "colab": {
     "base_uri": "https://localhost:8080/",
     "height": 71
    },
    "colab_type": "code",
    "id": "fC_q9OO7niSM",
    "outputId": "54a7c860-d310-4768-8eb4-b9b0eae80371"
   },
   "outputs": [
    {
     "name": "stdout",
     "output_type": "stream",
     "text": [
      "6\n",
      "I set aside at least an hour each day to read to my son (3 y/o). At this point, I consider myself a connoisseur of children's books and this is one of the best. Santa Clause put this under the tree. Since then, we've read it perpetually and he loves it.<br /><br />First, this book taught him the months of the year.<br /><br />Second, it's a pleasure to read. Well suited to 1.5 y/o old to 4+.<br /><br />Very few children's books are worth owning. Most should be borrowed from the library. This book, however, deserves a permanent spot on your shelf. Sendak's best.\n"
     ]
    }
   ],
   "source": [
    "# find sentences containing HTML tags\n",
    "import re\n",
    "i=0;\n",
    "for sent in final['Text'].values:\n",
    "    if (len(re.findall('<.*?>', sent))):\n",
    "        print(i)\n",
    "        print(sent)\n",
    "        break;\n",
    "    i += 1;"
   ]
  },
  {
   "cell_type": "code",
   "execution_count": 20,
   "metadata": {
    "_uuid": "170cd1f2703bd11127979ff3ec8fc1d871a36ac5",
    "colab": {
     "base_uri": "https://localhost:8080/",
     "height": 88
    },
    "colab_type": "code",
    "id": "qnC3x86TniSc",
    "outputId": "2b6b6346-aa89-4a51-c2b2-12116c55f6b9"
   },
   "outputs": [
    {
     "name": "stdout",
     "output_type": "stream",
     "text": [
      "{\"mightn't\", 'mustn', \"she's\", 'not', 'couldn', 'been', 'hers', 'her', 'them', 'having', 'm', 'an', 'as', 'yourselves', 'about', 'these', 've', 'below', 'each', 'why', 'very', 'doesn', \"that'll\", 'did', \"won't\", \"you'll\", 'so', 'itself', 'by', 'before', 'has', 'any', 'such', 'do', 't', 'than', 'own', 'those', 'there', \"aren't\", \"it's\", 'ourselves', 'this', 'are', 'yourself', 'both', 'with', 'what', 'over', 'hasn', 'am', 'its', 'off', 'up', 'when', 'does', 'if', 'here', 'my', \"wouldn't\", 'who', 'through', 'a', 'd', 'they', \"didn't\", 'myself', 'for', 'from', \"shouldn't\", \"hasn't\", \"you'd\", 'shan', \"don't\", 'it', 'down', 'more', 'now', 'because', 'while', 'but', 'all', 'ours', 'your', \"couldn't\", 'which', 'that', \"should've\", \"needn't\", 'mightn', \"hadn't\", 'on', 'haven', 'our', 'until', 'under', 'isn', 'of', 'his', 'have', 'he', 's', 'same', 'after', 'himself', 'o', \"haven't\", 'had', 'how', 'is', \"wasn't\", 'in', 'don', 'weren', \"shan't\", 'at', 'theirs', 'further', 'then', 'herself', 'ma', 'ain', 'was', 'should', 'too', 'to', 'most', 'needn', 'few', 'their', 'the', 'she', 'we', 'didn', 'be', 'll', \"you've\", 'only', 'him', 'you', 'some', \"weren't\", 'i', 'once', 'between', 'wouldn', 'me', 'were', 're', 'during', 'just', 'above', 'doing', \"isn't\", 'will', 'whom', 'themselves', 'other', \"doesn't\", 'or', 'against', 'out', 'aren', 'being', 'wasn', 'and', 'yours', 'hadn', 'won', 'shouldn', \"mustn't\", 'again', 'into', 'y', 'nor', \"you're\", 'can', 'no', 'where'}\n",
      "************************************\n",
      "tasti\n"
     ]
    }
   ],
   "source": [
    "\n",
    "stop = set(stopwords.words('english')) #set of stopwords\n",
    "sno = nltk.stem.SnowballStemmer('english') #initialising the snowball stemmer\n",
    "\n",
    "def cleanhtml(sentence): #function to clean the word of any html-tags\n",
    "    cleanr = re.compile('<.*?>')\n",
    "    cleantext = re.sub(cleanr, ' ', sentence)\n",
    "    return cleantext\n",
    "def cleanpunc(sentence): #function to clean the word of any punctuation or special characters\n",
    "    cleaned = re.sub(r'[?|!|\\'|\"|#]',r'',sentence)\n",
    "    cleaned = re.sub(r'[.|,|)|(|\\|/]',r' ',cleaned)\n",
    "    return  cleaned\n",
    "print(stop)\n",
    "print('************************************')\n",
    "print(sno.stem('tasty'))"
   ]
  },
  {
   "cell_type": "code",
   "execution_count": 21,
   "metadata": {
    "_uuid": "6749d49715febee5dc316f5902d9decee52c3a9c",
    "colab": {
     "base_uri": "https://localhost:8080/",
     "height": 34
    },
    "colab_type": "code",
    "id": "k-Mi3K7BniSr",
    "outputId": "e0cf3e2e-6804-4b40-81d1-880d80b279ff"
   },
   "outputs": [
    {
     "name": "stderr",
     "output_type": "stream",
     "text": [
      "100%|██████████| 364171/364171 [08:58<00:00, 676.56it/s]\n"
     ]
    }
   ],
   "source": [
    "#Code for implementing step-by-step the checks mentioned in the pre-processing phase\n",
    "# this code takes a while to run as it needs to run on 500k sentences.\n",
    "if not os.path.isfile('final.sqlite'):\n",
    "    i=0\n",
    "    str1=' '\n",
    "    final_string=[]\n",
    "    all_positive_words=[] # store words from +ve reviews here\n",
    "    all_negative_words=[] # store words from -ve reviews here.\n",
    "    s=''\n",
    "    for sent in tqdm(final['Text'].values):\n",
    "        filtered_sentence=[]\n",
    "        #print(sent);\n",
    "        sent=cleanhtml(sent) # remove HTMl tags\n",
    "        for w in sent.split():\n",
    "            for cleaned_words in cleanpunc(w).split():\n",
    "                if((cleaned_words.isalpha()) & (len(cleaned_words)>2)):    \n",
    "                    if(cleaned_words.lower() not in stop):\n",
    "                        s=(sno.stem(cleaned_words.lower())).encode('utf8')\n",
    "                        filtered_sentence.append(s)\n",
    "                        if (final['Score'].values)[i] == 'positive': \n",
    "                            all_positive_words.append(s) #list of all words used to describe positive reviews\n",
    "                        if(final['Score'].values)[i] == 'negative':\n",
    "                            all_negative_words.append(s) #list of all words used to describe negative reviews reviews\n",
    "                    else:\n",
    "                        continue\n",
    "                else:\n",
    "                    continue \n",
    "        #print(filtered_sentence)\n",
    "        str1 = b\" \".join(filtered_sentence) #final string of cleaned words\n",
    "        #print(\"***********************************************************************\")\n",
    "\n",
    "        final_string.append(str1)\n",
    "        i+=1\n",
    "\n",
    "    #############---- storing the data into .sqlite file ------########################\n",
    "    final['CleanedText']=final_string #adding a column of CleanedText which displays the data after pre-processing of the review \n",
    "    final['CleanedText']=final['CleanedText'].str.decode(\"utf-8\")\n",
    "        # store final table into an SQlLite table for future.\n",
    "    conn = sqlite3.connect('final.sqlite')\n",
    "    c=conn.cursor()\n",
    "    conn.text_factory = str\n",
    "    final.to_sql('Reviews', conn,  schema=None, if_exists='replace', \\\n",
    "                 index=True, index_label=None, chunksize=None, dtype=None)\n",
    "    conn.close()\n",
    "    \n",
    "    \n",
    "    with open('positive_words.pkl', 'wb') as f:\n",
    "        pickle.dump(all_positive_words, f)\n",
    "    with open('negitive_words.pkl', 'wb') as f:\n",
    "        pickle.dump(all_negative_words, f)"
   ]
  },
  {
   "cell_type": "code",
   "execution_count": 0,
   "metadata": {
    "_uuid": "de0a1593f23a52947a3a30e5f5719126d04c64ca",
    "colab": {},
    "colab_type": "code",
    "id": "p7S7-rUUniS4"
   },
   "outputs": [],
   "source": [
    "if os.path.isfile('final.sqlite'):\n",
    "    conn = sqlite3.connect('final.sqlite')\n",
    "    final = pd.read_sql_query(\"\"\" SELECT * FROM Reviews WHERE Score != 3 \"\"\", conn)\n",
    "    conn.close()\n",
    "else:\n",
    "    print(\"Please the above cell\")"
   ]
  },
  {
   "cell_type": "code",
   "execution_count": 0,
   "metadata": {
    "_uuid": "9d7f2439ea79b37858b39b777755f76fb8bd19bc",
    "colab": {},
    "colab_type": "code",
    "id": "InDivCX8niTI"
   },
   "outputs": [],
   "source": [
    "final.to_pickle(\"./amazon.pkl\")"
   ]
  },
  {
   "cell_type": "code",
   "execution_count": 0,
   "metadata": {
    "_uuid": "bae457886abfa9c54d52cf34cdb04a4488c23e12",
    "colab": {},
    "colab_type": "code",
    "id": "iKLv026jniTv"
   },
   "outputs": [],
   "source": [
    "# read data from pickle file from previous stage\n",
    "data = pd.read_pickle(\"./amazon.pkl\")"
   ]
  },
  {
   "cell_type": "markdown",
   "metadata": {
    "_uuid": "67b000ff97a84675e9b4fe13ab6de97c59b72afa",
    "colab_type": "text",
    "id": "2r6oz6lvniT_"
   },
   "source": [
    "# [2] Sorting data based on time"
   ]
  },
  {
   "cell_type": "code",
   "execution_count": 25,
   "metadata": {
    "_uuid": "69ecebd6c6f3d42050dbfff64685f6f0de7d7d47",
    "colab": {
     "base_uri": "https://localhost:8080/",
     "height": 267
    },
    "colab_type": "code",
    "id": "l8Kwx9vdniUD",
    "outputId": "f53567c3-a106-4083-e057-5824f3be37cb"
   },
   "outputs": [
    {
     "data": {
      "text/html": [
       "<div>\n",
       "<style scoped>\n",
       "    .dataframe tbody tr th:only-of-type {\n",
       "        vertical-align: middle;\n",
       "    }\n",
       "\n",
       "    .dataframe tbody tr th {\n",
       "        vertical-align: top;\n",
       "    }\n",
       "\n",
       "    .dataframe thead th {\n",
       "        text-align: right;\n",
       "    }\n",
       "</style>\n",
       "<table border=\"1\" class=\"dataframe\">\n",
       "  <thead>\n",
       "    <tr style=\"text-align: right;\">\n",
       "      <th></th>\n",
       "      <th>index</th>\n",
       "      <th>Id</th>\n",
       "      <th>ProductId</th>\n",
       "      <th>UserId</th>\n",
       "      <th>ProfileName</th>\n",
       "      <th>HelpfulnessNumerator</th>\n",
       "      <th>HelpfulnessDenominator</th>\n",
       "      <th>Score</th>\n",
       "      <th>Time</th>\n",
       "      <th>Summary</th>\n",
       "      <th>Text</th>\n",
       "      <th>CleanedText</th>\n",
       "    </tr>\n",
       "  </thead>\n",
       "  <tbody>\n",
       "    <tr>\n",
       "      <th>101095</th>\n",
       "      <td>66467</td>\n",
       "      <td>72245</td>\n",
       "      <td>B000LQNBIG</td>\n",
       "      <td>AQVB8XOL93UW7</td>\n",
       "      <td>Kevin Thompson</td>\n",
       "      <td>0</td>\n",
       "      <td>0</td>\n",
       "      <td>1</td>\n",
       "      <td>1970-01-01 00:00:01.330646400</td>\n",
       "      <td>Eurocrem A Delightful European Treat</td>\n",
       "      <td>I first experienced Eurocrem in the small vill...</td>\n",
       "      <td>first experienc eurocrem small villag medjugor...</td>\n",
       "    </tr>\n",
       "    <tr>\n",
       "      <th>32569</th>\n",
       "      <td>55606</td>\n",
       "      <td>60335</td>\n",
       "      <td>B000BB6C3M</td>\n",
       "      <td>A39V2BDI4GQE5O</td>\n",
       "      <td>Frankie</td>\n",
       "      <td>0</td>\n",
       "      <td>0</td>\n",
       "      <td>1</td>\n",
       "      <td>1970-01-01 00:00:01.348617600</td>\n",
       "      <td>great tasting coffee</td>\n",
       "      <td>Great seller, a great customer service ,outsta...</td>\n",
       "      <td>great seller great custom servic outstand valu...</td>\n",
       "    </tr>\n",
       "  </tbody>\n",
       "</table>\n",
       "</div>"
      ],
      "text/plain": [
       "        index     Id   ProductId          UserId     ProfileName  \\\n",
       "101095  66467  72245  B000LQNBIG   AQVB8XOL93UW7  Kevin Thompson   \n",
       "32569   55606  60335  B000BB6C3M  A39V2BDI4GQE5O         Frankie   \n",
       "\n",
       "        HelpfulnessNumerator  HelpfulnessDenominator  Score  \\\n",
       "101095                     0                       0      1   \n",
       "32569                      0                       0      1   \n",
       "\n",
       "                                Time                               Summary  \\\n",
       "101095 1970-01-01 00:00:01.330646400  Eurocrem A Delightful European Treat   \n",
       "32569  1970-01-01 00:00:01.348617600                  great tasting coffee   \n",
       "\n",
       "                                                     Text  \\\n",
       "101095  I first experienced Eurocrem in the small vill...   \n",
       "32569   Great seller, a great customer service ,outsta...   \n",
       "\n",
       "                                              CleanedText  \n",
       "101095  first experienc eurocrem small villag medjugor...  \n",
       "32569   great seller great custom servic outstand valu...  "
      ]
     },
     "execution_count": 25,
     "metadata": {
      "tags": []
     },
     "output_type": "execute_result"
    }
   ],
   "source": [
    "data['Time'] = pd.to_datetime(data['Time'])\n",
    "\n",
    "# Random sampling\n",
    "data = data.take(np.random.permutation(len(final))[:60000])\n",
    "data.head(2)"
   ]
  },
  {
   "cell_type": "code",
   "execution_count": 26,
   "metadata": {
    "_uuid": "e7ae1b2a2269a05aa5407605fbe75d08f3d7de87",
    "colab": {
     "base_uri": "https://localhost:8080/",
     "height": 85
    },
    "colab_type": "code",
    "id": "fecNOok7niUR",
    "outputId": "d46b1b97-c43a-47a9-8e4c-95e6d83f6505"
   },
   "outputs": [
    {
     "name": "stdout",
     "output_type": "stream",
     "text": [
      "(60000, 12)\n",
      "1    50446\n",
      "0     9554\n",
      "Name: Score, dtype: int64\n"
     ]
    }
   ],
   "source": [
    "data['Time'] = pd.to_datetime(data['Time'])\n",
    "# Sort by time\n",
    "data = data.sort_values(by='Time')\n",
    "\n",
    "print(data.shape)\n",
    "print(data['Score'].value_counts())"
   ]
  },
  {
   "cell_type": "markdown",
   "metadata": {
    "_uuid": "7df09914ffefa8d91baf9dbcf9d6928e3659b2ed",
    "colab_type": "text",
    "id": "k7pw7UNSniUf"
   },
   "source": [
    "# [3] Spliting into train and test based on time (70:30)"
   ]
  },
  {
   "cell_type": "code",
   "execution_count": 0,
   "metadata": {
    "_uuid": "750a36e9135468d5e946f66c2986201be83458b8",
    "colab": {},
    "colab_type": "code",
    "id": "TL2XKIkPniUj"
   },
   "outputs": [],
   "source": [
    "# Spliting into Train and test\n",
    "X_train, X_test, y_train, y_test = train_test_split(data['CleanedText'].values,data['Score'].values,test_size=0.3,shuffle=False)"
   ]
  },
  {
   "cell_type": "markdown",
   "metadata": {
    "_uuid": "0f657abd7b7288a7e5f711afeeeb161553d918fd",
    "colab_type": "text",
    "id": "XrSUmwq2niUw"
   },
   "source": [
    "# [4] Bag of Words (BoW)"
   ]
  },
  {
   "cell_type": "code",
   "execution_count": 0,
   "metadata": {
    "_uuid": "f4ec50579833424d5aacfb049a9d1ff965d025e7",
    "colab": {
     "base_uri": "https://localhost:8080/",
     "height": 52
    },
    "colab_type": "code",
    "id": "TmK6QMy8niU8",
    "outputId": "810f7507-bb0a-4b26-9687-a297727b0adb"
   },
   "outputs": [
    {
     "name": "stdout",
     "output_type": "stream",
     "text": [
      "Train Data Size:  (42000, 2000)\n",
      "Test Data Size:  (18000, 2000)\n"
     ]
    }
   ],
   "source": [
    "#Bag of words\n",
    "count_vect = CountVectorizer(max_features=2000, min_df=20) \n",
    "\n",
    "X_train = count_vect.fit_transform(X_train)\n",
    "print(\"Train Data Size: \",X_train.shape)\n",
    "\n",
    "X_test = count_vect.transform(X_test)\n",
    "print(\"Test Data Size: \",X_test.shape)"
   ]
  },
  {
   "cell_type": "markdown",
   "metadata": {
    "_uuid": "bb8358a5b55bc271c244df6bd3cfc09a57f88025",
    "colab_type": "text",
    "id": "N9m2s43HniV6"
   },
   "source": [
    "## [4.1] Linear SVM"
   ]
  },
  {
   "cell_type": "markdown",
   "metadata": {
    "_uuid": "ee0251b00cdcb79811ee92d0b022ee6e4bebbe7c",
    "colab_type": "text",
    "id": "L6Y5AxCCPtgc"
   },
   "source": [
    "### [4.1.1] LinearSVM with Grid Search"
   ]
  },
  {
   "cell_type": "code",
   "execution_count": 0,
   "metadata": {
    "_uuid": "7ad7153071516b340d9219d02b93f863455f5b4e",
    "colab": {
     "base_uri": "https://localhost:8080/",
     "height": 176
    },
    "colab_type": "code",
    "id": "qqMy61QsKaWq",
    "outputId": "97fc8f01-b6fc-48e9-cba7-6a620ad33712"
   },
   "outputs": [
    {
     "name": "stdout",
     "output_type": "stream",
     "text": [
      "Model with best parameters :\n",
      " SGDClassifier(alpha=0.001, average=False, class_weight=None,\n",
      "       early_stopping=False, epsilon=0.1, eta0=0.0, fit_intercept=True,\n",
      "       l1_ratio=0.15, learning_rate='optimal', loss='hinge', max_iter=None,\n",
      "       n_iter=None, n_iter_no_change=5, n_jobs=None, penalty='l2',\n",
      "       power_t=0.5, random_state=None, shuffle=True, tol=None,\n",
      "       validation_fraction=0.1, verbose=0, warm_start=False)\n",
      "Best HyperParameter(1/C):  {'alpha': 0.001}\n",
      "Best Accuracy: 90.02%\n"
     ]
    }
   ],
   "source": [
    "from sklearn.linear_model import SGDClassifier\n",
    "\n",
    "svm = SGDClassifier()\n",
    "param_grid = {'alpha':[1000,500,100,50,10,5,1,0.5,0.1,0.05,0.01,0.005,0.001,0.0005,0.0001]}\n",
    "tscv = TimeSeriesSplit(n_splits=10)\n",
    "gsv = GridSearchCV(svm, param_grid, scoring='f1_micro', cv=tscv, n_jobs=-1, pre_dispatch=2)\n",
    "gsv.fit(X_train, y_train)\n",
    "print(\"Model with best parameters :\\n\",gsv.best_estimator_)\n",
    "print(\"Best HyperParameter(1/C): \",gsv.best_params_)\n",
    "print(\"Best Accuracy: %.2f%%\"%(gsv.best_score_*100))\n",
    "\n",
    "optimal_alpha = gsv.best_estimator_.alpha"
   ]
  },
  {
   "cell_type": "code",
   "execution_count": 0,
   "metadata": {
    "_uuid": "d9726f5f6bec2857474ef4ea674d69884fb26817",
    "colab": {},
    "colab_type": "code",
    "id": "Xw_BH0C_SkNB"
   },
   "outputs": [],
   "source": [
    "# This function plots the confusion, precision and recall matrices\n",
    "def plot_confusion_matrix(x_test, y_pred):\n",
    "    C = confusion_matrix(x_test, y_pred)\n",
    "    \n",
    "    A =(((C.T)/(C.sum(axis=1))).T)\n",
    "    B =(C/C.sum(axis=0))\n",
    "    plt.figure(figsize=(20,4))\n",
    "    \n",
    "    labels = [0,1]\n",
    "    \n",
    "    plt.subplot(1, 3, 1)\n",
    "    sns.heatmap(C, annot=True, cmap=\"YlGnBu\", fmt=\"d\", xticklabels=labels, yticklabels=labels)\n",
    "    plt.xlabel('Predicted Class')\n",
    "    plt.ylabel('Original Class')\n",
    "    plt.title(\"Confusion matrix\")\n",
    "    \n",
    "    plt.subplot(1, 3, 2)\n",
    "    sns.heatmap(B, annot=True, cmap=\"YlGnBu\", fmt=\".3f\", xticklabels=labels, yticklabels=labels)\n",
    "    plt.xlabel('Predicted Class')\n",
    "    plt.ylabel('Original Class')\n",
    "    plt.title(\"Precision matrix\")\n",
    "    \n",
    "    plt.subplot(1, 3, 3)\n",
    "    # representing B in heatmap format\n",
    "    sns.heatmap(A, annot=True, cmap=\"YlGnBu\", fmt=\".3f\", xticklabels=labels, yticklabels=labels)\n",
    "    plt.xlabel('Predicted Class')\n",
    "    plt.ylabel('Original Class')\n",
    "    plt.title(\"Recall matrix\")\n",
    "    \n",
    "    plt.show()"
   ]
  },
  {
   "cell_type": "code",
   "execution_count": 0,
   "metadata": {
    "_uuid": "68be95143c102a0391b5e5fce7bcaa9d8c15dcdc",
    "colab": {
     "base_uri": "https://localhost:8080/",
     "height": 382
    },
    "colab_type": "code",
    "id": "ynrk6EQcLqxs",
    "outputId": "8eb323ea-8f56-48b3-e42e-71e618e52ae6"
   },
   "outputs": [
    {
     "name": "stdout",
     "output_type": "stream",
     "text": [
      "The optimal value of alpha(1/C) is :  0.001\n",
      "Accuracy on test set: 89.778%\n",
      "Precision on test set: 0.913\n",
      "Recall on test set: 0.968\n",
      "F1-Score on test set: 0.940\n"
     ]
    },
    {
     "data": {
      "image/png": "[encoded data removed]",
      "text/plain": [
       "<Figure size 1440x288 with 6 Axes>"
      ]
     },
     "metadata": {
      "tags": []
     },
     "output_type": "display_data"
    }
   ],
   "source": [
    "#Testing Accuracy on Test data\n",
    "print(\"The optimal value of alpha(1/C) is : \",optimal_alpha)\n",
    "sgd = SGDClassifier(alpha=optimal_alpha, n_jobs=-1)\n",
    "sgd.fit(X_train,y_train)\n",
    "y_pred = sgd.predict(X_test)\n",
    "print(\"Accuracy on test set: %0.3f%%\"%(accuracy_score(y_test, y_pred)*100))\n",
    "print(\"Precision on test set: %0.3f\"%(precision_score(y_test, y_pred)))\n",
    "print(\"Recall on test set: %0.3f\"%(recall_score(y_test, y_pred)))\n",
    "print(\"F1-Score on test set: %0.3f\"%(f1_score(y_test, y_pred)))\n",
    "plot_confusion_matrix(y_test, y_pred)"
   ]
  },
  {
   "cell_type": "markdown",
   "metadata": {
    "_uuid": "34414ceab5872f0be1e48a91f268ebac42730425",
    "colab_type": "text",
    "id": "_s6GAFQYSMJ5"
   },
   "source": [
    "### [4.1.2] LinearSVM with Random Search"
   ]
  },
  {
   "cell_type": "code",
   "execution_count": 0,
   "metadata": {
    "_uuid": "14057e33e17b2c5e801a14b0b3ea41375e3a1ff9",
    "colab": {
     "base_uri": "https://localhost:8080/",
     "height": 176
    },
    "colab_type": "code",
    "id": "bp0ghbzZNI-b",
    "outputId": "9a433745-0795-434e-bbfc-777437fc6e93"
   },
   "outputs": [
    {
     "name": "stdout",
     "output_type": "stream",
     "text": [
      "Model with best parameters :\n",
      " SGDClassifier(alpha=0.001, average=False, class_weight=None,\n",
      "       early_stopping=False, epsilon=0.1, eta0=0.0, fit_intercept=True,\n",
      "       l1_ratio=0.15, learning_rate='optimal', loss='hinge', max_iter=None,\n",
      "       n_iter=None, n_iter_no_change=5, n_jobs=None, penalty='l2',\n",
      "       power_t=0.5, random_state=None, shuffle=True, tol=None,\n",
      "       validation_fraction=0.1, verbose=0, warm_start=False)\n",
      "Best HyperParameter(1/C):  {'alpha': 0.001}\n",
      "Best Accuracy: 90.02%\n"
     ]
    }
   ],
   "source": [
    "#Using RandomizedSearchCV\n",
    "param_grid = {'alpha':[1000,500,100,50,10,5,1,0.5,0.1,0.05,0.01,0.005,0.001,0.0005,0.0001]}\n",
    "tscv = TimeSeriesSplit(n_splits=5)\n",
    "svm = RandomizedSearchCV(SGDClassifier(), param_grid, scoring='f1_micro', cv=tscv, n_jobs=-1)\n",
    "svm.fit(X_train, y_train)\n",
    "print(\"Model with best parameters :\\n\",gsv.best_estimator_)\n",
    "print(\"Best HyperParameter(1/C): \",gsv.best_params_)\n",
    "print(\"Best Accuracy: %.2f%%\"%(gsv.best_score_*100))\n",
    "\n",
    "optimal_alpha = gsv.best_estimator_.alpha\n"
   ]
  },
  {
   "cell_type": "code",
   "execution_count": 0,
   "metadata": {
    "_uuid": "f890a398f25348a7a8cb36e80044ffbd8f6328b5",
    "colab": {
     "base_uri": "https://localhost:8080/",
     "height": 382
    },
    "colab_type": "code",
    "id": "wJW509faNJI-",
    "outputId": "d104ddb7-e0b5-42ce-9f94-165d208098db"
   },
   "outputs": [
    {
     "name": "stdout",
     "output_type": "stream",
     "text": [
      "The optimal value of alpha(1/C) is :  0.001\n",
      "Accuracy on test set: 89.717%\n",
      "Precision on test set: 0.905\n",
      "Recall on test set: 0.977\n",
      "F1-Score on test set: 0.940\n"
     ]
    },
    {
     "data": {
      "image/png": "[encoded data removed]",
      "text/plain": [
       "<Figure size 1440x288 with 6 Axes>"
      ]
     },
     "metadata": {
      "tags": []
     },
     "output_type": "display_data"
    }
   ],
   "source": [
    "#Testing Accuracy on Test data\n",
    "print(\"The optimal value of alpha(1/C) is : \",optimal_alpha)\n",
    "sgd = SGDClassifier(alpha=optimal_alpha, n_jobs=-1)\n",
    "sgd.fit(X_train,y_train)\n",
    "y_pred = sgd.predict(X_test)\n",
    "print(\"Accuracy on test set: %0.3f%%\"%(accuracy_score(y_test, y_pred)*100))\n",
    "print(\"Precision on test set: %0.3f\"%(precision_score(y_test, y_pred)))\n",
    "print(\"Recall on test set: %0.3f\"%(recall_score(y_test, y_pred)))\n",
    "print(\"F1-Score on test set: %0.3f\"%(f1_score(y_test, y_pred)))\n",
    "plot_confusion_matrix(y_test, y_pred)"
   ]
  },
  {
   "cell_type": "markdown",
   "metadata": {
    "_uuid": "04bb3a819529c9ceab2dde482b2660ded83b36fe",
    "colab_type": "text",
    "id": "g-mc3vcYUMWT"
   },
   "source": [
    "## [4.2] SVM with RBF Kernel"
   ]
  },
  {
   "cell_type": "code",
   "execution_count": 0,
   "metadata": {
    "_uuid": "9690400167ad0d0dbfbb001d2d2e350e6420f543",
    "colab": {},
    "colab_type": "code",
    "id": "scDl4l4v7hin",
    "outputId": "9ed367a8-7b3a-44c2-8a80-14b38ed59c6e"
   },
   "outputs": [
    {
     "name": "stdout",
     "output_type": "stream",
     "text": [
      "(42000, 100)\n",
      "(18000, 100)\n"
     ]
    }
   ],
   "source": [
    "# Converting sparse matrix to dense matrix\n",
    "from sklearn.decomposition import TruncatedSVD \n",
    "tsvd = TruncatedSVD(n_components=100) \n",
    "\n",
    "X_train = tsvd.fit(X_train).transform(X_train)\n",
    "print(X_train.shape)\n",
    "\n",
    "X_test = tsvd.fit(X_test).transform(X_test)\n",
    "print(X_test.shape)"
   ]
  },
  {
   "cell_type": "code",
   "execution_count": 0,
   "metadata": {
    "_uuid": "8978904b7bea5de0c4388eace10da603aa8000be",
    "colab": {
     "base_uri": "https://localhost:8080/",
     "height": 212
    },
    "colab_type": "code",
    "id": "oZaRhIiSADhY",
    "outputId": "b79ccc97-47b3-4f92-d462-e036b3cb287a"
   },
   "outputs": [
    {
     "name": "stdout",
     "output_type": "stream",
     "text": [
      "Fitting 5 folds for each of 10 candidates, totalling 50 fits\n"
     ]
    },
    {
     "name": "stderr",
     "output_type": "stream",
     "text": [
      "[Parallel(n_jobs=-1)]: Using backend LokyBackend with 2 concurrent workers.\n",
      "[Parallel(n_jobs=-1)]: Done  46 tasks      | elapsed: 88.3min\n",
      "[Parallel(n_jobs=-1)]: Done  50 out of  50 | elapsed: 100.7min finished\n"
     ]
    },
    {
     "name": "stdout",
     "output_type": "stream",
     "text": [
      "Model with best parameters :\n",
      " SVC(C=1000, cache_size=200, class_weight=None, coef0=0.0,\n",
      "  decision_function_shape='ovr', degree=3, gamma=0.0001, kernel='rbf',\n",
      "  max_iter=-1, probability=False, random_state=None, shrinking=True,\n",
      "  tol=0.001, verbose=False)\n",
      "Best Accuracy: 83.93%\n",
      "Best HyperParameter\n"
     ]
    },
    {
     "data": {
      "text/plain": [
       "{'gamma': 0.0001, 'C': 1000}"
      ]
     },
     "execution_count": 21,
     "metadata": {
      "tags": []
     },
     "output_type": "execute_result"
    }
   ],
   "source": [
    "from sklearn.model_selection import RandomizedSearchCV\n",
    "from sklearn import svm\n",
    "\n",
    "def svc_random_selection(X, y):\n",
    "    Cs = [1000,500,100,50,10,5,1,0.5,0.1,0.05,0.01,0.005,0.001,0.0005,0.0001]\n",
    "    gammas = [1000,500,100,50,10,5,1,0.5,0.1,0.05,0.01,0.005,0.001,0.0005,0.0001]\n",
    "    param_grid = {'C': Cs, 'gamma' : gammas}\n",
    "    tscv = TimeSeriesSplit(n_splits=5)\n",
    "    random_search = RandomizedSearchCV(svm.SVC(kernel='rbf'), param_grid, cv=tscv,scoring='f1_micro',verbose=1,n_jobs=-1)\n",
    "    random_search.fit(X_train, y_train)\n",
    "    random_search.best_params_\n",
    "    print(\"Model with best parameters :\\n\",random_search.best_estimator_)\n",
    "    print(\"Best Accuracy: %.2f%%\"%(random_search.best_score_*100))\n",
    "    print(\"Best HyperParameter\")\n",
    "    return random_search.best_params_\n",
    "        \n",
    "svc_random_selection(X_train, y_train)"
   ]
  },
  {
   "cell_type": "code",
   "execution_count": 0,
   "metadata": {
    "_uuid": "7939ff670fc6be52900e2fb2c8981b4bf8a45bd4",
    "colab": {
     "base_uri": "https://localhost:8080/",
     "height": 364
    },
    "colab_type": "code",
    "id": "JxcnZnWFAaKe",
    "outputId": "bfa913e0-3759-4d8b-d86d-e393426a47f2"
   },
   "outputs": [
    {
     "name": "stdout",
     "output_type": "stream",
     "text": [
      "Accuracy on test set: 81.083%\n",
      "Precision on test set: 0.821\n",
      "Recall on test set: 0.983\n",
      "F1-Score on test set: 0.895\n"
     ]
    },
    {
     "data": {
      "image/png": "[encoded data removed]",
      "text/plain": [
       "<Figure size 1440x288 with 6 Axes>"
      ]
     },
     "metadata": {
      "tags": []
     },
     "output_type": "display_data"
    }
   ],
   "source": [
    "#Testing Accuracy on Test data\n",
    "from sklearn.svm import SVC\n",
    "\n",
    "svm = SVC(kernel='rbf',C=1000,gamma=0.0001)\n",
    "svm.fit(X_train,y_train)\n",
    "y_pred = svm.predict(X_test)\n",
    "print(\"Accuracy on test set: %0.3f%%\"%(accuracy_score(y_test, y_pred)*100))\n",
    "print(\"Precision on test set: %0.3f\"%(precision_score(y_test, y_pred)))\n",
    "print(\"Recall on test set: %0.3f\"%(recall_score(y_test, y_pred)))\n",
    "print(\"F1-Score on test set: %0.3f\"%(f1_score(y_test, y_pred)))\n",
    "plot_confusion_matrix(y_test, y_pred)"
   ]
  },
  {
   "cell_type": "code",
   "execution_count": 0,
   "metadata": {
    "_uuid": "14c19e776083a8815686ed8340cdc5a5015ea260",
    "colab": {
     "base_uri": "https://localhost:8080/",
     "height": 408
    },
    "colab_type": "code",
    "id": "kjiWyYE9FRyf",
    "outputId": "c90a5593-a86e-46a0-b6dc-5ca019374632"
   },
   "outputs": [
    {
     "name": "stdout",
     "output_type": "stream",
     "text": [
      "25084\n"
     ]
    },
    {
     "name": "stderr",
     "output_type": "stream",
     "text": [
      "/opt/conda/lib/python3.6/site-packages/sklearn/svm/base.py:922: ConvergenceWarning: Liblinear failed to converge, increase the number of iterations.\n",
      "  \"the number of iterations.\", ConvergenceWarning)\n"
     ]
    },
    {
     "data": {
      "image/png": "[encoded data removed]",
      "text/plain": [
       "<Figure size 1080x360 with 1 Axes>"
      ]
     },
     "metadata": {
      "tags": []
     },
     "output_type": "display_data"
    }
   ],
   "source": [
    "from sklearn.svm import LinearSVC\n",
    "\n",
    "X_train, X_test, y_train, y_test = train_test_split(data['CleanedText'].values,data['Score'].values,test_size=0.3,shuffle=False)\n",
    "\n",
    "def plot_coefficients(classifier, feature_names, top_features=20):\n",
    " coef = classifier.coef_.ravel()\n",
    " top_positive_coefficients = np.argsort(coef)[-top_features:]\n",
    " top_negative_coefficients = np.argsort(coef)[:top_features]\n",
    " top_coefficients = np.hstack([top_negative_coefficients, top_positive_coefficients])\n",
    " # create plot\n",
    " plt.figure(figsize=(15, 5))\n",
    " colors = ['red' if c < 0 else 'blue' for c in coef[top_coefficients]]\n",
    " plt.bar(np.arange(2 * top_features), coef[top_coefficients], color=colors)\n",
    " feature_names = np.array(feature_names)\n",
    " plt.xticks(np.arange(1, 1 + 2 * top_features), feature_names[top_coefficients], rotation=60, ha='right')\n",
    " plt.show()\n",
    "cv = CountVectorizer()\n",
    "cv.fit(X_train)\n",
    "print(len(cv.vocabulary_))\n",
    "cv.get_feature_names()\n",
    "X_train = cv.transform(X_train)\n",
    "\n",
    "svm = LinearSVC()\n",
    "svm.fit(X_train, y_train)\n",
    "plot_coefficients(svm, cv.get_feature_names())"
   ]
  },
  {
   "cell_type": "markdown",
   "metadata": {
    "_uuid": "71425993aa6c80c9967908db22173ef06ee49de7",
    "colab_type": "text",
    "id": "Ae-JEsuQniW4"
   },
   "source": [
    "# [5] TF-IDF"
   ]
  },
  {
   "cell_type": "code",
   "execution_count": 0,
   "metadata": {
    "_uuid": "e65c449f068d53d2c68f42d3cceba337d781d25a",
    "colab": {},
    "colab_type": "code",
    "id": "S3BbsLonniW7"
   },
   "outputs": [],
   "source": [
    "# Spliting into Train and test\n",
    "X_train, X_test, y_train, y_test = train_test_split(data['CleanedText'].values,data['Score'].values,test_size=0.3,shuffle=False)"
   ]
  },
  {
   "cell_type": "code",
   "execution_count": 0,
   "metadata": {
    "_uuid": "eba86144af079b37ca4b4f4ff415e6916aeb2c57",
    "colab": {
     "base_uri": "https://localhost:8080/",
     "height": 52
    },
    "colab_type": "code",
    "id": "9N51GqhOniXD",
    "outputId": "95bdad30-b8c7-44d7-a82d-ed8121b08919"
   },
   "outputs": [
    {
     "name": "stdout",
     "output_type": "stream",
     "text": [
      "Train Data Size:  (42000, 2000)\n",
      "Test Data Size:  (18000, 2000)\n"
     ]
    }
   ],
   "source": [
    "tfidf = TfidfVectorizer(ngram_range=(1,2), max_features=2000, min_df=20) #Using bi-grams\n",
    "X_train = tfidf.fit_transform(X_train)\n",
    "print(\"Train Data Size: \",X_train.shape)\n",
    "\n",
    "X_test = tfidf.transform(X_test)\n",
    "print(\"Test Data Size: \",X_test.shape)"
   ]
  },
  {
   "cell_type": "markdown",
   "metadata": {
    "_uuid": "87e895dd2ce26d6a863702cc3916bebbb4e1682d",
    "colab_type": "text",
    "id": "uUbzpPxaaNTM"
   },
   "source": [
    "## [5.1] Linear SVM"
   ]
  },
  {
   "cell_type": "markdown",
   "metadata": {
    "_uuid": "3ce1e09ba3ee294ae12b815026c1ce4a69f101eb",
    "colab_type": "text",
    "id": "UkYArf4maWdO"
   },
   "source": [
    "### [5.1.1] Linear SVM with Grid Search"
   ]
  },
  {
   "cell_type": "code",
   "execution_count": 0,
   "metadata": {
    "_uuid": "1bbb6481e2700a7ce817e4a6b7ce834ca90c5595",
    "colab": {
     "base_uri": "https://localhost:8080/",
     "height": 176
    },
    "colab_type": "code",
    "id": "DOF_92m0niXN",
    "outputId": "8e64694f-e2ba-47b1-e916-58d08ff7179f"
   },
   "outputs": [
    {
     "name": "stdout",
     "output_type": "stream",
     "text": [
      "Model with best parameters :\n",
      " SGDClassifier(alpha=0.0001, average=False, class_weight=None,\n",
      "       early_stopping=False, epsilon=0.1, eta0=0.0, fit_intercept=True,\n",
      "       l1_ratio=0.15, learning_rate='optimal', loss='hinge', max_iter=None,\n",
      "       n_iter=None, n_iter_no_change=5, n_jobs=None, penalty='l2',\n",
      "       power_t=0.5, random_state=None, shuffle=True, tol=None,\n",
      "       validation_fraction=0.1, verbose=0, warm_start=False)\n",
      "Best HyperParameter(1/C):  {'alpha': 0.0001}\n",
      "Best Accuracy: 90.30%\n"
     ]
    }
   ],
   "source": [
    "from sklearn.linear_model import SGDClassifier\n",
    "\n",
    "svm = SGDClassifier()\n",
    "param_grid = {'alpha':[1000,500,100,50,10,5,1,0.5,0.1,0.05,0.01,0.005,0.001,0.0005,0.0001]}\n",
    "tscv = TimeSeriesSplit(n_splits=10)\n",
    "gsv = GridSearchCV(svm, param_grid, scoring='f1_micro', cv=tscv, n_jobs=-1, pre_dispatch=2)\n",
    "gsv.fit(X_train, y_train)\n",
    "print(\"Model with best parameters :\\n\",gsv.best_estimator_)\n",
    "print(\"Best HyperParameter(1/C): \",gsv.best_params_)\n",
    "print(\"Best Accuracy: %.2f%%\"%(gsv.best_score_*100))\n",
    "\n",
    "optimal_alpha = gsv.best_estimator_.alpha"
   ]
  },
  {
   "cell_type": "code",
   "execution_count": 0,
   "metadata": {
    "_uuid": "079b58535b4369ef86148c7b52086b8ea7225be0",
    "colab": {
     "base_uri": "https://localhost:8080/",
     "height": 382
    },
    "colab_type": "code",
    "id": "OY4lm9ZHniXV",
    "outputId": "ae526e9e-1927-48d5-ccb7-f4f9d658fe6a"
   },
   "outputs": [
    {
     "name": "stdout",
     "output_type": "stream",
     "text": [
      "The optimal value of alpha(1/C) is :  0.0001\n",
      "Accuracy on test set: 89.728%\n",
      "Precision on test set: 0.898\n",
      "Recall on test set: 0.986\n",
      "F1-Score on test set: 0.940\n"
     ]
    },
    {
     "data": {
      "image/png": "[encoded data removed]",
      "text/plain": [
       "<Figure size 1440x288 with 6 Axes>"
      ]
     },
     "metadata": {
      "tags": []
     },
     "output_type": "display_data"
    }
   ],
   "source": [
    "#Testing Accuracy on Test data\n",
    "print(\"The optimal value of alpha(1/C) is : \",optimal_alpha)\n",
    "sgd = SGDClassifier(alpha=optimal_alpha, n_jobs=-1)\n",
    "sgd.fit(X_train,y_train)\n",
    "y_pred = sgd.predict(X_test)\n",
    "print(\"Accuracy on test set: %0.3f%%\"%(accuracy_score(y_test, y_pred)*100))\n",
    "print(\"Precision on test set: %0.3f\"%(precision_score(y_test, y_pred)))\n",
    "print(\"Recall on test set: %0.3f\"%(recall_score(y_test, y_pred)))\n",
    "print(\"F1-Score on test set: %0.3f\"%(f1_score(y_test, y_pred)))\n",
    "plot_confusion_matrix(y_test, y_pred)"
   ]
  },
  {
   "cell_type": "markdown",
   "metadata": {
    "_uuid": "76f00270b2c76dc8e55517b940d31d54948de8ab",
    "colab_type": "text",
    "id": "xUfsqDUiahh9"
   },
   "source": [
    "### [5.1.2] Linear SVM with Random Search"
   ]
  },
  {
   "cell_type": "code",
   "execution_count": 0,
   "metadata": {
    "_uuid": "492666fdeda3fda4b0659436436bc0136fd3a943",
    "colab": {
     "base_uri": "https://localhost:8080/",
     "height": 176
    },
    "colab_type": "code",
    "id": "V03XdH4UniXo",
    "outputId": "25ab0237-5563-4889-8536-e20e2ba68467"
   },
   "outputs": [
    {
     "name": "stdout",
     "output_type": "stream",
     "text": [
      "Model with best parameters :\n",
      " SGDClassifier(alpha=0.0001, average=False, class_weight=None,\n",
      "       early_stopping=False, epsilon=0.1, eta0=0.0, fit_intercept=True,\n",
      "       l1_ratio=0.15, learning_rate='optimal', loss='hinge', max_iter=None,\n",
      "       n_iter=None, n_iter_no_change=5, n_jobs=None, penalty='l2',\n",
      "       power_t=0.5, random_state=None, shuffle=True, tol=None,\n",
      "       validation_fraction=0.1, verbose=0, warm_start=False)\n",
      "Best HyperParameter(1/C):  {'alpha': 0.0001}\n",
      "Best Accuracy: 90.30%\n"
     ]
    }
   ],
   "source": [
    "#Using RandomizedSearchCV\n",
    "param_grid = {'alpha':[1000,500,100,50,10,5,1,0.5,0.1,0.05,0.01,0.005,0.001,0.0005,0.0001]}\n",
    "tscv = TimeSeriesSplit(n_splits=5)\n",
    "svm = RandomizedSearchCV(SGDClassifier(), param_grid, scoring='f1_micro', cv=tscv, n_jobs=-1, pre_dispatch=2)\n",
    "svm.fit(X_train, y_train)\n",
    "print(\"Model with best parameters :\\n\",gsv.best_estimator_)\n",
    "print(\"Best HyperParameter(1/C): \",gsv.best_params_)\n",
    "print(\"Best Accuracy: %.2f%%\"%(gsv.best_score_*100))\n",
    "\n",
    "optimal_alpha = gsv.best_estimator_.alpha\n"
   ]
  },
  {
   "cell_type": "code",
   "execution_count": 0,
   "metadata": {
    "_uuid": "99ccd08be71597e72a0a4523159935748782e9a1",
    "colab": {
     "base_uri": "https://localhost:8080/",
     "height": 382
    },
    "colab_type": "code",
    "id": "oHyfhe9WniXw",
    "outputId": "1b832972-6283-42ac-c477-e7be85f855f5"
   },
   "outputs": [
    {
     "name": "stdout",
     "output_type": "stream",
     "text": [
      "The optimal value of alpha(1/C) is :  0.0001\n",
      "Accuracy on test set: 89.772%\n",
      "Precision on test set: 0.899\n",
      "Recall on test set: 0.986\n",
      "F1-Score on test set: 0.941\n"
     ]
    },
    {
     "data": {
      "image/png": "[encoded data removed]",
      "text/plain": [
       "<Figure size 1440x288 with 6 Axes>"
      ]
     },
     "metadata": {
      "tags": []
     },
     "output_type": "display_data"
    }
   ],
   "source": [
    "#Testing Accuracy on Test data\n",
    "print(\"The optimal value of alpha(1/C) is : \",optimal_alpha)\n",
    "sgd = SGDClassifier(alpha=optimal_alpha, n_jobs=-1)\n",
    "sgd.fit(X_train,y_train)\n",
    "y_pred = sgd.predict(X_test)\n",
    "print(\"Accuracy on test set: %0.3f%%\"%(accuracy_score(y_test, y_pred)*100))\n",
    "print(\"Precision on test set: %0.3f\"%(precision_score(y_test, y_pred)))\n",
    "print(\"Recall on test set: %0.3f\"%(recall_score(y_test, y_pred)))\n",
    "print(\"F1-Score on test set: %0.3f\"%(f1_score(y_test, y_pred)))\n",
    "plot_confusion_matrix(y_test, y_pred)"
   ]
  },
  {
   "cell_type": "markdown",
   "metadata": {
    "_uuid": "113fecb5dfd9b12255ab840b969ebc8df8662a40",
    "colab_type": "text",
    "id": "ebqOSVmwbAmD"
   },
   "source": [
    "## [5.2] SVM with RBF Kernel"
   ]
  },
  {
   "cell_type": "code",
   "execution_count": 0,
   "metadata": {
    "_uuid": "2de9ee47845f859a515f87e2e55339097389f93c",
    "colab": {
     "base_uri": "https://localhost:8080/",
     "height": 364
    },
    "colab_type": "code",
    "id": "5Rp0EZecniYU",
    "outputId": "5c276d02-bb4f-485c-d883-4d9120dfdead"
   },
   "outputs": [
    {
     "name": "stdout",
     "output_type": "stream",
     "text": [
      "(42000, 100)\n",
      "(18000, 100)\n"
     ]
    }
   ],
   "source": [
    "# Converting sparse matrix to dense matrix\n",
    "from sklearn.decomposition import TruncatedSVD \n",
    "tsvd = TruncatedSVD(n_components=100) \n",
    "\n",
    "X_train = tsvd.fit(X_train).transform(X_train)\n",
    "print(X_train.shape)\n",
    "\n",
    "X_test = tsvd.fit(X_test).transform(X_test)\n",
    "print(X_test.shape)"
   ]
  },
  {
   "cell_type": "code",
   "execution_count": 0,
   "metadata": {
    "_uuid": "41c3de7c64a85e9536fea6fd55114f67a91386b1",
    "colab": {
     "base_uri": "https://localhost:8080/",
     "height": 105
    },
    "colab_type": "code",
    "id": "9aliN8ORniYk",
    "outputId": "7df0c02a-d8e3-41b5-b829-5af2574dee87"
   },
   "outputs": [
    {
     "name": "stdout",
     "output_type": "stream",
     "text": [
      "Fitting 5 folds for each of 10 candidates, totalling 50 fits\n"
     ]
    },
    {
     "name": "stderr",
     "output_type": "stream",
     "text": [
      "[Parallel(n_jobs=-1)]: Using backend LokyBackend with 2 concurrent workers.\n",
      "[Parallel(n_jobs=-1)]: Done  46 tasks      | elapsed: 49.6min\n",
      "[Parallel(n_jobs=-1)]: Done  50 out of  50 | elapsed: 53.1min finished\n"
     ]
    },
    {
     "name": "stdout",
     "output_type": "stream",
     "text": [
      "Model with best parameters :\n",
      " SVC(C=0.5, cache_size=200, class_weight=None, coef0=0.0,\n",
      "  decision_function_shape='ovr', degree=3, gamma=1, kernel='rbf',\n",
      "  max_iter=-1, probability=False, random_state=None, shrinking=True,\n",
      "  tol=0.001, verbose=False)\n",
      "Best Accuracy: 86.46%\n",
      "Best HyperParameter\n"
     ]
    },
    {
     "data": {
      "text/plain": [
       "{'gamma': 1, 'C': 0.5}"
      ]
     },
     "execution_count": 43,
     "metadata": {
      "tags": []
     },
     "output_type": "execute_result"
    }
   ],
   "source": [
    "from sklearn import svm\n",
    "svc_random_selection(X_train, y_train)"
   ]
  },
  {
   "cell_type": "code",
   "execution_count": 0,
   "metadata": {
    "_uuid": "c1b9f6acb4f0c0e0bdfe8b879d7fbeebe576ec89",
    "colab": {
     "base_uri": "https://localhost:8080/",
     "height": 364
    },
    "colab_type": "code",
    "id": "-6m5Gk3aniYx",
    "outputId": "3d2530a8-4793-40f6-baec-e65b834af176"
   },
   "outputs": [
    {
     "name": "stdout",
     "output_type": "stream",
     "text": [
      "Accuracy on test set: 80.256%\n",
      "Precision on test set: 0.826\n",
      "Recall on test set: 0.962\n",
      "F1-Score on test set: 0.889\n"
     ]
    },
    {
     "data": {
      "image/png": "[encoded data removed]",
      "text/plain": [
       "<Figure size 1440x288 with 6 Axes>"
      ]
     },
     "metadata": {
      "tags": []
     },
     "output_type": "display_data"
    }
   ],
   "source": [
    "#Testing Accuracy on Test data\n",
    "from sklearn.svm import SVC\n",
    "\n",
    "svm = SVC(kernel='rbf',C=0.5,gamma=1)\n",
    "svm.fit(X_train,y_train)\n",
    "y_pred = svm.predict(X_test)\n",
    "print(\"Accuracy on test set: %0.3f%%\"%(accuracy_score(y_test, y_pred)*100))\n",
    "print(\"Precision on test set: %0.3f\"%(precision_score(y_test, y_pred)))\n",
    "print(\"Recall on test set: %0.3f\"%(recall_score(y_test, y_pred)))\n",
    "print(\"F1-Score on test set: %0.3f\"%(f1_score(y_test, y_pred)))\n",
    "plot_confusion_matrix(y_test, y_pred)"
   ]
  },
  {
   "cell_type": "code",
   "execution_count": 0,
   "metadata": {
    "_uuid": "db8ece469beb7f8f487a1cdd02c71f23e98d8884",
    "colab": {
     "base_uri": "https://localhost:8080/",
     "height": 434
    },
    "colab_type": "code",
    "id": "FbKAEtSBggy6",
    "outputId": "30972ba1-4d3a-47e3-c1a6-96bd5e96e63c"
   },
   "outputs": [
    {
     "name": "stdout",
     "output_type": "stream",
     "text": [
      "682500\n"
     ]
    },
    {
     "data": {
      "image/png": "[encoded data removed]",
      "text/plain": [
       "<Figure size 1080x360 with 1 Axes>"
      ]
     },
     "metadata": {
      "tags": []
     },
     "output_type": "display_data"
    }
   ],
   "source": [
    "from sklearn.svm import LinearSVC\n",
    "\n",
    "X_train, X_test, y_train, y_test = train_test_split(data['CleanedText'].values,data['Score'].values,test_size=0.3,shuffle=False)\n",
    "\n",
    "def plot_coefficients(classifier, feature_names, top_features=20):\n",
    " coef = classifier.coef_.ravel()\n",
    " top_positive_coefficients = np.argsort(coef)[-top_features:]\n",
    " top_negative_coefficients = np.argsort(coef)[:top_features]\n",
    " top_coefficients = np.hstack([top_negative_coefficients, top_positive_coefficients])\n",
    " # create plot\n",
    " plt.figure(figsize=(15, 5))\n",
    " colors = ['red' if c < 0 else 'blue' for c in coef[top_coefficients]]\n",
    " plt.bar(np.arange(2 * top_features), coef[top_coefficients], color=colors)\n",
    " feature_names = np.array(feature_names)\n",
    " plt.xticks(np.arange(1, 1 + 2 * top_features), feature_names[top_coefficients], rotation=60, ha='right')\n",
    " plt.show()\n",
    "tfidf = TfidfVectorizer(ngram_range=(1,2))\n",
    "tfidf.fit(X_train)\n",
    "print(len(tfidf.vocabulary_))\n",
    "tfidf.get_feature_names()\n",
    "X_train = tfidf.transform(X_train)\n",
    "\n",
    "svm = LinearSVC()\n",
    "svm.fit(X_train, y_train)\n",
    "plot_coefficients(svm, tfidf.get_feature_names())\n"
   ]
  },
  {
   "cell_type": "markdown",
   "metadata": {
    "_uuid": "3a5df0ee51608d1268a1fbe030977943cb3b7c2f",
    "colab_type": "text",
    "id": "X8rgJajvniZM"
   },
   "source": [
    "# [6] Word2Vec"
   ]
  },
  {
   "cell_type": "code",
   "execution_count": 0,
   "metadata": {
    "_uuid": "5c542c3b1e40fd1488921748048c01e7404062e8",
    "colab": {},
    "colab_type": "code",
    "id": "uRhhZOU1niZR"
   },
   "outputs": [],
   "source": [
    "# Train your own Word2Vec model using your own text corpus\n",
    "i=0\n",
    "list_of_sent=[]\n",
    "for sent in data['CleanedText'].values:\n",
    "    list_of_sent.append(sent.split())"
   ]
  },
  {
   "cell_type": "code",
   "execution_count": 28,
   "metadata": {
    "_uuid": "14dbae185790adbe3266e64f5dad9cb67dff76ba",
    "colab": {
     "base_uri": "https://localhost:8080/",
     "height": 88
    },
    "colab_type": "code",
    "id": "gRNrcpOIniZo",
    "outputId": "7ed39932-bfda-44aa-c5a7-43e08b34d5ac"
   },
   "outputs": [
    {
     "name": "stdout",
     "output_type": "stream",
     "text": [
      "dont know anyon would ever use littl liquid food color tri past color intens easili blend love shade ice martha stewart show wonder season cooki time time show simpl ice cooki excit color make wonder tabl decor well great dessert parti tea event past color must like make frost cooki parti cake especi fun kid contest fun event birthday parti christma parti raini afternoon\n",
      "*****************************************************************\n",
      "['dont', 'know', 'anyon', 'would', 'ever', 'use', 'littl', 'liquid', 'food', 'color', 'tri', 'past', 'color', 'intens', 'easili', 'blend', 'love', 'shade', 'ice', 'martha', 'stewart', 'show', 'wonder', 'season', 'cooki', 'time', 'time', 'show', 'simpl', 'ice', 'cooki', 'excit', 'color', 'make', 'wonder', 'tabl', 'decor', 'well', 'great', 'dessert', 'parti', 'tea', 'event', 'past', 'color', 'must', 'like', 'make', 'frost', 'cooki', 'parti', 'cake', 'especi', 'fun', 'kid', 'contest', 'fun', 'event', 'birthday', 'parti', 'christma', 'parti', 'raini', 'afternoon']\n"
     ]
    }
   ],
   "source": [
    "print(data['CleanedText'].values[0])\n",
    "print(\"*****************************************************************\")\n",
    "print(list_of_sent[0])"
   ]
  },
  {
   "cell_type": "code",
   "execution_count": 29,
   "metadata": {
    "_uuid": "ed482daa403e0be7ff095accad20bab5a513688b",
    "colab": {
     "base_uri": "https://localhost:8080/",
     "height": 34
    },
    "colab_type": "code",
    "id": "ULa6n4vrniZy",
    "outputId": "96597617-c457-431c-f275-1c4e596a1fba"
   },
   "outputs": [
    {
     "name": "stderr",
     "output_type": "stream",
     "text": [
      "WARNING:gensim.models.base_any2vec:consider setting layer size to a multiple of 4 for greater performance\n"
     ]
    }
   ],
   "source": [
    "# min_count = 5 considers only words that occured atleast 5 times\n",
    "w2v_model=Word2Vec(list_of_sent,min_count=5,size=50, workers=4)"
   ]
  },
  {
   "cell_type": "code",
   "execution_count": 30,
   "metadata": {
    "_uuid": "6f9c2a55c35525d12e1bbdcd06d01030fd16841c",
    "colab": {
     "base_uri": "https://localhost:8080/",
     "height": 71
    },
    "colab_type": "code",
    "id": "d7hrEDdsniZ6",
    "outputId": "c1ae884c-768d-4f4f-efdd-36687ba1ce96"
   },
   "outputs": [
    {
     "name": "stdout",
     "output_type": "stream",
     "text": [
      "number of words that occured minimum 5 times  10134\n",
      "sample words  ['dont', 'know', 'anyon', 'would', 'ever', 'use', 'littl', 'liquid', 'food', 'color', 'tri', 'past', 'intens', 'easili', 'blend', 'love', 'shade', 'ice', 'martha', 'stewart', 'show', 'wonder', 'season', 'cooki', 'time', 'simpl', 'excit', 'make', 'tabl', 'decor', 'well', 'great', 'dessert', 'parti', 'tea', 'event', 'must', 'like', 'frost', 'cake', 'especi', 'fun', 'kid', 'contest', 'birthday', 'christma', 'raini', 'afternoon', 'winona', 'ryder']\n"
     ]
    }
   ],
   "source": [
    "w2v_words = list(w2v_model.wv.vocab)\n",
    "print(\"number of words that occured minimum 5 times \",len(w2v_words))\n",
    "print(\"sample words \", w2v_words[0:50])"
   ]
  },
  {
   "cell_type": "markdown",
   "metadata": {
    "_uuid": "e3fc03007dd646c469735049c27b21ac42bc46a5",
    "colab_type": "text",
    "id": "SSCcepC3niaQ"
   },
   "source": [
    "# [7] Avg Word2Vec"
   ]
  },
  {
   "cell_type": "code",
   "execution_count": 0,
   "metadata": {
    "_uuid": "0803896ab75ec29421c8a410ad5dc5c0c1799670",
    "colab": {
     "base_uri": "https://localhost:8080/",
     "height": 70
    },
    "colab_type": "code",
    "id": "KIdH9VcEniaW",
    "outputId": "15fb1f04-fab4-4eda-da7d-ed83d095a553"
   },
   "outputs": [
    {
     "name": "stderr",
     "output_type": "stream",
     "text": [
      "100%|██████████| 60000/60000 [01:40<00:00, 595.03it/s]"
     ]
    },
    {
     "name": "stdout",
     "output_type": "stream",
     "text": [
      "60000\n",
      "50\n"
     ]
    },
    {
     "name": "stderr",
     "output_type": "stream",
     "text": [
      "\n"
     ]
    }
   ],
   "source": [
    "# average Word2Vec\n",
    "# compute average word2vec for each review.\n",
    "sent_vectors = []; # the avg-w2v for each sentence/review is stored in this list\n",
    "for sent in tqdm(list_of_sent): # for each review/sentence\n",
    "    sent_vec = np.zeros(50) # as word vectors are of zero length\n",
    "    cnt_words =0; # num of words with a valid vector in the sentence/review\n",
    "    for word in sent: # for each word in a review/sentence\n",
    "        if word in w2v_words:\n",
    "            vec = w2v_model.wv[word]\n",
    "            sent_vec += vec\n",
    "            cnt_words += 1\n",
    "    if cnt_words != 0:\n",
    "        sent_vec /= cnt_words\n",
    "    sent_vectors.append(sent_vec)\n",
    "print(len(sent_vectors))\n",
    "print(len(sent_vectors[0]))"
   ]
  },
  {
   "cell_type": "code",
   "execution_count": 0,
   "metadata": {
    "_uuid": "1a711156d7f492362c60bdd9906cb35caa0562d5",
    "colab": {},
    "colab_type": "code",
    "id": "ffo1IgjKdCHK"
   },
   "outputs": [],
   "source": [
    "# Spliting into Train and test\n",
    "X_train, X_test, y_train, y_test = train_test_split(sent_vectors, data['Score'].values, test_size=0.3, shuffle=False)"
   ]
  },
  {
   "cell_type": "markdown",
   "metadata": {
    "_uuid": "4375165f49e91003edd4743408edab81b6300c70",
    "colab_type": "text",
    "id": "gdW9ChEGcIaj"
   },
   "source": [
    "## [7.1] Linear SVM"
   ]
  },
  {
   "cell_type": "markdown",
   "metadata": {
    "_uuid": "fbe25d900f2a16c98f345e0e421797a4fb7cbf8f",
    "colab_type": "text",
    "id": "Li9fDSmtcPUy"
   },
   "source": [
    "### [7.1.1] Linear SVM with Grid Search"
   ]
  },
  {
   "cell_type": "code",
   "execution_count": 0,
   "metadata": {
    "_uuid": "971b2b0084451196a8eb5782d7ee52c4d2ee7f84",
    "colab": {
     "base_uri": "https://localhost:8080/",
     "height": 176
    },
    "colab_type": "code",
    "id": "6I1iXGquniao",
    "outputId": "a8a85e0a-7666-4b10-93a5-0bfa173ed59e"
   },
   "outputs": [
    {
     "name": "stdout",
     "output_type": "stream",
     "text": [
      "Model with best parameters :\n",
      " SGDClassifier(alpha=0.001, average=False, class_weight=None,\n",
      "       early_stopping=False, epsilon=0.1, eta0=0.0, fit_intercept=True,\n",
      "       l1_ratio=0.15, learning_rate='optimal', loss='hinge', max_iter=None,\n",
      "       n_iter=None, n_iter_no_change=5, n_jobs=None, penalty='l2',\n",
      "       power_t=0.5, random_state=None, shuffle=True, tol=None,\n",
      "       validation_fraction=0.1, verbose=0, warm_start=False)\n",
      "Best HyperParameter(1/C):  {'alpha': 0.001}\n",
      "Best Accuracy: 88.41%\n"
     ]
    }
   ],
   "source": [
    "from sklearn.linear_model import SGDClassifier\n",
    "\n",
    "svm = SGDClassifier()\n",
    "param_grid = {'alpha':[1000,500,100,50,10,5,1,0.5,0.1,0.05,0.01,0.005,0.001,0.0005,0.0001]}\n",
    "tscv = TimeSeriesSplit(n_splits=10)\n",
    "gsv = GridSearchCV(svm,param_grid,scoring='f1_micro',cv=tscv,n_jobs=-1,verbose=1)\n",
    "gsv.fit(X_train, y_train)\n",
    "print(\"Model with best parameters :\\n\",gsv.best_estimator_)\n",
    "print(\"Best HyperParameter(1/C): \",gsv.best_params_)\n",
    "print(\"Best Accuracy: %.2f%%\"%(gsv.best_score_*100))\n",
    "\n",
    "optimal_alpha = gsv.best_estimator_.alpha"
   ]
  },
  {
   "cell_type": "code",
   "execution_count": 0,
   "metadata": {
    "_uuid": "6bbea578534fdea3b141fac8ff7347169829270d",
    "colab": {
     "base_uri": "https://localhost:8080/",
     "height": 382
    },
    "colab_type": "code",
    "id": "2RKF1pY4nibD",
    "outputId": "f310660f-b209-4d00-a613-d6f528b2c28b"
   },
   "outputs": [
    {
     "name": "stdout",
     "output_type": "stream",
     "text": [
      "The optimal value of alpha(1/C) is :  0.001\n",
      "Accuracy on test set: 87.906%\n",
      "Precision on test set: 0.892\n",
      "Recall on test set: 0.970\n",
      "F1-Score on test set: 0.929\n"
     ]
    },
    {
     "data": {
      "image/png": "[encoded data removed]",
      "text/plain": [
       "<Figure size 1440x288 with 6 Axes>"
      ]
     },
     "metadata": {
      "tags": []
     },
     "output_type": "display_data"
    }
   ],
   "source": [
    "#Testing Accuracy on Test data\n",
    "print(\"The optimal value of alpha(1/C) is : \",optimal_alpha)\n",
    "sgd = SGDClassifier(alpha=optimal_alpha, n_jobs=-1)\n",
    "sgd.fit(X_train,y_train)\n",
    "y_pred = sgd.predict(X_test)\n",
    "print(\"Accuracy on test set: %0.3f%%\"%(accuracy_score(y_test, y_pred)*100))\n",
    "print(\"Precision on test set: %0.3f\"%(precision_score(y_test, y_pred)))\n",
    "print(\"Recall on test set: %0.3f\"%(recall_score(y_test, y_pred)))\n",
    "print(\"F1-Score on test set: %0.3f\"%(f1_score(y_test, y_pred)))\n",
    "plot_confusion_matrix(y_test, y_pred)"
   ]
  },
  {
   "cell_type": "markdown",
   "metadata": {
    "_uuid": "84cfd9e1281a518f9a7f996dfcbfda86922618c3",
    "colab_type": "text",
    "id": "XLsIyE0bcYWE"
   },
   "source": [
    "### [7.1.2] Linear SVM with Random Search"
   ]
  },
  {
   "cell_type": "code",
   "execution_count": 0,
   "metadata": {
    "_uuid": "c25cd8b842f3de329830e7a459141e387204e634",
    "colab": {
     "base_uri": "https://localhost:8080/",
     "height": 176
    },
    "colab_type": "code",
    "id": "80FjOEuUnibQ",
    "outputId": "a7f14145-c1f9-44e6-f78c-a359e9d44c9f"
   },
   "outputs": [
    {
     "name": "stdout",
     "output_type": "stream",
     "text": [
      "Fitting 5 folds for each of 10 candidates, totalling 50 fits\n"
     ]
    },
    {
     "name": "stderr",
     "output_type": "stream",
     "text": [
      "[Parallel(n_jobs=-1)]: Using backend LokyBackend with 2 concurrent workers.\n",
      "[Parallel(n_jobs=-1)]: Done  46 tasks      | elapsed:  1.3min\n"
     ]
    },
    {
     "name": "stdout",
     "output_type": "stream",
     "text": [
      "Model with best parameters :\n",
      " SGDClassifier(alpha=0.001, average=False, class_weight=None,\n",
      "       early_stopping=False, epsilon=0.1, eta0=0.0, fit_intercept=True,\n",
      "       l1_ratio=0.15, learning_rate='optimal', loss='hinge', max_iter=None,\n",
      "       n_iter=None, n_iter_no_change=5, n_jobs=None, penalty='l2',\n",
      "       power_t=0.5, random_state=None, shuffle=True, tol=None,\n",
      "       validation_fraction=0.1, verbose=0, warm_start=False)\n",
      "Best HyperParameter(1/C):  {'alpha': 0.001}\n",
      "Best Accuracy: 88.41%\n"
     ]
    },
    {
     "name": "stderr",
     "output_type": "stream",
     "text": [
      "[Parallel(n_jobs=-1)]: Done  50 out of  50 | elapsed:  1.5min finished\n"
     ]
    }
   ],
   "source": [
    "#Using RandomizedSearchCV\n",
    "param_grid = {'alpha':[1000,500,100,50,10,5,1,0.5,0.1,0.05,0.01,0.005,0.001,0.0005,0.0001]}\n",
    "tscv = TimeSeriesSplit(n_splits=5)\n",
    "svm = RandomizedSearchCV(SGDClassifier(),param_grid,scoring='f1_micro',cv=tscv,n_jobs=-1,verbose=1)\n",
    "svm.fit(X_train, y_train)\n",
    "print(\"Model with best parameters :\\n\",gsv.best_estimator_)\n",
    "print(\"Best HyperParameter(1/C): \",gsv.best_params_)\n",
    "print(\"Best Accuracy: %.2f%%\"%(gsv.best_score_*100))\n",
    "\n",
    "optimal_alpha = gsv.best_estimator_.alpha\n"
   ]
  },
  {
   "cell_type": "code",
   "execution_count": 0,
   "metadata": {
    "_uuid": "5b09804e6bee5bdb1c0693f90d6d9542723c3b2b",
    "colab": {
     "base_uri": "https://localhost:8080/",
     "height": 382
    },
    "colab_type": "code",
    "id": "6LjxuE2rnibi",
    "outputId": "df971b9b-f17c-4906-bb94-98d23a6d34bf"
   },
   "outputs": [
    {
     "name": "stdout",
     "output_type": "stream",
     "text": [
      "The optimal value of alpha(1/C) is :  0.001\n",
      "Accuracy on test set: 87.622%\n",
      "Precision on test set: 0.883\n",
      "Recall on test set: 0.978\n",
      "F1-Score on test set: 0.928\n"
     ]
    },
    {
     "data": {
      "image/png": "[encoded data removed]",
      "text/plain": [
       "<Figure size 1440x288 with 6 Axes>"
      ]
     },
     "metadata": {
      "tags": []
     },
     "output_type": "display_data"
    }
   ],
   "source": [
    "#Testing Accuracy on Test data\n",
    "print(\"The optimal value of alpha(1/C) is : \",optimal_alpha)\n",
    "sgd = SGDClassifier(alpha=optimal_alpha, n_jobs=-1)\n",
    "sgd.fit(X_train,y_train)\n",
    "y_pred = sgd.predict(X_test)\n",
    "print(\"Accuracy on test set: %0.3f%%\"%(accuracy_score(y_test, y_pred)*100))\n",
    "print(\"Precision on test set: %0.3f\"%(precision_score(y_test, y_pred)))\n",
    "print(\"Recall on test set: %0.3f\"%(recall_score(y_test, y_pred)))\n",
    "print(\"F1-Score on test set: %0.3f\"%(f1_score(y_test, y_pred)))\n",
    "plot_confusion_matrix(y_test, y_pred)"
   ]
  },
  {
   "cell_type": "markdown",
   "metadata": {
    "_uuid": "bf61c7ed2e9a9fd23ef32fc9b9bbd5c852a9579b",
    "colab_type": "text",
    "id": "myQ7iouecd_-"
   },
   "source": [
    "## [7.2] SVM with RBF Kernel"
   ]
  },
  {
   "cell_type": "code",
   "execution_count": 0,
   "metadata": {
    "_uuid": "2ed116e85a5ed647b99af1d19fecc61d1af4cf1b",
    "colab": {
     "base_uri": "https://localhost:8080/",
     "height": 105
    },
    "colab_type": "code",
    "id": "i_Pb2M3xnicJ",
    "outputId": "9177d373-c83d-4fa5-8a07-f75282f66e5e"
   },
   "outputs": [
    {
     "name": "stdout",
     "output_type": "stream",
     "text": [
      "Fitting 5 folds for each of 10 candidates, totalling 50 fits\n"
     ]
    },
    {
     "name": "stderr",
     "output_type": "stream",
     "text": [
      "[Parallel(n_jobs=-1)]: Using backend LokyBackend with 2 concurrent workers.\n",
      "[Parallel(n_jobs=-1)]: Done  46 tasks      | elapsed: 48.7min\n",
      "[Parallel(n_jobs=-1)]: Done  50 out of  50 | elapsed: 68.1min finished\n"
     ]
    },
    {
     "name": "stdout",
     "output_type": "stream",
     "text": [
      "Model with best parameters :\n",
      " SVC(C=10, cache_size=200, class_weight=None, coef0=0.0,\n",
      "  decision_function_shape='ovr', degree=3, gamma=0.005, kernel='rbf',\n",
      "  max_iter=-1, probability=False, random_state=None, shrinking=True,\n",
      "  tol=0.001, verbose=False)\n",
      "Best Accuracy: 88.58%\n",
      "Best HyperParameter\n"
     ]
    },
    {
     "data": {
      "text/plain": [
       "{'gamma': 0.005, 'C': 10}"
      ]
     },
     "execution_count": 60,
     "metadata": {
      "tags": []
     },
     "output_type": "execute_result"
    }
   ],
   "source": [
    "from sklearn import svm\n",
    "svc_random_selection(X_train, y_train)"
   ]
  },
  {
   "cell_type": "code",
   "execution_count": 0,
   "metadata": {
    "_uuid": "507e62a7c87a3f8a2b9824d208f6cbe2bec4ff54",
    "colab": {
     "base_uri": "https://localhost:8080/",
     "height": 364
    },
    "colab_type": "code",
    "id": "UqycHiO1dlRg",
    "outputId": "4906f939-6a6f-4874-b661-d51723b5baae"
   },
   "outputs": [
    {
     "name": "stdout",
     "output_type": "stream",
     "text": [
      "Accuracy on test set: 88.317%\n",
      "Precision on test set: 0.893\n",
      "Recall on test set: 0.974\n",
      "F1-Score on test set: 0.932\n"
     ]
    },
    {
     "data": {
      "image/png": "[encoded data removed]",
      "text/plain": [
       "<Figure size 1440x288 with 6 Axes>"
      ]
     },
     "metadata": {
      "tags": []
     },
     "output_type": "display_data"
    }
   ],
   "source": [
    "#Testing Accuracy on Test data\n",
    "from sklearn.svm import SVC\n",
    "\n",
    "svm = SVC(kernel='rbf',C=10,gamma=0.005)\n",
    "svm.fit(X_train,y_train)\n",
    "y_pred = svm.predict(X_test)\n",
    "print(\"Accuracy on test set: %0.3f%%\"%(accuracy_score(y_test, y_pred)*100))\n",
    "print(\"Precision on test set: %0.3f\"%(precision_score(y_test, y_pred)))\n",
    "print(\"Recall on test set: %0.3f\"%(recall_score(y_test, y_pred)))\n",
    "print(\"F1-Score on test set: %0.3f\"%(f1_score(y_test, y_pred)))\n",
    "plot_confusion_matrix(y_test, y_pred)"
   ]
  },
  {
   "cell_type": "markdown",
   "metadata": {
    "_uuid": "167367521163865edfcb7d47a8489d927f3aee76",
    "colab_type": "text",
    "id": "Wb-yARnEnicT"
   },
   "source": [
    "# [8] TF-IDF Word2Vec"
   ]
  },
  {
   "cell_type": "code",
   "execution_count": 0,
   "metadata": {
    "_uuid": "193a254be8e10a55d8645e601607c1158dee40b3",
    "colab": {},
    "colab_type": "code",
    "id": "ACEhmgFRnicl"
   },
   "outputs": [],
   "source": [
    "model = TfidfVectorizer()\n",
    "tf_idf_matrix = model.fit_transform(data['CleanedText'].values)\n",
    "# we are converting a dictionary with word as a key, and the idf as a value\n",
    "dictionary = dict(zip(model.get_feature_names(), list(model.idf_)))"
   ]
  },
  {
   "cell_type": "code",
   "execution_count": 32,
   "metadata": {
    "_uuid": "47bce6d90bbf54d27a033b65aa34b40fdab68ed3",
    "colab": {
     "base_uri": "https://localhost:8080/",
     "height": 34
    },
    "colab_type": "code",
    "id": "GFp--xX0nicr",
    "outputId": "b5144264-0c7d-46d4-8a35-febddb87f130"
   },
   "outputs": [
    {
     "name": "stderr",
     "output_type": "stream",
     "text": [
      "100%|██████████| 60000/60000 [01:45<00:00, 566.99it/s]\n"
     ]
    }
   ],
   "source": [
    "# TF-IDF weighted Word2Vec\n",
    "tfidf_feat = model.get_feature_names() # tfidf words/col-names\n",
    "# final_tf_idf is the sparse matrix with row= sentence, col=word and cell_val = tfidf\n",
    "\n",
    "tfidf_sent_vectors = []; # the tfidf-w2v for each sentence/review is stored in this list\n",
    "row=0;\n",
    "for sent in tqdm(list_of_sent): # for each review/sentence \n",
    "    sent_vec = np.zeros(50) # as word vectors are of zero length\n",
    "    weight_sum =0; # num of words with a valid vector in the sentence/review\n",
    "    for word in sent: # for each word in a review/sentence\n",
    "        if word in w2v_words:\n",
    "            vec = w2v_model.wv[word]\n",
    "#             tf_idf = tf_idf_matrix[row, tfidf_feat.index(word)]\n",
    "            # to reduce the computation we are \n",
    "            # dictionary[word] = idf value of word in whole courpus\n",
    "            # sent.count(word) = tf valeus of word in this review\n",
    "            tf_idf = dictionary[word]*(sent.count(word)/len(sent))\n",
    "            sent_vec += (vec * tf_idf)\n",
    "            weight_sum += tf_idf\n",
    "    if weight_sum != 0:\n",
    "        sent_vec /= weight_sum\n",
    "    tfidf_sent_vectors.append(sent_vec)\n",
    "    row += 1"
   ]
  },
  {
   "cell_type": "code",
   "execution_count": 0,
   "metadata": {
    "_uuid": "880e3b4f3304f3aa2799bd1e348cf1131a372644",
    "colab": {},
    "colab_type": "code",
    "id": "1SDaxxdbnic0"
   },
   "outputs": [],
   "source": [
    "# Spliting into Train and test\n",
    "X_train, X_test, y_train, y_test = train_test_split(tfidf_sent_vectors, data['Score'].values, test_size=0.3, shuffle=False)"
   ]
  },
  {
   "cell_type": "markdown",
   "metadata": {
    "_uuid": "6f55276699e8bbb192e53d29cf4837907ee23e8d",
    "colab_type": "text",
    "id": "7A2XTmSBeHpJ"
   },
   "source": [
    "## [8.1] Linear SVM"
   ]
  },
  {
   "cell_type": "markdown",
   "metadata": {
    "_uuid": "dd70a6beb66c55208546bb01d39f687e7b91d199",
    "colab_type": "text",
    "id": "nh4suBjueRXj"
   },
   "source": [
    "### [8.1.1] Linear SVM with Grid Search"
   ]
  },
  {
   "cell_type": "code",
   "execution_count": 35,
   "metadata": {
    "_uuid": "b7c8328d276fbefd94c56cf7cbab76525b5d8795",
    "colab": {
     "base_uri": "https://localhost:8080/",
     "height": 238
    },
    "colab_type": "code",
    "id": "n2XNOzyYnic7",
    "outputId": "7b6985c9-84ba-41a1-ed7e-c4330c1e0302"
   },
   "outputs": [
    {
     "name": "stdout",
     "output_type": "stream",
     "text": [
      "Fitting 10 folds for each of 15 candidates, totalling 150 fits\n"
     ]
    },
    {
     "name": "stderr",
     "output_type": "stream",
     "text": [
      "[Parallel(n_jobs=-1)]: Using backend LokyBackend with 2 concurrent workers.\n",
      "[Parallel(n_jobs=-1)]: Done  46 tasks      | elapsed:  1.2min\n"
     ]
    },
    {
     "name": "stdout",
     "output_type": "stream",
     "text": [
      "Model with best parameters :\n",
      " SGDClassifier(alpha=0.001, average=False, class_weight=None,\n",
      "       early_stopping=False, epsilon=0.1, eta0=0.0, fit_intercept=True,\n",
      "       l1_ratio=0.15, learning_rate='optimal', loss='hinge', max_iter=None,\n",
      "       n_iter=None, n_iter_no_change=5, n_jobs=None, penalty='l2',\n",
      "       power_t=0.5, random_state=None, shuffle=True, tol=None,\n",
      "       validation_fraction=0.1, verbose=0, warm_start=False)\n",
      "Best HyperParameter(1/C):  {'alpha': 0.001}\n",
      "Best Accuracy: 87.12%\n"
     ]
    },
    {
     "name": "stderr",
     "output_type": "stream",
     "text": [
      "[Parallel(n_jobs=-1)]: Done 150 out of 150 | elapsed:  3.8min finished\n"
     ]
    }
   ],
   "source": [
    "from sklearn.linear_model import SGDClassifier\n",
    "\n",
    "svm = SGDClassifier()\n",
    "param_grid = {'alpha':[1000,500,100,50,10,5,1,0.5,0.1,0.05,0.01,0.005,0.001,0.0005,0.0001]}\n",
    "tscv = TimeSeriesSplit(n_splits=10)\n",
    "gsv = GridSearchCV(svm,param_grid,scoring='f1_micro',cv=tscv,n_jobs=-1,verbose=1)\n",
    "gsv.fit(X_train, y_train)\n",
    "print(\"Model with best parameters :\\n\",gsv.best_estimator_)\n",
    "print(\"Best HyperParameter(1/C): \",gsv.best_params_)\n",
    "print(\"Best Accuracy: %.2f%%\"%(gsv.best_score_*100))\n",
    "\n",
    "optimal_alpha = gsv.best_estimator_.alpha"
   ]
  },
  {
   "cell_type": "code",
   "execution_count": 38,
   "metadata": {
    "_uuid": "8dd47a1f099e4deef939f6009db26af788e037e6",
    "colab": {
     "base_uri": "https://localhost:8080/",
     "height": 379
    },
    "colab_type": "code",
    "id": "HkDl3NBXnidD",
    "outputId": "a6078dfe-8d69-4488-895a-32830b8cb416"
   },
   "outputs": [
    {
     "name": "stdout",
     "output_type": "stream",
     "text": [
      "The optimal value of alpha(1/C) is :  0.001\n",
      "Accuracy on test set: 85.083%\n",
      "Precision on test set: 0.854\n",
      "Recall on test set: 0.987\n",
      "F1-Score on test set: 0.916\n"
     ]
    },
    {
     "data": {
      "image/png": "[encoded data removed]",
      "text/plain": [
       "<matplotlib.figure.Figure at 0x7fe70fb2e828>"
      ]
     },
     "metadata": {
      "tags": []
     },
     "output_type": "display_data"
    }
   ],
   "source": [
    "#Testing Accuracy on Test data\n",
    "print(\"The optimal value of alpha(1/C) is : \",optimal_alpha)\n",
    "sgd = SGDClassifier(alpha=optimal_alpha, n_jobs=-1)\n",
    "sgd.fit(X_train,y_train)\n",
    "y_pred = sgd.predict(X_test)\n",
    "print(\"Accuracy on test set: %0.3f%%\"%(accuracy_score(y_test, y_pred)*100))\n",
    "print(\"Precision on test set: %0.3f\"%(precision_score(y_test, y_pred)))\n",
    "print(\"Recall on test set: %0.3f\"%(recall_score(y_test, y_pred)))\n",
    "print(\"F1-Score on test set: %0.3f\"%(f1_score(y_test, y_pred)))\n",
    "plot_confusion_matrix(y_test, y_pred)"
   ]
  },
  {
   "cell_type": "markdown",
   "metadata": {
    "_uuid": "92e4b742b748519b115746e9602adea7eab0912d",
    "colab_type": "text",
    "id": "Z8jA4XxlebiK"
   },
   "source": [
    "### [8.1.2] Linear SVM with Random Search"
   ]
  },
  {
   "cell_type": "code",
   "execution_count": 39,
   "metadata": {
    "_uuid": "680560c1e3b88d8739e7c667fc181c9dd0b8a766",
    "colab": {
     "base_uri": "https://localhost:8080/",
     "height": 238
    },
    "colab_type": "code",
    "id": "1k-EhCqinidK",
    "outputId": "c471aa4d-bccb-4438-d68b-0dfef61db0c5"
   },
   "outputs": [
    {
     "name": "stdout",
     "output_type": "stream",
     "text": [
      "Fitting 5 folds for each of 10 candidates, totalling 50 fits\n"
     ]
    },
    {
     "name": "stderr",
     "output_type": "stream",
     "text": [
      "[Parallel(n_jobs=-1)]: Using backend LokyBackend with 2 concurrent workers.\n",
      "[Parallel(n_jobs=-1)]: Done  46 tasks      | elapsed:  1.2min\n"
     ]
    },
    {
     "name": "stdout",
     "output_type": "stream",
     "text": [
      "Model with best parameters :\n",
      " SGDClassifier(alpha=0.001, average=False, class_weight=None,\n",
      "       early_stopping=False, epsilon=0.1, eta0=0.0, fit_intercept=True,\n",
      "       l1_ratio=0.15, learning_rate='optimal', loss='hinge', max_iter=None,\n",
      "       n_iter=None, n_iter_no_change=5, n_jobs=None, penalty='l2',\n",
      "       power_t=0.5, random_state=None, shuffle=True, tol=None,\n",
      "       validation_fraction=0.1, verbose=0, warm_start=False)\n",
      "Best HyperParameter(1/C):  {'alpha': 0.001}\n",
      "Best Accuracy: 87.12%\n"
     ]
    },
    {
     "name": "stderr",
     "output_type": "stream",
     "text": [
      "[Parallel(n_jobs=-1)]: Done  50 out of  50 | elapsed:  1.3min finished\n"
     ]
    }
   ],
   "source": [
    "#Using RandomizedSearchCV\n",
    "param_grid = {'alpha':[1000,500,100,50,10,5,1,0.5,0.1,0.05,0.01,0.005,0.001,0.0005,0.0001]}\n",
    "tscv = TimeSeriesSplit(n_splits=5)\n",
    "svm = RandomizedSearchCV(SGDClassifier(),param_grid,scoring='f1_micro',cv=tscv,n_jobs=-1,verbose=1)\n",
    "svm.fit(X_train, y_train)\n",
    "print(\"Model with best parameters :\\n\",gsv.best_estimator_)\n",
    "print(\"Best HyperParameter(1/C): \",gsv.best_params_)\n",
    "print(\"Best Accuracy: %.2f%%\"%(gsv.best_score_*100))\n",
    "\n",
    "optimal_alpha = gsv.best_estimator_.alpha\n"
   ]
  },
  {
   "cell_type": "code",
   "execution_count": 40,
   "metadata": {
    "_uuid": "9345b86bd0e51f8bb75edbf259d23abe4a998001",
    "colab": {
     "base_uri": "https://localhost:8080/",
     "height": 379
    },
    "colab_type": "code",
    "id": "qD1Jrly-nidV",
    "outputId": "60b11b5f-7b59-4b86-e9bb-6a0df89edfaa"
   },
   "outputs": [
    {
     "name": "stdout",
     "output_type": "stream",
     "text": [
      "The optimal value of alpha(1/C) is :  0.001\n",
      "Accuracy on test set: 85.550%\n",
      "Precision on test set: 0.864\n",
      "Recall on test set: 0.978\n",
      "F1-Score on test set: 0.918\n"
     ]
    },
    {
     "data": {
      "image/png": "[encoded data removed]",
      "text/plain": [
       "<matplotlib.figure.Figure at 0x7fe70f479358>"
      ]
     },
     "metadata": {
      "tags": []
     },
     "output_type": "display_data"
    }
   ],
   "source": [
    "#Testing Accuracy on Test data\n",
    "print(\"The optimal value of alpha(1/C) is : \",optimal_alpha)\n",
    "sgd = SGDClassifier(alpha=optimal_alpha, n_jobs=-1)\n",
    "sgd.fit(X_train,y_train)\n",
    "y_pred = sgd.predict(X_test)\n",
    "print(\"Accuracy on test set: %0.3f%%\"%(accuracy_score(y_test, y_pred)*100))\n",
    "print(\"Precision on test set: %0.3f\"%(precision_score(y_test, y_pred)))\n",
    "print(\"Recall on test set: %0.3f\"%(recall_score(y_test, y_pred)))\n",
    "print(\"F1-Score on test set: %0.3f\"%(f1_score(y_test, y_pred)))\n",
    "plot_confusion_matrix(y_test, y_pred)"
   ]
  },
  {
   "cell_type": "markdown",
   "metadata": {
    "_uuid": "6b7d6b2525c3ce8032b204278acfb41d4427e29c",
    "colab_type": "text",
    "id": "SU9rO4G-egFk"
   },
   "source": [
    "## [8.2] SVM with RBF Kernel"
   ]
  },
  {
   "cell_type": "code",
   "execution_count": 41,
   "metadata": {
    "_uuid": "ef99f7340d67aa4c42b3a4852fc45e0426df62bd",
    "colab": {
     "base_uri": "https://localhost:8080/",
     "height": 221
    },
    "colab_type": "code",
    "id": "vuUo4Kyjnidx",
    "outputId": "5e8b6b42-71cc-4251-90ae-aed5f27ef4ce"
   },
   "outputs": [
    {
     "name": "stdout",
     "output_type": "stream",
     "text": [
      "Fitting 5 folds for each of 10 candidates, totalling 50 fits\n"
     ]
    },
    {
     "name": "stderr",
     "output_type": "stream",
     "text": [
      "[Parallel(n_jobs=-1)]: Using backend LokyBackend with 2 concurrent workers.\n",
      "[Parallel(n_jobs=-1)]: Done  46 tasks      | elapsed: 66.1min\n",
      "[Parallel(n_jobs=-1)]: Done  50 out of  50 | elapsed: 68.8min finished\n"
     ]
    },
    {
     "name": "stdout",
     "output_type": "stream",
     "text": [
      "Model with best parameters :\n",
      " SVC(C=100, cache_size=200, class_weight=None, coef0=0.0,\n",
      "  decision_function_shape='ovr', degree=3, gamma=0.005, kernel='rbf',\n",
      "  max_iter=-1, probability=False, random_state=None, shrinking=True,\n",
      "  tol=0.001, verbose=False)\n",
      "Best Accuracy: 87.70%\n",
      "Best HyperParameter\n"
     ]
    },
    {
     "data": {
      "text/plain": [
       "{'C': 100, 'gamma': 0.005}"
      ]
     },
     "execution_count": 41,
     "metadata": {
      "tags": []
     },
     "output_type": "execute_result"
    }
   ],
   "source": [
    "from sklearn.model_selection import RandomizedSearchCV\n",
    "from sklearn import svm\n",
    "\n",
    "def svc_random_selection(X, y):\n",
    "    Cs = [1000,500,100,50,10,5,1,0.5,0.1,0.05,0.01,0.005,0.001,0.0005,0.0001]\n",
    "    gammas = [1000,500,100,50,10,5,1,0.5,0.1,0.05,0.01,0.005,0.001,0.0005,0.0001]\n",
    "    param_grid = {'C': Cs, 'gamma' : gammas}\n",
    "    tscv = TimeSeriesSplit(n_splits=5)\n",
    "    random_search = RandomizedSearchCV(svm.SVC(kernel='rbf'), param_grid, cv=tscv,scoring='f1_micro',verbose=1,n_jobs=-1)\n",
    "    random_search.fit(X_train, y_train)\n",
    "    random_search.best_params_\n",
    "    print(\"Model with best parameters :\\n\",random_search.best_estimator_)\n",
    "    print(\"Best Accuracy: %.2f%%\"%(random_search.best_score_*100))\n",
    "    print(\"Best HyperParameter\")\n",
    "    return random_search.best_params_\n",
    "        \n",
    "svc_random_selection(X_train, y_train)"
   ]
  },
  {
   "cell_type": "code",
   "execution_count": 42,
   "metadata": {
    "_uuid": "1325c05a802a5fd578c5bf27faad2adc7b77dc86",
    "colab": {
     "base_uri": "https://localhost:8080/",
     "height": 362
    },
    "colab_type": "code",
    "id": "h4mkgYJNnieD",
    "outputId": "c454a27a-3dad-4031-eaf4-e15cdbc1979b"
   },
   "outputs": [
    {
     "name": "stdout",
     "output_type": "stream",
     "text": [
      "Accuracy on test set: 87.322%\n",
      "Precision on test set: 0.882\n",
      "Recall on test set: 0.977\n",
      "F1-Score on test set: 0.927\n"
     ]
    },
    {
     "data": {
      "image/png": "[encoded data removed]",
      "text/plain": [
       "<matplotlib.figure.Figure at 0x7fe70f559eb8>"
      ]
     },
     "metadata": {
      "tags": []
     },
     "output_type": "display_data"
    }
   ],
   "source": [
    "#Testing Accuracy on Test data\n",
    "from sklearn.svm import SVC\n",
    "\n",
    "svm = SVC(kernel='rbf',C=100,gamma=0.005)\n",
    "svm.fit(X_train,y_train)\n",
    "y_pred = svm.predict(X_test)\n",
    "print(\"Accuracy on test set: %0.3f%%\"%(accuracy_score(y_test, y_pred)*100))\n",
    "print(\"Precision on test set: %0.3f\"%(precision_score(y_test, y_pred)))\n",
    "print(\"Recall on test set: %0.3f\"%(recall_score(y_test, y_pred)))\n",
    "print(\"F1-Score on test set: %0.3f\"%(f1_score(y_test, y_pred)))\n",
    "plot_confusion_matrix(y_test, y_pred)"
   ]
  },
  {
   "cell_type": "code",
   "execution_count": 8,
   "metadata": {
    "_uuid": "b058db55e1ef114b9194a58bac2bd6e4531f7688",
    "colab": {},
    "colab_type": "code",
    "id": "K_yVl6Xcwj3y"
   },
   "outputs": [
    {
     "name": "stdout",
     "output_type": "stream",
     "text": [
      "+---------------+--------+---------------+------------+----------+\n",
      "| FEATURIZATION | KERNEL |     MODEL     | ALPHA(1/C) | F1-SCORE |\n",
      "+---------------+--------+---------------+------------+----------+\n",
      "|      BOW      | Linear |  Grid Search  |   0.001    |   0.94   |\n",
      "|               |        | Random Search |   0.001    |   0.94   |\n",
      "|     TF_IDF    | Linear |  Grid Search  |   0.0001   |   0.94   |\n",
      "|               |        | Random Search |   0.0001   |  0.941   |\n",
      "|   AVG_W2VEC   | Linear |  Grid Search  |   0.001    |  0.929   |\n",
      "|               |        | Random Search |   0.001    |  0.928   |\n",
      "|  TFIDF_W2VEC  | Linear |  Grid Search  |   0.001    |  0.916   |\n",
      "|               |        | Random Search |   0.001    |  0.918   |\n",
      "+---------------+--------+---------------+------------+----------+\n"
     ]
    }
   ],
   "source": [
    "from prettytable import PrettyTable    \n",
    "x = PrettyTable()\n",
    " \n",
    "x.field_names = [\"FEATURIZATION\", \"KERNEL\", \"MODEL\", \"ALPHA(1/C)\", \"F1-SCORE\"]\n",
    " \n",
    "x.add_row([\"BOW\", \"Linear\", \"Grid Search\", 0.001, 0.940]) \n",
    "x.add_row([\"\",\"\", \"Random Search\", 0.001, 0.940]) \n",
    " \n",
    "x.add_row([\"TF_IDF\", \"Linear\", \"Grid Search\", 0.0001, 0.940]) \n",
    "x.add_row([\"\", \"\", \"Random Search\", 0.0001, 0.941])\n",
    " \n",
    "x.add_row([\"AVG_W2VEC\", \"Linear\", \"Grid Search\", 0.001, 0.929]) \n",
    "x.add_row([\"\", \"\", \"Random Search\", 0.001,  0.928])\n",
    "\n",
    "x.add_row([\"TFIDF_W2VEC\", \"Linear\", \"Grid Search\", 0.001, 0.916]) \n",
    "x.add_row([\"\", \"\", \"Random Search\", 0.001, 0.918])\n",
    " \n",
    "\n",
    "print(x)"
   ]
  },
  {
   "cell_type": "code",
   "execution_count": 4,
   "metadata": {},
   "outputs": [
    {
     "name": "stdout",
     "output_type": "stream",
     "text": [
      "+---------------+--------+---------------+------+--------+----------+\n",
      "| FEATURIZATION | KERNEL |     MODEL     |  C   | GAMMA  | F1-SCORE |\n",
      "+---------------+--------+---------------+------+--------+----------+\n",
      "|      BOW      |  RBF   | Random Search | 1000 | 0.0001 |  0.895   |\n",
      "|     TF_IDF    |  RBF   | Random Search |  1   |  0.5   |  0.889   |\n",
      "|    AVG_W2VE   |  RBF   | Random Search |  10  | 0.005  |  0.932   |\n",
      "|  TFIDF_W2VEC  |  RBF   | Random Search | 100  | 0.005  |  0.927   |\n",
      "+---------------+--------+---------------+------+--------+----------+\n"
     ]
    }
   ],
   "source": [
    "from prettytable import PrettyTable    \n",
    "x = PrettyTable()\n",
    " \n",
    "x.field_names = [\"FEATURIZATION\", \"KERNEL\", \"MODEL\", \"C\",\"GAMMA\", \"F1-SCORE\"]\n",
    "x.add_row([\"BOW\", \"RBF\", \"Random Search\", 1000, 0.0001, 0.895])\n",
    "x.add_row([\"TF_IDF\", \"RBF\", \"Random Search\", 1, 0.5, 0.889])\n",
    "x.add_row([\"AVG_W2VE\", \"RBF\", \"Random Search\", 10, 0.005, 0.932])\n",
    "x.add_row([\"TFIDF_W2VEC\", \"RBF\", \"Random Search\", 100, 0.005, 0.927])\n",
    "\n",
    "print(x)"
   ]
  },
  {
   "cell_type": "markdown",
   "metadata": {
    "_uuid": "52954fd13e47821f73d62ac3a6451273c696ef66",
    "colab_type": "text",
    "id": "y4MIKxrg0_Kb"
   },
   "source": [
    "# Conclusion"
   ]
  },
  {
   "cell_type": "markdown",
   "metadata": {
    "_uuid": "c9591315b00d2b11e37243262ab489b3d13f4e1f",
    "colab_type": "text",
    "id": "cxxLrGYz0_7e"
   },
   "source": [
    "  1. Tf-idf Featurization with linear kernel with random search gave the best results with F1-score of 0.941.\n",
    "  2. Avg-w2v Featurization with RBF Kernel (C=10, gamma=0.005) gave the best results with F1-score of 0.932\n",
    "  3. SVM with RBF kernel the separating plane exists in another space.\n",
    "  4. Using SGDClasiifier takes very less time to train."
   ]
  }
 ],
 "metadata": {
  "colab": {
   "collapsed_sections": [],
   "name": "kernel (2).ipynb",
   "provenance": [],
   "version": "0.3.2"
  },
  "kernelspec": {
   "display_name": "Python 3",
   "language": "python",
   "name": "python3"
  },
  "language_info": {
   "codemirror_mode": {
    "name": "ipython",
    "version": 3
   },
   "file_extension": ".py",
   "mimetype": "text/x-python",
   "name": "python",
   "nbconvert_exporter": "python",
   "pygments_lexer": "ipython3",
   "version": "3.6.5"
  }
 },
 "nbformat": 4,
 "nbformat_minor": 1
}
